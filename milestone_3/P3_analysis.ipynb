{
 "cells": [
  {
   "cell_type": "code",
   "execution_count": 1,
   "metadata": {},
   "outputs": [],
   "source": [
    "import pandas as pd\n",
    "import numpy as np\n",
    "import matplotlib.pyplot as plt\n",
    "import scipy.stats as scs\n",
    "import seaborn as sns\n",
    "\n",
    "DATA_PATH = \"../data/\""
   ]
  },
  {
   "attachments": {},
   "cell_type": "markdown",
   "metadata": {},
   "source": [
    "#### Data load and separation in \"keep_fame\" and \"lose_fame\" populations\n",
    "The keep_fame and lose fame_populations were loaded after having computed the matching pairs were loaded. The associated timeseries and metadata dataframes were loaded as well."
   ]
  },
  {
   "cell_type": "code",
   "execution_count": 2,
   "metadata": {},
   "outputs": [],
   "source": [
    "# channels_df separated in \"keep_fame\" and \"lose_fame\" after matching\n",
    "keep_fame = pd.read_csv(f\"{DATA_PATH}keep_fame_after_matching.tsv.gz\", compression='gzip', sep = '\\t')\n",
    "lose_fame = pd.read_csv(f\"{DATA_PATH}lose_fame_after_matching.tsv.gz\", compression='gzip', sep = '\\t')"
   ]
  },
  {
   "cell_type": "code",
   "execution_count": 3,
   "metadata": {},
   "outputs": [
    {
     "data": {
      "text/plain": [
       "(163, 163)"
      ]
     },
     "execution_count": 3,
     "metadata": {},
     "output_type": "execute_result"
    }
   ],
   "source": [
    "keep_fame.shape[0], lose_fame.shape[0]"
   ]
  },
  {
   "cell_type": "code",
   "execution_count": 4,
   "metadata": {},
   "outputs": [],
   "source": [
    "# timeseries_df loading and separation in \"keep_fame\" and \"lose_fame\" after matching\n",
    "timeseries_df = pd.read_csv(f\"{DATA_PATH}timeseries_df_filtered.tsv.gz\", compression='gzip', sep = '\\t', parse_dates=['datetime', 'max_growth_date'])\n",
    "keep_fame_ts = timeseries_df[timeseries_df['channel'].isin(keep_fame['channel'])]\n",
    "lose_fame_ts = timeseries_df[timeseries_df['channel'].isin(lose_fame['channel'])]"
   ]
  },
  {
   "cell_type": "code",
   "execution_count": 5,
   "metadata": {},
   "outputs": [
    {
     "data": {
      "text/plain": [
       "(163, 163)"
      ]
     },
     "execution_count": 5,
     "metadata": {},
     "output_type": "execute_result"
    }
   ],
   "source": [
    "len(keep_fame_ts.groupby(\"channel\")), len(lose_fame_ts.groupby(\"channel\"))"
   ]
  },
  {
   "cell_type": "code",
   "execution_count": 6,
   "metadata": {},
   "outputs": [],
   "source": [
    "# metavideos df loading and separation between lose and keep fame\n",
    "meta_video_filt_original = pd.read_csv(f\"{DATA_PATH}videos_metadata_filtered_population.tsv.gz\", sep='\\t', compression='gzip')\n",
    "\n",
    "# checked that there is a video without category, so we remove it\n",
    "meta_video_filt_original = meta_video_filt_original.drop(meta_video_filt_original[meta_video_filt_original[\"categories\"].isna()].index, axis=0)\n",
    "\n",
    "# we remove the videos that are not in the two populations\n",
    "keep_fame_metavideos = meta_video_filt_original[meta_video_filt_original['channel_id'].isin(keep_fame['channel'])]\n",
    "lose_fame_metavideos = meta_video_filt_original[meta_video_filt_original['channel_id'].isin(lose_fame['channel'])]"
   ]
  },
  {
   "cell_type": "code",
   "execution_count": 7,
   "metadata": {},
   "outputs": [],
   "source": [
    "# metavideos dfs with max growth date\n",
    "keep_fame_metavideos = keep_fame_metavideos.merge(keep_fame_ts.rename(columns={\"datetime\": \"min_date\"}).groupby('channel')[['max_growth_date', \"min_date\"]].min(), left_on='channel_id', right_on='channel')\n",
    "keep_fame_metavideos = keep_fame_metavideos.merge(keep_fame_ts.rename(columns={\"datetime\": \"max_date\"}).groupby('channel')[\"max_date\"].max(), left_on='channel_id', right_on='channel')\n",
    "lose_fame_metavideos = lose_fame_metavideos.merge(lose_fame_ts.rename(columns={\"datetime\": \"min_date\"}).groupby('channel')[['max_growth_date', \"min_date\"]].min(), left_on='channel_id', right_on='channel')\n",
    "lose_fame_metavideos = lose_fame_metavideos.merge(lose_fame_ts.rename(columns={\"datetime\": \"max_date\"}).groupby('channel')[\"max_date\"].max(), left_on='channel_id', right_on='channel')"
   ]
  },
  {
   "cell_type": "code",
   "execution_count": 8,
   "metadata": {},
   "outputs": [
    {
     "data": {
      "text/plain": [
       "(163, 163)"
      ]
     },
     "execution_count": 8,
     "metadata": {},
     "output_type": "execute_result"
    }
   ],
   "source": [
    "len(keep_fame_metavideos.groupby('channel_id')), len(lose_fame_metavideos.groupby('channel_id'))"
   ]
  },
  {
   "attachments": {},
   "cell_type": "markdown",
   "metadata": {},
   "source": [
    "#### Dataframe separation between before and after growth date\n",
    "Should creators stay consistent with their content or try to adapt it to the interests of their newly-found large audience? To answer this question, we analysed the features of each channel before and after going viral. To avoid bias, we only selected the channels that had videos before and after their peak. We therefore ended up with 163 channels for each population. We need further filtering to eliminate those channels (and their match) from whom we don't have any data about the videos published, either before or after the peak. We therefore end up with 126 channels for each population."
   ]
  },
  {
   "cell_type": "code",
   "execution_count": 9,
   "metadata": {},
   "outputs": [],
   "source": [
    "matched_channels = pd.read_csv(f\"{DATA_PATH}matched_channels.tsv.gz\", compression='gzip', sep = '\\t')"
   ]
  },
  {
   "cell_type": "code",
   "execution_count": 10,
   "metadata": {},
   "outputs": [],
   "source": [
    "# keep and lose metavideos dfs divided before and after max growth date\n",
    "keep_metavideos_after_sudden_growth = keep_fame_metavideos[\n",
    "    (keep_fame_metavideos[\"upload_date\"] > keep_fame_metavideos[\"max_growth_date\"]) &\n",
    "    (keep_fame_metavideos[\"upload_date\"] <= keep_fame_metavideos[\"max_date\"])\n",
    "].copy()\n",
    "lose_metavideos_after_sudden_growth = lose_fame_metavideos[\n",
    "    (lose_fame_metavideos[\"upload_date\"] > lose_fame_metavideos[\"max_growth_date\"]) &\n",
    "    (lose_fame_metavideos[\"upload_date\"] <= lose_fame_metavideos[\"max_date\"])\n",
    "].copy()\n",
    "keep_metavideos_before_sudden_growth = keep_fame_metavideos[\n",
    "    (keep_fame_metavideos[\"upload_date\"] <= keep_fame_metavideos[\"max_growth_date\"]) &\n",
    "    (keep_fame_metavideos[\"upload_date\"] >= keep_fame_metavideos[\"min_date\"])\n",
    "].copy()\n",
    "lose_metavideos_before_sudden_growth = lose_fame_metavideos[\n",
    "    (lose_fame_metavideos[\"upload_date\"] <= lose_fame_metavideos[\"max_growth_date\"]) &\n",
    "    (lose_fame_metavideos[\"upload_date\"] >= lose_fame_metavideos[\"min_date\"])\n",
    "].copy()"
   ]
  },
  {
   "cell_type": "code",
   "execution_count": 11,
   "metadata": {},
   "outputs": [
    {
     "name": "stdout",
     "output_type": "stream",
     "text": [
      "Number of keep fame channels selected: 133\n"
     ]
    }
   ],
   "source": [
    "# filter video data of \"keep\" channels that have videos both before sudden growth and after sudden growth\n",
    "channels_k_b = keep_metavideos_before_sudden_growth[\"channel_id\"].unique()\n",
    "channels_k_a = keep_metavideos_after_sudden_growth[\"channel_id\"].unique()\n",
    "index_keep = set.intersection(set(channels_k_b), set(channels_k_a))\n",
    "\n",
    "print(f\"Number of keep fame channels selected: {index_keep.__len__()}\")\n",
    "\n",
    "keep_metavideos_before_sudden_growth = keep_metavideos_before_sudden_growth[keep_metavideos_before_sudden_growth[\"channel_id\"].isin(index_keep)]\n",
    "keep_metavideos_after_sudden_growth = keep_metavideos_after_sudden_growth[keep_metavideos_after_sudden_growth[\"channel_id\"].isin(index_keep)]\n"
   ]
  },
  {
   "cell_type": "code",
   "execution_count": 12,
   "metadata": {},
   "outputs": [
    {
     "name": "stdout",
     "output_type": "stream",
     "text": [
      "Number of lose fame channels selected: 108\n"
     ]
    }
   ],
   "source": [
    "# filter video data of \"lose\" channels that have videos both before sudden growth and after sudden growth\n",
    "channels_l_b = lose_metavideos_before_sudden_growth[\"channel_id\"].unique()\n",
    "channels_l_a = lose_metavideos_after_sudden_growth[\"channel_id\"].unique()\n",
    "index_lose = set.intersection(set(channels_l_b), set(channels_l_a))\n",
    "\n",
    "print(f\"Number of lose fame channels selected: {index_lose.__len__()}\")\n",
    "\n",
    "lose_metavideos_before_sudden_growth = lose_metavideos_before_sudden_growth[lose_metavideos_before_sudden_growth[\"channel_id\"].isin(index_lose)]\n",
    "lose_metavideos_after_sudden_growth = lose_metavideos_after_sudden_growth[lose_metavideos_after_sudden_growth[\"channel_id\"].isin(index_lose)]"
   ]
  },
  {
   "cell_type": "code",
   "execution_count": 13,
   "metadata": {},
   "outputs": [],
   "source": [
    "# remove channels that don't have a match anymore\n",
    "removed_keep = matched_channels[~matched_channels[\"channel_keep\"].isin(index_keep)]\n",
    "removed_lose = matched_channels[~matched_channels[\"channel_lose\"].isin(index_lose)]\n",
    "index_remove = set.union(set(removed_keep[\"channel_lose\"]), set(removed_lose[\"channel_keep\"]))\n",
    "\n",
    "keep_metavideos_after_sudden_growth = keep_metavideos_after_sudden_growth[~keep_metavideos_after_sudden_growth[\"channel_id\"].isin(index_remove)]\n",
    "keep_metavideos_before_sudden_growth = keep_metavideos_before_sudden_growth[~keep_metavideos_before_sudden_growth[\"channel_id\"].isin(index_remove)]\n",
    "lose_metavideos_after_sudden_growth = lose_metavideos_after_sudden_growth[~lose_metavideos_after_sudden_growth[\"channel_id\"].isin(index_remove)]\n",
    "lose_metavideos_before_sudden_growth = lose_metavideos_before_sudden_growth[~lose_metavideos_before_sudden_growth[\"channel_id\"].isin(index_remove)]\n"
   ]
  },
  {
   "cell_type": "code",
   "execution_count": 14,
   "metadata": {},
   "outputs": [
    {
     "name": "stdout",
     "output_type": "stream",
     "text": [
      "Number of channels selected per group: 88\n"
     ]
    }
   ],
   "source": [
    "print(f\"Number of channels selected per group: {lose_metavideos_after_sudden_growth['channel_id'].unique().__len__()}\")"
   ]
  },
  {
   "cell_type": "code",
   "execution_count": 15,
   "metadata": {},
   "outputs": [],
   "source": [
    "# filter timeseries data of \"keep\" and \"lose\" channels that have videos both before sudden growth and after sudden growth\n",
    "keep_fame_ts = keep_fame_ts[keep_fame_ts[\"channel\"].isin(keep_metavideos_after_sudden_growth['channel_id'])]\n",
    "lose_fame_ts = lose_fame_ts[lose_fame_ts[\"channel\"].isin(lose_metavideos_after_sudden_growth['channel_id'])]\n"
   ]
  },
  {
   "cell_type": "code",
   "execution_count": 16,
   "metadata": {},
   "outputs": [],
   "source": [
    "keep_fame_channels = keep_fame[keep_fame[\"channel\"].isin(keep_metavideos_after_sudden_growth['channel_id'])]\n",
    "lose_fame_channels = lose_fame[lose_fame[\"channel\"].isin(lose_metavideos_after_sudden_growth['channel_id'])]"
   ]
  },
  {
   "cell_type": "code",
   "execution_count": 17,
   "metadata": {},
   "outputs": [],
   "source": [
    "cat_distr_for_plotting = pd.concat([keep_fame_channels.groupby(\"category_cc\").count()[\"name_cc\"], lose_fame_channels.groupby(\"category_cc\").count()[\"join_date\"]], axis=1)\\\n",
    "    .rename(columns={\"name_cc\":\"keep\", \"join_date\":\"lose\"})\n",
    "\n",
    "cat_distr_for_plotting.reset_index(inplace=True)\n",
    "cat_distr_for_plotting = cat_distr_for_plotting.melt('category_cc', var_name='population', value_name='vals')\n"
   ]
  },
  {
   "cell_type": "code",
   "execution_count": 18,
   "metadata": {},
   "outputs": [
    {
     "data": {
      "image/png": "[encoded data removed]",
      "text/plain": [
       "<Figure size 640x480 with 1 Axes>"
      ]
     },
     "metadata": {},
     "output_type": "display_data"
    }
   ],
   "source": [
    "sns.barplot(data=cat_distr_for_plotting, x=\"category_cc\", y='vals', hue=\"population\", palette=\"hls\")\n",
    "plt.xticks(rotation=45, ha=\"right\");\n",
    "plt.xlabel(\"Categories\");\n",
    "plt.ylabel(\"Number of channels\");\n",
    "plt.title(\"Distribution of channels per category\");"
   ]
  },
  {
   "attachments": {},
   "cell_type": "markdown",
   "metadata": {},
   "source": [
    "### Analysis\n",
    "We decided to compare the two populations across many selected features, distinguishing each time between the time period preceding and following the viral peak. The selected features are frequency of publications, length of videos, number of tags and distribution of categories over the videos."
   ]
  },
  {
   "attachments": {},
   "cell_type": "markdown",
   "metadata": {},
   "source": [
    "##### Frequency of publication\n",
    "To compute the frequency of publications we divided the number of videos before and after the sudden growth for both populations by the time of observation (respectively 12 weeks before and 14 weeks after the peak for both groups). The same was done for the length of videos and the number of tags. "
   ]
  },
  {
   "cell_type": "code",
   "execution_count": 19,
   "metadata": {},
   "outputs": [],
   "source": [
    "# compute number of videos posted by each channel before and after sudden growth\n",
    "keep_num_metavideos_per_channel_after_sudden_growth = keep_metavideos_after_sudden_growth.groupby(\"channel_id\").count()[\"duration\"]\n",
    "keep_num_metavideos_per_channel_before_sudden_growth = keep_metavideos_before_sudden_growth.groupby(\"channel_id\").count()[\"duration\"]\n",
    "lose_num_metavideos_per_channel_after_sudden_growth = lose_metavideos_after_sudden_growth.groupby(\"channel_id\").count()[\"duration\"]\n",
    "lose_num_metavideos_per_channel_before_sudden_growth = lose_metavideos_before_sudden_growth.groupby(\"channel_id\").count()[\"duration\"]"
   ]
  },
  {
   "cell_type": "code",
   "execution_count": 20,
   "metadata": {},
   "outputs": [],
   "source": [
    "# compute time of observation of each channel before and after sudden growth\n",
    "keep_videos_time_after_sudden_growth = (keep_fame_ts.groupby(\"channel\")[\"datetime\"].max() - keep_fame_ts.groupby(\"channel\")[\"max_growth_date\"].mean()).dt.days\n",
    "lose_videos_time_after_sudden_growth = (lose_fame_ts.groupby(\"channel\")[\"datetime\"].max() - lose_fame_ts.groupby(\"channel\")[\"max_growth_date\"].mean()).dt.days\n",
    "keep_videos_time_before_sudden_growth = (keep_fame_ts.groupby(\"channel\")[\"max_growth_date\"].mean() - keep_fame_ts.groupby(\"channel\")[\"datetime\"].min()).dt.days\n",
    "lose_videos_time_before_sudden_growth = (lose_fame_ts.groupby(\"channel\")[\"max_growth_date\"].mean() - lose_fame_ts.groupby(\"channel\")[\"datetime\"].min()).dt.days"
   ]
  },
  {
   "cell_type": "code",
   "execution_count": 21,
   "metadata": {},
   "outputs": [],
   "source": [
    "# compute frequency of publication of each channel before and after sudden growth\n",
    "freq_publication_keep_after_sudden_growth = keep_num_metavideos_per_channel_after_sudden_growth / keep_videos_time_after_sudden_growth\n",
    "freq_publication_lose_after_sudden_growth = lose_num_metavideos_per_channel_after_sudden_growth / lose_videos_time_after_sudden_growth\n",
    "freq_publication_keep_before_sudden_growth = keep_num_metavideos_per_channel_before_sudden_growth / keep_videos_time_before_sudden_growth\n",
    "freq_publication_lose_before_sudden_growth = lose_num_metavideos_per_channel_before_sudden_growth / lose_videos_time_before_sudden_growth"
   ]
  },
  {
   "cell_type": "code",
   "execution_count": 22,
   "metadata": {},
   "outputs": [
    {
     "data": {
      "text/plain": [
       "Ttest_relResult(statistic=-1.0589170180142942, pvalue=0.2925687472851107)"
      ]
     },
     "execution_count": 22,
     "metadata": {},
     "output_type": "execute_result"
    }
   ],
   "source": [
    "# paired t-test for frequency of publication before and after sudden growth of \"keep\" channels\n",
    "scs.ttest_rel(freq_publication_keep_after_sudden_growth, freq_publication_keep_before_sudden_growth)"
   ]
  },
  {
   "cell_type": "code",
   "execution_count": 23,
   "metadata": {},
   "outputs": [
    {
     "data": {
      "text/plain": [
       "Ttest_relResult(statistic=0.3443793685842897, pvalue=0.7313920473891125)"
      ]
     },
     "execution_count": 23,
     "metadata": {},
     "output_type": "execute_result"
    }
   ],
   "source": [
    "# paired t-test for frequency of publication before and after sudden growth of \"lose\" channels\n",
    "scs.ttest_rel(freq_publication_lose_after_sudden_growth, freq_publication_lose_before_sudden_growth)"
   ]
  },
  {
   "cell_type": "code",
   "execution_count": 24,
   "metadata": {},
   "outputs": [
    {
     "data": {
      "text/plain": [
       "Ttest_indResult(statistic=-1.6680602814988494, pvalue=0.09710235064515745)"
      ]
     },
     "execution_count": 24,
     "metadata": {},
     "output_type": "execute_result"
    }
   ],
   "source": [
    "# independent t-test for frequency of publication between \"keep\" and \"lose\" channels after sudden growth\n",
    "scs.ttest_ind(freq_publication_keep_after_sudden_growth, freq_publication_lose_after_sudden_growth)"
   ]
  },
  {
   "cell_type": "code",
   "execution_count": 25,
   "metadata": {},
   "outputs": [
    {
     "data": {
      "image/png": "[encoded data removed]",
      "text/plain": [
       "<Figure size 640x480 with 1 Axes>"
      ]
     },
     "metadata": {},
     "output_type": "display_data"
    }
   ],
   "source": [
    "data_a = [freq_publication_keep_before_sudden_growth, freq_publication_keep_after_sudden_growth]\n",
    "data_b = [freq_publication_lose_before_sudden_growth, freq_publication_lose_after_sudden_growth]\n",
    "\n",
    "ticks = ['Keep_fame', 'Lose_fame']\n",
    "\n",
    "def set_box_color(bp, color):\n",
    "    plt.setp(bp['boxes'], color=color)\n",
    "    plt.setp(bp['whiskers'], color=color)\n",
    "    plt.setp(bp['caps'], color=color)\n",
    "    plt.setp(bp['medians'], color=color)\n",
    "\n",
    "plt.figure()\n",
    "\n",
    "bpl = plt.boxplot(data_a, positions=np.array(range(len(data_a)))*2.0-0.4, sym='', widths=0.6, patch_artist=True)\n",
    "bpl['boxes'][0].set(alpha=0.5)\n",
    "bpl['boxes'][1].set(alpha=0.5)\n",
    "bpr = plt.boxplot(data_b, positions=np.array(range(len(data_b)))*2.0+0.4, sym='', widths=0.6, patch_artist=True)\n",
    "bpr['boxes'][0].set(alpha=0.5)\n",
    "bpr['boxes'][1].set(alpha=0.5)\n",
    "\n",
    "plt.xticks([0, 2], ticks)\n",
    "set_box_color(bpl, '#4daf4a') # colors are from http://colorbrewer2.org/\n",
    "set_box_color(bpr, '#f781bf')\n",
    "\n",
    "# draw temporary red and blue lines and use them to create a legend\n",
    "plt.plot([], c='#4daf4a', label='before fame')\n",
    "plt.plot([], c='#f781bf', label= 'after fame')\n",
    "plt.title(\"Frequency of publication\")\n",
    "plt.legend();"
   ]
  },
  {
   "attachments": {},
   "cell_type": "markdown",
   "metadata": {},
   "source": [
    "##### Length of videos"
   ]
  },
  {
   "cell_type": "code",
   "execution_count": 26,
   "metadata": {},
   "outputs": [],
   "source": [
    "length_keep_before_sudden_growth = keep_metavideos_before_sudden_growth.groupby(\"channel_id\").mean()[\"duration\"]\n",
    "length_lose_before_sudden_growth = lose_metavideos_before_sudden_growth.groupby(\"channel_id\").mean()[\"duration\"]\n",
    "length_keep_after_sudden_growth = keep_metavideos_after_sudden_growth.groupby(\"channel_id\").mean()[\"duration\"]\n",
    "length_lose_after_sudden_growth = lose_metavideos_after_sudden_growth.groupby(\"channel_id\").mean()[\"duration\"]"
   ]
  },
  {
   "cell_type": "code",
   "execution_count": 27,
   "metadata": {},
   "outputs": [
    {
     "data": {
      "text/plain": [
       "Ttest_relResult(statistic=-0.5596123311397958, pvalue=0.5771818283849695)"
      ]
     },
     "execution_count": 27,
     "metadata": {},
     "output_type": "execute_result"
    }
   ],
   "source": [
    "# paired t-test for length of videos before and after sudden growth of \"keep\" channels\n",
    "scs.ttest_rel(length_keep_after_sudden_growth, length_keep_before_sudden_growth)"
   ]
  },
  {
   "cell_type": "code",
   "execution_count": 28,
   "metadata": {},
   "outputs": [
    {
     "data": {
      "text/plain": [
       "Ttest_relResult(statistic=-1.2302189834113872, pvalue=0.22193121638665927)"
      ]
     },
     "execution_count": 28,
     "metadata": {},
     "output_type": "execute_result"
    }
   ],
   "source": [
    "# paired t-test for length of videos before and after sudden growth of \"lose\" channels\n",
    "scs.ttest_rel(length_lose_after_sudden_growth, length_lose_before_sudden_growth)"
   ]
  },
  {
   "cell_type": "code",
   "execution_count": 29,
   "metadata": {},
   "outputs": [
    {
     "data": {
      "text/plain": [
       "Ttest_indResult(statistic=0.943851464746833, pvalue=0.34655427479697165)"
      ]
     },
     "execution_count": 29,
     "metadata": {},
     "output_type": "execute_result"
    }
   ],
   "source": [
    "# independent t-test for length of videos between \"keep\" and \"lose\" channels after sudden growth\n",
    "scs.ttest_ind(length_keep_after_sudden_growth, length_lose_after_sudden_growth)"
   ]
  },
  {
   "cell_type": "code",
   "execution_count": 30,
   "metadata": {},
   "outputs": [
    {
     "data": {
      "image/png": "[encoded data removed]",
      "text/plain": [
       "<Figure size 640x480 with 1 Axes>"
      ]
     },
     "metadata": {},
     "output_type": "display_data"
    }
   ],
   "source": [
    "data_a = [length_keep_before_sudden_growth, length_keep_after_sudden_growth]\n",
    "data_b = [length_lose_before_sudden_growth, length_lose_after_sudden_growth, ]\n",
    "\n",
    "ticks = ['Keep_fame', 'Lose_fame']\n",
    "\n",
    "def set_box_color(bp, color):\n",
    "    plt.setp(bp['boxes'], color=color)\n",
    "    plt.setp(bp['whiskers'], color=color)\n",
    "    plt.setp(bp['caps'], color=color)\n",
    "    plt.setp(bp['medians'], color=color)\n",
    "\n",
    "plt.figure()\n",
    "plt.ylim(top=1450)\n",
    "plt.ylabel(\"Length of videos (seconds)\")\n",
    "\n",
    "bpl = plt.boxplot(data_a, positions=np.array(range(len(data_a)))*2.0-0.4, sym='', widths=0.6, patch_artist=True)\n",
    "bpl['boxes'][0].set(alpha=0.5)\n",
    "bpl['boxes'][1].set(alpha=0.5)\n",
    "bpr = plt.boxplot(data_b, positions=np.array(range(len(data_b)))*2.0+0.4, sym='', widths=0.6, patch_artist=True)\n",
    "bpr['boxes'][0].set(alpha=0.5)\n",
    "bpr['boxes'][1].set(alpha=0.5)\n",
    "plt.xticks([0, 2], ticks)\n",
    "set_box_color(bpl, '#e41a1c') # colors are from http://colorbrewer2.org/\n",
    "set_box_color(bpr, '#377eb8')\n",
    "\n",
    "# draw temporary red and blue lines and use them to create a legend\n",
    "plt.plot([], c='#e41a1c', label='before fame')\n",
    "plt.plot([], c='#377eb8', label='after fame')\n",
    "plt.title(\"Videos length distribution\")\n",
    "plt.legend();"
   ]
  },
  {
   "attachments": {},
   "cell_type": "markdown",
   "metadata": {},
   "source": [
    "#### Number of tags"
   ]
  },
  {
   "cell_type": "code",
   "execution_count": 31,
   "metadata": {},
   "outputs": [],
   "source": [
    "numtags_lose_metavideo_after_sudden_growth = lose_metavideos_after_sudden_growth.groupby(\"channel_id\").mean()[\"num_tags\"]\n",
    "numtags_keep_metavideo_after_sudden_growth = keep_metavideos_after_sudden_growth.groupby(\"channel_id\").mean()[\"num_tags\"]\n",
    "numtags_lose_metavideo_before_sudden_growth = lose_metavideos_before_sudden_growth.groupby(\"channel_id\").mean()[\"num_tags\"]\n",
    "numtags_keep_metavideo_before_sudden_growth = keep_metavideos_before_sudden_growth.groupby(\"channel_id\").mean()[\"num_tags\"]"
   ]
  },
  {
   "cell_type": "code",
   "execution_count": 32,
   "metadata": {},
   "outputs": [
    {
     "data": {
      "text/plain": [
       "Ttest_relResult(statistic=0.48584422955995643, pvalue=0.6282990328345832)"
      ]
     },
     "execution_count": 32,
     "metadata": {},
     "output_type": "execute_result"
    }
   ],
   "source": [
    "scs.ttest_rel(numtags_lose_metavideo_after_sudden_growth, numtags_lose_metavideo_before_sudden_growth)"
   ]
  },
  {
   "cell_type": "code",
   "execution_count": 33,
   "metadata": {},
   "outputs": [
    {
     "data": {
      "text/plain": [
       "Ttest_relResult(statistic=-0.05739934355886939, pvalue=0.9543587132378146)"
      ]
     },
     "execution_count": 33,
     "metadata": {},
     "output_type": "execute_result"
    }
   ],
   "source": [
    "scs.ttest_rel(numtags_keep_metavideo_after_sudden_growth, numtags_keep_metavideo_before_sudden_growth)"
   ]
  },
  {
   "cell_type": "code",
   "execution_count": 34,
   "metadata": {},
   "outputs": [
    {
     "data": {
      "text/plain": [
       "Ttest_indResult(statistic=-0.7530421564187064, pvalue=0.4524422333441098)"
      ]
     },
     "execution_count": 34,
     "metadata": {},
     "output_type": "execute_result"
    }
   ],
   "source": [
    "scs.ttest_ind(numtags_lose_metavideo_after_sudden_growth, numtags_keep_metavideo_after_sudden_growth)"
   ]
  },
  {
   "cell_type": "code",
   "execution_count": 35,
   "metadata": {},
   "outputs": [
    {
     "data": {
      "image/png": "[encoded data removed]",
      "text/plain": [
       "<Figure size 640x480 with 1 Axes>"
      ]
     },
     "metadata": {},
     "output_type": "display_data"
    }
   ],
   "source": [
    "data_a = [numtags_keep_metavideo_before_sudden_growth, numtags_keep_metavideo_after_sudden_growth]\n",
    "data_b = [numtags_lose_metavideo_before_sudden_growth, numtags_lose_metavideo_after_sudden_growth]\n",
    "\n",
    "ticks = ['Keep_fame', 'Lose_fame']\n",
    "\n",
    "def set_box_color(bp, color):\n",
    "    plt.setp(bp['boxes'], color=color)\n",
    "    plt.setp(bp['whiskers'], color=color)\n",
    "    plt.setp(bp['caps'], color=color)\n",
    "    plt.setp(bp['medians'], color=color)\n",
    "\n",
    "plt.figure()\n",
    "plt.ylim(bottom=-1, top=50)\n",
    "\n",
    "bpl = plt.boxplot(data_a, positions=np.array(range(len(data_a)))*2.0-0.4, sym='', widths=0.6, patch_artist=True)\n",
    "bpl['boxes'][0].set(alpha=0.5)\n",
    "bpl['boxes'][1].set(alpha=0.5)\n",
    "\n",
    "bpr = plt.boxplot(data_b, positions=np.array(range(len(data_b)))*2.0+0.4, sym='', widths=0.6,  patch_artist=True)\n",
    "bpr['boxes'][0].set(alpha=0.5)\n",
    "bpr['boxes'][1].set(alpha=0.5)\n",
    "plt.xticks([0, 2], ticks)\n",
    "set_box_color(bpl, '#31a354') # colors are from http://colorbrewer2.org/\n",
    "set_box_color(bpr, '#dede00')\n",
    "\n",
    "# draw temporary red and blue lines and use them to create a legend\n",
    "plt.plot([], c='#31a354', label='before fame')\n",
    "plt.plot([], c='#dede00', label='after fame')\n",
    "plt.title(\"Number of tags distribution\")\n",
    "plt.legend(loc='upper center');"
   ]
  },
  {
   "attachments": {},
   "cell_type": "markdown",
   "metadata": {},
   "source": [
    "#### Number of likes over number of views per channel"
   ]
  },
  {
   "cell_type": "code",
   "execution_count": 36,
   "metadata": {},
   "outputs": [],
   "source": [
    "keep_metavideos_before_sudden_growth[\"like_views_ratio\"] = keep_metavideos_before_sudden_growth[\"like_count\"]/keep_metavideos_before_sudden_growth[\"view_count\"]\n",
    "keep_metavideos_after_sudden_growth[\"like_views_ratio\"] = keep_metavideos_after_sudden_growth[\"like_count\"]/keep_metavideos_after_sudden_growth[\"view_count\"]\n",
    "lose_metavideos_before_sudden_growth[\"like_views_ratio\"] = lose_metavideos_before_sudden_growth[\"like_count\"]/lose_metavideos_before_sudden_growth[\"view_count\"]\n",
    "lose_metavideos_after_sudden_growth[\"like_views_ratio\"] = lose_metavideos_after_sudden_growth[\"like_count\"]/lose_metavideos_after_sudden_growth[\"view_count\"]\n"
   ]
  },
  {
   "cell_type": "code",
   "execution_count": 37,
   "metadata": {},
   "outputs": [],
   "source": [
    "k_b_ratio = keep_metavideos_before_sudden_growth.groupby('channel_id')[\"like_views_ratio\"].mean()\n",
    "k_a_ratio = keep_metavideos_after_sudden_growth.groupby('channel_id')[\"like_views_ratio\"].mean()\n",
    "l_b_ratio = lose_metavideos_before_sudden_growth.groupby('channel_id')[\"like_views_ratio\"].mean()\n",
    "l_a_ratio = lose_metavideos_after_sudden_growth.groupby('channel_id')[\"like_views_ratio\"].mean()\n",
    "k_index_filter = (k_b_ratio.isna()) | (k_a_ratio.isna())\n",
    "l_index_filter = (l_b_ratio.isna()) | (l_a_ratio.isna())\n",
    "k_b_ratio = k_b_ratio[~k_index_filter]\n",
    "k_a_ratio = k_a_ratio[~k_index_filter]\n",
    "l_b_ratio = l_b_ratio[~l_index_filter]\n",
    "l_a_ratio = l_a_ratio[~l_index_filter]"
   ]
  },
  {
   "cell_type": "code",
   "execution_count": 38,
   "metadata": {},
   "outputs": [
    {
     "name": "stdout",
     "output_type": "stream",
     "text": [
      "Test between keep_before and keep_after: Ttest_relResult(statistic=-2.0586033978300615, pvalue=0.04263094891882229)\n",
      "Test between lose_before and lose_after: Ttest_relResult(statistic=-0.45951829270929406, pvalue=0.6470633506451422)\n",
      "Test between keep_before and lose_before: Ttest_indResult(statistic=1.3302783067812203, pvalue=0.18524037302693072)\n",
      "Test between keep_after and lose_after: Ttest_indResult(statistic=2.020917020903831, pvalue=0.0448857495533731)\n"
     ]
    }
   ],
   "source": [
    "print(f\"Test between keep_before and keep_after: {scs.ttest_rel(k_b_ratio, k_a_ratio)}\")\n",
    "print(f\"Test between lose_before and lose_after: {scs.ttest_rel(l_b_ratio, l_a_ratio)}\")\n",
    "print(f\"Test between keep_before and lose_before: {scs.ttest_ind(k_b_ratio, l_b_ratio)}\")\n",
    "print(f\"Test between keep_after and lose_after: {scs.ttest_ind(k_a_ratio, l_a_ratio)}\")"
   ]
  },
  {
   "cell_type": "code",
   "execution_count": 39,
   "metadata": {},
   "outputs": [
    {
     "data": {
      "text/plain": [
       "(0.03944394408655639,\n",
       " 0.044295759528276836,\n",
       " 0.03374742056624559,\n",
       " 0.03465108381573545)"
      ]
     },
     "execution_count": 39,
     "metadata": {},
     "output_type": "execute_result"
    }
   ],
   "source": [
    "k_b_ratio.mean(), k_a_ratio.mean(), l_b_ratio.mean(), l_a_ratio.mean()"
   ]
  },
  {
   "cell_type": "code",
   "execution_count": 40,
   "metadata": {},
   "outputs": [
    {
     "data": {
      "image/png": "[encoded data removed]",
      "text/plain": [
       "<Figure size 640x480 with 1 Axes>"
      ]
     },
     "metadata": {},
     "output_type": "display_data"
    }
   ],
   "source": [
    "data_a = [k_b_ratio, k_a_ratio]\n",
    "data_b = [l_b_ratio, l_a_ratio]\n",
    "\n",
    "ticks = ['Keep_fame', 'Lose_fame']\n",
    "\n",
    "def set_box_color(bp, color):\n",
    "    plt.setp(bp['boxes'], color=color)\n",
    "    plt.setp(bp['whiskers'], color=color)\n",
    "    plt.setp(bp['caps'], color=color)\n",
    "    plt.setp(bp['medians'], color=color)\n",
    "\n",
    "plt.figure()\n",
    "\n",
    "bpl = plt.boxplot(data_a, positions=np.array(range(len(data_a)))*2.0-0.4, sym='', widths=0.6, patch_artist=True)\n",
    "bpl['boxes'][0].set(alpha=0.5)\n",
    "bpl['boxes'][1].set(alpha=0.5)\n",
    "bpr = plt.boxplot(data_b, positions=np.array(range(len(data_b)))*2.0+0.4, sym='', widths=0.6, patch_artist=True)\n",
    "bpr['boxes'][0].set(alpha=0.5)\n",
    "bpr['boxes'][1].set(alpha=0.5)\n",
    "\n",
    "plt.xticks([0, 2], ticks)\n",
    "set_box_color(bpl, '#377eb8') # colors are from http://colorbrewer2.org/\n",
    "set_box_color(bpr, '#984ea3')\n",
    "\n",
    "# draw temporary red and blue lines and use them to create a legend\n",
    "plt.plot([], c='#377eb8', label='before fame')\n",
    "plt.plot([], c='#984ea3', label= 'after fame')\n",
    "plt.title(\"likes/views ratio distribution\")\n",
    "plt.legend();"
   ]
  },
  {
   "attachments": {},
   "cell_type": "markdown",
   "metadata": {},
   "source": [
    "#### Number of dislikes over number of views per channel"
   ]
  },
  {
   "cell_type": "code",
   "execution_count": 41,
   "metadata": {},
   "outputs": [],
   "source": [
    "keep_metavideos_before_sudden_growth[\"dislike_views_ratio\"] = keep_metavideos_before_sudden_growth[\"dislike_count\"]/keep_metavideos_before_sudden_growth[\"view_count\"]\n",
    "keep_metavideos_after_sudden_growth[\"dislike_views_ratio\"] = keep_metavideos_after_sudden_growth[\"dislike_count\"]/keep_metavideos_after_sudden_growth[\"view_count\"]\n",
    "lose_metavideos_before_sudden_growth[\"dislike_views_ratio\"] = lose_metavideos_before_sudden_growth[\"dislike_count\"]/lose_metavideos_before_sudden_growth[\"view_count\"]\n",
    "lose_metavideos_after_sudden_growth[\"dislike_views_ratio\"] = lose_metavideos_after_sudden_growth[\"dislike_count\"]/lose_metavideos_after_sudden_growth[\"view_count\"]\n"
   ]
  },
  {
   "cell_type": "code",
   "execution_count": 42,
   "metadata": {},
   "outputs": [],
   "source": [
    "k_b_ratio = keep_metavideos_before_sudden_growth.groupby('channel_id')[\"dislike_views_ratio\"].mean()\n",
    "k_a_ratio = keep_metavideos_after_sudden_growth.groupby('channel_id')[\"dislike_views_ratio\"].mean()\n",
    "l_b_ratio = lose_metavideos_before_sudden_growth.groupby('channel_id')[\"dislike_views_ratio\"].mean()\n",
    "l_a_ratio = lose_metavideos_after_sudden_growth.groupby('channel_id')[\"dislike_views_ratio\"].mean()\n",
    "k_index_filter = (k_b_ratio.isna()) | (k_a_ratio.isna())\n",
    "l_index_filter = (l_b_ratio.isna()) | (l_a_ratio.isna())\n",
    "k_b_ratio = k_b_ratio[~k_index_filter]\n",
    "k_a_ratio = k_a_ratio[~k_index_filter]\n",
    "l_b_ratio = l_b_ratio[~l_index_filter]\n",
    "l_a_ratio = l_a_ratio[~l_index_filter]"
   ]
  },
  {
   "cell_type": "code",
   "execution_count": 43,
   "metadata": {},
   "outputs": [
    {
     "name": "stdout",
     "output_type": "stream",
     "text": [
      "Test between keep_before and keep_after: Ttest_relResult(statistic=0.36064964577953285, pvalue=0.719266730003159)\n",
      "Test between lose_before and lose_after: Ttest_relResult(statistic=-0.023551257660905715, pvalue=0.9812657530970369)\n",
      "Test between keep_before and lose_before: Ttest_indResult(statistic=-0.997391561833167, pvalue=0.3200004145375966)\n",
      "Test between keep_after and keep_after: Ttest_indResult(statistic=-1.390936985305759, pvalue=0.1660731496053388)\n"
     ]
    }
   ],
   "source": [
    "print(f\"Test between keep_before and keep_after: {scs.ttest_rel(k_b_ratio, k_a_ratio)}\")\n",
    "print(f\"Test between lose_before and lose_after: {scs.ttest_rel(l_b_ratio, l_a_ratio)}\")\n",
    "print(f\"Test between keep_before and lose_before: {scs.ttest_ind(k_b_ratio, l_b_ratio)}\")\n",
    "print(f\"Test between keep_after and keep_after: {scs.ttest_ind(k_a_ratio, l_a_ratio)}\")"
   ]
  },
  {
   "cell_type": "code",
   "execution_count": 44,
   "metadata": {},
   "outputs": [
    {
     "data": {
      "text/plain": [
       "(0.0020698895511244296,\n",
       " 0.002008205776349121,\n",
       " 0.0024948077256422255,\n",
       " 0.0025004412532754878)"
      ]
     },
     "execution_count": 44,
     "metadata": {},
     "output_type": "execute_result"
    }
   ],
   "source": [
    "k_b_ratio.mean(), k_a_ratio.mean(), l_b_ratio.mean(), l_a_ratio.mean()"
   ]
  },
  {
   "cell_type": "code",
   "execution_count": 45,
   "metadata": {},
   "outputs": [
    {
     "data": {
      "image/png": "[encoded data removed]",
      "text/plain": [
       "<Figure size 640x480 with 1 Axes>"
      ]
     },
     "metadata": {},
     "output_type": "display_data"
    }
   ],
   "source": [
    "data_a = [k_b_ratio, k_a_ratio]\n",
    "data_b = [l_b_ratio, l_a_ratio]\n",
    "\n",
    "ticks = ['Keep_fame', 'Lose_fame']\n",
    "\n",
    "def set_box_color(bp, color):\n",
    "    plt.setp(bp['boxes'], color=color)\n",
    "    plt.setp(bp['whiskers'], color=color)\n",
    "    plt.setp(bp['caps'], color=color)\n",
    "    plt.setp(bp['medians'], color=color)\n",
    "\n",
    "plt.figure()\n",
    "\n",
    "bpl = plt.boxplot(data_a, positions=np.array(range(len(data_a)))*2.0-0.4, sym='', widths=0.6, patch_artist=True)\n",
    "bpl['boxes'][0].set(alpha=0.5)\n",
    "bpl['boxes'][1].set(alpha=0.5)\n",
    "bpr = plt.boxplot(data_b, positions=np.array(range(len(data_b)))*2.0+0.4, sym='', widths=0.6, patch_artist=True)\n",
    "bpr['boxes'][0].set(alpha=0.5)\n",
    "bpr['boxes'][1].set(alpha=0.5)\n",
    "\n",
    "plt.xticks([0, 2], ticks)\n",
    "set_box_color(bpl, '#e6550d') # colors are from http://colorbrewer2.org/\n",
    "set_box_color(bpr, '#1c9099')\n",
    "\n",
    "# draw temporary red and blue lines and use them to create a legend\n",
    "plt.plot([], c='#e6550d', label='before fame')\n",
    "plt.plot([], c='#1c9099', label= 'after fame')\n",
    "plt.title(\"dislikes/views ratio distribution\")\n",
    "plt.legend();"
   ]
  },
  {
   "attachments": {},
   "cell_type": "markdown",
   "metadata": {},
   "source": [
    "## Distribution of categories over the videos"
   ]
  },
  {
   "cell_type": "code",
   "execution_count": 46,
   "metadata": {},
   "outputs": [],
   "source": [
    "# save all categories to plot the distribution later\n",
    "categories = meta_video_filt_original.categories.unique()\n",
    "categories = [\"categories_\" + s for s in categories]"
   ]
  },
  {
   "cell_type": "code",
   "execution_count": 47,
   "metadata": {},
   "outputs": [],
   "source": [
    "def get_distribution_of_videos_over_category(df, categories_list, name):\n",
    "    '''\n",
    "    This function computes the distribution of videos over categories for a given dataframe\n",
    "    '''\n",
    "    print(name)\n",
    "    # dummify categories in metavideos dataframes\n",
    "    df_dummified = pd.get_dummies(df[['channel_id', 'crawl_date','categories']], columns=['categories'], dtype=int)\n",
    "\n",
    "    # fill missing categories with 0\n",
    "    df_dummified = df_dummified.reindex(columns = df_dummified.columns.tolist() + \\\n",
    "        [category for category in categories if category not in df_dummified.columns], \\\n",
    "        fill_value=0)\n",
    "\n",
    "    # Distribution of videos over categories\n",
    "    df_dummified_grouped = df_dummified.groupby(\"channel_id\")\n",
    "    num_videos_tot = df_dummified_grouped.count()[\"crawl_date\"]\n",
    "    num_videos_per_category = df_dummified_grouped.sum()\n",
    "    prop_videos_per_category = num_videos_per_category.divide(num_videos_tot, axis=0)\n",
    "    display(prop_videos_per_category.head())\n",
    "    print(prop_videos_per_category.shape)\n",
    "    print(f\"Check the sum of proportions is equal to 1: min_sum_categories = {round(prop_videos_per_category.sum(axis = 1).min(),3)}.\")\n",
    "    assert np.isclose(prop_videos_per_category.sum(axis = 1).min(), 1)\n",
    "\n",
    "    return prop_videos_per_category\n",
    "\n"
   ]
  },
  {
   "cell_type": "code",
   "execution_count": 48,
   "metadata": {},
   "outputs": [
    {
     "name": "stdout",
     "output_type": "stream",
     "text": [
      "Keep after sudden growth channels\n"
     ]
    },
    {
     "data": {
      "text/html": [
       "<div>\n",
       "<style scoped>\n",
       "    .dataframe tbody tr th:only-of-type {\n",
       "        vertical-align: middle;\n",
       "    }\n",
       "\n",
       "    .dataframe tbody tr th {\n",
       "        vertical-align: top;\n",
       "    }\n",
       "\n",
       "    .dataframe thead th {\n",
       "        text-align: right;\n",
       "    }\n",
       "</style>\n",
       "<table border=\"1\" class=\"dataframe\">\n",
       "  <thead>\n",
       "    <tr style=\"text-align: right;\">\n",
       "      <th></th>\n",
       "      <th>categories_Autos &amp; Vehicles</th>\n",
       "      <th>categories_Comedy</th>\n",
       "      <th>categories_Education</th>\n",
       "      <th>categories_Entertainment</th>\n",
       "      <th>categories_Film &amp; Animation</th>\n",
       "      <th>categories_Gaming</th>\n",
       "      <th>categories_Howto &amp; Style</th>\n",
       "      <th>categories_Music</th>\n",
       "      <th>categories_News &amp; Politics</th>\n",
       "      <th>categories_Nonprofits &amp; Activism</th>\n",
       "      <th>categories_People &amp; Blogs</th>\n",
       "      <th>categories_Pets &amp; Animals</th>\n",
       "      <th>categories_Science &amp; Technology</th>\n",
       "      <th>categories_Sports</th>\n",
       "      <th>categories_Travel &amp; Events</th>\n",
       "    </tr>\n",
       "    <tr>\n",
       "      <th>channel_id</th>\n",
       "      <th></th>\n",
       "      <th></th>\n",
       "      <th></th>\n",
       "      <th></th>\n",
       "      <th></th>\n",
       "      <th></th>\n",
       "      <th></th>\n",
       "      <th></th>\n",
       "      <th></th>\n",
       "      <th></th>\n",
       "      <th></th>\n",
       "      <th></th>\n",
       "      <th></th>\n",
       "      <th></th>\n",
       "      <th></th>\n",
       "    </tr>\n",
       "  </thead>\n",
       "  <tbody>\n",
       "    <tr>\n",
       "      <th>UC-DVtRZZhbm1GRCkr7OSZxw</th>\n",
       "      <td>0.0</td>\n",
       "      <td>0.0</td>\n",
       "      <td>0.0</td>\n",
       "      <td>0.0</td>\n",
       "      <td>0.0</td>\n",
       "      <td>0.0</td>\n",
       "      <td>0.0</td>\n",
       "      <td>1.0</td>\n",
       "      <td>0.0</td>\n",
       "      <td>0.0</td>\n",
       "      <td>0.0</td>\n",
       "      <td>0.0</td>\n",
       "      <td>0.0</td>\n",
       "      <td>0.0</td>\n",
       "      <td>0.0</td>\n",
       "    </tr>\n",
       "    <tr>\n",
       "      <th>UC0EUyJBJ1Ms90_XCqU01Ocw</th>\n",
       "      <td>0.0</td>\n",
       "      <td>0.0</td>\n",
       "      <td>0.0</td>\n",
       "      <td>1.0</td>\n",
       "      <td>0.0</td>\n",
       "      <td>0.0</td>\n",
       "      <td>0.0</td>\n",
       "      <td>0.0</td>\n",
       "      <td>0.0</td>\n",
       "      <td>0.0</td>\n",
       "      <td>0.0</td>\n",
       "      <td>0.0</td>\n",
       "      <td>0.0</td>\n",
       "      <td>0.0</td>\n",
       "      <td>0.0</td>\n",
       "    </tr>\n",
       "    <tr>\n",
       "      <th>UC1--Lh0c2PhkyRxpvNcXWaA</th>\n",
       "      <td>0.0</td>\n",
       "      <td>0.0</td>\n",
       "      <td>0.0</td>\n",
       "      <td>0.0</td>\n",
       "      <td>0.0</td>\n",
       "      <td>1.0</td>\n",
       "      <td>0.0</td>\n",
       "      <td>0.0</td>\n",
       "      <td>0.0</td>\n",
       "      <td>0.0</td>\n",
       "      <td>0.0</td>\n",
       "      <td>0.0</td>\n",
       "      <td>0.0</td>\n",
       "      <td>0.0</td>\n",
       "      <td>0.0</td>\n",
       "    </tr>\n",
       "    <tr>\n",
       "      <th>UC1xnncYc7586km_rIYQLtLQ</th>\n",
       "      <td>0.8</td>\n",
       "      <td>0.0</td>\n",
       "      <td>0.0</td>\n",
       "      <td>0.0</td>\n",
       "      <td>0.0</td>\n",
       "      <td>0.0</td>\n",
       "      <td>0.0</td>\n",
       "      <td>0.0</td>\n",
       "      <td>0.0</td>\n",
       "      <td>0.0</td>\n",
       "      <td>0.0</td>\n",
       "      <td>0.0</td>\n",
       "      <td>0.0</td>\n",
       "      <td>0.0</td>\n",
       "      <td>0.2</td>\n",
       "    </tr>\n",
       "    <tr>\n",
       "      <th>UC21l3rjgxTpL_3TkfCqK8Iw</th>\n",
       "      <td>0.0</td>\n",
       "      <td>0.0</td>\n",
       "      <td>0.0</td>\n",
       "      <td>0.0</td>\n",
       "      <td>0.0</td>\n",
       "      <td>0.0</td>\n",
       "      <td>1.0</td>\n",
       "      <td>0.0</td>\n",
       "      <td>0.0</td>\n",
       "      <td>0.0</td>\n",
       "      <td>0.0</td>\n",
       "      <td>0.0</td>\n",
       "      <td>0.0</td>\n",
       "      <td>0.0</td>\n",
       "      <td>0.0</td>\n",
       "    </tr>\n",
       "  </tbody>\n",
       "</table>\n",
       "</div>"
      ],
      "text/plain": [
       "                          categories_Autos & Vehicles  categories_Comedy  \\\n",
       "channel_id                                                                 \n",
       "UC-DVtRZZhbm1GRCkr7OSZxw                          0.0                0.0   \n",
       "UC0EUyJBJ1Ms90_XCqU01Ocw                          0.0                0.0   \n",
       "UC1--Lh0c2PhkyRxpvNcXWaA                          0.0                0.0   \n",
       "UC1xnncYc7586km_rIYQLtLQ                          0.8                0.0   \n",
       "UC21l3rjgxTpL_3TkfCqK8Iw                          0.0                0.0   \n",
       "\n",
       "                          categories_Education  categories_Entertainment  \\\n",
       "channel_id                                                                 \n",
       "UC-DVtRZZhbm1GRCkr7OSZxw                   0.0                       0.0   \n",
       "UC0EUyJBJ1Ms90_XCqU01Ocw                   0.0                       1.0   \n",
       "UC1--Lh0c2PhkyRxpvNcXWaA                   0.0                       0.0   \n",
       "UC1xnncYc7586km_rIYQLtLQ                   0.0                       0.0   \n",
       "UC21l3rjgxTpL_3TkfCqK8Iw                   0.0                       0.0   \n",
       "\n",
       "                          categories_Film & Animation  categories_Gaming  \\\n",
       "channel_id                                                                 \n",
       "UC-DVtRZZhbm1GRCkr7OSZxw                          0.0                0.0   \n",
       "UC0EUyJBJ1Ms90_XCqU01Ocw                          0.0                0.0   \n",
       "UC1--Lh0c2PhkyRxpvNcXWaA                          0.0                1.0   \n",
       "UC1xnncYc7586km_rIYQLtLQ                          0.0                0.0   \n",
       "UC21l3rjgxTpL_3TkfCqK8Iw                          0.0                0.0   \n",
       "\n",
       "                          categories_Howto & Style  categories_Music  \\\n",
       "channel_id                                                             \n",
       "UC-DVtRZZhbm1GRCkr7OSZxw                       0.0               1.0   \n",
       "UC0EUyJBJ1Ms90_XCqU01Ocw                       0.0               0.0   \n",
       "UC1--Lh0c2PhkyRxpvNcXWaA                       0.0               0.0   \n",
       "UC1xnncYc7586km_rIYQLtLQ                       0.0               0.0   \n",
       "UC21l3rjgxTpL_3TkfCqK8Iw                       1.0               0.0   \n",
       "\n",
       "                          categories_News & Politics  \\\n",
       "channel_id                                             \n",
       "UC-DVtRZZhbm1GRCkr7OSZxw                         0.0   \n",
       "UC0EUyJBJ1Ms90_XCqU01Ocw                         0.0   \n",
       "UC1--Lh0c2PhkyRxpvNcXWaA                         0.0   \n",
       "UC1xnncYc7586km_rIYQLtLQ                         0.0   \n",
       "UC21l3rjgxTpL_3TkfCqK8Iw                         0.0   \n",
       "\n",
       "                          categories_Nonprofits & Activism  \\\n",
       "channel_id                                                   \n",
       "UC-DVtRZZhbm1GRCkr7OSZxw                               0.0   \n",
       "UC0EUyJBJ1Ms90_XCqU01Ocw                               0.0   \n",
       "UC1--Lh0c2PhkyRxpvNcXWaA                               0.0   \n",
       "UC1xnncYc7586km_rIYQLtLQ                               0.0   \n",
       "UC21l3rjgxTpL_3TkfCqK8Iw                               0.0   \n",
       "\n",
       "                          categories_People & Blogs  \\\n",
       "channel_id                                            \n",
       "UC-DVtRZZhbm1GRCkr7OSZxw                        0.0   \n",
       "UC0EUyJBJ1Ms90_XCqU01Ocw                        0.0   \n",
       "UC1--Lh0c2PhkyRxpvNcXWaA                        0.0   \n",
       "UC1xnncYc7586km_rIYQLtLQ                        0.0   \n",
       "UC21l3rjgxTpL_3TkfCqK8Iw                        0.0   \n",
       "\n",
       "                          categories_Pets & Animals  \\\n",
       "channel_id                                            \n",
       "UC-DVtRZZhbm1GRCkr7OSZxw                        0.0   \n",
       "UC0EUyJBJ1Ms90_XCqU01Ocw                        0.0   \n",
       "UC1--Lh0c2PhkyRxpvNcXWaA                        0.0   \n",
       "UC1xnncYc7586km_rIYQLtLQ                        0.0   \n",
       "UC21l3rjgxTpL_3TkfCqK8Iw                        0.0   \n",
       "\n",
       "                          categories_Science & Technology  categories_Sports  \\\n",
       "channel_id                                                                     \n",
       "UC-DVtRZZhbm1GRCkr7OSZxw                              0.0                0.0   \n",
       "UC0EUyJBJ1Ms90_XCqU01Ocw                              0.0                0.0   \n",
       "UC1--Lh0c2PhkyRxpvNcXWaA                              0.0                0.0   \n",
       "UC1xnncYc7586km_rIYQLtLQ                              0.0                0.0   \n",
       "UC21l3rjgxTpL_3TkfCqK8Iw                              0.0                0.0   \n",
       "\n",
       "                          categories_Travel & Events  \n",
       "channel_id                                            \n",
       "UC-DVtRZZhbm1GRCkr7OSZxw                         0.0  \n",
       "UC0EUyJBJ1Ms90_XCqU01Ocw                         0.0  \n",
       "UC1--Lh0c2PhkyRxpvNcXWaA                         0.0  \n",
       "UC1xnncYc7586km_rIYQLtLQ                         0.2  \n",
       "UC21l3rjgxTpL_3TkfCqK8Iw                         0.0  "
      ]
     },
     "metadata": {},
     "output_type": "display_data"
    },
    {
     "name": "stdout",
     "output_type": "stream",
     "text": [
      "(88, 15)\n",
      "Check the sum of proportions is equal to 1: min_sum_categories = 1.0.\n",
      "Keep before sudden growth channels\n"
     ]
    },
    {
     "data": {
      "text/html": [
       "<div>\n",
       "<style scoped>\n",
       "    .dataframe tbody tr th:only-of-type {\n",
       "        vertical-align: middle;\n",
       "    }\n",
       "\n",
       "    .dataframe tbody tr th {\n",
       "        vertical-align: top;\n",
       "    }\n",
       "\n",
       "    .dataframe thead th {\n",
       "        text-align: right;\n",
       "    }\n",
       "</style>\n",
       "<table border=\"1\" class=\"dataframe\">\n",
       "  <thead>\n",
       "    <tr style=\"text-align: right;\">\n",
       "      <th></th>\n",
       "      <th>categories_Autos &amp; Vehicles</th>\n",
       "      <th>categories_Comedy</th>\n",
       "      <th>categories_Education</th>\n",
       "      <th>categories_Entertainment</th>\n",
       "      <th>categories_Film &amp; Animation</th>\n",
       "      <th>categories_Gaming</th>\n",
       "      <th>categories_Howto &amp; Style</th>\n",
       "      <th>categories_Music</th>\n",
       "      <th>categories_News &amp; Politics</th>\n",
       "      <th>categories_People &amp; Blogs</th>\n",
       "      <th>categories_Pets &amp; Animals</th>\n",
       "      <th>categories_Science &amp; Technology</th>\n",
       "      <th>categories_Sports</th>\n",
       "      <th>categories_Travel &amp; Events</th>\n",
       "      <th>categories_Nonprofits &amp; Activism</th>\n",
       "    </tr>\n",
       "    <tr>\n",
       "      <th>channel_id</th>\n",
       "      <th></th>\n",
       "      <th></th>\n",
       "      <th></th>\n",
       "      <th></th>\n",
       "      <th></th>\n",
       "      <th></th>\n",
       "      <th></th>\n",
       "      <th></th>\n",
       "      <th></th>\n",
       "      <th></th>\n",
       "      <th></th>\n",
       "      <th></th>\n",
       "      <th></th>\n",
       "      <th></th>\n",
       "      <th></th>\n",
       "    </tr>\n",
       "  </thead>\n",
       "  <tbody>\n",
       "    <tr>\n",
       "      <th>UC-DVtRZZhbm1GRCkr7OSZxw</th>\n",
       "      <td>0.000000</td>\n",
       "      <td>0.0</td>\n",
       "      <td>0.0</td>\n",
       "      <td>0.0</td>\n",
       "      <td>0.0</td>\n",
       "      <td>0.0</td>\n",
       "      <td>0.0</td>\n",
       "      <td>1.0</td>\n",
       "      <td>0.0</td>\n",
       "      <td>0.0</td>\n",
       "      <td>0.0</td>\n",
       "      <td>0.000000</td>\n",
       "      <td>0.0</td>\n",
       "      <td>0.000000</td>\n",
       "      <td>0.0</td>\n",
       "    </tr>\n",
       "    <tr>\n",
       "      <th>UC0EUyJBJ1Ms90_XCqU01Ocw</th>\n",
       "      <td>0.000000</td>\n",
       "      <td>1.0</td>\n",
       "      <td>0.0</td>\n",
       "      <td>0.0</td>\n",
       "      <td>0.0</td>\n",
       "      <td>0.0</td>\n",
       "      <td>0.0</td>\n",
       "      <td>0.0</td>\n",
       "      <td>0.0</td>\n",
       "      <td>0.0</td>\n",
       "      <td>0.0</td>\n",
       "      <td>0.000000</td>\n",
       "      <td>0.0</td>\n",
       "      <td>0.000000</td>\n",
       "      <td>0.0</td>\n",
       "    </tr>\n",
       "    <tr>\n",
       "      <th>UC1--Lh0c2PhkyRxpvNcXWaA</th>\n",
       "      <td>0.000000</td>\n",
       "      <td>0.0</td>\n",
       "      <td>0.0</td>\n",
       "      <td>0.0</td>\n",
       "      <td>0.0</td>\n",
       "      <td>1.0</td>\n",
       "      <td>0.0</td>\n",
       "      <td>0.0</td>\n",
       "      <td>0.0</td>\n",
       "      <td>0.0</td>\n",
       "      <td>0.0</td>\n",
       "      <td>0.000000</td>\n",
       "      <td>0.0</td>\n",
       "      <td>0.000000</td>\n",
       "      <td>0.0</td>\n",
       "    </tr>\n",
       "    <tr>\n",
       "      <th>UC1xnncYc7586km_rIYQLtLQ</th>\n",
       "      <td>0.314286</td>\n",
       "      <td>0.0</td>\n",
       "      <td>0.0</td>\n",
       "      <td>0.0</td>\n",
       "      <td>0.0</td>\n",
       "      <td>0.0</td>\n",
       "      <td>0.0</td>\n",
       "      <td>0.0</td>\n",
       "      <td>0.0</td>\n",
       "      <td>0.0</td>\n",
       "      <td>0.0</td>\n",
       "      <td>0.028571</td>\n",
       "      <td>0.0</td>\n",
       "      <td>0.657143</td>\n",
       "      <td>0.0</td>\n",
       "    </tr>\n",
       "    <tr>\n",
       "      <th>UC21l3rjgxTpL_3TkfCqK8Iw</th>\n",
       "      <td>0.000000</td>\n",
       "      <td>0.0</td>\n",
       "      <td>0.0</td>\n",
       "      <td>0.0</td>\n",
       "      <td>0.0</td>\n",
       "      <td>0.0</td>\n",
       "      <td>1.0</td>\n",
       "      <td>0.0</td>\n",
       "      <td>0.0</td>\n",
       "      <td>0.0</td>\n",
       "      <td>0.0</td>\n",
       "      <td>0.000000</td>\n",
       "      <td>0.0</td>\n",
       "      <td>0.000000</td>\n",
       "      <td>0.0</td>\n",
       "    </tr>\n",
       "  </tbody>\n",
       "</table>\n",
       "</div>"
      ],
      "text/plain": [
       "                          categories_Autos & Vehicles  categories_Comedy  \\\n",
       "channel_id                                                                 \n",
       "UC-DVtRZZhbm1GRCkr7OSZxw                     0.000000                0.0   \n",
       "UC0EUyJBJ1Ms90_XCqU01Ocw                     0.000000                1.0   \n",
       "UC1--Lh0c2PhkyRxpvNcXWaA                     0.000000                0.0   \n",
       "UC1xnncYc7586km_rIYQLtLQ                     0.314286                0.0   \n",
       "UC21l3rjgxTpL_3TkfCqK8Iw                     0.000000                0.0   \n",
       "\n",
       "                          categories_Education  categories_Entertainment  \\\n",
       "channel_id                                                                 \n",
       "UC-DVtRZZhbm1GRCkr7OSZxw                   0.0                       0.0   \n",
       "UC0EUyJBJ1Ms90_XCqU01Ocw                   0.0                       0.0   \n",
       "UC1--Lh0c2PhkyRxpvNcXWaA                   0.0                       0.0   \n",
       "UC1xnncYc7586km_rIYQLtLQ                   0.0                       0.0   \n",
       "UC21l3rjgxTpL_3TkfCqK8Iw                   0.0                       0.0   \n",
       "\n",
       "                          categories_Film & Animation  categories_Gaming  \\\n",
       "channel_id                                                                 \n",
       "UC-DVtRZZhbm1GRCkr7OSZxw                          0.0                0.0   \n",
       "UC0EUyJBJ1Ms90_XCqU01Ocw                          0.0                0.0   \n",
       "UC1--Lh0c2PhkyRxpvNcXWaA                          0.0                1.0   \n",
       "UC1xnncYc7586km_rIYQLtLQ                          0.0                0.0   \n",
       "UC21l3rjgxTpL_3TkfCqK8Iw                          0.0                0.0   \n",
       "\n",
       "                          categories_Howto & Style  categories_Music  \\\n",
       "channel_id                                                             \n",
       "UC-DVtRZZhbm1GRCkr7OSZxw                       0.0               1.0   \n",
       "UC0EUyJBJ1Ms90_XCqU01Ocw                       0.0               0.0   \n",
       "UC1--Lh0c2PhkyRxpvNcXWaA                       0.0               0.0   \n",
       "UC1xnncYc7586km_rIYQLtLQ                       0.0               0.0   \n",
       "UC21l3rjgxTpL_3TkfCqK8Iw                       1.0               0.0   \n",
       "\n",
       "                          categories_News & Politics  \\\n",
       "channel_id                                             \n",
       "UC-DVtRZZhbm1GRCkr7OSZxw                         0.0   \n",
       "UC0EUyJBJ1Ms90_XCqU01Ocw                         0.0   \n",
       "UC1--Lh0c2PhkyRxpvNcXWaA                         0.0   \n",
       "UC1xnncYc7586km_rIYQLtLQ                         0.0   \n",
       "UC21l3rjgxTpL_3TkfCqK8Iw                         0.0   \n",
       "\n",
       "                          categories_People & Blogs  \\\n",
       "channel_id                                            \n",
       "UC-DVtRZZhbm1GRCkr7OSZxw                        0.0   \n",
       "UC0EUyJBJ1Ms90_XCqU01Ocw                        0.0   \n",
       "UC1--Lh0c2PhkyRxpvNcXWaA                        0.0   \n",
       "UC1xnncYc7586km_rIYQLtLQ                        0.0   \n",
       "UC21l3rjgxTpL_3TkfCqK8Iw                        0.0   \n",
       "\n",
       "                          categories_Pets & Animals  \\\n",
       "channel_id                                            \n",
       "UC-DVtRZZhbm1GRCkr7OSZxw                        0.0   \n",
       "UC0EUyJBJ1Ms90_XCqU01Ocw                        0.0   \n",
       "UC1--Lh0c2PhkyRxpvNcXWaA                        0.0   \n",
       "UC1xnncYc7586km_rIYQLtLQ                        0.0   \n",
       "UC21l3rjgxTpL_3TkfCqK8Iw                        0.0   \n",
       "\n",
       "                          categories_Science & Technology  categories_Sports  \\\n",
       "channel_id                                                                     \n",
       "UC-DVtRZZhbm1GRCkr7OSZxw                         0.000000                0.0   \n",
       "UC0EUyJBJ1Ms90_XCqU01Ocw                         0.000000                0.0   \n",
       "UC1--Lh0c2PhkyRxpvNcXWaA                         0.000000                0.0   \n",
       "UC1xnncYc7586km_rIYQLtLQ                         0.028571                0.0   \n",
       "UC21l3rjgxTpL_3TkfCqK8Iw                         0.000000                0.0   \n",
       "\n",
       "                          categories_Travel & Events  \\\n",
       "channel_id                                             \n",
       "UC-DVtRZZhbm1GRCkr7OSZxw                    0.000000   \n",
       "UC0EUyJBJ1Ms90_XCqU01Ocw                    0.000000   \n",
       "UC1--Lh0c2PhkyRxpvNcXWaA                    0.000000   \n",
       "UC1xnncYc7586km_rIYQLtLQ                    0.657143   \n",
       "UC21l3rjgxTpL_3TkfCqK8Iw                    0.000000   \n",
       "\n",
       "                          categories_Nonprofits & Activism  \n",
       "channel_id                                                  \n",
       "UC-DVtRZZhbm1GRCkr7OSZxw                               0.0  \n",
       "UC0EUyJBJ1Ms90_XCqU01Ocw                               0.0  \n",
       "UC1--Lh0c2PhkyRxpvNcXWaA                               0.0  \n",
       "UC1xnncYc7586km_rIYQLtLQ                               0.0  \n",
       "UC21l3rjgxTpL_3TkfCqK8Iw                               0.0  "
      ]
     },
     "metadata": {},
     "output_type": "display_data"
    },
    {
     "name": "stdout",
     "output_type": "stream",
     "text": [
      "(88, 15)\n",
      "Check the sum of proportions is equal to 1: min_sum_categories = 1.0.\n",
      "Lose after sudden growth channels\n"
     ]
    },
    {
     "data": {
      "text/html": [
       "<div>\n",
       "<style scoped>\n",
       "    .dataframe tbody tr th:only-of-type {\n",
       "        vertical-align: middle;\n",
       "    }\n",
       "\n",
       "    .dataframe tbody tr th {\n",
       "        vertical-align: top;\n",
       "    }\n",
       "\n",
       "    .dataframe thead th {\n",
       "        text-align: right;\n",
       "    }\n",
       "</style>\n",
       "<table border=\"1\" class=\"dataframe\">\n",
       "  <thead>\n",
       "    <tr style=\"text-align: right;\">\n",
       "      <th></th>\n",
       "      <th>categories_Autos &amp; Vehicles</th>\n",
       "      <th>categories_Comedy</th>\n",
       "      <th>categories_Education</th>\n",
       "      <th>categories_Entertainment</th>\n",
       "      <th>categories_Film &amp; Animation</th>\n",
       "      <th>categories_Gaming</th>\n",
       "      <th>categories_Howto &amp; Style</th>\n",
       "      <th>categories_Music</th>\n",
       "      <th>categories_News &amp; Politics</th>\n",
       "      <th>categories_People &amp; Blogs</th>\n",
       "      <th>categories_Pets &amp; Animals</th>\n",
       "      <th>categories_Science &amp; Technology</th>\n",
       "      <th>categories_Sports</th>\n",
       "      <th>categories_Travel &amp; Events</th>\n",
       "      <th>categories_Nonprofits &amp; Activism</th>\n",
       "    </tr>\n",
       "    <tr>\n",
       "      <th>channel_id</th>\n",
       "      <th></th>\n",
       "      <th></th>\n",
       "      <th></th>\n",
       "      <th></th>\n",
       "      <th></th>\n",
       "      <th></th>\n",
       "      <th></th>\n",
       "      <th></th>\n",
       "      <th></th>\n",
       "      <th></th>\n",
       "      <th></th>\n",
       "      <th></th>\n",
       "      <th></th>\n",
       "      <th></th>\n",
       "      <th></th>\n",
       "    </tr>\n",
       "  </thead>\n",
       "  <tbody>\n",
       "    <tr>\n",
       "      <th>UC-1qy7V-dMBaC-5xfrF-Akw</th>\n",
       "      <td>0.0</td>\n",
       "      <td>0.0</td>\n",
       "      <td>0.0</td>\n",
       "      <td>0.000000</td>\n",
       "      <td>0.00000</td>\n",
       "      <td>0.000000</td>\n",
       "      <td>0.000000</td>\n",
       "      <td>1.0</td>\n",
       "      <td>0.0</td>\n",
       "      <td>0.000000</td>\n",
       "      <td>0.0</td>\n",
       "      <td>0.0</td>\n",
       "      <td>0.000000</td>\n",
       "      <td>0.0</td>\n",
       "      <td>0.0</td>\n",
       "    </tr>\n",
       "    <tr>\n",
       "      <th>UC-XebCD-RF_M3PJaTFqhijg</th>\n",
       "      <td>0.0</td>\n",
       "      <td>0.0</td>\n",
       "      <td>0.0</td>\n",
       "      <td>1.000000</td>\n",
       "      <td>0.00000</td>\n",
       "      <td>0.000000</td>\n",
       "      <td>0.000000</td>\n",
       "      <td>0.0</td>\n",
       "      <td>0.0</td>\n",
       "      <td>0.000000</td>\n",
       "      <td>0.0</td>\n",
       "      <td>0.0</td>\n",
       "      <td>0.000000</td>\n",
       "      <td>0.0</td>\n",
       "      <td>0.0</td>\n",
       "    </tr>\n",
       "    <tr>\n",
       "      <th>UC-aN2hjb8rrrpK74Il7ktew</th>\n",
       "      <td>0.0</td>\n",
       "      <td>0.0</td>\n",
       "      <td>0.0</td>\n",
       "      <td>0.000000</td>\n",
       "      <td>0.34375</td>\n",
       "      <td>0.000000</td>\n",
       "      <td>0.000000</td>\n",
       "      <td>0.0</td>\n",
       "      <td>0.0</td>\n",
       "      <td>0.656250</td>\n",
       "      <td>0.0</td>\n",
       "      <td>0.0</td>\n",
       "      <td>0.000000</td>\n",
       "      <td>0.0</td>\n",
       "      <td>0.0</td>\n",
       "    </tr>\n",
       "    <tr>\n",
       "      <th>UC06LLn1vpmIZJSYnZrbAnHA</th>\n",
       "      <td>0.0</td>\n",
       "      <td>0.0</td>\n",
       "      <td>0.0</td>\n",
       "      <td>0.017544</td>\n",
       "      <td>0.00000</td>\n",
       "      <td>0.982456</td>\n",
       "      <td>0.000000</td>\n",
       "      <td>0.0</td>\n",
       "      <td>0.0</td>\n",
       "      <td>0.000000</td>\n",
       "      <td>0.0</td>\n",
       "      <td>0.0</td>\n",
       "      <td>0.000000</td>\n",
       "      <td>0.0</td>\n",
       "      <td>0.0</td>\n",
       "    </tr>\n",
       "    <tr>\n",
       "      <th>UC0Ka4jKos2O1Svxa6W_Q3Sw</th>\n",
       "      <td>0.0</td>\n",
       "      <td>0.0</td>\n",
       "      <td>0.0</td>\n",
       "      <td>0.000000</td>\n",
       "      <td>0.00000</td>\n",
       "      <td>0.000000</td>\n",
       "      <td>0.275862</td>\n",
       "      <td>0.0</td>\n",
       "      <td>0.0</td>\n",
       "      <td>0.689655</td>\n",
       "      <td>0.0</td>\n",
       "      <td>0.0</td>\n",
       "      <td>0.034483</td>\n",
       "      <td>0.0</td>\n",
       "      <td>0.0</td>\n",
       "    </tr>\n",
       "  </tbody>\n",
       "</table>\n",
       "</div>"
      ],
      "text/plain": [
       "                          categories_Autos & Vehicles  categories_Comedy  \\\n",
       "channel_id                                                                 \n",
       "UC-1qy7V-dMBaC-5xfrF-Akw                          0.0                0.0   \n",
       "UC-XebCD-RF_M3PJaTFqhijg                          0.0                0.0   \n",
       "UC-aN2hjb8rrrpK74Il7ktew                          0.0                0.0   \n",
       "UC06LLn1vpmIZJSYnZrbAnHA                          0.0                0.0   \n",
       "UC0Ka4jKos2O1Svxa6W_Q3Sw                          0.0                0.0   \n",
       "\n",
       "                          categories_Education  categories_Entertainment  \\\n",
       "channel_id                                                                 \n",
       "UC-1qy7V-dMBaC-5xfrF-Akw                   0.0                  0.000000   \n",
       "UC-XebCD-RF_M3PJaTFqhijg                   0.0                  1.000000   \n",
       "UC-aN2hjb8rrrpK74Il7ktew                   0.0                  0.000000   \n",
       "UC06LLn1vpmIZJSYnZrbAnHA                   0.0                  0.017544   \n",
       "UC0Ka4jKos2O1Svxa6W_Q3Sw                   0.0                  0.000000   \n",
       "\n",
       "                          categories_Film & Animation  categories_Gaming  \\\n",
       "channel_id                                                                 \n",
       "UC-1qy7V-dMBaC-5xfrF-Akw                      0.00000           0.000000   \n",
       "UC-XebCD-RF_M3PJaTFqhijg                      0.00000           0.000000   \n",
       "UC-aN2hjb8rrrpK74Il7ktew                      0.34375           0.000000   \n",
       "UC06LLn1vpmIZJSYnZrbAnHA                      0.00000           0.982456   \n",
       "UC0Ka4jKos2O1Svxa6W_Q3Sw                      0.00000           0.000000   \n",
       "\n",
       "                          categories_Howto & Style  categories_Music  \\\n",
       "channel_id                                                             \n",
       "UC-1qy7V-dMBaC-5xfrF-Akw                  0.000000               1.0   \n",
       "UC-XebCD-RF_M3PJaTFqhijg                  0.000000               0.0   \n",
       "UC-aN2hjb8rrrpK74Il7ktew                  0.000000               0.0   \n",
       "UC06LLn1vpmIZJSYnZrbAnHA                  0.000000               0.0   \n",
       "UC0Ka4jKos2O1Svxa6W_Q3Sw                  0.275862               0.0   \n",
       "\n",
       "                          categories_News & Politics  \\\n",
       "channel_id                                             \n",
       "UC-1qy7V-dMBaC-5xfrF-Akw                         0.0   \n",
       "UC-XebCD-RF_M3PJaTFqhijg                         0.0   \n",
       "UC-aN2hjb8rrrpK74Il7ktew                         0.0   \n",
       "UC06LLn1vpmIZJSYnZrbAnHA                         0.0   \n",
       "UC0Ka4jKos2O1Svxa6W_Q3Sw                         0.0   \n",
       "\n",
       "                          categories_People & Blogs  \\\n",
       "channel_id                                            \n",
       "UC-1qy7V-dMBaC-5xfrF-Akw                   0.000000   \n",
       "UC-XebCD-RF_M3PJaTFqhijg                   0.000000   \n",
       "UC-aN2hjb8rrrpK74Il7ktew                   0.656250   \n",
       "UC06LLn1vpmIZJSYnZrbAnHA                   0.000000   \n",
       "UC0Ka4jKos2O1Svxa6W_Q3Sw                   0.689655   \n",
       "\n",
       "                          categories_Pets & Animals  \\\n",
       "channel_id                                            \n",
       "UC-1qy7V-dMBaC-5xfrF-Akw                        0.0   \n",
       "UC-XebCD-RF_M3PJaTFqhijg                        0.0   \n",
       "UC-aN2hjb8rrrpK74Il7ktew                        0.0   \n",
       "UC06LLn1vpmIZJSYnZrbAnHA                        0.0   \n",
       "UC0Ka4jKos2O1Svxa6W_Q3Sw                        0.0   \n",
       "\n",
       "                          categories_Science & Technology  categories_Sports  \\\n",
       "channel_id                                                                     \n",
       "UC-1qy7V-dMBaC-5xfrF-Akw                              0.0           0.000000   \n",
       "UC-XebCD-RF_M3PJaTFqhijg                              0.0           0.000000   \n",
       "UC-aN2hjb8rrrpK74Il7ktew                              0.0           0.000000   \n",
       "UC06LLn1vpmIZJSYnZrbAnHA                              0.0           0.000000   \n",
       "UC0Ka4jKos2O1Svxa6W_Q3Sw                              0.0           0.034483   \n",
       "\n",
       "                          categories_Travel & Events  \\\n",
       "channel_id                                             \n",
       "UC-1qy7V-dMBaC-5xfrF-Akw                         0.0   \n",
       "UC-XebCD-RF_M3PJaTFqhijg                         0.0   \n",
       "UC-aN2hjb8rrrpK74Il7ktew                         0.0   \n",
       "UC06LLn1vpmIZJSYnZrbAnHA                         0.0   \n",
       "UC0Ka4jKos2O1Svxa6W_Q3Sw                         0.0   \n",
       "\n",
       "                          categories_Nonprofits & Activism  \n",
       "channel_id                                                  \n",
       "UC-1qy7V-dMBaC-5xfrF-Akw                               0.0  \n",
       "UC-XebCD-RF_M3PJaTFqhijg                               0.0  \n",
       "UC-aN2hjb8rrrpK74Il7ktew                               0.0  \n",
       "UC06LLn1vpmIZJSYnZrbAnHA                               0.0  \n",
       "UC0Ka4jKos2O1Svxa6W_Q3Sw                               0.0  "
      ]
     },
     "metadata": {},
     "output_type": "display_data"
    },
    {
     "name": "stdout",
     "output_type": "stream",
     "text": [
      "(88, 15)\n",
      "Check the sum of proportions is equal to 1: min_sum_categories = 1.0.\n",
      "Lose before sudden growth channels\n"
     ]
    },
    {
     "data": {
      "text/html": [
       "<div>\n",
       "<style scoped>\n",
       "    .dataframe tbody tr th:only-of-type {\n",
       "        vertical-align: middle;\n",
       "    }\n",
       "\n",
       "    .dataframe tbody tr th {\n",
       "        vertical-align: top;\n",
       "    }\n",
       "\n",
       "    .dataframe thead th {\n",
       "        text-align: right;\n",
       "    }\n",
       "</style>\n",
       "<table border=\"1\" class=\"dataframe\">\n",
       "  <thead>\n",
       "    <tr style=\"text-align: right;\">\n",
       "      <th></th>\n",
       "      <th>categories_Autos &amp; Vehicles</th>\n",
       "      <th>categories_Comedy</th>\n",
       "      <th>categories_Education</th>\n",
       "      <th>categories_Entertainment</th>\n",
       "      <th>categories_Film &amp; Animation</th>\n",
       "      <th>categories_Gaming</th>\n",
       "      <th>categories_Howto &amp; Style</th>\n",
       "      <th>categories_Music</th>\n",
       "      <th>categories_News &amp; Politics</th>\n",
       "      <th>categories_People &amp; Blogs</th>\n",
       "      <th>categories_Pets &amp; Animals</th>\n",
       "      <th>categories_Science &amp; Technology</th>\n",
       "      <th>categories_Sports</th>\n",
       "      <th>categories_Travel &amp; Events</th>\n",
       "      <th>categories_Nonprofits &amp; Activism</th>\n",
       "    </tr>\n",
       "    <tr>\n",
       "      <th>channel_id</th>\n",
       "      <th></th>\n",
       "      <th></th>\n",
       "      <th></th>\n",
       "      <th></th>\n",
       "      <th></th>\n",
       "      <th></th>\n",
       "      <th></th>\n",
       "      <th></th>\n",
       "      <th></th>\n",
       "      <th></th>\n",
       "      <th></th>\n",
       "      <th></th>\n",
       "      <th></th>\n",
       "      <th></th>\n",
       "      <th></th>\n",
       "    </tr>\n",
       "  </thead>\n",
       "  <tbody>\n",
       "    <tr>\n",
       "      <th>UC-1qy7V-dMBaC-5xfrF-Akw</th>\n",
       "      <td>0.0</td>\n",
       "      <td>0.0</td>\n",
       "      <td>0.0</td>\n",
       "      <td>0.111111</td>\n",
       "      <td>0.111111</td>\n",
       "      <td>0.0</td>\n",
       "      <td>0.0</td>\n",
       "      <td>0.777778</td>\n",
       "      <td>0.0</td>\n",
       "      <td>0.0</td>\n",
       "      <td>0.0</td>\n",
       "      <td>0.0000</td>\n",
       "      <td>0.0</td>\n",
       "      <td>0.0</td>\n",
       "      <td>0.0</td>\n",
       "    </tr>\n",
       "    <tr>\n",
       "      <th>UC-XebCD-RF_M3PJaTFqhijg</th>\n",
       "      <td>0.0</td>\n",
       "      <td>0.0</td>\n",
       "      <td>0.0</td>\n",
       "      <td>1.000000</td>\n",
       "      <td>0.000000</td>\n",
       "      <td>0.0</td>\n",
       "      <td>0.0</td>\n",
       "      <td>0.000000</td>\n",
       "      <td>0.0</td>\n",
       "      <td>0.0</td>\n",
       "      <td>0.0</td>\n",
       "      <td>0.0000</td>\n",
       "      <td>0.0</td>\n",
       "      <td>0.0</td>\n",
       "      <td>0.0</td>\n",
       "    </tr>\n",
       "    <tr>\n",
       "      <th>UC-aN2hjb8rrrpK74Il7ktew</th>\n",
       "      <td>0.0</td>\n",
       "      <td>0.0</td>\n",
       "      <td>0.0</td>\n",
       "      <td>0.000000</td>\n",
       "      <td>0.000000</td>\n",
       "      <td>0.0</td>\n",
       "      <td>0.0</td>\n",
       "      <td>0.000000</td>\n",
       "      <td>0.0</td>\n",
       "      <td>1.0</td>\n",
       "      <td>0.0</td>\n",
       "      <td>0.0000</td>\n",
       "      <td>0.0</td>\n",
       "      <td>0.0</td>\n",
       "      <td>0.0</td>\n",
       "    </tr>\n",
       "    <tr>\n",
       "      <th>UC06LLn1vpmIZJSYnZrbAnHA</th>\n",
       "      <td>0.0</td>\n",
       "      <td>0.0</td>\n",
       "      <td>0.0</td>\n",
       "      <td>0.000000</td>\n",
       "      <td>0.000000</td>\n",
       "      <td>1.0</td>\n",
       "      <td>0.0</td>\n",
       "      <td>0.000000</td>\n",
       "      <td>0.0</td>\n",
       "      <td>0.0</td>\n",
       "      <td>0.0</td>\n",
       "      <td>0.0000</td>\n",
       "      <td>0.0</td>\n",
       "      <td>0.0</td>\n",
       "      <td>0.0</td>\n",
       "    </tr>\n",
       "    <tr>\n",
       "      <th>UC0Ka4jKos2O1Svxa6W_Q3Sw</th>\n",
       "      <td>0.0</td>\n",
       "      <td>0.0</td>\n",
       "      <td>0.0</td>\n",
       "      <td>0.062500</td>\n",
       "      <td>0.000000</td>\n",
       "      <td>0.0</td>\n",
       "      <td>0.5</td>\n",
       "      <td>0.000000</td>\n",
       "      <td>0.0</td>\n",
       "      <td>0.0</td>\n",
       "      <td>0.0</td>\n",
       "      <td>0.4375</td>\n",
       "      <td>0.0</td>\n",
       "      <td>0.0</td>\n",
       "      <td>0.0</td>\n",
       "    </tr>\n",
       "  </tbody>\n",
       "</table>\n",
       "</div>"
      ],
      "text/plain": [
       "                          categories_Autos & Vehicles  categories_Comedy  \\\n",
       "channel_id                                                                 \n",
       "UC-1qy7V-dMBaC-5xfrF-Akw                          0.0                0.0   \n",
       "UC-XebCD-RF_M3PJaTFqhijg                          0.0                0.0   \n",
       "UC-aN2hjb8rrrpK74Il7ktew                          0.0                0.0   \n",
       "UC06LLn1vpmIZJSYnZrbAnHA                          0.0                0.0   \n",
       "UC0Ka4jKos2O1Svxa6W_Q3Sw                          0.0                0.0   \n",
       "\n",
       "                          categories_Education  categories_Entertainment  \\\n",
       "channel_id                                                                 \n",
       "UC-1qy7V-dMBaC-5xfrF-Akw                   0.0                  0.111111   \n",
       "UC-XebCD-RF_M3PJaTFqhijg                   0.0                  1.000000   \n",
       "UC-aN2hjb8rrrpK74Il7ktew                   0.0                  0.000000   \n",
       "UC06LLn1vpmIZJSYnZrbAnHA                   0.0                  0.000000   \n",
       "UC0Ka4jKos2O1Svxa6W_Q3Sw                   0.0                  0.062500   \n",
       "\n",
       "                          categories_Film & Animation  categories_Gaming  \\\n",
       "channel_id                                                                 \n",
       "UC-1qy7V-dMBaC-5xfrF-Akw                     0.111111                0.0   \n",
       "UC-XebCD-RF_M3PJaTFqhijg                     0.000000                0.0   \n",
       "UC-aN2hjb8rrrpK74Il7ktew                     0.000000                0.0   \n",
       "UC06LLn1vpmIZJSYnZrbAnHA                     0.000000                1.0   \n",
       "UC0Ka4jKos2O1Svxa6W_Q3Sw                     0.000000                0.0   \n",
       "\n",
       "                          categories_Howto & Style  categories_Music  \\\n",
       "channel_id                                                             \n",
       "UC-1qy7V-dMBaC-5xfrF-Akw                       0.0          0.777778   \n",
       "UC-XebCD-RF_M3PJaTFqhijg                       0.0          0.000000   \n",
       "UC-aN2hjb8rrrpK74Il7ktew                       0.0          0.000000   \n",
       "UC06LLn1vpmIZJSYnZrbAnHA                       0.0          0.000000   \n",
       "UC0Ka4jKos2O1Svxa6W_Q3Sw                       0.5          0.000000   \n",
       "\n",
       "                          categories_News & Politics  \\\n",
       "channel_id                                             \n",
       "UC-1qy7V-dMBaC-5xfrF-Akw                         0.0   \n",
       "UC-XebCD-RF_M3PJaTFqhijg                         0.0   \n",
       "UC-aN2hjb8rrrpK74Il7ktew                         0.0   \n",
       "UC06LLn1vpmIZJSYnZrbAnHA                         0.0   \n",
       "UC0Ka4jKos2O1Svxa6W_Q3Sw                         0.0   \n",
       "\n",
       "                          categories_People & Blogs  \\\n",
       "channel_id                                            \n",
       "UC-1qy7V-dMBaC-5xfrF-Akw                        0.0   \n",
       "UC-XebCD-RF_M3PJaTFqhijg                        0.0   \n",
       "UC-aN2hjb8rrrpK74Il7ktew                        1.0   \n",
       "UC06LLn1vpmIZJSYnZrbAnHA                        0.0   \n",
       "UC0Ka4jKos2O1Svxa6W_Q3Sw                        0.0   \n",
       "\n",
       "                          categories_Pets & Animals  \\\n",
       "channel_id                                            \n",
       "UC-1qy7V-dMBaC-5xfrF-Akw                        0.0   \n",
       "UC-XebCD-RF_M3PJaTFqhijg                        0.0   \n",
       "UC-aN2hjb8rrrpK74Il7ktew                        0.0   \n",
       "UC06LLn1vpmIZJSYnZrbAnHA                        0.0   \n",
       "UC0Ka4jKos2O1Svxa6W_Q3Sw                        0.0   \n",
       "\n",
       "                          categories_Science & Technology  categories_Sports  \\\n",
       "channel_id                                                                     \n",
       "UC-1qy7V-dMBaC-5xfrF-Akw                           0.0000                0.0   \n",
       "UC-XebCD-RF_M3PJaTFqhijg                           0.0000                0.0   \n",
       "UC-aN2hjb8rrrpK74Il7ktew                           0.0000                0.0   \n",
       "UC06LLn1vpmIZJSYnZrbAnHA                           0.0000                0.0   \n",
       "UC0Ka4jKos2O1Svxa6W_Q3Sw                           0.4375                0.0   \n",
       "\n",
       "                          categories_Travel & Events  \\\n",
       "channel_id                                             \n",
       "UC-1qy7V-dMBaC-5xfrF-Akw                         0.0   \n",
       "UC-XebCD-RF_M3PJaTFqhijg                         0.0   \n",
       "UC-aN2hjb8rrrpK74Il7ktew                         0.0   \n",
       "UC06LLn1vpmIZJSYnZrbAnHA                         0.0   \n",
       "UC0Ka4jKos2O1Svxa6W_Q3Sw                         0.0   \n",
       "\n",
       "                          categories_Nonprofits & Activism  \n",
       "channel_id                                                  \n",
       "UC-1qy7V-dMBaC-5xfrF-Akw                               0.0  \n",
       "UC-XebCD-RF_M3PJaTFqhijg                               0.0  \n",
       "UC-aN2hjb8rrrpK74Il7ktew                               0.0  \n",
       "UC06LLn1vpmIZJSYnZrbAnHA                               0.0  \n",
       "UC0Ka4jKos2O1Svxa6W_Q3Sw                               0.0  "
      ]
     },
     "metadata": {},
     "output_type": "display_data"
    },
    {
     "name": "stdout",
     "output_type": "stream",
     "text": [
      "(88, 15)\n",
      "Check the sum of proportions is equal to 1: min_sum_categories = 1.0.\n"
     ]
    }
   ],
   "source": [
    "prop_videos_per_cat_k_a = get_distribution_of_videos_over_category(keep_metavideos_after_sudden_growth, categories, \"Keep after sudden growth channels\") \n",
    "prop_videos_per_cat_k_b = get_distribution_of_videos_over_category(keep_metavideos_before_sudden_growth, categories, \"Keep before sudden growth channels\")\n",
    "prop_videos_per_cat_l_a = get_distribution_of_videos_over_category(lose_metavideos_after_sudden_growth, categories, \"Lose after sudden growth channels\")\n",
    "prop_videos_per_cat_l_b = get_distribution_of_videos_over_category(lose_metavideos_before_sudden_growth, categories, \"Lose before sudden growth channels\")"
   ]
  },
  {
   "cell_type": "code",
   "execution_count": 49,
   "metadata": {},
   "outputs": [
    {
     "data": {
      "image/png": "[encoded data removed]",
      "text/plain": [
       "<Figure size 640x480 with 1 Axes>"
      ]
     },
     "metadata": {},
     "output_type": "display_data"
    }
   ],
   "source": [
    "import seaborn as sns\n",
    "video_distr_for_plotting = pd.concat(\\\n",
    "    [prop_videos_per_cat_l_a.mean(), prop_videos_per_cat_k_a.mean(), prop_videos_per_cat_l_b.mean(), prop_videos_per_cat_k_b.mean()], axis=1)\\\n",
    "    .rename(columns={0:\"lose_after\", 1:\"lose_before\", 2:\"keep_after\", 3:\"keep_before\"})\n",
    "\n",
    "video_distr_for_plotting.reset_index(inplace=True)\n",
    "video_distr_for_plotting = video_distr_for_plotting.melt('index', var_name='population', value_name='vals')\n",
    "\n",
    "sns.barplot(data=video_distr_for_plotting, x=\"index\", y=\"vals\", hue=\"population\", palette=\"hls\")\n",
    "plt.xticks(ticks = np.arange(0, len(categories)), labels = [cat.replace('categories_', '') for cat in video_distr_for_plotting[\"index\"].unique()], rotation=45, ha=\"right\");\n",
    "plt.title(\"Mean distributions of videos over categories\")\n",
    "plt.ylabel(\"Proportion of videos\")\n",
    "plt.xlabel(\"Categories\");"
   ]
  },
  {
   "attachments": {},
   "cell_type": "markdown",
   "metadata": {},
   "source": [
    "##### Statistical analysis of the distribution of videos over categories "
   ]
  },
  {
   "cell_type": "code",
   "execution_count": 50,
   "metadata": {},
   "outputs": [
    {
     "data": {
      "text/html": [
       "<div>\n",
       "<style scoped>\n",
       "    .dataframe tbody tr th:only-of-type {\n",
       "        vertical-align: middle;\n",
       "    }\n",
       "\n",
       "    .dataframe tbody tr th {\n",
       "        vertical-align: top;\n",
       "    }\n",
       "\n",
       "    .dataframe thead th {\n",
       "        text-align: right;\n",
       "    }\n",
       "</style>\n",
       "<table border=\"1\" class=\"dataframe\">\n",
       "  <thead>\n",
       "    <tr style=\"text-align: right;\">\n",
       "      <th></th>\n",
       "      <th>categories</th>\n",
       "      <th>channel_id</th>\n",
       "      <th>crawl_date</th>\n",
       "      <th>description</th>\n",
       "      <th>dislike_count</th>\n",
       "      <th>display_id</th>\n",
       "      <th>duration</th>\n",
       "      <th>like_count</th>\n",
       "      <th>tags</th>\n",
       "      <th>title</th>\n",
       "      <th>upload_date</th>\n",
       "      <th>view_count</th>\n",
       "      <th>num_tags</th>\n",
       "      <th>max_growth_date</th>\n",
       "      <th>min_date</th>\n",
       "      <th>max_date</th>\n",
       "      <th>before_fame</th>\n",
       "    </tr>\n",
       "  </thead>\n",
       "  <tbody>\n",
       "    <tr>\n",
       "      <th>62826</th>\n",
       "      <td>Music</td>\n",
       "      <td>UC-N94lq6ncA1oR80sACQ5ZA</td>\n",
       "      <td>2019-11-07 21:46:16.940939</td>\n",
       "      <td>Provided to YouTube by Bookwire\\n\\nKapitel 663...</td>\n",
       "      <td>0.0</td>\n",
       "      <td>Ct2FjMBP1_E</td>\n",
       "      <td>126</td>\n",
       "      <td>0.0</td>\n",
       "      <td>Gustav Schwab &amp; Jürgen Fritsche,Gustav Schwab:...</td>\n",
       "      <td>Kapitel 663 - Gustav Schwab: Sagen des klassis...</td>\n",
       "      <td>2018-11-09 00:00:00</td>\n",
       "      <td>0.0</td>\n",
       "      <td>3</td>\n",
       "      <td>2018-07-30 00:00:00</td>\n",
       "      <td>2018-05-07</td>\n",
       "      <td>2018-11-04 23:00:00</td>\n",
       "      <td>0</td>\n",
       "    </tr>\n",
       "    <tr>\n",
       "      <th>56875</th>\n",
       "      <td>Music</td>\n",
       "      <td>UC-N94lq6ncA1oR80sACQ5ZA</td>\n",
       "      <td>2019-11-07 21:44:34.432093</td>\n",
       "      <td>Provided to YouTube by Believe SAS\\n\\nOk! · Pe...</td>\n",
       "      <td>0.0</td>\n",
       "      <td>gOiZZIRffpA</td>\n",
       "      <td>181</td>\n",
       "      <td>1.0</td>\n",
       "      <td>Peter Charles Bradbury,Lorin Thomas Cutts Grit...</td>\n",
       "      <td>Ok!</td>\n",
       "      <td>2019-03-17 00:00:00</td>\n",
       "      <td>46.0</td>\n",
       "      <td>2</td>\n",
       "      <td>2018-07-30 00:00:00</td>\n",
       "      <td>2018-05-07</td>\n",
       "      <td>2018-11-04 23:00:00</td>\n",
       "      <td>0</td>\n",
       "    </tr>\n",
       "    <tr>\n",
       "      <th>51691</th>\n",
       "      <td>Music</td>\n",
       "      <td>UC-N94lq6ncA1oR80sACQ5ZA</td>\n",
       "      <td>2019-11-07 21:44:19.111902</td>\n",
       "      <td>Provided to YouTube by AdRev\\n\\nLady Ponce - S...</td>\n",
       "      <td>0.0</td>\n",
       "      <td>BDtkyExv3xk</td>\n",
       "      <td>254</td>\n",
       "      <td>0.0</td>\n",
       "      <td>Various,Artists,Bikutsi,2018,Lady,Ponce,Samedi...</td>\n",
       "      <td>Lady Ponce - Samedi Soir</td>\n",
       "      <td>2019-03-13 00:00:00</td>\n",
       "      <td>12.0</td>\n",
       "      <td>8</td>\n",
       "      <td>2018-07-30 00:00:00</td>\n",
       "      <td>2018-05-07</td>\n",
       "      <td>2018-11-04 23:00:00</td>\n",
       "      <td>0</td>\n",
       "    </tr>\n",
       "    <tr>\n",
       "      <th>40326</th>\n",
       "      <td>Gaming</td>\n",
       "      <td>UCuXIMEy1DMJnUKXpTOkApOw</td>\n",
       "      <td>2019-11-12 23:28:07.954505</td>\n",
       "      <td>Link to Stream: https://www.twitch.tv/vodgobli...</td>\n",
       "      <td>0.0</td>\n",
       "      <td>9kGbvyGQbf0</td>\n",
       "      <td>561</td>\n",
       "      <td>164.0</td>\n",
       "      <td>let's play,LP,playthrough,walkthrough,guide,tu...</td>\n",
       "      <td>TWIN TUSKS | Monster Hunter Generations | Vodg...</td>\n",
       "      <td>2016-07-27 00:00:00</td>\n",
       "      <td>5608.0</td>\n",
       "      <td>22</td>\n",
       "      <td>2018-07-30 00:00:00</td>\n",
       "      <td>2018-05-07</td>\n",
       "      <td>2018-11-04 23:00:00</td>\n",
       "      <td>1</td>\n",
       "    </tr>\n",
       "    <tr>\n",
       "      <th>12910</th>\n",
       "      <td>Gaming</td>\n",
       "      <td>UC_-brtpnHKT5AVvWP2UR-4g</td>\n",
       "      <td>2019-11-17 23:49:13.189159</td>\n",
       "      <td>Not that anyone should be shocked at this poin...</td>\n",
       "      <td>9.0</td>\n",
       "      <td>cW-1YRwxSZQ</td>\n",
       "      <td>573</td>\n",
       "      <td>151.0</td>\n",
       "      <td>gamestop,gamestop rant,gamestop stories,gamest...</td>\n",
       "      <td>GameStop One Foot In The Grave!</td>\n",
       "      <td>2019-06-05 00:00:00</td>\n",
       "      <td>2346.0</td>\n",
       "      <td>24</td>\n",
       "      <td>2016-10-30 23:00:00</td>\n",
       "      <td>2016-08-08</td>\n",
       "      <td>2017-02-05 23:00:00</td>\n",
       "      <td>0</td>\n",
       "    </tr>\n",
       "  </tbody>\n",
       "</table>\n",
       "</div>"
      ],
      "text/plain": [
       "      categories                channel_id                  crawl_date  \\\n",
       "62826      Music  UC-N94lq6ncA1oR80sACQ5ZA  2019-11-07 21:46:16.940939   \n",
       "56875      Music  UC-N94lq6ncA1oR80sACQ5ZA  2019-11-07 21:44:34.432093   \n",
       "51691      Music  UC-N94lq6ncA1oR80sACQ5ZA  2019-11-07 21:44:19.111902   \n",
       "40326     Gaming  UCuXIMEy1DMJnUKXpTOkApOw  2019-11-12 23:28:07.954505   \n",
       "12910     Gaming  UC_-brtpnHKT5AVvWP2UR-4g  2019-11-17 23:49:13.189159   \n",
       "\n",
       "                                             description  dislike_count  \\\n",
       "62826  Provided to YouTube by Bookwire\\n\\nKapitel 663...            0.0   \n",
       "56875  Provided to YouTube by Believe SAS\\n\\nOk! · Pe...            0.0   \n",
       "51691  Provided to YouTube by AdRev\\n\\nLady Ponce - S...            0.0   \n",
       "40326  Link to Stream: https://www.twitch.tv/vodgobli...            0.0   \n",
       "12910  Not that anyone should be shocked at this poin...            9.0   \n",
       "\n",
       "        display_id  duration  like_count  \\\n",
       "62826  Ct2FjMBP1_E       126         0.0   \n",
       "56875  gOiZZIRffpA       181         1.0   \n",
       "51691  BDtkyExv3xk       254         0.0   \n",
       "40326  9kGbvyGQbf0       561       164.0   \n",
       "12910  cW-1YRwxSZQ       573       151.0   \n",
       "\n",
       "                                                    tags  \\\n",
       "62826  Gustav Schwab & Jürgen Fritsche,Gustav Schwab:...   \n",
       "56875  Peter Charles Bradbury,Lorin Thomas Cutts Grit...   \n",
       "51691  Various,Artists,Bikutsi,2018,Lady,Ponce,Samedi...   \n",
       "40326  let's play,LP,playthrough,walkthrough,guide,tu...   \n",
       "12910  gamestop,gamestop rant,gamestop stories,gamest...   \n",
       "\n",
       "                                                   title          upload_date  \\\n",
       "62826  Kapitel 663 - Gustav Schwab: Sagen des klassis...  2018-11-09 00:00:00   \n",
       "56875                                                Ok!  2019-03-17 00:00:00   \n",
       "51691                           Lady Ponce - Samedi Soir  2019-03-13 00:00:00   \n",
       "40326  TWIN TUSKS | Monster Hunter Generations | Vodg...  2016-07-27 00:00:00   \n",
       "12910                    GameStop One Foot In The Grave!  2019-06-05 00:00:00   \n",
       "\n",
       "       view_count  num_tags     max_growth_date   min_date  \\\n",
       "62826         0.0         3 2018-07-30 00:00:00 2018-05-07   \n",
       "56875        46.0         2 2018-07-30 00:00:00 2018-05-07   \n",
       "51691        12.0         8 2018-07-30 00:00:00 2018-05-07   \n",
       "40326      5608.0        22 2018-07-30 00:00:00 2018-05-07   \n",
       "12910      2346.0        24 2016-10-30 23:00:00 2016-08-08   \n",
       "\n",
       "                 max_date  before_fame  \n",
       "62826 2018-11-04 23:00:00            0  \n",
       "56875 2018-11-04 23:00:00            0  \n",
       "51691 2018-11-04 23:00:00            0  \n",
       "40326 2018-11-04 23:00:00            1  \n",
       "12910 2017-02-05 23:00:00            0  "
      ]
     },
     "metadata": {},
     "output_type": "display_data"
    },
    {
     "data": {
      "text/plain": [
       "(163, 16)"
      ]
     },
     "execution_count": 50,
     "metadata": {},
     "output_type": "execute_result"
    }
   ],
   "source": [
    "keep_fame_metavideos['before_fame'] = np.where(keep_fame_metavideos[\"upload_date\"] > keep_fame_metavideos[\"max_growth_date\"], 0, 1)\n",
    "lose_fame_metavideos['before_fame'] = np.where(lose_fame_metavideos[\"upload_date\"] > lose_fame_metavideos[\"max_growth_date\"], 0, 1)\n",
    "display(keep_fame_metavideos.sample(5))\n",
    "keep_fame_metavideos.groupby(\"channel_id\").count().shape"
   ]
  },
  {
   "cell_type": "code",
   "execution_count": 51,
   "metadata": {},
   "outputs": [],
   "source": [
    "contingency_table_lose = {}\n",
    "results_lose = {}\n",
    "for channel in lose_fame_metavideos['channel_id'].unique():\n",
    "    \n",
    "    if channel in contingency_table_lose:\n",
    "        continue\n",
    "    else:\n",
    "        df_of_channel = lose_fame_metavideos[lose_fame_metavideos[\"channel_id\"] == f\"{channel}\"]\n",
    "        \n",
    "        contingency_table_lose[f\"{channel}\"] = pd.crosstab(df_of_channel[\"before_fame\"], df_of_channel[\"categories\"])\n",
    "        chi2, p, dof, expected = scs.chi2_contingency(contingency_table_lose[f\"{channel}\"])\n",
    "        results_lose[f\"{channel}\"] = [chi2, p, dof, expected]"
   ]
  },
  {
   "cell_type": "code",
   "execution_count": 52,
   "metadata": {},
   "outputs": [
    {
     "name": "stdout",
     "output_type": "stream",
     "text": [
      "UCphO96ypf0z0ynM5r5rDF6w: chi-stat 9.04779411764706 -- p-value 0.010846671081649481\n",
      "UCpci_E3rz6pTveUgZMF6Jjg: chi-stat 251.2441839431392 -- p-value 2.7734392127288478e-55\n",
      "UCytLmyg_OJXmNkHEMS0w2Cw: chi-stat 103.90337409506981 -- p-value 1.4506037339594293e-21\n",
      "UCmHr3gIlwwgdj_kVTcW-yqw: chi-stat 17.529384703852784 -- p-value 0.00015615017524861662\n",
      "UCmBMoU5ZDb44zwp47g3AInA: chi-stat 95.62818646795733 -- p-value 1.305219005738976e-15\n",
      "UCl_Ksy6Yi1b4eEZ46FInb_w: chi-stat 101.55612027836764 -- p-value 2.0518552022786443e-18\n",
      "UCj-J4HHrtX3gT9ZEWqAf2Dw: chi-stat 299.6415502796173 -- p-value 1.1894531885294357e-64\n",
      "UCiTtO9FDqPGRqDMuSC74AQA: chi-stat 717.6894077690513 -- p-value 1.4312821093447912e-156\n",
      "UCiIfXQzQUTQtHSgb4ce247g: chi-stat 748.4816717466243 -- p-value 8.581066057461583e-165\n",
      "UCh8g7gphDveEEF9aFMaI7ig: chi-stat 57.01551743527193 -- p-value 5.019851114231217e-11\n",
      "UCgvVxB6GKYpyZY1Hh9u-uSQ: chi-stat 24.270289097875303 -- p-value 2.1935687880202468e-05\n",
      "UCfZtRrsy5LSboUqhImk0Zuw: chi-stat 64.20042440318302 -- p-value 3.7921521237764526e-13\n",
      "UCfQkASkyBNh2qs_vGpfQAPg: chi-stat 17.526692275449445 -- p-value 0.0005506268014114453\n",
      "UCeLh8W_7_Y8xxIlCA3iT8gw: chi-stat 267.63948083837585 -- p-value 7.635283483575694e-59\n",
      "UCcw3zQLvihcC4IMyJibKJqA: chi-stat 116.01819621863274 -- p-value 4.7095552474809726e-27\n",
      "UCcfmmmPaCAQLqa2k-Y-CKkA: chi-stat 56.40634920634921 -- p-value 1.647961125661494e-11\n",
      "UCcEWKT3bmBENciUiAKDjIOQ: chi-stat 75.14124293785311 -- p-value 4.8226574387462816e-17\n",
      "UCbfwp6-FuLqJflaLIuzzaFg: chi-stat 9.496466417524406 -- p-value 0.049819905338966505\n",
      "UCaOI6eIy2scNgiaNwxWiaYg: chi-stat 47.30840590947686 -- p-value 6.065156103550415e-12\n",
      "UCa1yUHQmV6Z0PpAUtfgNd9g: chi-stat 23.595435326908543 -- p-value 0.00025962660572354364\n",
      "UC_Fpcn-ioqF3lKXV0xPSmWw: chi-stat 201.0 -- p-value 2.565000359068108e-43\n",
      "UCZrFKnfy5VMd3bp98e_TEuA: chi-stat 33.3733405288721 -- p-value 0.0004576374221375766\n",
      "UCWKeZvw4iSZVM2qXKZde58A: chi-stat 144.9367741935484 -- p-value 2.474456805026227e-30\n",
      "UCVQ9S8LoggEepxMYDiRpeeg: chi-stat 25.24242424242424 -- p-value 3.301240928583352e-06\n",
      "UCTiMHUxl_43kP2X4y4JFgdg: chi-stat 25.56057098765432 -- p-value 1.1787129460425228e-05\n",
      "UCSY73HESo_bPc8RQblsVBHw: chi-stat 9.936575052854122 -- p-value 0.0191130364265256\n",
      "UCSOBYYIIC4aK7xlxv1vcWcg: chi-stat 26.914285714285715 -- p-value 1.430991700577671e-06\n",
      "UCRO67vJS0M0pXZC-_xhsqSw: chi-stat 255.51320377137583 -- p-value 1.6314087414739522e-57\n",
      "UCPguA0rB8zltTMt_8imP61A: chi-stat 22.61421734234234 -- p-value 1.9801386697995507e-06\n",
      "UCPRPRda5cTEGwoQM_LAV6sg: chi-stat 13.924394741061406 -- p-value 0.007540307184099272\n",
      "UCNx5Z_y5YxCtgQX79JEe52g: chi-stat 17.498485152752036 -- p-value 2.8753669572175866e-05\n",
      "UCKCWzpfMtsofk8bm80WzwmA: chi-stat 9.924324324324324 -- p-value 0.006997781126098492\n",
      "UCK8Ln_JXeoRuhH4KVr8yxOQ: chi-stat 136.9318572138244 -- p-value 1.7336239390392318e-29\n",
      "UCzmRLWx1fzaBy0D7kCfOn4w: chi-stat 128.7878205523233 -- p-value 7.546988278149285e-30\n",
      "UCzageIVSvgSN0VbardY4-jA: chi-stat 6.652725563909776 -- p-value 0.009900426394691405\n",
      "UCIrTFKMVjT82cz85Nekg-OQ: chi-stat 250.88137312720278 -- p-value 1.1204519121472163e-49\n",
      "UCIr5p9znjWkmlUebyBvqZmQ: chi-stat 88.03329563936998 -- p-value 3.444973551616586e-18\n",
      "UCIiv_z0dS13ZHQbu2TpuhZg: chi-stat 43.169811320754725 -- p-value 9.541416634084806e-09\n",
      "UCHqg6JUfdKKp49t8MizaDqw: chi-stat 12.972582972582973 -- p-value 0.01141053828016654\n",
      "UCH2v-Hc-NSbHmtPsH5AC_NA: chi-stat 67.44730679156908 -- p-value 1.375735231776954e-10\n",
      "UCEb3AiZu3aI9ab3vSHA9UWA: chi-stat 36.90363986103834 -- p-value 6.261869259923617e-07\n",
      "UCD8GawxPXpJnql466KekVXA: chi-stat 496.9098095722585 -- p-value 6.633302903357447e-98\n",
      "UCCSVLu7cnoSqzqH9tMxYFag: chi-stat 11.000000000000002 -- p-value 0.004086771438464062\n",
      "UCBCrq2Nm6qVojyL8l73wyhg: chi-stat 14.08695652173913 -- p-value 0.000873084459200987\n",
      "UC9sEGojKw0yOs8os6WfXUSg: chi-stat 40.132314744079444 -- p-value 4.0640954988272004e-08\n",
      "UC9IPOPZ96KaBo_3t_vJQCcA: chi-stat 27.090956407563027 -- p-value 1.905467585436105e-05\n",
      "UC9GcZThA6s1i7Ajl4j1qsPg: chi-stat 33.17827868852459 -- p-value 2.953512439243435e-07\n",
      "UC7ZnsXSgNrYiyumvY5ZCzxA: chi-stat 72.25291353383459 -- p-value 1.4051982076823416e-15\n",
      "UC6vvD9LkAvhQzItm1kCtCfg: chi-stat 14.936741817349505 -- p-value 0.010636077731576408\n",
      "UC6l9t3MXZdO-EuYySY69lPQ: chi-stat 11.484375 -- p-value 0.0032077436556835082\n",
      "UCuWzQ0z5EFdMjrtvmlOmawQ: chi-stat 37.00454378429062 -- p-value 4.681374540238578e-06\n",
      "UCuGzr7zMBxGcvBCNhl409sg: chi-stat 17.39181818181818 -- p-value 0.00016726869425052557\n",
      "UC6OZKAoI9lQMYCfK6I6rkxg: chi-stat 3.9375 -- p-value 0.04722090400357733\n",
      "UC6JmzBg0e91_OAiPeEnRf0w: chi-stat 11.551190476190477 -- p-value 0.009089931126476653\n",
      "UC58oMWCDv9UsCjl4TJWReGw: chi-stat 76.00474383301707 -- p-value 2.2067102487484676e-16\n",
      "UC4H3CiJmqWGZh8TjHOoPVgA: chi-stat 20.050680272108842 -- p-value 4.4263943178961324e-05\n",
      "UCtqRlgWtFIKzj3Z0SPjlzKg: chi-stat 28.702354260089688 -- p-value 8.98472205128732e-06\n",
      "UC1vTH0ByVIcIOB83FbvHP7Q: chi-stat 44.551692493380564 -- p-value 1.1522171349697253e-09\n",
      "UC1TBvaAmpKfSBpwquEakSMw: chi-stat 14.620528198653199 -- p-value 0.0001314745670350825\n",
      "UC0cCVk1o3EYgRq62nrmrmTQ: chi-stat 19.186794354838707 -- p-value 1.185305402518326e-05\n",
      "UC0Nib28yKrp10wLd87eia4Q: chi-stat 211.72961289864338 -- p-value 5.761299987977811e-48\n",
      "UC0Ka4jKos2O1Svxa6W_Q3Sw: chi-stat 26.320283366578252 -- p-value 0.00019403892417850854\n",
      "UC-aN2hjb8rrrpK74Il7ktew: chi-stat 256.9992373932165 -- p-value 7.737935086806442e-58\n",
      "UC-1qy7V-dMBaC-5xfrF-Akw: chi-stat 15.176529411764706 -- p-value 0.004348744902918172\n",
      "UCstTfKAdrk7W8TsPiIrKrVw: chi-stat 21.0 -- p-value 0.0003166691675220923\n"
     ]
    }
   ],
   "source": [
    "count_lose = 0\n",
    "for key in results_lose:\n",
    "    if results_lose[key][1] < 0.05:\n",
    "        count_lose += 1\n",
    "        print(f\"{key}: chi-stat {results_lose[key][0]} -- p-value {results_lose[key][1]}\")"
   ]
  },
  {
   "cell_type": "code",
   "execution_count": 53,
   "metadata": {},
   "outputs": [],
   "source": [
    "contingency_table_keep = {}\n",
    "results_keep = {}\n",
    "\n",
    "for channel in keep_fame_metavideos['channel_id'].unique():\n",
    "    if channel in contingency_table_keep:\n",
    "        continue\n",
    "    else:\n",
    "        df_of_channel = keep_fame_metavideos[keep_fame_metavideos[\"channel_id\"] == f\"{channel}\"]\n",
    "        \n",
    "        contingency_table_keep[f\"{channel}\"] = pd.crosstab(df_of_channel[\"before_fame\"], df_of_channel[\"categories\"])\n",
    "        chi2, p, dof, expected = scs.chi2_contingency(contingency_table_keep[f\"{channel}\"])\n",
    "        results_keep[f\"{channel}\"] = [chi2, p, dof, expected]\n"
   ]
  },
  {
   "cell_type": "code",
   "execution_count": 54,
   "metadata": {},
   "outputs": [
    {
     "name": "stdout",
     "output_type": "stream",
     "text": [
      "UCzVnXCLWqY5dtOBn9UZoFTw: chi-stat 52.67738831145983 -- p-value 3.930907933725064e-13\n",
      "UCriQ6gvKEE0luxwCZ9VgA4A: chi-stat 34.57172096908939 -- p-value 3.110614388982518e-08\n",
      "UCr-8JBJmj2eYXpGIgFzST1A: chi-stat 60.39669421487603 -- p-value 7.674047599313374e-14\n",
      "UCqPS1mSh7_Wf4OIVuFA9Agw: chi-stat 48.80782749121307 -- p-value 2.520663794437544e-11\n",
      "UCpX06BSn9ldkpoj-VBKSm3A: chi-stat 49.875 -- p-value 1.4783639290016492e-11\n",
      "UCoinFia6rV2-KBdtfJYS5Yg: chi-stat 39.8633256772011 -- p-value 1.1390087221181828e-08\n",
      "UClrXUuaH3E5vBSgZUWaTIhQ: chi-stat 45.520489708527734 -- p-value 7.171982565151192e-10\n",
      "UClezEBZnheBeUM1OeYoBJyg: chi-stat 35.45323236955509 -- p-value 2.612484829443535e-09\n",
      "UCidb8TVEeuYU5hIbKihD96A: chi-stat 6.441375830279433 -- p-value 0.011149226279644412\n",
      "UCf0zY-GQ8N6MmLLqAvosnnQ: chi-stat 20.24691358024691 -- p-value 4.0127174287832265e-05\n",
      "UCekZMO1ElC_qGzNGMRbNV_w: chi-stat 164.68000749451207 -- p-value 1.4489194699487956e-34\n",
      "UCbmdXB3-xXt2bhe-Jz79qnw: chi-stat 198.49972908503278 -- p-value 8.898629127132764e-43\n",
      "UCXdapW5go7Jof99qzXcHFxw: chi-stat 19.927536231884055 -- p-value 0.0012894692148190709\n",
      "UCW3G6Ts0-vJMDKB1IRsqwow: chi-stat 675.1198560674352 -- p-value 5.210246940448945e-146\n",
      "UCW-WR8nzuoEukAyQuZJuQFw: chi-stat 25.952954351587906 -- p-value 3.234337138740408e-05\n",
      "UCVtFOytbRpEvzLjvqGG5gxQ: chi-stat 237.94890379912925 -- p-value 1.0145057342022181e-47\n",
      "UCVX0WB6g0ezHy3ofJ0f6Ezg: chi-stat 12.540451828318721 -- p-value 0.0018918011502636403\n",
      "UCU6GCD_vR9cUm6x9ekCcZyg: chi-stat 11.718642117376296 -- p-value 0.01957087880449732\n",
      "UCU4gY1tgcAI2CwrKr5FSRXg: chi-stat 20.52673328432131 -- p-value 5.880421137593882e-06\n",
      "UCTnT-ACP3fUsDA2-eX2KUjw: chi-stat 32.785080696904316 -- p-value 0.0002959849682511737\n",
      "UCT-6ZeMTBM0Jo0TaHBtjjXw: chi-stat 22.600704419658292 -- p-value 0.00015213773244320003\n",
      "UCSmIILKUIOgHKl2cIz_9UOQ: chi-stat 5.9554687500000005 -- p-value 0.014671701298479847\n",
      "UCwUq6OGAzHXq-b0Jkpakqqg: chi-stat 7.222222222222223 -- p-value 0.02702180595120904\n",
      "UCQcWGfO5m8-y2oOueXXFRXg: chi-stat 19.295839580209893 -- p-value 1.1195001969274577e-05\n",
      "UCOksmW-vYh_TrBDHOc5Bj8Q: chi-stat 77.03761662382351 -- p-value 3.49274666014976e-15\n",
      "UCMfXktX6B6AzmgVk0LIJ45Q: chi-stat 6.199728260869565 -- p-value 0.012776992780643589\n",
      "UCL3IRp9f41q4hu15T3oPFqg: chi-stat 11.11454081632653 -- p-value 0.011122362517673333\n",
      "UCKu5Ci9goCCmDH8_ODU5Bvg: chi-stat 118.15312772867148 -- p-value 1.198729183854395e-20\n",
      "UCKNB4IsrUR_J22PEv8BnCFg: chi-stat 50.5731610868806 -- p-value 6.031479335894182e-11\n",
      "UCzhNY8xmBxZLY2n8vNUYtTA: chi-stat 67.03589743589744 -- p-value 2.775491023530957e-15\n",
      "UCJWjiXxsH7Nb2354JHI4q0Q: chi-stat 27.34548371726667 -- p-value 0.0002887711622126066\n",
      "UCJITruy6Kd48hC_GiuJWA7w: chi-stat 19.019354838709678 -- p-value 0.0019062461344549568\n",
      "UCIBXSVlwZSaFiEsp-8qiswg: chi-stat 459.5483974396201 -- p-value 1.9183170510687668e-92\n",
      "UCHCluqP6DvoCbXqmFpGqg5Q: chi-stat 14.038117726429416 -- p-value 0.00017914216035191333\n",
      "UCFs9b_YD0JNvBHYdJFA-Q1A: chi-stat 38.966390676502904 -- p-value 3.4558570895897376e-09\n",
      "UCEFTUQjA7OWPtwXh33ET3wQ: chi-stat 18.411240890486173 -- p-value 0.0010253904083991705\n",
      "UCE7LlFNrTLKhlI5eSvqsUiQ: chi-stat 27.57575757575758 -- p-value 4.45835024146738e-06\n",
      "UCChQCxJk6n9McFi7Ng3-bXA: chi-stat 8.4 -- p-value 0.03842931885788852\n",
      "UCCdvI78IrhLpkYwPRKDpleA: chi-stat 17.929570981515468 -- p-value 0.0001278330437997694\n",
      "UCC_6o7JZ8jPHnPDFf7pu9Rw: chi-stat 15.34014694570125 -- p-value 0.004045313583607771\n",
      "UCC3bKrYopKcAlr-koOkWlaQ: chi-stat 25.46468476687172 -- p-value 0.00011330230524857158\n",
      "UCBljts0WDvTSPfc62Ylde5Q: chi-stat 21.491132250911946 -- p-value 3.554686732046233e-06\n",
      "UCustbzJP9SMI1XZtOMIOZWA: chi-stat 54.70997784888678 -- p-value 5.026571738024392e-09\n",
      "UC9UvlWIaTvoHMt-8hth_YCA: chi-stat 7.049138804457955 -- p-value 0.007930336987744785\n",
      "UC6nL_PwNtiMrhz0vOdo70FA: chi-stat 59.47552852236352 -- p-value 1.2382434826457922e-14\n",
      "UC6hld3om8u8ya_RTbA00iBg: chi-stat 135.21990951836165 -- p-value 9.988259366380501e-25\n",
      "UC6fcOWrCWvW5PeNUSGWcthQ: chi-stat 102.33257848359959 -- p-value 3.5560069001582424e-19\n",
      "UC5_HIscbiDZM0dMX-nCksuA: chi-stat 8.792556980056979 -- p-value 0.003024620112162265\n",
      "UC5VsO8l6_l8fvc27uvv74bg: chi-stat 46.91497082228116 -- p-value 1.9456403809533795e-08\n",
      "UC59rIGGDu6dvPD9rtJtXquQ: chi-stat 46.18481637094465 -- p-value 2.1922222321330607e-07\n",
      "UCtuKyOfEjRzhzDfBIrFx6gw: chi-stat 11.289403192971179 -- p-value 0.003536203459235223\n",
      "UCtpy51Y9Nj0375SC9HpE62Q: chi-stat 12.560987903225804 -- p-value 0.01363254621363015\n",
      "UC1xnncYc7586km_rIYQLtLQ: chi-stat 241.8985912370627 -- p-value 1.4666120728730868e-48\n",
      "UC0EsU0p7ou0t4fHYRCLn6ew: chi-stat 4.070420168067227 -- p-value 0.04364041784117565\n",
      "UC0EUyJBJ1Ms90_XCqU01Ocw: chi-stat 9.3303324099723 -- p-value 0.009417682827581483\n",
      "UC-oJf3N-3s_yYRhQK-V9u7Q: chi-stat 20.536065516641695 -- p-value 0.0045210488144231805\n",
      "UCtB3YR27CRh9VV5pyD9D1nw: chi-stat 82.66524745664529 -- p-value 1.0046903864573735e-15\n",
      "UCswNqsexgXyEon17FxYv-7A: chi-stat 13.608273237179487 -- p-value 0.0011091774009822418\n",
      "UCsvyZhKxbBWf_sUHgO2_4rw: chi-stat 47.9237948265726 -- p-value 2.2104975827422558e-10\n",
      "UCsgkhimI0MthrMZo-F2zrTQ: chi-stat 165.47728096115898 -- p-value 9.772167554783095e-35\n"
     ]
    }
   ],
   "source": [
    "count_keep = 0\n",
    "for key in results_keep:\n",
    "    if results_keep[key][1] < 0.05:\n",
    "        count_keep += 1\n",
    "        print(f\"{key}: chi-stat {results_keep[key][0]} -- p-value {results_keep[key][1]}\")"
   ]
  },
  {
   "cell_type": "code",
   "execution_count": 55,
   "metadata": {},
   "outputs": [
    {
     "name": "stdout",
     "output_type": "stream",
     "text": [
      "Number of \"lose\" videos that significantly changed their distribution over categories: 65\n",
      "Number of \"keep\" videos that significantly changed their distribution over categories: 60\n"
     ]
    }
   ],
   "source": [
    "print(f\"Number of \\\"lose\\\" videos that significantly changed their distribution over categories: {count_lose}\")\n",
    "print(f\"Number of \\\"keep\\\" videos that significantly changed their distribution over categories: {count_keep}\")"
   ]
  },
  {
   "attachments": {},
   "cell_type": "markdown",
   "metadata": {},
   "source": [
    "## Analysis within categories\n",
    "By looking at the two populations as they are, we didn't find any significant difference between the two groups. However, we wanted to see if there was any difference between the two groups within each category. To do so, we repeat each of the tests above within the most relevant channel categories present in the two populations."
   ]
  },
  {
   "cell_type": "code",
   "execution_count": 56,
   "metadata": {},
   "outputs": [],
   "source": [
    "categories_to_analyse = [\"Entertainment\", \"Gaming\", \"Music\", \"Howto & Style\"]"
   ]
  },
  {
   "cell_type": "code",
   "execution_count": 57,
   "metadata": {},
   "outputs": [
    {
     "name": "stdout",
     "output_type": "stream",
     "text": [
      "Category: Entertainment\n",
      "check shapes:   Lose After (23, 17)         Keep After (23, 17)         Lose before (23, 17)         Keep before (23, 17)\n",
      "Category: Gaming\n",
      "check shapes:   Lose After (14, 17)         Keep After (15, 17)         Lose before (14, 17)         Keep before (15, 17)\n",
      "Category: Music\n",
      "check shapes:   Lose After (15, 17)         Keep After (4, 17)         Lose before (15, 17)         Keep before (4, 17)\n",
      "Category: Howto & Style\n",
      "check shapes:   Lose After (9, 17)         Keep After (10, 17)         Lose before (9, 17)         Keep before (10, 17)\n"
     ]
    }
   ],
   "source": [
    "result = {}\n",
    "\n",
    "for i in categories_to_analyse:\n",
    "    dict_category = {}\n",
    "\n",
    "    print(f\"Category: {i}\")\n",
    "    \n",
    "    # filter channels by category\n",
    "    K_channels = keep_fame_channels[keep_fame_channels[\"category_cc\"] == i]\n",
    "    L_channels = lose_fame_channels[lose_fame_channels[\"category_cc\"] == i]\n",
    "\n",
    "    # filter by channel\n",
    "    L_A_metavideos = lose_metavideos_after_sudden_growth[lose_metavideos_after_sudden_growth[\"channel_id\"].isin(L_channels[\"channel\"])]\n",
    "    K_A_metavideos = keep_metavideos_after_sudden_growth[keep_metavideos_after_sudden_growth[\"channel_id\"].isin(K_channels[\"channel\"])]\n",
    "    L_B_metavideos = lose_metavideos_before_sudden_growth[lose_metavideos_before_sudden_growth[\"channel_id\"].isin(L_channels[\"channel\"])]\n",
    "    K_B_metavideos = keep_metavideos_before_sudden_growth[keep_metavideos_before_sudden_growth[\"channel_id\"].isin(K_channels[\"channel\"])]\n",
    "\n",
    "    print(f\"check shapes:   Lose After {L_A_metavideos.groupby('channel_id').count().shape} \\\n",
    "        Keep After {K_A_metavideos.groupby('channel_id').count().shape} \\\n",
    "        Lose before {L_B_metavideos.groupby('channel_id').count().shape} \\\n",
    "        Keep before {K_B_metavideos.groupby('channel_id').count().shape}\")\n",
    "\n",
    "    # filter time series dataframes\n",
    "    L_ts = lose_fame_ts[lose_fame_ts[\"channel\"].isin(L_A_metavideos[\"channel_id\"])]\n",
    "    K_ts = keep_fame_ts[keep_fame_ts[\"channel\"].isin(K_A_metavideos[\"channel_id\"])]\n",
    "\n",
    "    # frequency of publication\n",
    "    L_A_num_metavideos = L_A_metavideos.groupby(\"channel_id\").count()['duration']\n",
    "    K_A_num_metavideos = K_A_metavideos.groupby(\"channel_id\").count()['duration']\n",
    "    L_B_num_metavideos = L_B_metavideos.groupby(\"channel_id\").count()['duration']\n",
    "    K_B_num_metavideos = K_B_metavideos.groupby(\"channel_id\").count()['duration']\n",
    "   \n",
    "    L_A_time = (L_ts.groupby(\"channel\")['datetime'].max() - L_ts.groupby(\"channel\")['max_growth_date'].mean()).dt.days\n",
    "    K_A_time = (K_ts.groupby(\"channel\")['datetime'].max() - K_ts.groupby(\"channel\")['max_growth_date'].mean()).dt.days\n",
    "    L_B_time = (L_ts.groupby(\"channel\")['max_growth_date'].mean() - L_ts.groupby(\"channel\")['datetime'].min()).dt.days\n",
    "    K_B_time = (K_ts.groupby(\"channel\")['max_growth_date'].mean() - K_ts.groupby(\"channel\")['datetime'].min()).dt.days\n",
    "    \n",
    "    L_A_freq = L_A_num_metavideos / L_A_time\n",
    "    K_A_freq = K_A_num_metavideos / K_A_time\n",
    "    L_B_freq = L_B_num_metavideos / L_B_time\n",
    "    K_B_freq = K_B_num_metavideos / K_B_time\n",
    "\n",
    "    dict_category[\"freq_of_publication\"] = {'L_A_freq': L_A_freq, 'K_A_freq': K_A_freq, 'L_B_freq': L_B_freq, 'K_B_freq': K_B_freq}\n",
    "\n",
    "    # duration of videos\n",
    "    L_A_duration = L_A_metavideos.groupby(\"channel_id\").mean()['duration']\n",
    "    K_A_duration = K_A_metavideos.groupby(\"channel_id\").mean()['duration']\n",
    "    L_B_duration = L_B_metavideos.groupby(\"channel_id\").mean()['duration']\n",
    "    K_B_duration = K_B_metavideos.groupby(\"channel_id\").mean()['duration']\n",
    "\n",
    "    dict_category[\"duration_of_videos\"] = {'L_A_duration': L_A_duration, 'K_A_duration': K_A_duration, 'L_B_duration': L_B_duration, 'K_B_duration': K_B_duration}\n",
    "\n",
    "    # number of tags\n",
    "    L_A_num_tags = L_A_metavideos.groupby(\"channel_id\").mean()['num_tags']\n",
    "    K_A_num_tags = K_A_metavideos.groupby(\"channel_id\").mean()['num_tags']\n",
    "    L_B_num_tags = L_B_metavideos.groupby(\"channel_id\").mean()['num_tags']\n",
    "    K_B_num_tags = K_B_metavideos.groupby(\"channel_id\").mean()['num_tags']\n",
    "\n",
    "    dict_category[\"num_of_tags\"] = {'L_A_num_tags': L_A_num_tags, 'K_A_num_tags': K_A_num_tags, 'L_B_num_tags': L_B_num_tags, 'K_B_num_tags': K_B_num_tags}\n",
    "\n",
    "    result[i] = dict_category"
   ]
  },
  {
   "attachments": {},
   "cell_type": "markdown",
   "metadata": {},
   "source": [
    "Statistical tests"
   ]
  },
  {
   "cell_type": "code",
   "execution_count": 58,
   "metadata": {},
   "outputs": [
    {
     "name": "stdout",
     "output_type": "stream",
     "text": [
      "Category: Entertainment\n",
      "\n",
      "Frequency of publication tests\n",
      "    Keep videos: t-stat -0.8258840344271506 -- p-value 0.4177365892854782\n",
      "    Lose videos: t-stat 1.325303230545698 -- p-value 0.19867035324961932\n",
      "    After videos: t-stat -0.46816460955560535 -- p-value 0.6419777889642295\n",
      "    Before videos: t-stat 0.975022078144864 -- p-value 0.3348795655224793\n",
      "\n",
      "Duration of videos tests\n",
      "    Keep videos: t-stat -0.6796268526959662 -- p-value 0.5038296486075295\n",
      "    Lose videos: t-stat 0.5812617075012954 -- p-value 0.5669722944525799\n",
      "    After videos: t-stat 1.4005010062726744 -- p-value 0.1683761815916034\n",
      "    Before videos: t-stat 1.3888117315319988 -- p-value 0.17188025341433374\n",
      "\n",
      "Number of tags tests\n",
      "    Keep videos: t-stat -1.0967659489055823 -- p-value 0.28460426430501923\n",
      "    Lose videos: t-stat -0.3456940193769969 -- p-value 0.732856485117602\n",
      "    After videos: t-stat 0.9964092613902811 -- p-value 0.3244997099300092\n",
      "    Before videos: t-stat 1.509498263120144 -- p-value 0.13831974947677259\n",
      "\n",
      "--------------------------------------------------------------------------------------------------\n",
      "\n",
      "Category: Gaming\n",
      "\n",
      "Frequency of publication tests\n",
      "    Keep videos: t-stat -2.156584965237651 -- p-value 0.04891313391565136\n",
      "    Lose videos: t-stat 1.8409801332622673 -- p-value 0.08855446359189025\n",
      "    After videos: t-stat -0.9661221565866932 -- p-value 0.3425576337097803\n",
      "    Before videos: t-stat 0.8500539368246455 -- p-value 0.40277035170013686\n",
      "\n",
      "Duration of videos tests\n",
      "    Keep videos: t-stat 0.7822204967764302 -- p-value 0.447113903968952\n",
      "    Lose videos: t-stat -1.5004826051867666 -- p-value 0.15738076464638523\n",
      "    After videos: t-stat 1.1951414373907878 -- p-value 0.24242425468491574\n",
      "    Before videos: t-stat -0.06326570289794473 -- p-value 0.9500209814182142\n",
      "\n",
      "Number of tags tests\n",
      "    Keep videos: t-stat 1.2165279201950483 -- p-value 0.24389642569067815\n",
      "    Lose videos: t-stat -0.09573154944201481 -- p-value 0.9251937723447976\n",
      "    After videos: t-stat 1.3241192495593384 -- p-value 0.19656430584568985\n",
      "    Before videos: t-stat 0.7186212598287212 -- p-value 0.47854764510370573\n",
      "\n",
      "--------------------------------------------------------------------------------------------------\n",
      "\n",
      "Category: Music\n",
      "\n",
      "Frequency of publication tests\n",
      "    Keep videos: t-stat 0.7695845055670784 -- p-value 0.4975895227967532\n",
      "    Lose videos: t-stat -0.6324779531865158 -- p-value 0.5372681453832269\n",
      "    After videos: t-stat -0.7768195962242351 -- p-value 0.44794011151530466\n",
      "    Before videos: t-stat -0.7677427572942715 -- p-value 0.4531726568274599\n",
      "\n",
      "Duration of videos tests\n",
      "    Keep videos: t-stat -0.9897341053886862 -- p-value 0.3952689581152938\n",
      "    Lose videos: t-stat 0.7652324615919224 -- p-value 0.45684019662934516\n",
      "    After videos: t-stat -0.851678698729503 -- p-value 0.40623055304584876\n",
      "    Before videos: t-stat 2.0986513854158533 -- p-value 0.051093031290394754\n",
      "\n",
      "Number of tags tests\n",
      "    Keep videos: t-stat -0.028709473821135686 -- p-value 0.9788993812867754\n",
      "    Lose videos: t-stat 0.9414687663814013 -- p-value 0.36242734123400067\n",
      "    After videos: t-stat -0.35883709301391264 -- p-value 0.7241347808153391\n",
      "    Before videos: t-stat -0.1293717875722184 -- p-value 0.898581826367575\n",
      "\n",
      "--------------------------------------------------------------------------------------------------\n",
      "\n",
      "Category: Howto & Style\n",
      "\n",
      "Frequency of publication tests\n",
      "    Keep videos: t-stat -0.33403239674033536 -- p-value 0.7460068284842014\n",
      "    Lose videos: t-stat 0.7004426940391812 -- p-value 0.5035090795011277\n",
      "    After videos: t-stat -0.22852772261100637 -- p-value 0.8219623786767342\n",
      "    Before videos: t-stat 0.2089567248595425 -- p-value 0.8369653500528362\n",
      "\n",
      "Duration of videos tests\n",
      "    Keep videos: t-stat 1.7603344022567584 -- p-value 0.11220312343816495\n",
      "    Lose videos: t-stat 0.9886560251601696 -- p-value 0.3517867702800807\n",
      "    After videos: t-stat -0.8081136979205551 -- p-value 0.43018896135088325\n",
      "    Before videos: t-stat -0.5874676418134044 -- p-value 0.5646118574785746\n",
      "\n",
      "Number of tags tests\n",
      "    Keep videos: t-stat 1.7399112567762907 -- p-value 0.11586737056120734\n",
      "    Lose videos: t-stat 1.0353763693054867 -- p-value 0.33077369343019364\n",
      "    After videos: t-stat -1.364438430407371 -- p-value 0.19022049750916256\n",
      "    Before videos: t-stat -0.9057707750986786 -- p-value 0.37771625707838163\n",
      "\n",
      "--------------------------------------------------------------------------------------------------\n",
      "\n"
     ]
    }
   ],
   "source": [
    "for i in categories_to_analyse:\n",
    "    print(f\"Category: {i}\\n\")\n",
    "\n",
    "    # frequency of publication tests\n",
    "    print(\"Frequency of publication tests\")\n",
    "    # Keep videos\n",
    "    stat, pval = scs.ttest_rel(result[i][\"freq_of_publication\"][\"K_A_freq\"], result[i][\"freq_of_publication\"][\"K_B_freq\"])\n",
    "    print(f\"    Keep videos: t-stat {stat} -- p-value {pval}\")\n",
    "    # Lose videos\n",
    "    stat, pval = scs.ttest_rel(result[i][\"freq_of_publication\"][\"L_A_freq\"], result[i][\"freq_of_publication\"][\"L_B_freq\"])\n",
    "    print(f\"    Lose videos: t-stat {stat} -- p-value {pval}\")\n",
    "    # After videos\n",
    "    stat, pval = scs.ttest_ind(result[i][\"freq_of_publication\"][\"K_A_freq\"], result[i][\"freq_of_publication\"][\"L_A_freq\"])\n",
    "    print(f\"    After videos: t-stat {stat} -- p-value {pval}\")\n",
    "    # Before videos\n",
    "    stat, pval = scs.ttest_ind(result[i][\"freq_of_publication\"][\"K_B_freq\"], result[i][\"freq_of_publication\"][\"L_B_freq\"])\n",
    "    print(f\"    Before videos: t-stat {stat} -- p-value {pval}\\n\")\n",
    "\n",
    "    # duration of videos tests\n",
    "    print(\"Duration of videos tests\")\n",
    "    # Keep videos\n",
    "    stat, pval = scs.ttest_rel(result[i][\"duration_of_videos\"][\"K_A_duration\"], result[i][\"duration_of_videos\"][\"K_B_duration\"])\n",
    "    print(f\"    Keep videos: t-stat {stat} -- p-value {pval}\")\n",
    "    # Lose videos\n",
    "    stat, pval = scs.ttest_rel(result[i][\"duration_of_videos\"][\"L_A_duration\"], result[i][\"duration_of_videos\"][\"L_B_duration\"])\n",
    "    print(f\"    Lose videos: t-stat {stat} -- p-value {pval}\")\n",
    "    # After videos\n",
    "    stat, pval = scs.ttest_ind(result[i][\"duration_of_videos\"][\"K_A_duration\"], result[i][\"duration_of_videos\"][\"L_A_duration\"])\n",
    "    print(f\"    After videos: t-stat {stat} -- p-value {pval}\")\n",
    "    # Before videos\n",
    "    stat, pval = scs.ttest_ind(result[i][\"duration_of_videos\"][\"K_B_duration\"], result[i][\"duration_of_videos\"][\"L_B_duration\"])\n",
    "    print(f\"    Before videos: t-stat {stat} -- p-value {pval}\\n\")\n",
    "\n",
    "    # number of tags tests\n",
    "    print(\"Number of tags tests\")\n",
    "    # Keep videos\n",
    "    stat, pval = scs.ttest_rel(result[i][\"num_of_tags\"][\"K_A_num_tags\"], result[i][\"num_of_tags\"][\"K_B_num_tags\"])\n",
    "    print(f\"    Keep videos: t-stat {stat} -- p-value {pval}\")\n",
    "    # Lose videos\n",
    "    stat, pval = scs.ttest_rel(result[i][\"num_of_tags\"][\"L_A_num_tags\"], result[i][\"num_of_tags\"][\"L_B_num_tags\"])\n",
    "    print(f\"    Lose videos: t-stat {stat} -- p-value {pval}\")\n",
    "    # After videos\n",
    "    stat, pval = scs.ttest_ind(result[i][\"num_of_tags\"][\"K_A_num_tags\"], result[i][\"num_of_tags\"][\"L_A_num_tags\"])\n",
    "    print(f\"    After videos: t-stat {stat} -- p-value {pval}\")\n",
    "    # Before videos\n",
    "    stat, pval = scs.ttest_ind(result[i][\"num_of_tags\"][\"K_B_num_tags\"], result[i][\"num_of_tags\"][\"L_B_num_tags\"])\n",
    "    print(f\"    Before videos: t-stat {stat} -- p-value {pval}\\n\")\n",
    "\n",
    "    print(\"--------------------------------------------------------------------------------------------------\\n\")\n"
   ]
  }
 ],
 "metadata": {
  "kernelspec": {
   "display_name": "ada_epfl",
   "language": "python",
   "name": "python3"
  },
  "language_info": {
   "codemirror_mode": {
    "name": "ipython",
    "version": 3
   },
   "file_extension": ".py",
   "mimetype": "text/x-python",
   "name": "python",
   "nbconvert_exporter": "python",
   "pygments_lexer": "ipython3",
   "version": "3.9.13"
  },
  "orig_nbformat": 4,
  "vscode": {
   "interpreter": {
    "hash": "8553763fdcfc736a41f141ca3b864625738e1ec5c439d10ee554d8254e06fc6d"
   }
  }
 },
 "nbformat": 4,
 "nbformat_minor": 2
}
