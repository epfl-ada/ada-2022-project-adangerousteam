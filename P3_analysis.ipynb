{
 "cells": [
  {
   "cell_type": "code",
   "execution_count": 75,
   "metadata": {},
   "outputs": [],
   "source": [
    "import pandas as pd\n",
    "import numpy as np\n",
    "import matplotlib.pyplot as plt\n",
    "import scipy.stats as scs\n",
    "from pathlib import Path\n",
    "import os\n",
    "\n",
    "DATA_PATH = R\"C:\\Users\\chiar\\OneDrive - epfl.ch\\ADA\\Project\\Dataset\"\n",
    "DATA_PATH = Path(os.path.expandvars(DATA_PATH))"
   ]
  },
  {
   "attachments": {},
   "cell_type": "markdown",
   "metadata": {},
   "source": [
    "#### Data load and separation in \"keep_fame\" and \"lose_fame\" populations"
   ]
  },
  {
   "cell_type": "code",
   "execution_count": 76,
   "metadata": {},
   "outputs": [],
   "source": [
    "# channels_df separated in \"keep_fame\" and \"lose_fame\" after matching\n",
    "keep_fame = pd.read_csv(DATA_PATH / \"keep_fame_after_matching.tsv.gz\", compression='gzip', sep = '\\t')\n",
    "lose_fame = pd.read_csv(DATA_PATH / \"lose_fame_after_matching.tsv.gz\", compression='gzip', sep = '\\t')"
   ]
  },
  {
   "cell_type": "code",
   "execution_count": 77,
   "metadata": {},
   "outputs": [
    {
     "data": {
      "text/plain": [
       "(75, 14)"
      ]
     },
     "execution_count": 77,
     "metadata": {},
     "output_type": "execute_result"
    }
   ],
   "source": [
    "keep_fame.shape"
   ]
  },
  {
   "cell_type": "code",
   "execution_count": 78,
   "metadata": {},
   "outputs": [
    {
     "data": {
      "text/plain": [
       "(75, 14)"
      ]
     },
     "execution_count": 78,
     "metadata": {},
     "output_type": "execute_result"
    }
   ],
   "source": [
    "lose_fame.shape"
   ]
  },
  {
   "cell_type": "code",
   "execution_count": 79,
   "metadata": {},
   "outputs": [
    {
     "data": {
      "text/plain": [
       "Index(['category_cc', 'join_date', 'channel', 'name_cc', 'subscribers_cc',\n",
       "       'videos_cc', 'subscriber_rank_sb', 'weights', 'growth_steepness',\n",
       "       'growth', 'variability', 'growth_rate', 'keep_fame',\n",
       "       'propensity_score'],\n",
       "      dtype='object')"
      ]
     },
     "execution_count": 79,
     "metadata": {},
     "output_type": "execute_result"
    }
   ],
   "source": [
    "keep_fame.columns"
   ]
  },
  {
   "cell_type": "code",
   "execution_count": 80,
   "metadata": {},
   "outputs": [],
   "source": [
    "# timeseries_df loading and separation in \"keep_fame\" and \"lose_fame\" after matching\n",
    "timeseries_df = pd.read_csv(DATA_PATH / \"timeseries_df_filtered.tsv.gz\", compression='gzip', sep = '\\t', parse_dates=['datetime', 'max_growth_date'])\n",
    "keep_fame_ts = timeseries_df[timeseries_df['channel'].isin(keep_fame['channel'])]\n",
    "lose_fame_ts = timeseries_df[timeseries_df['channel'].isin(lose_fame['channel'])]"
   ]
  },
  {
   "cell_type": "code",
   "execution_count": 81,
   "metadata": {},
   "outputs": [],
   "source": [
    "# metavideos df loading and separation between lose and keep fame\n",
    "meta_video_filt_original = pd.read_csv(DATA_PATH / \"videos_metadata_filtered_population.tsv.gz\", sep='\\t', compression='gzip')\n",
    "keep_fame_metavideos = meta_video_filt_original[meta_video_filt_original['channel_id'].isin(keep_fame['channel'])]\n",
    "lose_fame_metavideos = meta_video_filt_original[meta_video_filt_original['channel_id'].isin(lose_fame['channel'])]"
   ]
  },
  {
   "cell_type": "code",
   "execution_count": 82,
   "metadata": {},
   "outputs": [],
   "source": [
    "# metavideos dfs with max growth date\n",
    "keep_fame_metavideos = keep_fame_metavideos.merge(keep_fame_ts.groupby('channel')['max_growth_date'].max(), left_on='channel_id', right_on='channel')\n",
    "lose_fame_metavideos = lose_fame_metavideos.merge(lose_fame_ts.groupby('channel')['max_growth_date'].max(), left_on='channel_id', right_on='channel')"
   ]
  },
  {
   "cell_type": "code",
   "execution_count": 83,
   "metadata": {},
   "outputs": [
    {
     "data": {
      "text/plain": [
       "(75, 13)"
      ]
     },
     "execution_count": 83,
     "metadata": {},
     "output_type": "execute_result"
    }
   ],
   "source": [
    "keep_fame_metavideos.groupby('channel_id').count().shape"
   ]
  },
  {
   "attachments": {},
   "cell_type": "markdown",
   "metadata": {},
   "source": [
    "#### Dataframe separation between before and after growth date"
   ]
  },
  {
   "attachments": {},
   "cell_type": "markdown",
   "metadata": {},
   "source": [
    "<font color = 'green'> **TO DO**"
   ]
  },
  {
   "cell_type": "code",
   "execution_count": 84,
   "metadata": {},
   "outputs": [],
   "source": [
    "# keep and lose metavideos dfs divided before and after max growth date\n",
    "keep_metavideos_after_sudden_growth = keep_fame_metavideos[keep_fame_metavideos[\"upload_date\"] > keep_fame_metavideos[\"max_growth_date\"]].copy()\n",
    "lose_metavideos_after_sudden_growth = lose_fame_metavideos[lose_fame_metavideos[\"upload_date\"] > lose_fame_metavideos[\"max_growth_date\"]].copy()\n",
    "keep_metavideos_before_sudden_growth = keep_fame_metavideos[keep_fame_metavideos[\"upload_date\"] <= keep_fame_metavideos[\"max_growth_date\"]].copy()\n",
    "lose_metavideos_before_sudden_growth = lose_fame_metavideos[lose_fame_metavideos[\"upload_date\"] <= lose_fame_metavideos[\"max_growth_date\"]].copy()\n"
   ]
  },
  {
   "cell_type": "code",
   "execution_count": 85,
   "metadata": {},
   "outputs": [
    {
     "name": "stdout",
     "output_type": "stream",
     "text": [
      "Number of keep fame channels selected: 66\n"
     ]
    }
   ],
   "source": [
    "# filter video data of \"keep\" channels that have videos both before sudden growth and after sudden growth\n",
    "channels_k_b = keep_metavideos_before_sudden_growth[\"channel_id\"].unique()\n",
    "channels_k_a = keep_metavideos_after_sudden_growth[\"channel_id\"].unique()\n",
    "index_keep = set.intersection(set(channels_k_b), set(channels_k_a))\n",
    "\n",
    "print(f\"Number of keep fame channels selected: {index_keep.__len__()}\")\n",
    "\n",
    "keep_metavideos_before_sudden_growth = keep_metavideos_before_sudden_growth[keep_metavideos_before_sudden_growth[\"channel_id\"].isin(index_keep)]\n",
    "keep_metavideos_after_sudden_growth = keep_metavideos_after_sudden_growth[keep_metavideos_after_sudden_growth[\"channel_id\"].isin(index_keep)]\n"
   ]
  },
  {
   "cell_type": "code",
   "execution_count": 86,
   "metadata": {},
   "outputs": [
    {
     "name": "stdout",
     "output_type": "stream",
     "text": [
      "Number of lose fame channels selected: 63\n"
     ]
    }
   ],
   "source": [
    "# filter video data of \"lose\" channels that have videos both before sudden growth and after sudden growth\n",
    "channels_l_b = lose_metavideos_before_sudden_growth[\"channel_id\"].unique()\n",
    "channels_l_a = lose_metavideos_after_sudden_growth[\"channel_id\"].unique()\n",
    "index_lose = set.intersection(set(channels_l_b), set(channels_l_a))\n",
    "\n",
    "print(f\"Number of lose fame channels selected: {index_lose.__len__()}\")\n",
    "\n",
    "lose_metavideos_before_sudden_growth = lose_metavideos_before_sudden_growth[lose_metavideos_before_sudden_growth[\"channel_id\"].isin(index_lose)]\n",
    "lose_metavideos_after_sudden_growth = lose_metavideos_after_sudden_growth[lose_metavideos_after_sudden_growth[\"channel_id\"].isin(index_lose)]"
   ]
  },
  {
   "cell_type": "code",
   "execution_count": 87,
   "metadata": {},
   "outputs": [],
   "source": [
    "# filter timeseries data of \"keep\" and \"lose\" channels that have videos both before sudden growth and after sudden growth\n",
    "keep_fame_ts = keep_fame_ts[keep_fame_ts[\"channel\"].isin(index_keep)]\n",
    "lose_fame_ts = lose_fame_ts[lose_fame_ts[\"channel\"].isin(index_lose)]\n"
   ]
  },
  {
   "attachments": {},
   "cell_type": "markdown",
   "metadata": {},
   "source": [
    "### Analysis"
   ]
  },
  {
   "attachments": {},
   "cell_type": "markdown",
   "metadata": {},
   "source": [
    "<font color = 'green'> **TO DO**"
   ]
  },
  {
   "attachments": {},
   "cell_type": "markdown",
   "metadata": {},
   "source": [
    "##### Frequency of publication"
   ]
  },
  {
   "cell_type": "code",
   "execution_count": 88,
   "metadata": {},
   "outputs": [],
   "source": [
    "# compute number of videos posted by each channel before and after sudden growth\n",
    "keep_num_metavideos_per_channel_after_sudden_growth = keep_metavideos_after_sudden_growth.groupby(\"channel_id\").count()[\"duration\"]\n",
    "keep_num_metavideos_per_channel_before_sudden_growth = keep_metavideos_before_sudden_growth.groupby(\"channel_id\").count()[\"duration\"]\n",
    "lose_num_metavideos_per_channel_after_sudden_growth = lose_metavideos_after_sudden_growth.groupby(\"channel_id\").count()[\"duration\"]\n",
    "lose_num_metavideos_per_channel_before_sudden_growth = lose_metavideos_before_sudden_growth.groupby(\"channel_id\").count()[\"duration\"]"
   ]
  },
  {
   "attachments": {},
   "cell_type": "markdown",
   "metadata": {},
   "source": [
    "<span style=\"color:red\"> é normale sta cosa?"
   ]
  },
  {
   "cell_type": "code",
   "execution_count": 89,
   "metadata": {},
   "outputs": [
    {
     "data": {
      "text/plain": [
       "<bound method Series.unique of channel\n",
       "UC-tLyAaPbRZiYrOJxAGB7dQ   98 days 00:00:00\n",
       "UC1L-krRCB6-duxpU6lKX0pQ   98 days 00:00:00\n",
       "UC2NpT7HjtDpNlwsRSXNwDNQ   98 days 01:00:00\n",
       "UC2l6OWk60KMxYBheRYEynIQ   98 days 00:00:00\n",
       "UC35aJQFGtk6gzPvabBSJiIA   97 days 23:00:00\n",
       "                                 ...       \n",
       "UCskSW39nbaWKSdtdaPrY5IA   98 days 00:00:00\n",
       "UCtTVd0bpJ-dsLb3d1ukLgYg   98 days 01:00:00\n",
       "UCtpy51Y9Nj0375SC9HpE62Q   98 days 00:00:00\n",
       "UCynqx69mM7IogcYUQI3-Z7g   98 days 00:00:00\n",
       "UCzVnXCLWqY5dtOBn9UZoFTw   98 days 01:00:00\n",
       "Length: 66, dtype: timedelta64[ns]>"
      ]
     },
     "execution_count": 89,
     "metadata": {},
     "output_type": "execute_result"
    }
   ],
   "source": [
    "(keep_fame_ts.groupby(\"channel\")[\"datetime\"].max() - keep_fame_ts.groupby(\"channel\")['max_growth_date'].max()).unique"
   ]
  },
  {
   "cell_type": "code",
   "execution_count": 90,
   "metadata": {},
   "outputs": [],
   "source": [
    "# compute time of observation of each channel before and after sudden growth\n",
    "keep_videos_time_after_sudden_growth = (keep_fame_ts.groupby(\"channel\")[\"datetime\"].max() - keep_fame_ts.groupby(\"channel\")[\"max_growth_date\"].mean()).dt.days\n",
    "lose_videos_time_after_sudden_growth = (lose_fame_ts.groupby(\"channel\")[\"datetime\"].max() - lose_fame_ts.groupby(\"channel\")[\"max_growth_date\"].mean()).dt.days\n",
    "keep_videos_time_before_sudden_growth = (keep_fame_ts.groupby(\"channel\")[\"max_growth_date\"].mean() - keep_fame_ts.groupby(\"channel\")[\"datetime\"].min()).dt.days\n",
    "lose_videos_time_before_sudden_growth = (lose_fame_ts.groupby(\"channel\")[\"max_growth_date\"].mean() - lose_fame_ts.groupby(\"channel\")[\"datetime\"].min()).dt.days"
   ]
  },
  {
   "cell_type": "code",
   "execution_count": 91,
   "metadata": {},
   "outputs": [],
   "source": [
    "# compute frequency of publication of each channel before and after sudden growth\n",
    "freq_publication_keep_after_sudden_growth = keep_num_metavideos_per_channel_after_sudden_growth / keep_videos_time_after_sudden_growth\n",
    "freq_publication_lose_after_sudden_growth = lose_num_metavideos_per_channel_after_sudden_growth / lose_videos_time_after_sudden_growth\n",
    "freq_publication_keep_before_sudden_growth = keep_num_metavideos_per_channel_before_sudden_growth / keep_videos_time_before_sudden_growth\n",
    "freq_publication_lose_before_sudden_growth = lose_num_metavideos_per_channel_before_sudden_growth / lose_videos_time_before_sudden_growth"
   ]
  },
  {
   "cell_type": "code",
   "execution_count": 92,
   "metadata": {},
   "outputs": [
    {
     "data": {
      "text/plain": [
       "Ttest_relResult(statistic=-2.298424124274345, pvalue=0.02476302468189269)"
      ]
     },
     "execution_count": 92,
     "metadata": {},
     "output_type": "execute_result"
    }
   ],
   "source": [
    "# paired t-test for frequency of publication before and after sudden growth of \"keep\" channels\n",
    "scs.ttest_rel(freq_publication_keep_after_sudden_growth, freq_publication_keep_before_sudden_growth)"
   ]
  },
  {
   "cell_type": "code",
   "execution_count": 93,
   "metadata": {},
   "outputs": [
    {
     "data": {
      "text/plain": [
       "Ttest_relResult(statistic=0.17770022373913588, pvalue=0.8595377151165207)"
      ]
     },
     "execution_count": 93,
     "metadata": {},
     "output_type": "execute_result"
    }
   ],
   "source": [
    "# paired t-test for frequency of publication before and after sudden growth of \"lose\" channels\n",
    "scs.ttest_rel(freq_publication_lose_after_sudden_growth, freq_publication_lose_before_sudden_growth)"
   ]
  },
  {
   "attachments": {},
   "cell_type": "markdown",
   "metadata": {},
   "source": [
    "<font color = 'green'> **TO DO** \n",
    "Visualization for the distribution "
   ]
  },
  {
   "attachments": {},
   "cell_type": "markdown",
   "metadata": {},
   "source": [
    "##### Length of videos"
   ]
  },
  {
   "cell_type": "code",
   "execution_count": 94,
   "metadata": {},
   "outputs": [],
   "source": [
    "length_keep_before_sudden_growth = keep_metavideos_before_sudden_growth.groupby(\"channel_id\").mean()[\"duration\"]\n",
    "length_lose_before_sudden_growth = lose_metavideos_before_sudden_growth.groupby(\"channel_id\").mean()[\"duration\"]\n",
    "length_keep_after_sudden_growth = keep_metavideos_after_sudden_growth.groupby(\"channel_id\").mean()[\"duration\"]\n",
    "length_lose_after_sudden_growth = lose_metavideos_after_sudden_growth.groupby(\"channel_id\").mean()[\"duration\"]"
   ]
  },
  {
   "cell_type": "code",
   "execution_count": 95,
   "metadata": {},
   "outputs": [
    {
     "data": {
      "text/plain": [
       "Ttest_relResult(statistic=1.5814178588363257, pvalue=0.11863672677725806)"
      ]
     },
     "execution_count": 95,
     "metadata": {},
     "output_type": "execute_result"
    }
   ],
   "source": [
    "# paired t-test for length of videos before and after sudden growth of \"keep\" channels\n",
    "scs.ttest_rel(length_keep_after_sudden_growth, length_keep_before_sudden_growth)"
   ]
  },
  {
   "cell_type": "code",
   "execution_count": 96,
   "metadata": {},
   "outputs": [
    {
     "data": {
      "text/plain": [
       "Ttest_relResult(statistic=1.227271706566956, pvalue=0.2243601712627319)"
      ]
     },
     "execution_count": 96,
     "metadata": {},
     "output_type": "execute_result"
    }
   ],
   "source": [
    "# paired t-test for length of videos before and after sudden growth of \"lose\" channels\n",
    "scs.ttest_rel(length_lose_after_sudden_growth, length_lose_before_sudden_growth)"
   ]
  },
  {
   "attachments": {},
   "cell_type": "markdown",
   "metadata": {},
   "source": [
    "<font color = 'green'> **TO DO** Visualization?"
   ]
  },
  {
   "attachments": {},
   "cell_type": "markdown",
   "metadata": {},
   "source": [
    "#### Number of tags"
   ]
  },
  {
   "cell_type": "code",
   "execution_count": 97,
   "metadata": {},
   "outputs": [],
   "source": [
    "numtags_lose_metavideo_after_sudden_growth = lose_metavideos_after_sudden_growth.groupby(\"channel_id\").mean()[\"num_tags\"]\n",
    "numtags_keep_metavideo_after_sudden_growth = keep_metavideos_after_sudden_growth.groupby(\"channel_id\").mean()[\"num_tags\"]\n",
    "numtags_lose_metavideo_before_sudden_growth = lose_metavideos_before_sudden_growth.groupby(\"channel_id\").mean()[\"num_tags\"]\n",
    "numtags_keep_metavideo_before_sudden_growth = keep_metavideos_before_sudden_growth.groupby(\"channel_id\").mean()[\"num_tags\"]"
   ]
  },
  {
   "cell_type": "code",
   "execution_count": 98,
   "metadata": {},
   "outputs": [
    {
     "data": {
      "text/plain": [
       "Ttest_relResult(statistic=1.5857773166511753, pvalue=0.1178774899327631)"
      ]
     },
     "execution_count": 98,
     "metadata": {},
     "output_type": "execute_result"
    }
   ],
   "source": [
    "scs.ttest_rel(numtags_lose_metavideo_after_sudden_growth, numtags_lose_metavideo_before_sudden_growth)"
   ]
  },
  {
   "cell_type": "code",
   "execution_count": 99,
   "metadata": {},
   "outputs": [
    {
     "data": {
      "text/plain": [
       "Ttest_relResult(statistic=-0.07999723879658009, pvalue=0.9364852436052005)"
      ]
     },
     "execution_count": 99,
     "metadata": {},
     "output_type": "execute_result"
    }
   ],
   "source": [
    "scs.ttest_rel(numtags_keep_metavideo_after_sudden_growth, numtags_keep_metavideo_before_sudden_growth)"
   ]
  },
  {
   "attachments": {},
   "cell_type": "markdown",
   "metadata": {},
   "source": [
    "<font color = 'green'> **TO DO** Visualization AND description!!"
   ]
  },
  {
   "attachments": {},
   "cell_type": "markdown",
   "metadata": {},
   "source": [
    "#### Distribution of categories over the videos"
   ]
  },
  {
   "cell_type": "code",
   "execution_count": 100,
   "metadata": {},
   "outputs": [],
   "source": [
    "# checked that there is a video without category, so we remove it\n",
    "meta_video_filt_original.drop(meta_video_filt_original[meta_video_filt_original.categories.isna()].index, axis=0, inplace=True)"
   ]
  },
  {
   "cell_type": "code",
   "execution_count": 101,
   "metadata": {},
   "outputs": [],
   "source": [
    "# save all categories to plot the distribution later\n",
    "categories = meta_video_filt_original.categories.unique()\n",
    "categories = [\"categories_\" + s for s in categories]"
   ]
  },
  {
   "cell_type": "code",
   "execution_count": 102,
   "metadata": {},
   "outputs": [],
   "source": [
    "# get dummies of categories in metavideos dataframes\n",
    "keep_metavideos_before_sudden_growth_dummies = pd.get_dummies(keep_metavideos_before_sudden_growth[['channel_id', 'crawl_date','categories']], columns=['categories'], dtype=int)\n",
    "keep_metavideos_after_sudden_growth_dummies = pd.get_dummies(keep_metavideos_after_sudden_growth[['channel_id','crawl_date','categories']], columns=['categories'], dtype=int)\n",
    "lose_metavideos_before_sudden_growth_dummies = pd.get_dummies(lose_metavideos_before_sudden_growth[['channel_id','crawl_date','categories']], columns=['categories'], dtype=int)\n",
    "lose_metavideos_after_sudden_growth_dummies = pd.get_dummies(lose_metavideos_after_sudden_growth[['channel_id','crawl_date','categories']], columns=['categories'], dtype=int)"
   ]
  },
  {
   "cell_type": "code",
   "execution_count": 103,
   "metadata": {},
   "outputs": [],
   "source": [
    "# fill missing categories with 0 to have the same number of categories in each dataframe\n",
    "keep_metavideos_before_sudden_growth_dummies = keep_metavideos_before_sudden_growth_dummies.reindex(\\\n",
    "    columns = keep_metavideos_before_sudden_growth_dummies.columns.tolist() + \\\n",
    "    [category for category in categories if category not in keep_metavideos_before_sudden_growth_dummies.columns], \\\n",
    "    fill_value=0)\n",
    "\n",
    "keep_metavideos_after_sudden_growth_dummies = keep_metavideos_after_sudden_growth_dummies.reindex(\\\n",
    "    columns = keep_metavideos_after_sudden_growth_dummies.columns.tolist() + \\\n",
    "    [category for category in categories if category not in keep_metavideos_after_sudden_growth_dummies.columns], \\\n",
    "    fill_value=0)\n",
    "\n",
    "lose_metavideos_before_sudden_growth_dummies = lose_metavideos_before_sudden_growth_dummies.reindex(\\\n",
    "    columns = lose_metavideos_before_sudden_growth_dummies.columns.tolist() + \\\n",
    "    [category for category in categories if category not in lose_metavideos_before_sudden_growth_dummies.columns], \\\n",
    "    fill_value=0)\n",
    "\n",
    "lose_metavideos_after_sudden_growth_dummies = lose_metavideos_after_sudden_growth_dummies.reindex(\\\n",
    "    columns = lose_metavideos_after_sudden_growth_dummies.columns.tolist() + \\\n",
    "    [category for category in categories if category not in lose_metavideos_after_sudden_growth_dummies.columns], \\\n",
    "    fill_value=0)\n",
    "\n",
    "# b[\"category_v\"] = b[\"categories\"].str.replace(\" & \", \"_\").str.replace(\" \", \"_\")"
   ]
  },
  {
   "cell_type": "code",
   "execution_count": 104,
   "metadata": {},
   "outputs": [
    {
     "data": {
      "text/html": [
       "<div>\n",
       "<style scoped>\n",
       "    .dataframe tbody tr th:only-of-type {\n",
       "        vertical-align: middle;\n",
       "    }\n",
       "\n",
       "    .dataframe tbody tr th {\n",
       "        vertical-align: top;\n",
       "    }\n",
       "\n",
       "    .dataframe thead th {\n",
       "        text-align: right;\n",
       "    }\n",
       "</style>\n",
       "<table border=\"1\" class=\"dataframe\">\n",
       "  <thead>\n",
       "    <tr style=\"text-align: right;\">\n",
       "      <th></th>\n",
       "      <th>categories_Autos &amp; Vehicles</th>\n",
       "      <th>categories_Comedy</th>\n",
       "      <th>categories_Education</th>\n",
       "      <th>categories_Entertainment</th>\n",
       "      <th>categories_Film &amp; Animation</th>\n",
       "      <th>categories_Gaming</th>\n",
       "      <th>categories_Howto &amp; Style</th>\n",
       "      <th>categories_Music</th>\n",
       "      <th>categories_News &amp; Politics</th>\n",
       "      <th>categories_People &amp; Blogs</th>\n",
       "      <th>categories_Pets &amp; Animals</th>\n",
       "      <th>categories_Science &amp; Technology</th>\n",
       "      <th>categories_Sports</th>\n",
       "      <th>categories_Travel &amp; Events</th>\n",
       "      <th>categories_Nonprofits &amp; Activism</th>\n",
       "    </tr>\n",
       "    <tr>\n",
       "      <th>channel_id</th>\n",
       "      <th></th>\n",
       "      <th></th>\n",
       "      <th></th>\n",
       "      <th></th>\n",
       "      <th></th>\n",
       "      <th></th>\n",
       "      <th></th>\n",
       "      <th></th>\n",
       "      <th></th>\n",
       "      <th></th>\n",
       "      <th></th>\n",
       "      <th></th>\n",
       "      <th></th>\n",
       "      <th></th>\n",
       "      <th></th>\n",
       "    </tr>\n",
       "  </thead>\n",
       "  <tbody>\n",
       "    <tr>\n",
       "      <th>UC16CPKOrO2vB4X7lJMHc6XA</th>\n",
       "      <td>0.0</td>\n",
       "      <td>0.0</td>\n",
       "      <td>0.000000</td>\n",
       "      <td>1.000000</td>\n",
       "      <td>0.0</td>\n",
       "      <td>0.0</td>\n",
       "      <td>0.0</td>\n",
       "      <td>0.000000</td>\n",
       "      <td>0.0</td>\n",
       "      <td>0.0</td>\n",
       "      <td>0.0</td>\n",
       "      <td>0.000000</td>\n",
       "      <td>0.0</td>\n",
       "      <td>0.0</td>\n",
       "      <td>0.0</td>\n",
       "    </tr>\n",
       "    <tr>\n",
       "      <th>UC1TBvaAmpKfSBpwquEakSMw</th>\n",
       "      <td>0.0</td>\n",
       "      <td>0.0</td>\n",
       "      <td>0.000000</td>\n",
       "      <td>0.000000</td>\n",
       "      <td>0.0</td>\n",
       "      <td>0.0</td>\n",
       "      <td>0.0</td>\n",
       "      <td>1.000000</td>\n",
       "      <td>0.0</td>\n",
       "      <td>0.0</td>\n",
       "      <td>0.0</td>\n",
       "      <td>0.000000</td>\n",
       "      <td>0.0</td>\n",
       "      <td>0.0</td>\n",
       "      <td>0.0</td>\n",
       "    </tr>\n",
       "    <tr>\n",
       "      <th>UC58oMWCDv9UsCjl4TJWReGw</th>\n",
       "      <td>0.0</td>\n",
       "      <td>0.0</td>\n",
       "      <td>0.000000</td>\n",
       "      <td>0.666667</td>\n",
       "      <td>0.0</td>\n",
       "      <td>0.0</td>\n",
       "      <td>0.0</td>\n",
       "      <td>0.333333</td>\n",
       "      <td>0.0</td>\n",
       "      <td>0.0</td>\n",
       "      <td>0.0</td>\n",
       "      <td>0.000000</td>\n",
       "      <td>0.0</td>\n",
       "      <td>0.0</td>\n",
       "      <td>0.0</td>\n",
       "    </tr>\n",
       "    <tr>\n",
       "      <th>UC6JmzBg0e91_OAiPeEnRf0w</th>\n",
       "      <td>0.0</td>\n",
       "      <td>0.0</td>\n",
       "      <td>0.821429</td>\n",
       "      <td>0.035714</td>\n",
       "      <td>0.0</td>\n",
       "      <td>0.0</td>\n",
       "      <td>0.0</td>\n",
       "      <td>0.107143</td>\n",
       "      <td>0.0</td>\n",
       "      <td>0.0</td>\n",
       "      <td>0.0</td>\n",
       "      <td>0.035714</td>\n",
       "      <td>0.0</td>\n",
       "      <td>0.0</td>\n",
       "      <td>0.0</td>\n",
       "    </tr>\n",
       "    <tr>\n",
       "      <th>UC6p9fCyILda824C9KgKgGeA</th>\n",
       "      <td>0.0</td>\n",
       "      <td>0.0</td>\n",
       "      <td>0.000000</td>\n",
       "      <td>0.000000</td>\n",
       "      <td>0.0</td>\n",
       "      <td>0.0</td>\n",
       "      <td>0.0</td>\n",
       "      <td>1.000000</td>\n",
       "      <td>0.0</td>\n",
       "      <td>0.0</td>\n",
       "      <td>0.0</td>\n",
       "      <td>0.000000</td>\n",
       "      <td>0.0</td>\n",
       "      <td>0.0</td>\n",
       "      <td>0.0</td>\n",
       "    </tr>\n",
       "  </tbody>\n",
       "</table>\n",
       "</div>"
      ],
      "text/plain": [
       "                          categories_Autos & Vehicles  categories_Comedy  \\\n",
       "channel_id                                                                 \n",
       "UC16CPKOrO2vB4X7lJMHc6XA                          0.0                0.0   \n",
       "UC1TBvaAmpKfSBpwquEakSMw                          0.0                0.0   \n",
       "UC58oMWCDv9UsCjl4TJWReGw                          0.0                0.0   \n",
       "UC6JmzBg0e91_OAiPeEnRf0w                          0.0                0.0   \n",
       "UC6p9fCyILda824C9KgKgGeA                          0.0                0.0   \n",
       "\n",
       "                          categories_Education  categories_Entertainment  \\\n",
       "channel_id                                                                 \n",
       "UC16CPKOrO2vB4X7lJMHc6XA              0.000000                  1.000000   \n",
       "UC1TBvaAmpKfSBpwquEakSMw              0.000000                  0.000000   \n",
       "UC58oMWCDv9UsCjl4TJWReGw              0.000000                  0.666667   \n",
       "UC6JmzBg0e91_OAiPeEnRf0w              0.821429                  0.035714   \n",
       "UC6p9fCyILda824C9KgKgGeA              0.000000                  0.000000   \n",
       "\n",
       "                          categories_Film & Animation  categories_Gaming  \\\n",
       "channel_id                                                                 \n",
       "UC16CPKOrO2vB4X7lJMHc6XA                          0.0                0.0   \n",
       "UC1TBvaAmpKfSBpwquEakSMw                          0.0                0.0   \n",
       "UC58oMWCDv9UsCjl4TJWReGw                          0.0                0.0   \n",
       "UC6JmzBg0e91_OAiPeEnRf0w                          0.0                0.0   \n",
       "UC6p9fCyILda824C9KgKgGeA                          0.0                0.0   \n",
       "\n",
       "                          categories_Howto & Style  categories_Music  \\\n",
       "channel_id                                                             \n",
       "UC16CPKOrO2vB4X7lJMHc6XA                       0.0          0.000000   \n",
       "UC1TBvaAmpKfSBpwquEakSMw                       0.0          1.000000   \n",
       "UC58oMWCDv9UsCjl4TJWReGw                       0.0          0.333333   \n",
       "UC6JmzBg0e91_OAiPeEnRf0w                       0.0          0.107143   \n",
       "UC6p9fCyILda824C9KgKgGeA                       0.0          1.000000   \n",
       "\n",
       "                          categories_News & Politics  \\\n",
       "channel_id                                             \n",
       "UC16CPKOrO2vB4X7lJMHc6XA                         0.0   \n",
       "UC1TBvaAmpKfSBpwquEakSMw                         0.0   \n",
       "UC58oMWCDv9UsCjl4TJWReGw                         0.0   \n",
       "UC6JmzBg0e91_OAiPeEnRf0w                         0.0   \n",
       "UC6p9fCyILda824C9KgKgGeA                         0.0   \n",
       "\n",
       "                          categories_People & Blogs  \\\n",
       "channel_id                                            \n",
       "UC16CPKOrO2vB4X7lJMHc6XA                        0.0   \n",
       "UC1TBvaAmpKfSBpwquEakSMw                        0.0   \n",
       "UC58oMWCDv9UsCjl4TJWReGw                        0.0   \n",
       "UC6JmzBg0e91_OAiPeEnRf0w                        0.0   \n",
       "UC6p9fCyILda824C9KgKgGeA                        0.0   \n",
       "\n",
       "                          categories_Pets & Animals  \\\n",
       "channel_id                                            \n",
       "UC16CPKOrO2vB4X7lJMHc6XA                        0.0   \n",
       "UC1TBvaAmpKfSBpwquEakSMw                        0.0   \n",
       "UC58oMWCDv9UsCjl4TJWReGw                        0.0   \n",
       "UC6JmzBg0e91_OAiPeEnRf0w                        0.0   \n",
       "UC6p9fCyILda824C9KgKgGeA                        0.0   \n",
       "\n",
       "                          categories_Science & Technology  categories_Sports  \\\n",
       "channel_id                                                                     \n",
       "UC16CPKOrO2vB4X7lJMHc6XA                         0.000000                0.0   \n",
       "UC1TBvaAmpKfSBpwquEakSMw                         0.000000                0.0   \n",
       "UC58oMWCDv9UsCjl4TJWReGw                         0.000000                0.0   \n",
       "UC6JmzBg0e91_OAiPeEnRf0w                         0.035714                0.0   \n",
       "UC6p9fCyILda824C9KgKgGeA                         0.000000                0.0   \n",
       "\n",
       "                          categories_Travel & Events  \\\n",
       "channel_id                                             \n",
       "UC16CPKOrO2vB4X7lJMHc6XA                         0.0   \n",
       "UC1TBvaAmpKfSBpwquEakSMw                         0.0   \n",
       "UC58oMWCDv9UsCjl4TJWReGw                         0.0   \n",
       "UC6JmzBg0e91_OAiPeEnRf0w                         0.0   \n",
       "UC6p9fCyILda824C9KgKgGeA                         0.0   \n",
       "\n",
       "                          categories_Nonprofits & Activism  \n",
       "channel_id                                                  \n",
       "UC16CPKOrO2vB4X7lJMHc6XA                               0.0  \n",
       "UC1TBvaAmpKfSBpwquEakSMw                               0.0  \n",
       "UC58oMWCDv9UsCjl4TJWReGw                               0.0  \n",
       "UC6JmzBg0e91_OAiPeEnRf0w                               0.0  \n",
       "UC6p9fCyILda824C9KgKgGeA                               0.0  "
      ]
     },
     "metadata": {},
     "output_type": "display_data"
    },
    {
     "name": "stdout",
     "output_type": "stream",
     "text": [
      "(63, 15)\n",
      "Check the sum of proportions is equal to 1: min_sum_categories = 0.9998483929654336.\n"
     ]
    }
   ],
   "source": [
    "# Distribution of videos over categories of lose channels after sudden growth\n",
    "lose_metavideos_after_sudden_growth_dummies_grouped = lose_metavideos_after_sudden_growth_dummies.groupby(\"channel_id\")\n",
    "num_videos_l_a = lose_metavideos_after_sudden_growth_dummies_grouped.count()[\"crawl_date\"]\n",
    "num_videos_per_cat_l_a = lose_metavideos_after_sudden_growth_dummies_grouped.sum()\n",
    "\n",
    "prop_videos_per_cat_l_a = num_videos_per_cat_l_a.divide(num_videos_l_a, axis = 0)\n",
    "display(prop_videos_per_cat_l_a.head())\n",
    "print(prop_videos_per_cat_l_a.shape)\n",
    "print(f\"Check the sum of proportions is equal to 1: min_sum_categories = {prop_videos_per_cat_l_a.sum(axis = 1).min()}.\")\n",
    "\n"
   ]
  },
  {
   "cell_type": "code",
   "execution_count": 105,
   "metadata": {},
   "outputs": [
    {
     "data": {
      "text/html": [
       "<div>\n",
       "<style scoped>\n",
       "    .dataframe tbody tr th:only-of-type {\n",
       "        vertical-align: middle;\n",
       "    }\n",
       "\n",
       "    .dataframe tbody tr th {\n",
       "        vertical-align: top;\n",
       "    }\n",
       "\n",
       "    .dataframe thead th {\n",
       "        text-align: right;\n",
       "    }\n",
       "</style>\n",
       "<table border=\"1\" class=\"dataframe\">\n",
       "  <thead>\n",
       "    <tr style=\"text-align: right;\">\n",
       "      <th></th>\n",
       "      <th>categories_Autos &amp; Vehicles</th>\n",
       "      <th>categories_Comedy</th>\n",
       "      <th>categories_Education</th>\n",
       "      <th>categories_Entertainment</th>\n",
       "      <th>categories_Film &amp; Animation</th>\n",
       "      <th>categories_Gaming</th>\n",
       "      <th>categories_Howto &amp; Style</th>\n",
       "      <th>categories_Music</th>\n",
       "      <th>categories_News &amp; Politics</th>\n",
       "      <th>categories_People &amp; Blogs</th>\n",
       "      <th>categories_Pets &amp; Animals</th>\n",
       "      <th>categories_Science &amp; Technology</th>\n",
       "      <th>categories_Sports</th>\n",
       "      <th>categories_Travel &amp; Events</th>\n",
       "      <th>categories_Nonprofits &amp; Activism</th>\n",
       "    </tr>\n",
       "    <tr>\n",
       "      <th>channel_id</th>\n",
       "      <th></th>\n",
       "      <th></th>\n",
       "      <th></th>\n",
       "      <th></th>\n",
       "      <th></th>\n",
       "      <th></th>\n",
       "      <th></th>\n",
       "      <th></th>\n",
       "      <th></th>\n",
       "      <th></th>\n",
       "      <th></th>\n",
       "      <th></th>\n",
       "      <th></th>\n",
       "      <th></th>\n",
       "      <th></th>\n",
       "    </tr>\n",
       "  </thead>\n",
       "  <tbody>\n",
       "    <tr>\n",
       "      <th>UC16CPKOrO2vB4X7lJMHc6XA</th>\n",
       "      <td>0.0</td>\n",
       "      <td>0.0</td>\n",
       "      <td>0.0</td>\n",
       "      <td>1.000000</td>\n",
       "      <td>0.0</td>\n",
       "      <td>0.0</td>\n",
       "      <td>0.0</td>\n",
       "      <td>0.000000</td>\n",
       "      <td>0.000000</td>\n",
       "      <td>0.000000</td>\n",
       "      <td>0.0</td>\n",
       "      <td>0.0</td>\n",
       "      <td>0.0</td>\n",
       "      <td>0.0</td>\n",
       "      <td>0.0</td>\n",
       "    </tr>\n",
       "    <tr>\n",
       "      <th>UC1TBvaAmpKfSBpwquEakSMw</th>\n",
       "      <td>0.0</td>\n",
       "      <td>0.0</td>\n",
       "      <td>0.0</td>\n",
       "      <td>0.000000</td>\n",
       "      <td>0.0</td>\n",
       "      <td>0.0</td>\n",
       "      <td>0.0</td>\n",
       "      <td>0.272727</td>\n",
       "      <td>0.000000</td>\n",
       "      <td>0.727273</td>\n",
       "      <td>0.0</td>\n",
       "      <td>0.0</td>\n",
       "      <td>0.0</td>\n",
       "      <td>0.0</td>\n",
       "      <td>0.0</td>\n",
       "    </tr>\n",
       "    <tr>\n",
       "      <th>UC58oMWCDv9UsCjl4TJWReGw</th>\n",
       "      <td>0.0</td>\n",
       "      <td>0.0</td>\n",
       "      <td>0.0</td>\n",
       "      <td>0.142157</td>\n",
       "      <td>0.0</td>\n",
       "      <td>0.0</td>\n",
       "      <td>0.0</td>\n",
       "      <td>0.000000</td>\n",
       "      <td>0.009804</td>\n",
       "      <td>0.848039</td>\n",
       "      <td>0.0</td>\n",
       "      <td>0.0</td>\n",
       "      <td>0.0</td>\n",
       "      <td>0.0</td>\n",
       "      <td>0.0</td>\n",
       "    </tr>\n",
       "    <tr>\n",
       "      <th>UC6JmzBg0e91_OAiPeEnRf0w</th>\n",
       "      <td>0.0</td>\n",
       "      <td>0.0</td>\n",
       "      <td>0.0</td>\n",
       "      <td>0.333333</td>\n",
       "      <td>0.0</td>\n",
       "      <td>0.0</td>\n",
       "      <td>0.0</td>\n",
       "      <td>0.666667</td>\n",
       "      <td>0.000000</td>\n",
       "      <td>0.000000</td>\n",
       "      <td>0.0</td>\n",
       "      <td>0.0</td>\n",
       "      <td>0.0</td>\n",
       "      <td>0.0</td>\n",
       "      <td>0.0</td>\n",
       "    </tr>\n",
       "    <tr>\n",
       "      <th>UC6p9fCyILda824C9KgKgGeA</th>\n",
       "      <td>0.0</td>\n",
       "      <td>0.0</td>\n",
       "      <td>0.0</td>\n",
       "      <td>0.000000</td>\n",
       "      <td>0.0</td>\n",
       "      <td>0.0</td>\n",
       "      <td>0.0</td>\n",
       "      <td>1.000000</td>\n",
       "      <td>0.000000</td>\n",
       "      <td>0.000000</td>\n",
       "      <td>0.0</td>\n",
       "      <td>0.0</td>\n",
       "      <td>0.0</td>\n",
       "      <td>0.0</td>\n",
       "      <td>0.0</td>\n",
       "    </tr>\n",
       "  </tbody>\n",
       "</table>\n",
       "</div>"
      ],
      "text/plain": [
       "                          categories_Autos & Vehicles  categories_Comedy  \\\n",
       "channel_id                                                                 \n",
       "UC16CPKOrO2vB4X7lJMHc6XA                          0.0                0.0   \n",
       "UC1TBvaAmpKfSBpwquEakSMw                          0.0                0.0   \n",
       "UC58oMWCDv9UsCjl4TJWReGw                          0.0                0.0   \n",
       "UC6JmzBg0e91_OAiPeEnRf0w                          0.0                0.0   \n",
       "UC6p9fCyILda824C9KgKgGeA                          0.0                0.0   \n",
       "\n",
       "                          categories_Education  categories_Entertainment  \\\n",
       "channel_id                                                                 \n",
       "UC16CPKOrO2vB4X7lJMHc6XA                   0.0                  1.000000   \n",
       "UC1TBvaAmpKfSBpwquEakSMw                   0.0                  0.000000   \n",
       "UC58oMWCDv9UsCjl4TJWReGw                   0.0                  0.142157   \n",
       "UC6JmzBg0e91_OAiPeEnRf0w                   0.0                  0.333333   \n",
       "UC6p9fCyILda824C9KgKgGeA                   0.0                  0.000000   \n",
       "\n",
       "                          categories_Film & Animation  categories_Gaming  \\\n",
       "channel_id                                                                 \n",
       "UC16CPKOrO2vB4X7lJMHc6XA                          0.0                0.0   \n",
       "UC1TBvaAmpKfSBpwquEakSMw                          0.0                0.0   \n",
       "UC58oMWCDv9UsCjl4TJWReGw                          0.0                0.0   \n",
       "UC6JmzBg0e91_OAiPeEnRf0w                          0.0                0.0   \n",
       "UC6p9fCyILda824C9KgKgGeA                          0.0                0.0   \n",
       "\n",
       "                          categories_Howto & Style  categories_Music  \\\n",
       "channel_id                                                             \n",
       "UC16CPKOrO2vB4X7lJMHc6XA                       0.0          0.000000   \n",
       "UC1TBvaAmpKfSBpwquEakSMw                       0.0          0.272727   \n",
       "UC58oMWCDv9UsCjl4TJWReGw                       0.0          0.000000   \n",
       "UC6JmzBg0e91_OAiPeEnRf0w                       0.0          0.666667   \n",
       "UC6p9fCyILda824C9KgKgGeA                       0.0          1.000000   \n",
       "\n",
       "                          categories_News & Politics  \\\n",
       "channel_id                                             \n",
       "UC16CPKOrO2vB4X7lJMHc6XA                    0.000000   \n",
       "UC1TBvaAmpKfSBpwquEakSMw                    0.000000   \n",
       "UC58oMWCDv9UsCjl4TJWReGw                    0.009804   \n",
       "UC6JmzBg0e91_OAiPeEnRf0w                    0.000000   \n",
       "UC6p9fCyILda824C9KgKgGeA                    0.000000   \n",
       "\n",
       "                          categories_People & Blogs  \\\n",
       "channel_id                                            \n",
       "UC16CPKOrO2vB4X7lJMHc6XA                   0.000000   \n",
       "UC1TBvaAmpKfSBpwquEakSMw                   0.727273   \n",
       "UC58oMWCDv9UsCjl4TJWReGw                   0.848039   \n",
       "UC6JmzBg0e91_OAiPeEnRf0w                   0.000000   \n",
       "UC6p9fCyILda824C9KgKgGeA                   0.000000   \n",
       "\n",
       "                          categories_Pets & Animals  \\\n",
       "channel_id                                            \n",
       "UC16CPKOrO2vB4X7lJMHc6XA                        0.0   \n",
       "UC1TBvaAmpKfSBpwquEakSMw                        0.0   \n",
       "UC58oMWCDv9UsCjl4TJWReGw                        0.0   \n",
       "UC6JmzBg0e91_OAiPeEnRf0w                        0.0   \n",
       "UC6p9fCyILda824C9KgKgGeA                        0.0   \n",
       "\n",
       "                          categories_Science & Technology  categories_Sports  \\\n",
       "channel_id                                                                     \n",
       "UC16CPKOrO2vB4X7lJMHc6XA                              0.0                0.0   \n",
       "UC1TBvaAmpKfSBpwquEakSMw                              0.0                0.0   \n",
       "UC58oMWCDv9UsCjl4TJWReGw                              0.0                0.0   \n",
       "UC6JmzBg0e91_OAiPeEnRf0w                              0.0                0.0   \n",
       "UC6p9fCyILda824C9KgKgGeA                              0.0                0.0   \n",
       "\n",
       "                          categories_Travel & Events  \\\n",
       "channel_id                                             \n",
       "UC16CPKOrO2vB4X7lJMHc6XA                         0.0   \n",
       "UC1TBvaAmpKfSBpwquEakSMw                         0.0   \n",
       "UC58oMWCDv9UsCjl4TJWReGw                         0.0   \n",
       "UC6JmzBg0e91_OAiPeEnRf0w                         0.0   \n",
       "UC6p9fCyILda824C9KgKgGeA                         0.0   \n",
       "\n",
       "                          categories_Nonprofits & Activism  \n",
       "channel_id                                                  \n",
       "UC16CPKOrO2vB4X7lJMHc6XA                               0.0  \n",
       "UC1TBvaAmpKfSBpwquEakSMw                               0.0  \n",
       "UC58oMWCDv9UsCjl4TJWReGw                               0.0  \n",
       "UC6JmzBg0e91_OAiPeEnRf0w                               0.0  \n",
       "UC6p9fCyILda824C9KgKgGeA                               0.0  "
      ]
     },
     "metadata": {},
     "output_type": "display_data"
    },
    {
     "name": "stdout",
     "output_type": "stream",
     "text": [
      "(63, 15)\n",
      "Check the sum of proportions is equal to 1: min_sum_categories = 0.9999999999999999.\n"
     ]
    }
   ],
   "source": [
    "# Distribution of videos over categories of lose channels before sudden growth\n",
    "lose_metavideos_before_sudden_growth_dummies_grouped = lose_metavideos_before_sudden_growth_dummies.groupby(\"channel_id\")\n",
    "num_videos_l_b = lose_metavideos_before_sudden_growth_dummies_grouped.count()[\"crawl_date\"]\n",
    "num_videos_per_cat_l_b = lose_metavideos_before_sudden_growth_dummies_grouped.sum()\n",
    "\n",
    "prop_videos_per_cat_l_b = num_videos_per_cat_l_b.divide(num_videos_l_b, axis = 0)\n",
    "display(prop_videos_per_cat_l_b.head())\n",
    "print(prop_videos_per_cat_l_b.shape)\n",
    "print(f\"Check the sum of proportions is equal to 1: min_sum_categories = {prop_videos_per_cat_l_b.sum(axis = 1).min()}.\")"
   ]
  },
  {
   "cell_type": "code",
   "execution_count": 106,
   "metadata": {},
   "outputs": [
    {
     "data": {
      "text/html": [
       "<div>\n",
       "<style scoped>\n",
       "    .dataframe tbody tr th:only-of-type {\n",
       "        vertical-align: middle;\n",
       "    }\n",
       "\n",
       "    .dataframe tbody tr th {\n",
       "        vertical-align: top;\n",
       "    }\n",
       "\n",
       "    .dataframe thead th {\n",
       "        text-align: right;\n",
       "    }\n",
       "</style>\n",
       "<table border=\"1\" class=\"dataframe\">\n",
       "  <thead>\n",
       "    <tr style=\"text-align: right;\">\n",
       "      <th></th>\n",
       "      <th>categories_Autos &amp; Vehicles</th>\n",
       "      <th>categories_Comedy</th>\n",
       "      <th>categories_Education</th>\n",
       "      <th>categories_Entertainment</th>\n",
       "      <th>categories_Film &amp; Animation</th>\n",
       "      <th>categories_Gaming</th>\n",
       "      <th>categories_Howto &amp; Style</th>\n",
       "      <th>categories_Music</th>\n",
       "      <th>categories_News &amp; Politics</th>\n",
       "      <th>categories_Nonprofits &amp; Activism</th>\n",
       "      <th>categories_People &amp; Blogs</th>\n",
       "      <th>categories_Pets &amp; Animals</th>\n",
       "      <th>categories_Science &amp; Technology</th>\n",
       "      <th>categories_Sports</th>\n",
       "      <th>categories_Travel &amp; Events</th>\n",
       "    </tr>\n",
       "    <tr>\n",
       "      <th>channel_id</th>\n",
       "      <th></th>\n",
       "      <th></th>\n",
       "      <th></th>\n",
       "      <th></th>\n",
       "      <th></th>\n",
       "      <th></th>\n",
       "      <th></th>\n",
       "      <th></th>\n",
       "      <th></th>\n",
       "      <th></th>\n",
       "      <th></th>\n",
       "      <th></th>\n",
       "      <th></th>\n",
       "      <th></th>\n",
       "      <th></th>\n",
       "    </tr>\n",
       "  </thead>\n",
       "  <tbody>\n",
       "    <tr>\n",
       "      <th>UC-tLyAaPbRZiYrOJxAGB7dQ</th>\n",
       "      <td>0.0</td>\n",
       "      <td>0.0</td>\n",
       "      <td>1.0</td>\n",
       "      <td>0.0</td>\n",
       "      <td>0.0</td>\n",
       "      <td>0.0</td>\n",
       "      <td>0.0</td>\n",
       "      <td>0.0</td>\n",
       "      <td>0.0</td>\n",
       "      <td>0.0</td>\n",
       "      <td>0.0</td>\n",
       "      <td>0.0</td>\n",
       "      <td>0.0</td>\n",
       "      <td>0.0</td>\n",
       "      <td>0.0</td>\n",
       "    </tr>\n",
       "    <tr>\n",
       "      <th>UC1L-krRCB6-duxpU6lKX0pQ</th>\n",
       "      <td>0.0</td>\n",
       "      <td>0.0</td>\n",
       "      <td>0.0</td>\n",
       "      <td>0.0</td>\n",
       "      <td>0.0</td>\n",
       "      <td>0.0</td>\n",
       "      <td>0.0</td>\n",
       "      <td>1.0</td>\n",
       "      <td>0.0</td>\n",
       "      <td>0.0</td>\n",
       "      <td>0.0</td>\n",
       "      <td>0.0</td>\n",
       "      <td>0.0</td>\n",
       "      <td>0.0</td>\n",
       "      <td>0.0</td>\n",
       "    </tr>\n",
       "    <tr>\n",
       "      <th>UC2NpT7HjtDpNlwsRSXNwDNQ</th>\n",
       "      <td>0.0</td>\n",
       "      <td>0.0</td>\n",
       "      <td>0.0</td>\n",
       "      <td>0.0</td>\n",
       "      <td>0.0</td>\n",
       "      <td>1.0</td>\n",
       "      <td>0.0</td>\n",
       "      <td>0.0</td>\n",
       "      <td>0.0</td>\n",
       "      <td>0.0</td>\n",
       "      <td>0.0</td>\n",
       "      <td>0.0</td>\n",
       "      <td>0.0</td>\n",
       "      <td>0.0</td>\n",
       "      <td>0.0</td>\n",
       "    </tr>\n",
       "    <tr>\n",
       "      <th>UC2l6OWk60KMxYBheRYEynIQ</th>\n",
       "      <td>0.0</td>\n",
       "      <td>0.0</td>\n",
       "      <td>0.0</td>\n",
       "      <td>0.0</td>\n",
       "      <td>1.0</td>\n",
       "      <td>0.0</td>\n",
       "      <td>0.0</td>\n",
       "      <td>0.0</td>\n",
       "      <td>0.0</td>\n",
       "      <td>0.0</td>\n",
       "      <td>0.0</td>\n",
       "      <td>0.0</td>\n",
       "      <td>0.0</td>\n",
       "      <td>0.0</td>\n",
       "      <td>0.0</td>\n",
       "    </tr>\n",
       "    <tr>\n",
       "      <th>UC35aJQFGtk6gzPvabBSJiIA</th>\n",
       "      <td>0.0</td>\n",
       "      <td>0.0</td>\n",
       "      <td>0.0</td>\n",
       "      <td>0.0</td>\n",
       "      <td>1.0</td>\n",
       "      <td>0.0</td>\n",
       "      <td>0.0</td>\n",
       "      <td>0.0</td>\n",
       "      <td>0.0</td>\n",
       "      <td>0.0</td>\n",
       "      <td>0.0</td>\n",
       "      <td>0.0</td>\n",
       "      <td>0.0</td>\n",
       "      <td>0.0</td>\n",
       "      <td>0.0</td>\n",
       "    </tr>\n",
       "  </tbody>\n",
       "</table>\n",
       "</div>"
      ],
      "text/plain": [
       "                          categories_Autos & Vehicles  categories_Comedy  \\\n",
       "channel_id                                                                 \n",
       "UC-tLyAaPbRZiYrOJxAGB7dQ                          0.0                0.0   \n",
       "UC1L-krRCB6-duxpU6lKX0pQ                          0.0                0.0   \n",
       "UC2NpT7HjtDpNlwsRSXNwDNQ                          0.0                0.0   \n",
       "UC2l6OWk60KMxYBheRYEynIQ                          0.0                0.0   \n",
       "UC35aJQFGtk6gzPvabBSJiIA                          0.0                0.0   \n",
       "\n",
       "                          categories_Education  categories_Entertainment  \\\n",
       "channel_id                                                                 \n",
       "UC-tLyAaPbRZiYrOJxAGB7dQ                   1.0                       0.0   \n",
       "UC1L-krRCB6-duxpU6lKX0pQ                   0.0                       0.0   \n",
       "UC2NpT7HjtDpNlwsRSXNwDNQ                   0.0                       0.0   \n",
       "UC2l6OWk60KMxYBheRYEynIQ                   0.0                       0.0   \n",
       "UC35aJQFGtk6gzPvabBSJiIA                   0.0                       0.0   \n",
       "\n",
       "                          categories_Film & Animation  categories_Gaming  \\\n",
       "channel_id                                                                 \n",
       "UC-tLyAaPbRZiYrOJxAGB7dQ                          0.0                0.0   \n",
       "UC1L-krRCB6-duxpU6lKX0pQ                          0.0                0.0   \n",
       "UC2NpT7HjtDpNlwsRSXNwDNQ                          0.0                1.0   \n",
       "UC2l6OWk60KMxYBheRYEynIQ                          1.0                0.0   \n",
       "UC35aJQFGtk6gzPvabBSJiIA                          1.0                0.0   \n",
       "\n",
       "                          categories_Howto & Style  categories_Music  \\\n",
       "channel_id                                                             \n",
       "UC-tLyAaPbRZiYrOJxAGB7dQ                       0.0               0.0   \n",
       "UC1L-krRCB6-duxpU6lKX0pQ                       0.0               1.0   \n",
       "UC2NpT7HjtDpNlwsRSXNwDNQ                       0.0               0.0   \n",
       "UC2l6OWk60KMxYBheRYEynIQ                       0.0               0.0   \n",
       "UC35aJQFGtk6gzPvabBSJiIA                       0.0               0.0   \n",
       "\n",
       "                          categories_News & Politics  \\\n",
       "channel_id                                             \n",
       "UC-tLyAaPbRZiYrOJxAGB7dQ                         0.0   \n",
       "UC1L-krRCB6-duxpU6lKX0pQ                         0.0   \n",
       "UC2NpT7HjtDpNlwsRSXNwDNQ                         0.0   \n",
       "UC2l6OWk60KMxYBheRYEynIQ                         0.0   \n",
       "UC35aJQFGtk6gzPvabBSJiIA                         0.0   \n",
       "\n",
       "                          categories_Nonprofits & Activism  \\\n",
       "channel_id                                                   \n",
       "UC-tLyAaPbRZiYrOJxAGB7dQ                               0.0   \n",
       "UC1L-krRCB6-duxpU6lKX0pQ                               0.0   \n",
       "UC2NpT7HjtDpNlwsRSXNwDNQ                               0.0   \n",
       "UC2l6OWk60KMxYBheRYEynIQ                               0.0   \n",
       "UC35aJQFGtk6gzPvabBSJiIA                               0.0   \n",
       "\n",
       "                          categories_People & Blogs  \\\n",
       "channel_id                                            \n",
       "UC-tLyAaPbRZiYrOJxAGB7dQ                        0.0   \n",
       "UC1L-krRCB6-duxpU6lKX0pQ                        0.0   \n",
       "UC2NpT7HjtDpNlwsRSXNwDNQ                        0.0   \n",
       "UC2l6OWk60KMxYBheRYEynIQ                        0.0   \n",
       "UC35aJQFGtk6gzPvabBSJiIA                        0.0   \n",
       "\n",
       "                          categories_Pets & Animals  \\\n",
       "channel_id                                            \n",
       "UC-tLyAaPbRZiYrOJxAGB7dQ                        0.0   \n",
       "UC1L-krRCB6-duxpU6lKX0pQ                        0.0   \n",
       "UC2NpT7HjtDpNlwsRSXNwDNQ                        0.0   \n",
       "UC2l6OWk60KMxYBheRYEynIQ                        0.0   \n",
       "UC35aJQFGtk6gzPvabBSJiIA                        0.0   \n",
       "\n",
       "                          categories_Science & Technology  categories_Sports  \\\n",
       "channel_id                                                                     \n",
       "UC-tLyAaPbRZiYrOJxAGB7dQ                              0.0                0.0   \n",
       "UC1L-krRCB6-duxpU6lKX0pQ                              0.0                0.0   \n",
       "UC2NpT7HjtDpNlwsRSXNwDNQ                              0.0                0.0   \n",
       "UC2l6OWk60KMxYBheRYEynIQ                              0.0                0.0   \n",
       "UC35aJQFGtk6gzPvabBSJiIA                              0.0                0.0   \n",
       "\n",
       "                          categories_Travel & Events  \n",
       "channel_id                                            \n",
       "UC-tLyAaPbRZiYrOJxAGB7dQ                         0.0  \n",
       "UC1L-krRCB6-duxpU6lKX0pQ                         0.0  \n",
       "UC2NpT7HjtDpNlwsRSXNwDNQ                         0.0  \n",
       "UC2l6OWk60KMxYBheRYEynIQ                         0.0  \n",
       "UC35aJQFGtk6gzPvabBSJiIA                         0.0  "
      ]
     },
     "metadata": {},
     "output_type": "display_data"
    },
    {
     "name": "stdout",
     "output_type": "stream",
     "text": [
      "(66, 15)\n",
      "Check the sum of proportions is equal to 1: min_sum_categories = 0.9999999999999999.\n"
     ]
    }
   ],
   "source": [
    "# Distribution of videos over categories of keep channels after sudden growth\n",
    "keep_metavideos_after_sudden_growth_dummies_grouped = keep_metavideos_after_sudden_growth_dummies.groupby(\"channel_id\")\n",
    "num_videos_k_a = keep_metavideos_after_sudden_growth_dummies_grouped.count()[\"crawl_date\"]\n",
    "num_videos_per_cat_k_a = keep_metavideos_after_sudden_growth_dummies_grouped.sum()\n",
    "\n",
    "prop_videos_per_cat_k_a = num_videos_per_cat_k_a.divide(num_videos_k_a, axis = 0)\n",
    "display(prop_videos_per_cat_k_a.head())\n",
    "print(prop_videos_per_cat_k_a.shape)\n",
    "print(f\"Check the sum of proportions is equal to 1: min_sum_categories = {prop_videos_per_cat_k_a.sum(axis = 1).min()}.\")"
   ]
  },
  {
   "cell_type": "code",
   "execution_count": 107,
   "metadata": {},
   "outputs": [
    {
     "data": {
      "text/html": [
       "<div>\n",
       "<style scoped>\n",
       "    .dataframe tbody tr th:only-of-type {\n",
       "        vertical-align: middle;\n",
       "    }\n",
       "\n",
       "    .dataframe tbody tr th {\n",
       "        vertical-align: top;\n",
       "    }\n",
       "\n",
       "    .dataframe thead th {\n",
       "        text-align: right;\n",
       "    }\n",
       "</style>\n",
       "<table border=\"1\" class=\"dataframe\">\n",
       "  <thead>\n",
       "    <tr style=\"text-align: right;\">\n",
       "      <th></th>\n",
       "      <th>categories_Autos &amp; Vehicles</th>\n",
       "      <th>categories_Comedy</th>\n",
       "      <th>categories_Education</th>\n",
       "      <th>categories_Entertainment</th>\n",
       "      <th>categories_Film &amp; Animation</th>\n",
       "      <th>categories_Gaming</th>\n",
       "      <th>categories_Howto &amp; Style</th>\n",
       "      <th>categories_Music</th>\n",
       "      <th>categories_News &amp; Politics</th>\n",
       "      <th>categories_Nonprofits &amp; Activism</th>\n",
       "      <th>categories_People &amp; Blogs</th>\n",
       "      <th>categories_Pets &amp; Animals</th>\n",
       "      <th>categories_Science &amp; Technology</th>\n",
       "      <th>categories_Sports</th>\n",
       "      <th>categories_Travel &amp; Events</th>\n",
       "    </tr>\n",
       "    <tr>\n",
       "      <th>channel_id</th>\n",
       "      <th></th>\n",
       "      <th></th>\n",
       "      <th></th>\n",
       "      <th></th>\n",
       "      <th></th>\n",
       "      <th></th>\n",
       "      <th></th>\n",
       "      <th></th>\n",
       "      <th></th>\n",
       "      <th></th>\n",
       "      <th></th>\n",
       "      <th></th>\n",
       "      <th></th>\n",
       "      <th></th>\n",
       "      <th></th>\n",
       "    </tr>\n",
       "  </thead>\n",
       "  <tbody>\n",
       "    <tr>\n",
       "      <th>UC-tLyAaPbRZiYrOJxAGB7dQ</th>\n",
       "      <td>0.0</td>\n",
       "      <td>0.0</td>\n",
       "      <td>1.0</td>\n",
       "      <td>0.000000</td>\n",
       "      <td>0.000000</td>\n",
       "      <td>0.0</td>\n",
       "      <td>0.0</td>\n",
       "      <td>0.000000</td>\n",
       "      <td>0.0</td>\n",
       "      <td>0.0</td>\n",
       "      <td>0.000000</td>\n",
       "      <td>0.0</td>\n",
       "      <td>0.0</td>\n",
       "      <td>0.0</td>\n",
       "      <td>0.0</td>\n",
       "    </tr>\n",
       "    <tr>\n",
       "      <th>UC1L-krRCB6-duxpU6lKX0pQ</th>\n",
       "      <td>0.0</td>\n",
       "      <td>0.0</td>\n",
       "      <td>0.0</td>\n",
       "      <td>0.012821</td>\n",
       "      <td>0.000000</td>\n",
       "      <td>0.0</td>\n",
       "      <td>0.0</td>\n",
       "      <td>0.884615</td>\n",
       "      <td>0.0</td>\n",
       "      <td>0.0</td>\n",
       "      <td>0.102564</td>\n",
       "      <td>0.0</td>\n",
       "      <td>0.0</td>\n",
       "      <td>0.0</td>\n",
       "      <td>0.0</td>\n",
       "    </tr>\n",
       "    <tr>\n",
       "      <th>UC2NpT7HjtDpNlwsRSXNwDNQ</th>\n",
       "      <td>0.0</td>\n",
       "      <td>0.0</td>\n",
       "      <td>0.0</td>\n",
       "      <td>0.000000</td>\n",
       "      <td>0.000000</td>\n",
       "      <td>1.0</td>\n",
       "      <td>0.0</td>\n",
       "      <td>0.000000</td>\n",
       "      <td>0.0</td>\n",
       "      <td>0.0</td>\n",
       "      <td>0.000000</td>\n",
       "      <td>0.0</td>\n",
       "      <td>0.0</td>\n",
       "      <td>0.0</td>\n",
       "      <td>0.0</td>\n",
       "    </tr>\n",
       "    <tr>\n",
       "      <th>UC2l6OWk60KMxYBheRYEynIQ</th>\n",
       "      <td>0.0</td>\n",
       "      <td>0.0</td>\n",
       "      <td>0.0</td>\n",
       "      <td>0.000000</td>\n",
       "      <td>0.985075</td>\n",
       "      <td>0.0</td>\n",
       "      <td>0.0</td>\n",
       "      <td>0.014925</td>\n",
       "      <td>0.0</td>\n",
       "      <td>0.0</td>\n",
       "      <td>0.000000</td>\n",
       "      <td>0.0</td>\n",
       "      <td>0.0</td>\n",
       "      <td>0.0</td>\n",
       "      <td>0.0</td>\n",
       "    </tr>\n",
       "    <tr>\n",
       "      <th>UC35aJQFGtk6gzPvabBSJiIA</th>\n",
       "      <td>0.0</td>\n",
       "      <td>0.0</td>\n",
       "      <td>0.0</td>\n",
       "      <td>0.000000</td>\n",
       "      <td>1.000000</td>\n",
       "      <td>0.0</td>\n",
       "      <td>0.0</td>\n",
       "      <td>0.000000</td>\n",
       "      <td>0.0</td>\n",
       "      <td>0.0</td>\n",
       "      <td>0.000000</td>\n",
       "      <td>0.0</td>\n",
       "      <td>0.0</td>\n",
       "      <td>0.0</td>\n",
       "      <td>0.0</td>\n",
       "    </tr>\n",
       "  </tbody>\n",
       "</table>\n",
       "</div>"
      ],
      "text/plain": [
       "                          categories_Autos & Vehicles  categories_Comedy  \\\n",
       "channel_id                                                                 \n",
       "UC-tLyAaPbRZiYrOJxAGB7dQ                          0.0                0.0   \n",
       "UC1L-krRCB6-duxpU6lKX0pQ                          0.0                0.0   \n",
       "UC2NpT7HjtDpNlwsRSXNwDNQ                          0.0                0.0   \n",
       "UC2l6OWk60KMxYBheRYEynIQ                          0.0                0.0   \n",
       "UC35aJQFGtk6gzPvabBSJiIA                          0.0                0.0   \n",
       "\n",
       "                          categories_Education  categories_Entertainment  \\\n",
       "channel_id                                                                 \n",
       "UC-tLyAaPbRZiYrOJxAGB7dQ                   1.0                  0.000000   \n",
       "UC1L-krRCB6-duxpU6lKX0pQ                   0.0                  0.012821   \n",
       "UC2NpT7HjtDpNlwsRSXNwDNQ                   0.0                  0.000000   \n",
       "UC2l6OWk60KMxYBheRYEynIQ                   0.0                  0.000000   \n",
       "UC35aJQFGtk6gzPvabBSJiIA                   0.0                  0.000000   \n",
       "\n",
       "                          categories_Film & Animation  categories_Gaming  \\\n",
       "channel_id                                                                 \n",
       "UC-tLyAaPbRZiYrOJxAGB7dQ                     0.000000                0.0   \n",
       "UC1L-krRCB6-duxpU6lKX0pQ                     0.000000                0.0   \n",
       "UC2NpT7HjtDpNlwsRSXNwDNQ                     0.000000                1.0   \n",
       "UC2l6OWk60KMxYBheRYEynIQ                     0.985075                0.0   \n",
       "UC35aJQFGtk6gzPvabBSJiIA                     1.000000                0.0   \n",
       "\n",
       "                          categories_Howto & Style  categories_Music  \\\n",
       "channel_id                                                             \n",
       "UC-tLyAaPbRZiYrOJxAGB7dQ                       0.0          0.000000   \n",
       "UC1L-krRCB6-duxpU6lKX0pQ                       0.0          0.884615   \n",
       "UC2NpT7HjtDpNlwsRSXNwDNQ                       0.0          0.000000   \n",
       "UC2l6OWk60KMxYBheRYEynIQ                       0.0          0.014925   \n",
       "UC35aJQFGtk6gzPvabBSJiIA                       0.0          0.000000   \n",
       "\n",
       "                          categories_News & Politics  \\\n",
       "channel_id                                             \n",
       "UC-tLyAaPbRZiYrOJxAGB7dQ                         0.0   \n",
       "UC1L-krRCB6-duxpU6lKX0pQ                         0.0   \n",
       "UC2NpT7HjtDpNlwsRSXNwDNQ                         0.0   \n",
       "UC2l6OWk60KMxYBheRYEynIQ                         0.0   \n",
       "UC35aJQFGtk6gzPvabBSJiIA                         0.0   \n",
       "\n",
       "                          categories_Nonprofits & Activism  \\\n",
       "channel_id                                                   \n",
       "UC-tLyAaPbRZiYrOJxAGB7dQ                               0.0   \n",
       "UC1L-krRCB6-duxpU6lKX0pQ                               0.0   \n",
       "UC2NpT7HjtDpNlwsRSXNwDNQ                               0.0   \n",
       "UC2l6OWk60KMxYBheRYEynIQ                               0.0   \n",
       "UC35aJQFGtk6gzPvabBSJiIA                               0.0   \n",
       "\n",
       "                          categories_People & Blogs  \\\n",
       "channel_id                                            \n",
       "UC-tLyAaPbRZiYrOJxAGB7dQ                   0.000000   \n",
       "UC1L-krRCB6-duxpU6lKX0pQ                   0.102564   \n",
       "UC2NpT7HjtDpNlwsRSXNwDNQ                   0.000000   \n",
       "UC2l6OWk60KMxYBheRYEynIQ                   0.000000   \n",
       "UC35aJQFGtk6gzPvabBSJiIA                   0.000000   \n",
       "\n",
       "                          categories_Pets & Animals  \\\n",
       "channel_id                                            \n",
       "UC-tLyAaPbRZiYrOJxAGB7dQ                        0.0   \n",
       "UC1L-krRCB6-duxpU6lKX0pQ                        0.0   \n",
       "UC2NpT7HjtDpNlwsRSXNwDNQ                        0.0   \n",
       "UC2l6OWk60KMxYBheRYEynIQ                        0.0   \n",
       "UC35aJQFGtk6gzPvabBSJiIA                        0.0   \n",
       "\n",
       "                          categories_Science & Technology  categories_Sports  \\\n",
       "channel_id                                                                     \n",
       "UC-tLyAaPbRZiYrOJxAGB7dQ                              0.0                0.0   \n",
       "UC1L-krRCB6-duxpU6lKX0pQ                              0.0                0.0   \n",
       "UC2NpT7HjtDpNlwsRSXNwDNQ                              0.0                0.0   \n",
       "UC2l6OWk60KMxYBheRYEynIQ                              0.0                0.0   \n",
       "UC35aJQFGtk6gzPvabBSJiIA                              0.0                0.0   \n",
       "\n",
       "                          categories_Travel & Events  \n",
       "channel_id                                            \n",
       "UC-tLyAaPbRZiYrOJxAGB7dQ                         0.0  \n",
       "UC1L-krRCB6-duxpU6lKX0pQ                         0.0  \n",
       "UC2NpT7HjtDpNlwsRSXNwDNQ                         0.0  \n",
       "UC2l6OWk60KMxYBheRYEynIQ                         0.0  \n",
       "UC35aJQFGtk6gzPvabBSJiIA                         0.0  "
      ]
     },
     "metadata": {},
     "output_type": "display_data"
    },
    {
     "name": "stdout",
     "output_type": "stream",
     "text": [
      "(66, 15)\n",
      "Check the sum of proportions is equal to 1: min_sum_categories = 0.9999999999999999.\n"
     ]
    }
   ],
   "source": [
    "# Distribution of videos over categories of keep channels before sudden growth\n",
    "keep_metavideos_before_sudden_growth_dummies_grouped = keep_metavideos_before_sudden_growth_dummies.groupby(\"channel_id\")\n",
    "num_videos_k_b = keep_metavideos_before_sudden_growth_dummies_grouped.count()[\"crawl_date\"]\n",
    "num_videos_per_cat_k_b = keep_metavideos_before_sudden_growth_dummies_grouped.sum()\n",
    "\n",
    "prop_videos_per_cat_k_b = num_videos_per_cat_k_b.divide(num_videos_k_b, axis = 0)\n",
    "display(prop_videos_per_cat_k_b.head())\n",
    "print(prop_videos_per_cat_k_b.shape)\n",
    "print(f\"Check the sum of proportions is equal to 1: min_sum_categories = {prop_videos_per_cat_k_b.sum(axis = 1).min()}.\")"
   ]
  },
  {
   "cell_type": "code",
   "execution_count": 108,
   "metadata": {},
   "outputs": [
    {
     "data": {
      "image/png": "[encoded data removed]",
      "text/plain": [
       "<Figure size 640x480 with 1 Axes>"
      ]
     },
     "metadata": {},
     "output_type": "display_data"
    }
   ],
   "source": [
    "import seaborn as sns\n",
    "video_distr_for_plotting = pd.concat(\\\n",
    "    [prop_videos_per_cat_l_a.mean(), prop_videos_per_cat_k_a.mean(), prop_videos_per_cat_l_b.mean(), prop_videos_per_cat_k_b.mean()], axis=1)\\\n",
    "    .rename(columns={0:\"lose_after\", 1:\"lose_before\", 2:\"keep_after\", 3:\"keep_before\"})\n",
    "\n",
    "video_distr_for_plotting.reset_index(inplace=True)\n",
    "video_distr_for_plotting = video_distr_for_plotting.melt('index', var_name='population', value_name='vals')\n",
    "\n",
    "sns.barplot(data=video_distr_for_plotting, x=\"index\", y=\"vals\", hue=\"population\", palette=\"hls\")\n",
    "plt.xticks(rotation=90);"
   ]
  },
  {
   "attachments": {},
   "cell_type": "markdown",
   "metadata": {},
   "source": [
    "##### Statistical analysis of the distribution of videos over categories "
   ]
  },
  {
   "cell_type": "code",
   "execution_count": 111,
   "metadata": {},
   "outputs": [
    {
     "data": {
      "text/html": [
       "<div>\n",
       "<style scoped>\n",
       "    .dataframe tbody tr th:only-of-type {\n",
       "        vertical-align: middle;\n",
       "    }\n",
       "\n",
       "    .dataframe tbody tr th {\n",
       "        vertical-align: top;\n",
       "    }\n",
       "\n",
       "    .dataframe thead th {\n",
       "        text-align: right;\n",
       "    }\n",
       "</style>\n",
       "<table border=\"1\" class=\"dataframe\">\n",
       "  <thead>\n",
       "    <tr style=\"text-align: right;\">\n",
       "      <th></th>\n",
       "      <th>categories</th>\n",
       "      <th>channel_id</th>\n",
       "      <th>crawl_date</th>\n",
       "      <th>description</th>\n",
       "      <th>dislike_count</th>\n",
       "      <th>display_id</th>\n",
       "      <th>duration</th>\n",
       "      <th>like_count</th>\n",
       "      <th>tags</th>\n",
       "      <th>title</th>\n",
       "      <th>upload_date</th>\n",
       "      <th>view_count</th>\n",
       "      <th>num_tags</th>\n",
       "      <th>max_growth_date</th>\n",
       "      <th>before_fame</th>\n",
       "    </tr>\n",
       "  </thead>\n",
       "  <tbody>\n",
       "    <tr>\n",
       "      <th>1313</th>\n",
       "      <td>Science &amp; Technology</td>\n",
       "      <td>UCpd0xtuhhWwUug1bk84usiA</td>\n",
       "      <td>2019-11-04 03:41:28.800700</td>\n",
       "      <td>Geleneksel bir perakendeci, hizmet sektöründe ...</td>\n",
       "      <td>5.0</td>\n",
       "      <td>f9EV5Ga328s</td>\n",
       "      <td>234</td>\n",
       "      <td>58.0</td>\n",
       "      <td>sosyal ağlar,Online,skills,organik,Büyüme,E-ti...</td>\n",
       "      <td>Online mağazanızı kurun - E-ticaret kullanarak...</td>\n",
       "      <td>2017-09-15 00:00:00</td>\n",
       "      <td>4695.0</td>\n",
       "      <td>34</td>\n",
       "      <td>2018-04-02 01:00:00</td>\n",
       "      <td>1</td>\n",
       "    </tr>\n",
       "    <tr>\n",
       "      <th>28860</th>\n",
       "      <td>Howto &amp; Style</td>\n",
       "      <td>UCsgkhimI0MthrMZo-F2zrTQ</td>\n",
       "      <td>2019-11-19 20:34:19.140830</td>\n",
       "      <td>I watched the Democrat debate since a good war...</td>\n",
       "      <td>20.0</td>\n",
       "      <td>8qTk5cIII5U</td>\n",
       "      <td>1002</td>\n",
       "      <td>151.0</td>\n",
       "      <td>rick gore,gun tactics,deadly force,survivalist...</td>\n",
       "      <td>Democratic Presidential Debate Review 2015 - W...</td>\n",
       "      <td>2015-10-14 00:00:00</td>\n",
       "      <td>2991.0</td>\n",
       "      <td>22</td>\n",
       "      <td>2018-05-07 00:00:00</td>\n",
       "      <td>1</td>\n",
       "    </tr>\n",
       "    <tr>\n",
       "      <th>16428</th>\n",
       "      <td>Gaming</td>\n",
       "      <td>UCXQexglLCaJyTImYLmSO9Ng</td>\n",
       "      <td>2019-11-20 23:52:34.422433</td>\n",
       "      <td>Watch one of the forgotten videos (intro for a...</td>\n",
       "      <td>1.0</td>\n",
       "      <td>CR5vVD9_G5g</td>\n",
       "      <td>43</td>\n",
       "      <td>23.0</td>\n",
       "      <td>esl,tv,es.tv,esl-tv,esl_tv,electronic,sports,l...</td>\n",
       "      <td>Forgotten files: Looking for movies</td>\n",
       "      <td>2010-11-16 00:00:00</td>\n",
       "      <td>1806.0</td>\n",
       "      <td>23</td>\n",
       "      <td>2019-05-27 00:00:00</td>\n",
       "      <td>1</td>\n",
       "    </tr>\n",
       "    <tr>\n",
       "      <th>18501</th>\n",
       "      <td>Music</td>\n",
       "      <td>UCK7V1UcYLOBWk6Ur4Wf8wrg</td>\n",
       "      <td>2019-11-01 02:59:31.362457</td>\n",
       "      <td>MSFTSrep MUSIC\\n\\n• Follow: Jaden Smith\\n\\n►Tw...</td>\n",
       "      <td>23.0</td>\n",
       "      <td>WdC-7dJK2Bw</td>\n",
       "      <td>228</td>\n",
       "      <td>1164.0</td>\n",
       "      <td>NaN</td>\n",
       "      <td>Jaden Smith - Girl I'm In Love With You</td>\n",
       "      <td>2018-01-04 00:00:00</td>\n",
       "      <td>53001.0</td>\n",
       "      <td>1</td>\n",
       "      <td>2018-11-04 23:00:00</td>\n",
       "      <td>1</td>\n",
       "    </tr>\n",
       "    <tr>\n",
       "      <th>12111</th>\n",
       "      <td>Gaming</td>\n",
       "      <td>UCXQexglLCaJyTImYLmSO9Ng</td>\n",
       "      <td>2019-11-20 23:51:13.529018</td>\n",
       "      <td>The ESL Pro League returns for its fifth seaso...</td>\n",
       "      <td>3.0</td>\n",
       "      <td>APiWdUWx9iA</td>\n",
       "      <td>3216</td>\n",
       "      <td>113.0</td>\n",
       "      <td>ESL,Counter-Strike,North,NaVi,Pro league,ProLe...</td>\n",
       "      <td>CS:GO - Na'Vi vs. North [Cbble] Map 1 - ESL Pr...</td>\n",
       "      <td>2017-03-24 00:00:00</td>\n",
       "      <td>9143.0</td>\n",
       "      <td>20</td>\n",
       "      <td>2019-05-27 00:00:00</td>\n",
       "      <td>1</td>\n",
       "    </tr>\n",
       "  </tbody>\n",
       "</table>\n",
       "</div>"
      ],
      "text/plain": [
       "                 categories                channel_id  \\\n",
       "1313   Science & Technology  UCpd0xtuhhWwUug1bk84usiA   \n",
       "28860         Howto & Style  UCsgkhimI0MthrMZo-F2zrTQ   \n",
       "16428                Gaming  UCXQexglLCaJyTImYLmSO9Ng   \n",
       "18501                 Music  UCK7V1UcYLOBWk6Ur4Wf8wrg   \n",
       "12111                Gaming  UCXQexglLCaJyTImYLmSO9Ng   \n",
       "\n",
       "                       crawl_date  \\\n",
       "1313   2019-11-04 03:41:28.800700   \n",
       "28860  2019-11-19 20:34:19.140830   \n",
       "16428  2019-11-20 23:52:34.422433   \n",
       "18501  2019-11-01 02:59:31.362457   \n",
       "12111  2019-11-20 23:51:13.529018   \n",
       "\n",
       "                                             description  dislike_count  \\\n",
       "1313   Geleneksel bir perakendeci, hizmet sektöründe ...            5.0   \n",
       "28860  I watched the Democrat debate since a good war...           20.0   \n",
       "16428  Watch one of the forgotten videos (intro for a...            1.0   \n",
       "18501  MSFTSrep MUSIC\\n\\n• Follow: Jaden Smith\\n\\n►Tw...           23.0   \n",
       "12111  The ESL Pro League returns for its fifth seaso...            3.0   \n",
       "\n",
       "        display_id  duration  like_count  \\\n",
       "1313   f9EV5Ga328s       234        58.0   \n",
       "28860  8qTk5cIII5U      1002       151.0   \n",
       "16428  CR5vVD9_G5g        43        23.0   \n",
       "18501  WdC-7dJK2Bw       228      1164.0   \n",
       "12111  APiWdUWx9iA      3216       113.0   \n",
       "\n",
       "                                                    tags  \\\n",
       "1313   sosyal ağlar,Online,skills,organik,Büyüme,E-ti...   \n",
       "28860  rick gore,gun tactics,deadly force,survivalist...   \n",
       "16428  esl,tv,es.tv,esl-tv,esl_tv,electronic,sports,l...   \n",
       "18501                                                NaN   \n",
       "12111  ESL,Counter-Strike,North,NaVi,Pro league,ProLe...   \n",
       "\n",
       "                                                   title          upload_date  \\\n",
       "1313   Online mağazanızı kurun - E-ticaret kullanarak...  2017-09-15 00:00:00   \n",
       "28860  Democratic Presidential Debate Review 2015 - W...  2015-10-14 00:00:00   \n",
       "16428                Forgotten files: Looking for movies  2010-11-16 00:00:00   \n",
       "18501            Jaden Smith - Girl I'm In Love With You  2018-01-04 00:00:00   \n",
       "12111  CS:GO - Na'Vi vs. North [Cbble] Map 1 - ESL Pr...  2017-03-24 00:00:00   \n",
       "\n",
       "       view_count  num_tags     max_growth_date  before_fame  \n",
       "1313       4695.0        34 2018-04-02 01:00:00            1  \n",
       "28860      2991.0        22 2018-05-07 00:00:00            1  \n",
       "16428      1806.0        23 2019-05-27 00:00:00            1  \n",
       "18501     53001.0         1 2018-11-04 23:00:00            1  \n",
       "12111      9143.0        20 2019-05-27 00:00:00            1  "
      ]
     },
     "metadata": {},
     "output_type": "display_data"
    },
    {
     "data": {
      "text/plain": [
       "(75, 14)"
      ]
     },
     "execution_count": 111,
     "metadata": {},
     "output_type": "execute_result"
    }
   ],
   "source": [
    "keep_fame_metavideos['before_fame'] = np.where(keep_fame_metavideos[\"upload_date\"] > keep_fame_metavideos[\"max_growth_date\"], 0, 1)\n",
    "lose_fame_metavideos['before_fame'] = np.where(lose_fame_metavideos[\"upload_date\"] > lose_fame_metavideos[\"max_growth_date\"], 0, 1)\n",
    "display(keep_fame_metavideos.sample(5))\n",
    "keep_fame_metavideos.groupby(\"channel_id\").count().shape"
   ]
  },
  {
   "cell_type": "code",
   "execution_count": 113,
   "metadata": {},
   "outputs": [],
   "source": [
    "contingency_table_lose = {}\n",
    "results_lose = {}\n",
    "for channel in lose_fame_metavideos['channel_id'].unique():\n",
    "    \n",
    "    if channel in contingency_table_lose:\n",
    "        continue\n",
    "    else:\n",
    "        df_of_channel = lose_fame_metavideos[lose_fame_metavideos[\"channel_id\"] == f\"{channel}\"]\n",
    "        \n",
    "        contingency_table_lose[f\"{channel}\"] = pd.crosstab(df_of_channel[\"before_fame\"], df_of_channel[\"categories\"])\n",
    "        chi2, p, dof, expected = scs.chi2_contingency(contingency_table_lose[f\"{channel}\"])\n",
    "        results_lose[f\"{channel}\"] = [chi2, p, dof, expected]"
   ]
  },
  {
   "cell_type": "code",
   "execution_count": 114,
   "metadata": {},
   "outputs": [
    {
     "name": "stdout",
     "output_type": "stream",
     "text": [
      "UCphO96ypf0z0ynM5r5rDF6w: chi-stat 9.04779411764706 -- p-value 0.010846671081649481\n",
      "UCytLmyg_OJXmNkHEMS0w2Cw: chi-stat 103.90337409506981 -- p-value 1.4506037339594293e-21\n",
      "UCmHr3gIlwwgdj_kVTcW-yqw: chi-stat 17.529384703852784 -- p-value 0.00015615017524861662\n",
      "UCj-J4HHrtX3gT9ZEWqAf2Dw: chi-stat 299.6415502796173 -- p-value 1.1894531885294357e-64\n",
      "UCiIfXQzQUTQtHSgb4ce247g: chi-stat 748.4816717466243 -- p-value 8.581066057461583e-165\n",
      "UCgvVxB6GKYpyZY1Hh9u-uSQ: chi-stat 24.270289097875303 -- p-value 2.1935687880202468e-05\n",
      "UCeLh8W_7_Y8xxIlCA3iT8gw: chi-stat 267.63948083837585 -- p-value 7.635283483575694e-59\n",
      "UCcEWKT3bmBENciUiAKDjIOQ: chi-stat 75.14124293785311 -- p-value 4.8226574387462816e-17\n",
      "UCaOI6eIy2scNgiaNwxWiaYg: chi-stat 47.30840590947686 -- p-value 6.065156103550415e-12\n",
      "UCa1yUHQmV6Z0PpAUtfgNd9g: chi-stat 23.595435326908543 -- p-value 0.00025962660572354364\n",
      "UCWKeZvw4iSZVM2qXKZde58A: chi-stat 144.9367741935484 -- p-value 2.474456805026227e-30\n",
      "UCTiMHUxl_43kP2X4y4JFgdg: chi-stat 25.56057098765432 -- p-value 1.1787129460425228e-05\n",
      "UCSY73HESo_bPc8RQblsVBHw: chi-stat 9.936575052854122 -- p-value 0.0191130364265256\n",
      "UCPguA0rB8zltTMt_8imP61A: chi-stat 22.61421734234234 -- p-value 1.9801386697995507e-06\n",
      "UCPRPRda5cTEGwoQM_LAV6sg: chi-stat 13.924394741061406 -- p-value 0.007540307184099272\n",
      "UCKCWzpfMtsofk8bm80WzwmA: chi-stat 9.924324324324324 -- p-value 0.006997781126098492\n",
      "UCK8Ln_JXeoRuhH4KVr8yxOQ: chi-stat 136.9318572138244 -- p-value 1.7336239390392318e-29\n",
      "UCzageIVSvgSN0VbardY4-jA: chi-stat 6.652725563909776 -- p-value 0.009900426394691405\n",
      "UCIr5p9znjWkmlUebyBvqZmQ: chi-stat 88.03329563936998 -- p-value 3.444973551616586e-18\n",
      "UCHqg6JUfdKKp49t8MizaDqw: chi-stat 12.972582972582973 -- p-value 0.01141053828016654\n",
      "UCCSVLu7cnoSqzqH9tMxYFag: chi-stat 11.000000000000002 -- p-value 0.004086771438464062\n",
      "UCBCrq2Nm6qVojyL8l73wyhg: chi-stat 14.08695652173913 -- p-value 0.000873084459200987\n",
      "UC9sEGojKw0yOs8os6WfXUSg: chi-stat 40.132314744079444 -- p-value 4.0640954988272004e-08\n",
      "UC9GcZThA6s1i7Ajl4j1qsPg: chi-stat 33.17827868852459 -- p-value 2.953512439243435e-07\n",
      "UC7ZnsXSgNrYiyumvY5ZCzxA: chi-stat 72.25291353383459 -- p-value 1.4051982076823416e-15\n",
      "UC6vvD9LkAvhQzItm1kCtCfg: chi-stat 14.936741817349505 -- p-value 0.010636077731576408\n",
      "UCuGzr7zMBxGcvBCNhl409sg: chi-stat 17.39181818181818 -- p-value 0.00016726869425052557\n",
      "UC6JmzBg0e91_OAiPeEnRf0w: chi-stat 11.551190476190477 -- p-value 0.009089931126476653\n",
      "UC58oMWCDv9UsCjl4TJWReGw: chi-stat 76.00474383301707 -- p-value 2.2067102487484676e-16\n",
      "UC1TBvaAmpKfSBpwquEakSMw: chi-stat 14.620528198653199 -- p-value 0.0001314745670350825\n",
      "UCstTfKAdrk7W8TsPiIrKrVw: chi-stat 21.0 -- p-value 0.0003166691675220923\n"
     ]
    }
   ],
   "source": [
    "# DUBBIO AMLETICO: categorie considerate TIENI A ZERO\n",
    "for key in results_lose:\n",
    "    if results_lose[key][1] < 0.05:\n",
    "        print(f\"{key}: chi-stat {results_lose[key][0]} -- p-value {results_lose[key][1]}\")"
   ]
  },
  {
   "cell_type": "code",
   "execution_count": 115,
   "metadata": {},
   "outputs": [],
   "source": [
    "contingency_table_keep = {}\n",
    "results_keep = {}\n",
    "\n",
    "for channel in keep_fame_metavideos['channel_id'].unique():\n",
    "    if channel in contingency_table_keep:\n",
    "        continue\n",
    "    else:\n",
    "        df_of_channel = keep_fame_metavideos[keep_fame_metavideos[\"channel_id\"] == f\"{channel}\"]\n",
    "        \n",
    "        contingency_table_keep[f\"{channel}\"] = pd.crosstab(df_of_channel[\"before_fame\"], df_of_channel[\"categories\"])\n",
    "        chi2, p, dof, expected = scs.chi2_contingency(contingency_table_keep[f\"{channel}\"])\n",
    "        results_keep[f\"{channel}\"] = [chi2, p, dof, expected]\n"
   ]
  },
  {
   "cell_type": "code",
   "execution_count": 116,
   "metadata": {},
   "outputs": [
    {
     "name": "stdout",
     "output_type": "stream",
     "text": [
      "UCzVnXCLWqY5dtOBn9UZoFTw: chi-stat 52.67738831145983 -- p-value 3.930907933725064e-13\n",
      "UCrHUdW8KCyqXX9pBYtSp0Pw: chi-stat 31.25244135567044 -- p-value 8.351235041644888e-06\n",
      "UCpd0xtuhhWwUug1bk84usiA: chi-stat 28.820784363417147 -- p-value 7.939451451902105e-08\n",
      "UCpci_E3rz6pTveUgZMF6Jjg: chi-stat 251.2441839431392 -- p-value 2.7734392127288478e-55\n",
      "UCoe22kmGNpHmYBV220VW3PQ: chi-stat 27.1875 -- p-value 1.2482724531808147e-06\n",
      "UCkYQmpR28_mtoOtz4zxE-UQ: chi-stat 27.723913043478262 -- p-value 0.0010606121801316638\n",
      "UCitT48tHffPMf0UfYYizedQ: chi-stat 11.105303444505196 -- p-value 0.003877162442106955\n",
      "UChv8Af2iQymYKPcT2R9zGgA: chi-stat 40.55720296082976 -- p-value 0.000208756311696821\n",
      "UCfkLORBXRuCEL4L9Xp5ED-Q: chi-stat 6.5360243055555545 -- p-value 0.010571133658950271\n",
      "UCekZMO1ElC_qGzNGMRbNV_w: chi-stat 164.68000749451207 -- p-value 1.4489194699487956e-34\n",
      "UCe0Nogjw-jIe5PC_hHyiN3Q: chi-stat 68.9887387186464 -- p-value 1.0454077864721998e-15\n",
      "UCWQNxN6-Ur_VJyBR1YRxbeQ: chi-stat 18.643867895143405 -- p-value 0.0450263295870786\n",
      "UCSqTvFl6_d31Ocb6sFY5GQQ: chi-stat 39.96047921688948 -- p-value 2.5915350744446867e-10\n",
      "UCPrzAO5xhs3sPS5I9UckCsA: chi-stat 79.69904375319194 -- p-value 3.5611420907186834e-17\n",
      "UCPB8PC7nHUOR6SNvLKgNirg: chi-stat 14.297360248447204 -- p-value 0.0007859006883453897\n",
      "UCKgr6HfwNolb_8t6t8aEuog: chi-stat 29.433431085043985 -- p-value 1.8156815956933186e-06\n",
      "UCJQD78k6gcr8LWQJi0drgJA: chi-stat 17.71304347826087 -- p-value 0.0014040583736821704\n",
      "UCFs9b_YD0JNvBHYdJFA-Q1A: chi-stat 38.966390676502904 -- p-value 3.4558570895897376e-09\n",
      "UCCATwFwBuKLpVBslZBrrnAg: chi-stat 32.71954740325401 -- p-value 1.3632785945230416e-06\n",
      "UCBpbbcLXYkP5MzJ7D052L5w: chi-stat 24.67238952997467 -- p-value 1.8077708580972363e-05\n",
      "UC9qgVkKRZUXcgHdf35Z-8dw: chi-stat 195.670243107429 -- p-value 3.6362336359434166e-42\n",
      "UC7D1xOXB85kyH_qs3gTpe2g: chi-stat 4.80695564516129 -- p-value 0.028345077963303735\n",
      "UC61zSeZctg2AEP3dUJgH3GA: chi-stat 8.221797733516482 -- p-value 0.004139017694908763\n",
      "UC5hSEcMWatJzXpjQHyC0zSQ: chi-stat 122.88492169618189 -- p-value 1.2922850177889788e-25\n",
      "UC5S-Z0iMDZYMjTwg0pjFlyw: chi-stat 18.1010101010101 -- p-value 2.0949026955214017e-05\n",
      "UC3NAMaMH0UGSnfqVoOp6EHA: chi-stat 60.08247756125172 -- p-value 8.979574708081726e-14\n",
      "UCtpy51Y9Nj0375SC9HpE62Q: chi-stat 12.560987903225804 -- p-value 0.01363254621363015\n",
      "UCskSW39nbaWKSdtdaPrY5IA: chi-stat 47.256038647343 -- p-value 5.476228856880474e-11\n",
      "UCsgkhimI0MthrMZo-F2zrTQ: chi-stat 165.47728096115898 -- p-value 9.772167554783095e-35\n"
     ]
    }
   ],
   "source": [
    "for key in results_keep:\n",
    "    if results_keep[key][1] < 0.05:\n",
    "        print(f\"{key}: chi-stat {results_keep[key][0]} -- p-value {results_keep[key][1]}\")"
   ]
  },
  {
   "attachments": {},
   "cell_type": "markdown",
   "metadata": {},
   "source": [
    "<font color = 'red'> HOW TO DO THE COMPARISON OF THE DISTRIBUTIONS OF THE DISTRIBUTIONS?"
   ]
  },
  {
   "attachments": {},
   "cell_type": "markdown",
   "metadata": {},
   "source": [
    "### Analysis within categories\n",
    "<font color='green'> **TO DO**"
   ]
  },
  {
   "cell_type": "code",
   "execution_count": 117,
   "metadata": {},
   "outputs": [],
   "source": [
    "categories_to_analyse = [\"Entertainment\", \"Gaming\", \"Music\", \"People & Blogs\"]\n"
   ]
  },
  {
   "cell_type": "code",
   "execution_count": 130,
   "metadata": {},
   "outputs": [
    {
     "name": "stdout",
     "output_type": "stream",
     "text": [
      "Category: Entertainment\n",
      "check shapes: (35, 13)         (22, 13)         (31, 13)         (37, 13)\n",
      "Category: Gaming\n",
      "check shapes: (19, 13)         (12, 13)         (17, 13)         (15, 13)\n",
      "Category: Music\n",
      "check shapes: (19, 13)         (10, 13)         (14, 13)         (18, 13)\n",
      "Category: People & Blogs\n",
      "check shapes: (3, 13)         (11, 13)         (22, 13)         (33, 13)\n"
     ]
    }
   ],
   "source": [
    "result = {}\n",
    "\n",
    "for i in categories_to_analyse:\n",
    "    dict_category = {}\n",
    "\n",
    "    print(f\"Category: {i}\")\n",
    "    \n",
    "    # filter by category\n",
    "    L_A_metavideos = lose_metavideos_after_sudden_growth[lose_metavideos_after_sudden_growth[\"categories\"] == i]\n",
    "    K_A_metavideos = keep_metavideos_after_sudden_growth[keep_metavideos_after_sudden_growth[\"categories\"] == i]\n",
    "    L_B_metavideos = lose_metavideos_before_sudden_growth[lose_metavideos_before_sudden_growth[\"categories\"] == i]\n",
    "    K_B_metavideos = keep_metavideos_before_sudden_growth[keep_metavideos_before_sudden_growth[\"categories\"] == i]\n",
    "    print(f\"check shapes: {L_A_metavideos.groupby('channel_id').count().shape} \\\n",
    "        {K_A_metavideos.groupby('channel_id').count().shape} \\\n",
    "        {L_B_metavideos.groupby('channel_id').count().shape} \\\n",
    "        {K_B_metavideos.groupby('channel_id').count().shape}\")\n",
    "\n",
    "    L_ts = lose_fame_ts[lose_fame_ts[\"channel\"].isin(L_A_metavideos[\"channel_id\"])]\n",
    "    K_ts = keep_fame_ts[keep_fame_ts[\"channel\"].isin(K_A_metavideos[\"channel_id\"])]\n",
    "\n",
    "    # frequency of publication\n",
    "    L_A_num_metavideos = L_A_metavideos.groupby(\"channel_id\").count()['duration']\n",
    "    K_A_num_metavideos = K_A_metavideos.groupby(\"channel_id\").count()['duration']\n",
    "    L_B_num_metavideos = L_B_metavideos.groupby(\"channel_id\").count()['duration']\n",
    "    K_B_num_metavideos = K_B_metavideos.groupby(\"channel_id\").count()['duration']\n",
    "   \n",
    "    L_A_time = (L_ts.groupby(\"channel\")['datetime'].max() - L_ts.groupby(\"channel\")['max_growth_date'].mean()).dt.days\n",
    "    K_A_time = (K_ts.groupby(\"channel\")['datetime'].max() - K_ts.groupby(\"channel\")['max_growth_date'].mean()).dt.days\n",
    "    L_B_time = (L_ts.groupby(\"channel\")['max_growth_date'].mean() - L_ts.groupby(\"channel\")['datetime'].min()).dt.days\n",
    "    K_B_time = (K_ts.groupby(\"channel\")['max_growth_date'].mean() - K_ts.groupby(\"channel\")['datetime'].min()).dt.days\n",
    "    \n",
    "    L_A_freq = L_A_num_metavideos / L_A_time\n",
    "    K_A_freq = K_A_num_metavideos / K_A_time\n",
    "    L_B_freq = L_B_num_metavideos / L_B_time\n",
    "    K_B_freq = K_B_num_metavideos / K_B_time\n",
    "\n",
    "    dict_category[\"freq_of_publication\"] = {'L_A_freq': L_A_freq, 'K_A_freq': K_A_freq, 'L_B_freq': L_B_freq, 'K_B_freq': K_B_freq}\n",
    "\n",
    "    # duration of videos\n",
    "    L_A_duration = L_A_metavideos.groupby(\"channel_id\").mean()['duration']\n",
    "    K_A_duration = K_A_metavideos.groupby(\"channel_id\").mean()['duration']\n",
    "    L_B_duration = L_B_metavideos.groupby(\"channel_id\").mean()['duration']\n",
    "    K_B_duration = K_B_metavideos.groupby(\"channel_id\").mean()['duration']\n",
    "\n",
    "    dict_category[\"duration_of_videos\"] = {'L_A_duration': L_A_duration, 'K_A_duration': K_A_duration, 'L_B_duration': L_B_duration, 'K_B_duration': K_B_duration}\n",
    "\n",
    "    # number of tags\n",
    "    L_A_num_tags = L_A_metavideos.groupby(\"channel_id\").mean()['num_tags']\n",
    "    K_A_num_tags = K_A_metavideos.groupby(\"channel_id\").mean()['num_tags']\n",
    "    L_B_num_tags = L_B_metavideos.groupby(\"channel_id\").mean()['num_tags']\n",
    "    K_B_num_tags = K_B_metavideos.groupby(\"channel_id\").mean()['num_tags']\n",
    "\n",
    "    dict_category[\"num_of_tags\"] = {'L_A_num_tags': L_A_num_tags, 'K_A_num_tags': K_A_num_tags, 'L_B_num_tags': L_B_num_tags, 'K_B_num_tags': K_B_num_tags}\n",
    "\n",
    "    result[i] = dict_category\n",
    "\n"
   ]
  },
  {
   "attachments": {},
   "cell_type": "markdown",
   "metadata": {},
   "source": [
    "<font color='red'> aiuto devo stringere il numero di categorie?"
   ]
  },
  {
   "attachments": {},
   "cell_type": "markdown",
   "metadata": {},
   "source": [
    "Statistical tests"
   ]
  },
  {
   "cell_type": "code",
   "execution_count": null,
   "metadata": {},
   "outputs": [],
   "source": []
  }
 ],
 "metadata": {
  "kernelspec": {
   "display_name": "ADA",
   "language": "python",
   "name": "python3"
  },
  "language_info": {
   "codemirror_mode": {
    "name": "ipython",
    "version": 3
   },
   "file_extension": ".py",
   "mimetype": "text/x-python",
   "name": "python",
   "nbconvert_exporter": "python",
   "pygments_lexer": "ipython3",
   "version": "3.9.13"
  },
  "orig_nbformat": 4,
  "vscode": {
   "interpreter": {
    "hash": "08c626ceebe7c69241f97e3985d1558429804766161d1f9c70d55723eee9c141"
   }
  }
 },
 "nbformat": 4,
 "nbformat_minor": 2
}
