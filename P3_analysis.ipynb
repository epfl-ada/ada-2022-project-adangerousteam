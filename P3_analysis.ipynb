{
 "cells": [
  {
   "cell_type": "code",
   "execution_count": 1,
   "metadata": {},
   "outputs": [],
   "source": [
    "import pandas as pd\n",
    "import numpy as np\n",
    "import matplotlib.pyplot as plt\n",
    "import scipy.stats as scs\n",
    "from pathlib import Path\n",
    "import os\n",
    "import seaborn as sns\n",
    "\n",
    "DATA_PATH = R\"C:\\Users\\chiar\\OneDrive - epfl.ch\\ADA\\Project\\Dataset\"\n",
    "DATA_PATH = Path(os.path.expandvars(DATA_PATH))"
   ]
  },
  {
   "attachments": {},
   "cell_type": "markdown",
   "metadata": {},
   "source": [
    "#### Data load and separation in \"keep_fame\" and \"lose_fame\" populations"
   ]
  },
  {
   "cell_type": "code",
   "execution_count": 2,
   "metadata": {},
   "outputs": [],
   "source": [
    "# channels_df separated in \"keep_fame\" and \"lose_fame\" after matching\n",
    "keep_fame = pd.read_csv(DATA_PATH / \"keep_fame_after_matching.tsv.gz\", compression='gzip', sep = '\\t')\n",
    "lose_fame = pd.read_csv(DATA_PATH / \"lose_fame_after_matching.tsv.gz\", compression='gzip', sep = '\\t')"
   ]
  },
  {
   "cell_type": "code",
   "execution_count": 3,
   "metadata": {},
   "outputs": [
    {
     "data": {
      "text/plain": [
       "(163, 14)"
      ]
     },
     "execution_count": 3,
     "metadata": {},
     "output_type": "execute_result"
    }
   ],
   "source": [
    "keep_fame.shape"
   ]
  },
  {
   "cell_type": "code",
   "execution_count": 4,
   "metadata": {},
   "outputs": [
    {
     "data": {
      "text/plain": [
       "(163, 14)"
      ]
     },
     "execution_count": 4,
     "metadata": {},
     "output_type": "execute_result"
    }
   ],
   "source": [
    "lose_fame.shape"
   ]
  },
  {
   "cell_type": "code",
   "execution_count": 5,
   "metadata": {},
   "outputs": [
    {
     "data": {
      "text/plain": [
       "Index(['category_cc', 'join_date', 'channel', 'name_cc', 'subscribers_cc',\n",
       "       'videos_cc', 'subscriber_rank_sb', 'weights', 'growth_steepness',\n",
       "       'growth', 'variability', 'growth_rate', 'keep_fame',\n",
       "       'propensity_score'],\n",
       "      dtype='object')"
      ]
     },
     "execution_count": 5,
     "metadata": {},
     "output_type": "execute_result"
    }
   ],
   "source": [
    "keep_fame.columns"
   ]
  },
  {
   "cell_type": "code",
   "execution_count": 6,
   "metadata": {},
   "outputs": [],
   "source": [
    "# timeseries_df loading and separation in \"keep_fame\" and \"lose_fame\" after matching\n",
    "timeseries_df = pd.read_csv(DATA_PATH / \"timeseries_df_filtered.tsv.gz\", compression='gzip', sep = '\\t', parse_dates=['datetime', 'max_growth_date'])\n",
    "keep_fame_ts = timeseries_df[timeseries_df['channel'].isin(keep_fame['channel'])]\n",
    "lose_fame_ts = timeseries_df[timeseries_df['channel'].isin(lose_fame['channel'])]"
   ]
  },
  {
   "cell_type": "code",
   "execution_count": 7,
   "metadata": {},
   "outputs": [
    {
     "data": {
      "text/plain": [
       "(2150, 16)"
      ]
     },
     "execution_count": 7,
     "metadata": {},
     "output_type": "execute_result"
    }
   ],
   "source": [
    "timeseries_df.groupby(\"channel\").count().shape"
   ]
  },
  {
   "cell_type": "code",
   "execution_count": 8,
   "metadata": {},
   "outputs": [
    {
     "data": {
      "text/plain": [
       "(163, 163)"
      ]
     },
     "execution_count": 8,
     "metadata": {},
     "output_type": "execute_result"
    }
   ],
   "source": [
    "len(keep_fame_ts.groupby(\"channel\")), len(lose_fame_ts.groupby(\"channel\"))"
   ]
  },
  {
   "cell_type": "code",
   "execution_count": 9,
   "metadata": {},
   "outputs": [],
   "source": [
    "# metavideos df loading and separation between lose and keep fame\n",
    "meta_video_filt_original = pd.read_csv(DATA_PATH / \"videos_metadata_filtered_population.tsv.gz\", sep='\\t', compression='gzip')\n",
    "\n",
    "# checked that there is a video without category, so we remove it\n",
    "meta_video_filt_original = meta_video_filt_original.drop(meta_video_filt_original[meta_video_filt_original[\"categories\"].isna()].index, axis=0)\n",
    "\n",
    "# we remove the videos that are not in the two populations\n",
    "keep_fame_metavideos = meta_video_filt_original[meta_video_filt_original['channel_id'].isin(keep_fame['channel'])]\n",
    "lose_fame_metavideos = meta_video_filt_original[meta_video_filt_original['channel_id'].isin(lose_fame['channel'])]"
   ]
  },
  {
   "cell_type": "code",
   "execution_count": 10,
   "metadata": {},
   "outputs": [],
   "source": [
    "# metavideos dfs with max growth date\n",
    "keep_fame_metavideos = keep_fame_metavideos.merge(keep_fame_ts.groupby('channel')['max_growth_date'].max(), left_on='channel_id', right_on='channel')\n",
    "lose_fame_metavideos = lose_fame_metavideos.merge(lose_fame_ts.groupby('channel')['max_growth_date'].max(), left_on='channel_id', right_on='channel')"
   ]
  },
  {
   "cell_type": "code",
   "execution_count": 11,
   "metadata": {},
   "outputs": [
    {
     "data": {
      "text/plain": [
       "(163, 13)"
      ]
     },
     "execution_count": 11,
     "metadata": {},
     "output_type": "execute_result"
    }
   ],
   "source": [
    "keep_fame_metavideos.groupby('channel_id').count().shape"
   ]
  },
  {
   "attachments": {},
   "cell_type": "markdown",
   "metadata": {},
   "source": [
    "#### Dataframe separation between before and after growth date"
   ]
  },
  {
   "attachments": {},
   "cell_type": "markdown",
   "metadata": {},
   "source": [
    "<font color = 'green'> **TO DO**"
   ]
  },
  {
   "cell_type": "code",
   "execution_count": 12,
   "metadata": {},
   "outputs": [],
   "source": [
    "matched_channels = pd.read_csv(DATA_PATH / \"matched_channels.tsv.gz\", compression='gzip', sep = '\\t')"
   ]
  },
  {
   "cell_type": "code",
   "execution_count": 13,
   "metadata": {},
   "outputs": [],
   "source": [
    "# keep and lose metavideos dfs divided before and after max growth date\n",
    "keep_metavideos_after_sudden_growth = keep_fame_metavideos[keep_fame_metavideos[\"upload_date\"] > keep_fame_metavideos[\"max_growth_date\"]].copy()\n",
    "lose_metavideos_after_sudden_growth = lose_fame_metavideos[lose_fame_metavideos[\"upload_date\"] > lose_fame_metavideos[\"max_growth_date\"]].copy()\n",
    "keep_metavideos_before_sudden_growth = keep_fame_metavideos[keep_fame_metavideos[\"upload_date\"] <= keep_fame_metavideos[\"max_growth_date\"]].copy()\n",
    "lose_metavideos_before_sudden_growth = lose_fame_metavideos[lose_fame_metavideos[\"upload_date\"] <= lose_fame_metavideos[\"max_growth_date\"]].copy()\n"
   ]
  },
  {
   "cell_type": "code",
   "execution_count": 14,
   "metadata": {},
   "outputs": [
    {
     "name": "stdout",
     "output_type": "stream",
     "text": [
      "Number of keep fame channels selected: 155\n"
     ]
    }
   ],
   "source": [
    "# filter video data of \"keep\" channels that have videos both before sudden growth and after sudden growth\n",
    "channels_k_b = keep_metavideos_before_sudden_growth[\"channel_id\"].unique()\n",
    "channels_k_a = keep_metavideos_after_sudden_growth[\"channel_id\"].unique()\n",
    "index_keep = set.intersection(set(channels_k_b), set(channels_k_a))\n",
    "\n",
    "print(f\"Number of keep fame channels selected: {index_keep.__len__()}\")\n",
    "\n",
    "keep_metavideos_before_sudden_growth = keep_metavideos_before_sudden_growth[keep_metavideos_before_sudden_growth[\"channel_id\"].isin(index_keep)]\n",
    "keep_metavideos_after_sudden_growth = keep_metavideos_after_sudden_growth[keep_metavideos_after_sudden_growth[\"channel_id\"].isin(index_keep)]\n"
   ]
  },
  {
   "cell_type": "code",
   "execution_count": 15,
   "metadata": {},
   "outputs": [
    {
     "name": "stdout",
     "output_type": "stream",
     "text": [
      "Number of lose fame channels selected: 138\n"
     ]
    }
   ],
   "source": [
    "# filter video data of \"lose\" channels that have videos both before sudden growth and after sudden growth\n",
    "channels_l_b = lose_metavideos_before_sudden_growth[\"channel_id\"].unique()\n",
    "channels_l_a = lose_metavideos_after_sudden_growth[\"channel_id\"].unique()\n",
    "index_lose = set.intersection(set(channels_l_b), set(channels_l_a))\n",
    "\n",
    "print(f\"Number of lose fame channels selected: {index_lose.__len__()}\")\n",
    "\n",
    "lose_metavideos_before_sudden_growth = lose_metavideos_before_sudden_growth[lose_metavideos_before_sudden_growth[\"channel_id\"].isin(index_lose)]\n",
    "lose_metavideos_after_sudden_growth = lose_metavideos_after_sudden_growth[lose_metavideos_after_sudden_growth[\"channel_id\"].isin(index_lose)]"
   ]
  },
  {
   "cell_type": "code",
   "execution_count": 16,
   "metadata": {},
   "outputs": [],
   "source": [
    "# remove channels that don't have a match anymore\n",
    "removed_keep = matched_channels[~matched_channels[\"channel_keep\"].isin(index_keep)]\n",
    "removed_lose = matched_channels[~matched_channels[\"channel_lose\"].isin(index_lose)]\n",
    "index_remove = set.union(set(removed_keep[\"channel_lose\"]), set(removed_lose[\"channel_keep\"]))\n",
    "\n",
    "keep_metavideos_after_sudden_growth = keep_metavideos_after_sudden_growth[~keep_metavideos_after_sudden_growth[\"channel_id\"].isin(index_remove)]\n",
    "keep_metavideos_before_sudden_growth = keep_metavideos_before_sudden_growth[~keep_metavideos_before_sudden_growth[\"channel_id\"].isin(index_remove)]\n",
    "lose_metavideos_after_sudden_growth = lose_metavideos_after_sudden_growth[~lose_metavideos_after_sudden_growth[\"channel_id\"].isin(index_remove)]\n",
    "lose_metavideos_before_sudden_growth = lose_metavideos_before_sudden_growth[~lose_metavideos_before_sudden_growth[\"channel_id\"].isin(index_remove)]\n"
   ]
  },
  {
   "cell_type": "code",
   "execution_count": 17,
   "metadata": {},
   "outputs": [
    {
     "name": "stdout",
     "output_type": "stream",
     "text": [
      "Number of channels selected per group: 132\n"
     ]
    }
   ],
   "source": [
    "print(f\"Number of channels selected per group: {lose_metavideos_after_sudden_growth['channel_id'].unique().__len__()}\")"
   ]
  },
  {
   "cell_type": "code",
   "execution_count": 18,
   "metadata": {},
   "outputs": [],
   "source": [
    "# filter timeseries data of \"keep\" and \"lose\" channels that have videos both before sudden growth and after sudden growth\n",
    "keep_fame_ts = keep_fame_ts[keep_fame_ts[\"channel\"].isin(keep_metavideos_after_sudden_growth['channel_id'])]\n",
    "lose_fame_ts = lose_fame_ts[lose_fame_ts[\"channel\"].isin(lose_metavideos_after_sudden_growth['channel_id'])]\n"
   ]
  },
  {
   "cell_type": "code",
   "execution_count": 19,
   "metadata": {},
   "outputs": [],
   "source": [
    "keep_fame_channels = keep_fame[keep_fame[\"channel\"].isin(keep_metavideos_after_sudden_growth['channel_id'])]\n",
    "lose_fame_channels = lose_fame[lose_fame[\"channel\"].isin(lose_metavideos_after_sudden_growth['channel_id'])]"
   ]
  },
  {
   "cell_type": "code",
   "execution_count": 20,
   "metadata": {},
   "outputs": [],
   "source": [
    "cat_distr_for_plotting = pd.concat([keep_fame_channels.groupby(\"category_cc\").count()[\"name_cc\"], lose_fame_channels.groupby(\"category_cc\").count()[\"join_date\"]], axis=1)\\\n",
    "    .rename(columns={\"name_cc\":\"keep\", \"join_date\":\"lose\"})\n",
    "\n",
    "cat_distr_for_plotting.reset_index(inplace=True)\n",
    "cat_distr_for_plotting = cat_distr_for_plotting.melt('category_cc', var_name='population', value_name='vals')\n"
   ]
  },
  {
   "cell_type": "code",
   "execution_count": 21,
   "metadata": {},
   "outputs": [
    {
     "data": {
      "image/png": "[encoded data removed]",
      "text/plain": [
       "<Figure size 640x480 with 1 Axes>"
      ]
     },
     "metadata": {},
     "output_type": "display_data"
    }
   ],
   "source": [
    "sns.barplot(data=cat_distr_for_plotting, x=\"category_cc\", y='vals', hue=\"population\", palette=\"hls\")\n",
    "plt.xticks(rotation=45, ha=\"right\");\n",
    "plt.xlabel(\"Categories\");\n",
    "plt.ylabel(\"Number of channels\");\n",
    "plt.title(\"Distribution of channels per category\");"
   ]
  },
  {
   "attachments": {},
   "cell_type": "markdown",
   "metadata": {},
   "source": [
    "### Analysis"
   ]
  },
  {
   "attachments": {},
   "cell_type": "markdown",
   "metadata": {},
   "source": [
    "<font color = 'green'> **TO DO**"
   ]
  },
  {
   "attachments": {},
   "cell_type": "markdown",
   "metadata": {},
   "source": [
    "##### Frequency of publication"
   ]
  },
  {
   "cell_type": "code",
   "execution_count": 22,
   "metadata": {},
   "outputs": [],
   "source": [
    "# compute number of videos posted by each channel before and after sudden growth\n",
    "keep_num_metavideos_per_channel_after_sudden_growth = keep_metavideos_after_sudden_growth.groupby(\"channel_id\").count()[\"duration\"]\n",
    "keep_num_metavideos_per_channel_before_sudden_growth = keep_metavideos_before_sudden_growth.groupby(\"channel_id\").count()[\"duration\"]\n",
    "lose_num_metavideos_per_channel_after_sudden_growth = lose_metavideos_after_sudden_growth.groupby(\"channel_id\").count()[\"duration\"]\n",
    "lose_num_metavideos_per_channel_before_sudden_growth = lose_metavideos_before_sudden_growth.groupby(\"channel_id\").count()[\"duration\"]"
   ]
  },
  {
   "cell_type": "code",
   "execution_count": 23,
   "metadata": {},
   "outputs": [],
   "source": [
    "# compute time of observation of each channel before and after sudden growth\n",
    "keep_videos_time_after_sudden_growth = (keep_fame_ts.groupby(\"channel\")[\"datetime\"].max() - keep_fame_ts.groupby(\"channel\")[\"max_growth_date\"].mean()).dt.days\n",
    "lose_videos_time_after_sudden_growth = (lose_fame_ts.groupby(\"channel\")[\"datetime\"].max() - lose_fame_ts.groupby(\"channel\")[\"max_growth_date\"].mean()).dt.days\n",
    "keep_videos_time_before_sudden_growth = (keep_fame_ts.groupby(\"channel\")[\"max_growth_date\"].mean() - keep_fame_ts.groupby(\"channel\")[\"datetime\"].min()).dt.days\n",
    "lose_videos_time_before_sudden_growth = (lose_fame_ts.groupby(\"channel\")[\"max_growth_date\"].mean() - lose_fame_ts.groupby(\"channel\")[\"datetime\"].min()).dt.days"
   ]
  },
  {
   "cell_type": "code",
   "execution_count": 24,
   "metadata": {},
   "outputs": [],
   "source": [
    "# compute frequency of publication of each channel before and after sudden growth\n",
    "freq_publication_keep_after_sudden_growth = keep_num_metavideos_per_channel_after_sudden_growth / keep_videos_time_after_sudden_growth\n",
    "freq_publication_lose_after_sudden_growth = lose_num_metavideos_per_channel_after_sudden_growth / lose_videos_time_after_sudden_growth\n",
    "freq_publication_keep_before_sudden_growth = keep_num_metavideos_per_channel_before_sudden_growth / keep_videos_time_before_sudden_growth\n",
    "freq_publication_lose_before_sudden_growth = lose_num_metavideos_per_channel_before_sudden_growth / lose_videos_time_before_sudden_growth"
   ]
  },
  {
   "cell_type": "code",
   "execution_count": 25,
   "metadata": {},
   "outputs": [
    {
     "data": {
      "text/plain": [
       "Ttest_relResult(statistic=-4.573074787531547, pvalue=1.0999328554775547e-05)"
      ]
     },
     "execution_count": 25,
     "metadata": {},
     "output_type": "execute_result"
    }
   ],
   "source": [
    "# paired t-test for frequency of publication before and after sudden growth of \"keep\" channels\n",
    "scs.ttest_rel(freq_publication_keep_after_sudden_growth, freq_publication_keep_before_sudden_growth)"
   ]
  },
  {
   "cell_type": "code",
   "execution_count": 26,
   "metadata": {},
   "outputs": [
    {
     "data": {
      "text/plain": [
       "Ttest_relResult(statistic=0.0986723950037198, pvalue=0.9215492137173886)"
      ]
     },
     "execution_count": 26,
     "metadata": {},
     "output_type": "execute_result"
    }
   ],
   "source": [
    "# paired t-test for frequency of publication before and after sudden growth of \"lose\" channels\n",
    "scs.ttest_rel(freq_publication_lose_after_sudden_growth, freq_publication_lose_before_sudden_growth)"
   ]
  },
  {
   "cell_type": "code",
   "execution_count": 47,
   "metadata": {},
   "outputs": [
    {
     "data": {
      "text/plain": [
       "Ttest_indResult(statistic=-1.623514631806486, pvalue=0.10568194714542971)"
      ]
     },
     "execution_count": 47,
     "metadata": {},
     "output_type": "execute_result"
    }
   ],
   "source": [
    "# independent t-test for frequency of publication between \"keep\" and \"lose\" channels after sudden growth\n",
    "scs.ttest_ind(freq_publication_keep_after_sudden_growth, freq_publication_lose_after_sudden_growth)"
   ]
  },
  {
   "attachments": {},
   "cell_type": "markdown",
   "metadata": {},
   "source": [
    "<font color = 'green'> **TO DO** \n",
    "Visualization for the distribution "
   ]
  },
  {
   "attachments": {},
   "cell_type": "markdown",
   "metadata": {},
   "source": [
    "##### Length of videos"
   ]
  },
  {
   "cell_type": "code",
   "execution_count": 27,
   "metadata": {},
   "outputs": [],
   "source": [
    "length_keep_before_sudden_growth = keep_metavideos_before_sudden_growth.groupby(\"channel_id\").mean()[\"duration\"]\n",
    "length_lose_before_sudden_growth = lose_metavideos_before_sudden_growth.groupby(\"channel_id\").mean()[\"duration\"]\n",
    "length_keep_after_sudden_growth = keep_metavideos_after_sudden_growth.groupby(\"channel_id\").mean()[\"duration\"]\n",
    "length_lose_after_sudden_growth = lose_metavideos_after_sudden_growth.groupby(\"channel_id\").mean()[\"duration\"]"
   ]
  },
  {
   "cell_type": "code",
   "execution_count": 28,
   "metadata": {},
   "outputs": [
    {
     "data": {
      "text/plain": [
       "Ttest_relResult(statistic=-0.26128385634192897, pvalue=0.7942839490426107)"
      ]
     },
     "execution_count": 28,
     "metadata": {},
     "output_type": "execute_result"
    }
   ],
   "source": [
    "# paired t-test for length of videos before and after sudden growth of \"keep\" channels\n",
    "scs.ttest_rel(length_keep_after_sudden_growth, length_keep_before_sudden_growth)"
   ]
  },
  {
   "cell_type": "code",
   "execution_count": 29,
   "metadata": {},
   "outputs": [
    {
     "data": {
      "text/plain": [
       "Ttest_relResult(statistic=0.895479599232566, pvalue=0.3721732399662734)"
      ]
     },
     "execution_count": 29,
     "metadata": {},
     "output_type": "execute_result"
    }
   ],
   "source": [
    "# paired t-test for length of videos before and after sudden growth of \"lose\" channels\n",
    "scs.ttest_rel(length_lose_after_sudden_growth, length_lose_before_sudden_growth)"
   ]
  },
  {
   "cell_type": "code",
   "execution_count": 48,
   "metadata": {},
   "outputs": [
    {
     "data": {
      "text/plain": [
       "Ttest_indResult(statistic=-0.2920830040402017, pvalue=0.7704543103422521)"
      ]
     },
     "execution_count": 48,
     "metadata": {},
     "output_type": "execute_result"
    }
   ],
   "source": [
    "# independent t-test for length of videos between \"keep\" and \"lose\" channels after sudden growth\n",
    "scs.ttest_ind(length_keep_after_sudden_growth, length_lose_after_sudden_growth)"
   ]
  },
  {
   "attachments": {},
   "cell_type": "markdown",
   "metadata": {},
   "source": [
    "<font color = 'green'> **TO DO** Visualization?"
   ]
  },
  {
   "attachments": {},
   "cell_type": "markdown",
   "metadata": {},
   "source": [
    "#### Number of tags"
   ]
  },
  {
   "cell_type": "code",
   "execution_count": 30,
   "metadata": {},
   "outputs": [],
   "source": [
    "numtags_lose_metavideo_after_sudden_growth = lose_metavideos_after_sudden_growth.groupby(\"channel_id\").mean()[\"num_tags\"]\n",
    "numtags_keep_metavideo_after_sudden_growth = keep_metavideos_after_sudden_growth.groupby(\"channel_id\").mean()[\"num_tags\"]\n",
    "numtags_lose_metavideo_before_sudden_growth = lose_metavideos_before_sudden_growth.groupby(\"channel_id\").mean()[\"num_tags\"]\n",
    "numtags_keep_metavideo_before_sudden_growth = keep_metavideos_before_sudden_growth.groupby(\"channel_id\").mean()[\"num_tags\"]"
   ]
  },
  {
   "cell_type": "code",
   "execution_count": 31,
   "metadata": {},
   "outputs": [
    {
     "data": {
      "text/plain": [
       "Ttest_relResult(statistic=1.2859663512694341, pvalue=0.20072317901396383)"
      ]
     },
     "execution_count": 31,
     "metadata": {},
     "output_type": "execute_result"
    }
   ],
   "source": [
    "scs.ttest_rel(numtags_lose_metavideo_after_sudden_growth, numtags_lose_metavideo_before_sudden_growth)"
   ]
  },
  {
   "cell_type": "code",
   "execution_count": 32,
   "metadata": {},
   "outputs": [
    {
     "data": {
      "text/plain": [
       "Ttest_relResult(statistic=-0.4507529987628947, pvalue=0.652912762682915)"
      ]
     },
     "execution_count": 32,
     "metadata": {},
     "output_type": "execute_result"
    }
   ],
   "source": [
    "scs.ttest_rel(numtags_keep_metavideo_after_sudden_growth, numtags_keep_metavideo_before_sudden_growth)"
   ]
  },
  {
   "cell_type": "code",
   "execution_count": 49,
   "metadata": {},
   "outputs": [
    {
     "data": {
      "text/plain": [
       "Ttest_indResult(statistic=-0.4953730309544974, pvalue=0.6207520450994153)"
      ]
     },
     "execution_count": 49,
     "metadata": {},
     "output_type": "execute_result"
    }
   ],
   "source": [
    "scs.ttest_ind(numtags_lose_metavideo_after_sudden_growth, numtags_keep_metavideo_after_sudden_growth)"
   ]
  },
  {
   "attachments": {},
   "cell_type": "markdown",
   "metadata": {},
   "source": [
    "<font color = 'green'> **TO DO** Visualization AND description!!"
   ]
  },
  {
   "attachments": {},
   "cell_type": "markdown",
   "metadata": {},
   "source": [
    "#### Number of likes over number of views per channel"
   ]
  },
  {
   "cell_type": "code",
   "execution_count": 55,
   "metadata": {},
   "outputs": [],
   "source": [
    "keep_metavideos_before_sudden_growth[\"like_views_ratio\"] = keep_metavideos_before_sudden_growth[\"like_count\"]/keep_metavideos_before_sudden_growth[\"view_count\"]\n",
    "keep_metavideos_after_sudden_growth[\"like_views_ratio\"] = keep_metavideos_after_sudden_growth[\"like_count\"]/keep_metavideos_after_sudden_growth[\"view_count\"]\n",
    "lose_metavideos_before_sudden_growth[\"like_views_ratio\"] = lose_metavideos_before_sudden_growth[\"like_count\"]/lose_metavideos_before_sudden_growth[\"view_count\"]\n",
    "lose_metavideos_after_sudden_growth[\"like_views_ratio\"] = lose_metavideos_after_sudden_growth[\"like_count\"]/lose_metavideos_after_sudden_growth[\"view_count\"]\n"
   ]
  },
  {
   "cell_type": "code",
   "execution_count": 72,
   "metadata": {},
   "outputs": [],
   "source": [
    "k_b_ratio = keep_metavideos_before_sudden_growth.groupby('channel_id')[\"like_views_ratio\"].mean()\n",
    "k_a_ratio = keep_metavideos_after_sudden_growth.groupby('channel_id')[\"like_views_ratio\"].mean()\n",
    "l_b_ratio = lose_metavideos_before_sudden_growth.groupby('channel_id')[\"like_views_ratio\"].mean()\n",
    "l_a_ratio = lose_metavideos_after_sudden_growth.groupby('channel_id')[\"like_views_ratio\"].mean()\n",
    "k_index_filter = (k_b_ratio.isna()) | (k_a_ratio.isna())\n",
    "l_index_filter = (l_b_ratio.isna()) | (l_a_ratio.isna())\n",
    "k_b_ratio = k_b_ratio[~k_index_filter]\n",
    "k_a_ratio = k_a_ratio[~k_index_filter]\n",
    "l_b_ratio = l_b_ratio[~l_index_filter]\n",
    "l_a_ratio = l_a_ratio[~l_index_filter]"
   ]
  },
  {
   "cell_type": "code",
   "execution_count": 76,
   "metadata": {},
   "outputs": [
    {
     "name": "stdout",
     "output_type": "stream",
     "text": [
      "Test between keep_before and keep_after: Ttest_relResult(statistic=-4.904751239764268, pvalue=2.7427628927385537e-06)\n",
      "Test between lose_before and lose_after: Ttest_relResult(statistic=-2.1871307828821047, pvalue=0.030579105801423537)\n",
      "Test between keep_before and lose_before: Ttest_indResult(statistic=-0.5741483314529485, pvalue=0.5663715521059618)\n",
      "Test between keep_after and keep_after: Ttest_indResult(statistic=0.5004285447009738, pvalue=0.6172032883487362)\n"
     ]
    }
   ],
   "source": [
    "print(f\"Test between keep_before and keep_after: {scs.ttest_rel(k_b_ratio, k_a_ratio)}\")\n",
    "print(f\"Test between lose_before and lose_after: {scs.ttest_rel(l_b_ratio, l_a_ratio)}\")\n",
    "print(f\"Test between keep_before and lose_before: {scs.ttest_ind(k_b_ratio, l_b_ratio)}\")\n",
    "print(f\"Test between keep_after and keep_after: {scs.ttest_ind(k_a_ratio, l_a_ratio)}\")"
   ]
  },
  {
   "cell_type": "code",
   "execution_count": 77,
   "metadata": {},
   "outputs": [
    {
     "data": {
      "text/plain": [
       "(0.03351798118900909,\n",
       " 0.044875650194519855,\n",
       " 0.0359127813006378,\n",
       " 0.0428630754539213)"
      ]
     },
     "execution_count": 77,
     "metadata": {},
     "output_type": "execute_result"
    }
   ],
   "source": [
    "k_b_ratio.mean(), k_a_ratio.mean(), l_b_ratio.mean(), l_a_ratio.mean()"
   ]
  },
  {
   "attachments": {},
   "cell_type": "markdown",
   "metadata": {},
   "source": [
    "#### Distribution of categories over the videos"
   ]
  },
  {
   "cell_type": "code",
   "execution_count": 33,
   "metadata": {},
   "outputs": [],
   "source": [
    "# save all categories to plot the distribution later\n",
    "categories = meta_video_filt_original.categories.unique()\n",
    "categories = [\"categories_\" + s for s in categories]"
   ]
  },
  {
   "cell_type": "code",
   "execution_count": 34,
   "metadata": {},
   "outputs": [],
   "source": [
    "def get_distribution_of_videos_over_category(df, categories_list, name):\n",
    "    '''\n",
    "    This function computes the distribution of videos over categories for a given dataframe\n",
    "    '''\n",
    "    print(name)\n",
    "    # dummify categories in metavideos dataframes\n",
    "    df_dummified = pd.get_dummies(df[['channel_id', 'crawl_date','categories']], columns=['categories'], dtype=int)\n",
    "\n",
    "    # fill missing categories with 0\n",
    "    df_dummified = df_dummified.reindex(columns = df_dummified.columns.tolist() + \\\n",
    "        [category for category in categories if category not in df_dummified.columns], \\\n",
    "        fill_value=0)\n",
    "\n",
    "    # Distribution of videos over categories\n",
    "    df_dummified_grouped = df_dummified.groupby(\"channel_id\")\n",
    "    num_videos_tot = df_dummified_grouped.count()[\"crawl_date\"]\n",
    "    num_videos_per_category = df_dummified_grouped.sum()\n",
    "    prop_videos_per_category = num_videos_per_category.divide(num_videos_tot, axis=0)\n",
    "    display(prop_videos_per_category.head())\n",
    "    print(prop_videos_per_category.shape)\n",
    "    print(f\"Check the sum of proportions is equal to 1: min_sum_categories = {round(prop_videos_per_category.sum(axis = 1).min(),3)}.\")\n",
    "    assert np.isclose(prop_videos_per_category.sum(axis = 1).min(), 1)\n",
    "\n",
    "    return prop_videos_per_category\n",
    "\n"
   ]
  },
  {
   "cell_type": "code",
   "execution_count": 35,
   "metadata": {},
   "outputs": [
    {
     "name": "stdout",
     "output_type": "stream",
     "text": [
      "Keep after sudden growth channels\n"
     ]
    },
    {
     "data": {
      "text/html": [
       "<div>\n",
       "<style scoped>\n",
       "    .dataframe tbody tr th:only-of-type {\n",
       "        vertical-align: middle;\n",
       "    }\n",
       "\n",
       "    .dataframe tbody tr th {\n",
       "        vertical-align: top;\n",
       "    }\n",
       "\n",
       "    .dataframe thead th {\n",
       "        text-align: right;\n",
       "    }\n",
       "</style>\n",
       "<table border=\"1\" class=\"dataframe\">\n",
       "  <thead>\n",
       "    <tr style=\"text-align: right;\">\n",
       "      <th></th>\n",
       "      <th>categories_Autos &amp; Vehicles</th>\n",
       "      <th>categories_Comedy</th>\n",
       "      <th>categories_Education</th>\n",
       "      <th>categories_Entertainment</th>\n",
       "      <th>categories_Film &amp; Animation</th>\n",
       "      <th>categories_Gaming</th>\n",
       "      <th>categories_Howto &amp; Style</th>\n",
       "      <th>categories_Music</th>\n",
       "      <th>categories_News &amp; Politics</th>\n",
       "      <th>categories_Nonprofits &amp; Activism</th>\n",
       "      <th>categories_People &amp; Blogs</th>\n",
       "      <th>categories_Pets &amp; Animals</th>\n",
       "      <th>categories_Science &amp; Technology</th>\n",
       "      <th>categories_Sports</th>\n",
       "      <th>categories_Travel &amp; Events</th>\n",
       "    </tr>\n",
       "    <tr>\n",
       "      <th>channel_id</th>\n",
       "      <th></th>\n",
       "      <th></th>\n",
       "      <th></th>\n",
       "      <th></th>\n",
       "      <th></th>\n",
       "      <th></th>\n",
       "      <th></th>\n",
       "      <th></th>\n",
       "      <th></th>\n",
       "      <th></th>\n",
       "      <th></th>\n",
       "      <th></th>\n",
       "      <th></th>\n",
       "      <th></th>\n",
       "      <th></th>\n",
       "    </tr>\n",
       "  </thead>\n",
       "  <tbody>\n",
       "    <tr>\n",
       "      <th>UC-oJf3N-3s_yYRhQK-V9u7Q</th>\n",
       "      <td>0.003788</td>\n",
       "      <td>0.000000</td>\n",
       "      <td>0.026515</td>\n",
       "      <td>0.833333</td>\n",
       "      <td>0.007576</td>\n",
       "      <td>0.015152</td>\n",
       "      <td>0.022727</td>\n",
       "      <td>0.003788</td>\n",
       "      <td>0.0</td>\n",
       "      <td>0.0</td>\n",
       "      <td>0.087121</td>\n",
       "      <td>0.0</td>\n",
       "      <td>0.0</td>\n",
       "      <td>0.0</td>\n",
       "      <td>0.0</td>\n",
       "    </tr>\n",
       "    <tr>\n",
       "      <th>UC0elua_4G2G6obgvf9VctdA</th>\n",
       "      <td>0.000000</td>\n",
       "      <td>0.222222</td>\n",
       "      <td>0.000000</td>\n",
       "      <td>0.666667</td>\n",
       "      <td>0.111111</td>\n",
       "      <td>0.000000</td>\n",
       "      <td>0.000000</td>\n",
       "      <td>0.000000</td>\n",
       "      <td>0.0</td>\n",
       "      <td>0.0</td>\n",
       "      <td>0.000000</td>\n",
       "      <td>0.0</td>\n",
       "      <td>0.0</td>\n",
       "      <td>0.0</td>\n",
       "      <td>0.0</td>\n",
       "    </tr>\n",
       "    <tr>\n",
       "      <th>UC195ELzVDafwpukBRSJSMTw</th>\n",
       "      <td>0.000000</td>\n",
       "      <td>0.000000</td>\n",
       "      <td>0.000000</td>\n",
       "      <td>0.000000</td>\n",
       "      <td>0.000000</td>\n",
       "      <td>0.000000</td>\n",
       "      <td>0.000000</td>\n",
       "      <td>0.000000</td>\n",
       "      <td>0.0</td>\n",
       "      <td>0.0</td>\n",
       "      <td>0.000000</td>\n",
       "      <td>0.0</td>\n",
       "      <td>0.0</td>\n",
       "      <td>1.0</td>\n",
       "      <td>0.0</td>\n",
       "    </tr>\n",
       "    <tr>\n",
       "      <th>UC33B-Ubmy6JJHvo0w48BhMA</th>\n",
       "      <td>0.000000</td>\n",
       "      <td>0.000000</td>\n",
       "      <td>0.000000</td>\n",
       "      <td>0.000000</td>\n",
       "      <td>0.000000</td>\n",
       "      <td>0.000000</td>\n",
       "      <td>0.000000</td>\n",
       "      <td>0.000000</td>\n",
       "      <td>0.0</td>\n",
       "      <td>0.0</td>\n",
       "      <td>1.000000</td>\n",
       "      <td>0.0</td>\n",
       "      <td>0.0</td>\n",
       "      <td>0.0</td>\n",
       "      <td>0.0</td>\n",
       "    </tr>\n",
       "    <tr>\n",
       "      <th>UC35aJQFGtk6gzPvabBSJiIA</th>\n",
       "      <td>0.000000</td>\n",
       "      <td>0.000000</td>\n",
       "      <td>0.000000</td>\n",
       "      <td>0.000000</td>\n",
       "      <td>1.000000</td>\n",
       "      <td>0.000000</td>\n",
       "      <td>0.000000</td>\n",
       "      <td>0.000000</td>\n",
       "      <td>0.0</td>\n",
       "      <td>0.0</td>\n",
       "      <td>0.000000</td>\n",
       "      <td>0.0</td>\n",
       "      <td>0.0</td>\n",
       "      <td>0.0</td>\n",
       "      <td>0.0</td>\n",
       "    </tr>\n",
       "  </tbody>\n",
       "</table>\n",
       "</div>"
      ],
      "text/plain": [
       "                          categories_Autos & Vehicles  categories_Comedy  \\\n",
       "channel_id                                                                 \n",
       "UC-oJf3N-3s_yYRhQK-V9u7Q                     0.003788           0.000000   \n",
       "UC0elua_4G2G6obgvf9VctdA                     0.000000           0.222222   \n",
       "UC195ELzVDafwpukBRSJSMTw                     0.000000           0.000000   \n",
       "UC33B-Ubmy6JJHvo0w48BhMA                     0.000000           0.000000   \n",
       "UC35aJQFGtk6gzPvabBSJiIA                     0.000000           0.000000   \n",
       "\n",
       "                          categories_Education  categories_Entertainment  \\\n",
       "channel_id                                                                 \n",
       "UC-oJf3N-3s_yYRhQK-V9u7Q              0.026515                  0.833333   \n",
       "UC0elua_4G2G6obgvf9VctdA              0.000000                  0.666667   \n",
       "UC195ELzVDafwpukBRSJSMTw              0.000000                  0.000000   \n",
       "UC33B-Ubmy6JJHvo0w48BhMA              0.000000                  0.000000   \n",
       "UC35aJQFGtk6gzPvabBSJiIA              0.000000                  0.000000   \n",
       "\n",
       "                          categories_Film & Animation  categories_Gaming  \\\n",
       "channel_id                                                                 \n",
       "UC-oJf3N-3s_yYRhQK-V9u7Q                     0.007576           0.015152   \n",
       "UC0elua_4G2G6obgvf9VctdA                     0.111111           0.000000   \n",
       "UC195ELzVDafwpukBRSJSMTw                     0.000000           0.000000   \n",
       "UC33B-Ubmy6JJHvo0w48BhMA                     0.000000           0.000000   \n",
       "UC35aJQFGtk6gzPvabBSJiIA                     1.000000           0.000000   \n",
       "\n",
       "                          categories_Howto & Style  categories_Music  \\\n",
       "channel_id                                                             \n",
       "UC-oJf3N-3s_yYRhQK-V9u7Q                  0.022727          0.003788   \n",
       "UC0elua_4G2G6obgvf9VctdA                  0.000000          0.000000   \n",
       "UC195ELzVDafwpukBRSJSMTw                  0.000000          0.000000   \n",
       "UC33B-Ubmy6JJHvo0w48BhMA                  0.000000          0.000000   \n",
       "UC35aJQFGtk6gzPvabBSJiIA                  0.000000          0.000000   \n",
       "\n",
       "                          categories_News & Politics  \\\n",
       "channel_id                                             \n",
       "UC-oJf3N-3s_yYRhQK-V9u7Q                         0.0   \n",
       "UC0elua_4G2G6obgvf9VctdA                         0.0   \n",
       "UC195ELzVDafwpukBRSJSMTw                         0.0   \n",
       "UC33B-Ubmy6JJHvo0w48BhMA                         0.0   \n",
       "UC35aJQFGtk6gzPvabBSJiIA                         0.0   \n",
       "\n",
       "                          categories_Nonprofits & Activism  \\\n",
       "channel_id                                                   \n",
       "UC-oJf3N-3s_yYRhQK-V9u7Q                               0.0   \n",
       "UC0elua_4G2G6obgvf9VctdA                               0.0   \n",
       "UC195ELzVDafwpukBRSJSMTw                               0.0   \n",
       "UC33B-Ubmy6JJHvo0w48BhMA                               0.0   \n",
       "UC35aJQFGtk6gzPvabBSJiIA                               0.0   \n",
       "\n",
       "                          categories_People & Blogs  \\\n",
       "channel_id                                            \n",
       "UC-oJf3N-3s_yYRhQK-V9u7Q                   0.087121   \n",
       "UC0elua_4G2G6obgvf9VctdA                   0.000000   \n",
       "UC195ELzVDafwpukBRSJSMTw                   0.000000   \n",
       "UC33B-Ubmy6JJHvo0w48BhMA                   1.000000   \n",
       "UC35aJQFGtk6gzPvabBSJiIA                   0.000000   \n",
       "\n",
       "                          categories_Pets & Animals  \\\n",
       "channel_id                                            \n",
       "UC-oJf3N-3s_yYRhQK-V9u7Q                        0.0   \n",
       "UC0elua_4G2G6obgvf9VctdA                        0.0   \n",
       "UC195ELzVDafwpukBRSJSMTw                        0.0   \n",
       "UC33B-Ubmy6JJHvo0w48BhMA                        0.0   \n",
       "UC35aJQFGtk6gzPvabBSJiIA                        0.0   \n",
       "\n",
       "                          categories_Science & Technology  categories_Sports  \\\n",
       "channel_id                                                                     \n",
       "UC-oJf3N-3s_yYRhQK-V9u7Q                              0.0                0.0   \n",
       "UC0elua_4G2G6obgvf9VctdA                              0.0                0.0   \n",
       "UC195ELzVDafwpukBRSJSMTw                              0.0                1.0   \n",
       "UC33B-Ubmy6JJHvo0w48BhMA                              0.0                0.0   \n",
       "UC35aJQFGtk6gzPvabBSJiIA                              0.0                0.0   \n",
       "\n",
       "                          categories_Travel & Events  \n",
       "channel_id                                            \n",
       "UC-oJf3N-3s_yYRhQK-V9u7Q                         0.0  \n",
       "UC0elua_4G2G6obgvf9VctdA                         0.0  \n",
       "UC195ELzVDafwpukBRSJSMTw                         0.0  \n",
       "UC33B-Ubmy6JJHvo0w48BhMA                         0.0  \n",
       "UC35aJQFGtk6gzPvabBSJiIA                         0.0  "
      ]
     },
     "metadata": {},
     "output_type": "display_data"
    },
    {
     "name": "stdout",
     "output_type": "stream",
     "text": [
      "(132, 15)\n",
      "Check the sum of proportions is equal to 1: min_sum_categories = 1.0.\n",
      "Keep before sudden growth channels\n"
     ]
    },
    {
     "data": {
      "text/html": [
       "<div>\n",
       "<style scoped>\n",
       "    .dataframe tbody tr th:only-of-type {\n",
       "        vertical-align: middle;\n",
       "    }\n",
       "\n",
       "    .dataframe tbody tr th {\n",
       "        vertical-align: top;\n",
       "    }\n",
       "\n",
       "    .dataframe thead th {\n",
       "        text-align: right;\n",
       "    }\n",
       "</style>\n",
       "<table border=\"1\" class=\"dataframe\">\n",
       "  <thead>\n",
       "    <tr style=\"text-align: right;\">\n",
       "      <th></th>\n",
       "      <th>categories_Autos &amp; Vehicles</th>\n",
       "      <th>categories_Comedy</th>\n",
       "      <th>categories_Education</th>\n",
       "      <th>categories_Entertainment</th>\n",
       "      <th>categories_Film &amp; Animation</th>\n",
       "      <th>categories_Gaming</th>\n",
       "      <th>categories_Howto &amp; Style</th>\n",
       "      <th>categories_Music</th>\n",
       "      <th>categories_News &amp; Politics</th>\n",
       "      <th>categories_Nonprofits &amp; Activism</th>\n",
       "      <th>categories_People &amp; Blogs</th>\n",
       "      <th>categories_Pets &amp; Animals</th>\n",
       "      <th>categories_Science &amp; Technology</th>\n",
       "      <th>categories_Sports</th>\n",
       "      <th>categories_Travel &amp; Events</th>\n",
       "    </tr>\n",
       "    <tr>\n",
       "      <th>channel_id</th>\n",
       "      <th></th>\n",
       "      <th></th>\n",
       "      <th></th>\n",
       "      <th></th>\n",
       "      <th></th>\n",
       "      <th></th>\n",
       "      <th></th>\n",
       "      <th></th>\n",
       "      <th></th>\n",
       "      <th></th>\n",
       "      <th></th>\n",
       "      <th></th>\n",
       "      <th></th>\n",
       "      <th></th>\n",
       "      <th></th>\n",
       "    </tr>\n",
       "  </thead>\n",
       "  <tbody>\n",
       "    <tr>\n",
       "      <th>UC-oJf3N-3s_yYRhQK-V9u7Q</th>\n",
       "      <td>0.0</td>\n",
       "      <td>0.0</td>\n",
       "      <td>0.023256</td>\n",
       "      <td>0.947674</td>\n",
       "      <td>0.005814</td>\n",
       "      <td>0.0</td>\n",
       "      <td>0.023256</td>\n",
       "      <td>0.0</td>\n",
       "      <td>0.0</td>\n",
       "      <td>0.0</td>\n",
       "      <td>0.000000</td>\n",
       "      <td>0.0</td>\n",
       "      <td>0.0</td>\n",
       "      <td>0.0</td>\n",
       "      <td>0.0</td>\n",
       "    </tr>\n",
       "    <tr>\n",
       "      <th>UC0elua_4G2G6obgvf9VctdA</th>\n",
       "      <td>0.0</td>\n",
       "      <td>0.0</td>\n",
       "      <td>0.000000</td>\n",
       "      <td>0.962963</td>\n",
       "      <td>0.000000</td>\n",
       "      <td>0.0</td>\n",
       "      <td>0.000000</td>\n",
       "      <td>0.0</td>\n",
       "      <td>0.0</td>\n",
       "      <td>0.0</td>\n",
       "      <td>0.037037</td>\n",
       "      <td>0.0</td>\n",
       "      <td>0.0</td>\n",
       "      <td>0.0</td>\n",
       "      <td>0.0</td>\n",
       "    </tr>\n",
       "    <tr>\n",
       "      <th>UC195ELzVDafwpukBRSJSMTw</th>\n",
       "      <td>0.0</td>\n",
       "      <td>0.0</td>\n",
       "      <td>0.000000</td>\n",
       "      <td>0.000000</td>\n",
       "      <td>0.000000</td>\n",
       "      <td>0.0</td>\n",
       "      <td>0.000000</td>\n",
       "      <td>0.0</td>\n",
       "      <td>0.0</td>\n",
       "      <td>0.0</td>\n",
       "      <td>0.000000</td>\n",
       "      <td>0.0</td>\n",
       "      <td>0.0</td>\n",
       "      <td>1.0</td>\n",
       "      <td>0.0</td>\n",
       "    </tr>\n",
       "    <tr>\n",
       "      <th>UC33B-Ubmy6JJHvo0w48BhMA</th>\n",
       "      <td>0.0</td>\n",
       "      <td>0.0</td>\n",
       "      <td>0.000000</td>\n",
       "      <td>0.000000</td>\n",
       "      <td>0.000000</td>\n",
       "      <td>0.0</td>\n",
       "      <td>0.072727</td>\n",
       "      <td>0.0</td>\n",
       "      <td>0.0</td>\n",
       "      <td>0.0</td>\n",
       "      <td>0.927273</td>\n",
       "      <td>0.0</td>\n",
       "      <td>0.0</td>\n",
       "      <td>0.0</td>\n",
       "      <td>0.0</td>\n",
       "    </tr>\n",
       "    <tr>\n",
       "      <th>UC35aJQFGtk6gzPvabBSJiIA</th>\n",
       "      <td>0.0</td>\n",
       "      <td>0.0</td>\n",
       "      <td>0.000000</td>\n",
       "      <td>0.000000</td>\n",
       "      <td>1.000000</td>\n",
       "      <td>0.0</td>\n",
       "      <td>0.000000</td>\n",
       "      <td>0.0</td>\n",
       "      <td>0.0</td>\n",
       "      <td>0.0</td>\n",
       "      <td>0.000000</td>\n",
       "      <td>0.0</td>\n",
       "      <td>0.0</td>\n",
       "      <td>0.0</td>\n",
       "      <td>0.0</td>\n",
       "    </tr>\n",
       "  </tbody>\n",
       "</table>\n",
       "</div>"
      ],
      "text/plain": [
       "                          categories_Autos & Vehicles  categories_Comedy  \\\n",
       "channel_id                                                                 \n",
       "UC-oJf3N-3s_yYRhQK-V9u7Q                          0.0                0.0   \n",
       "UC0elua_4G2G6obgvf9VctdA                          0.0                0.0   \n",
       "UC195ELzVDafwpukBRSJSMTw                          0.0                0.0   \n",
       "UC33B-Ubmy6JJHvo0w48BhMA                          0.0                0.0   \n",
       "UC35aJQFGtk6gzPvabBSJiIA                          0.0                0.0   \n",
       "\n",
       "                          categories_Education  categories_Entertainment  \\\n",
       "channel_id                                                                 \n",
       "UC-oJf3N-3s_yYRhQK-V9u7Q              0.023256                  0.947674   \n",
       "UC0elua_4G2G6obgvf9VctdA              0.000000                  0.962963   \n",
       "UC195ELzVDafwpukBRSJSMTw              0.000000                  0.000000   \n",
       "UC33B-Ubmy6JJHvo0w48BhMA              0.000000                  0.000000   \n",
       "UC35aJQFGtk6gzPvabBSJiIA              0.000000                  0.000000   \n",
       "\n",
       "                          categories_Film & Animation  categories_Gaming  \\\n",
       "channel_id                                                                 \n",
       "UC-oJf3N-3s_yYRhQK-V9u7Q                     0.005814                0.0   \n",
       "UC0elua_4G2G6obgvf9VctdA                     0.000000                0.0   \n",
       "UC195ELzVDafwpukBRSJSMTw                     0.000000                0.0   \n",
       "UC33B-Ubmy6JJHvo0w48BhMA                     0.000000                0.0   \n",
       "UC35aJQFGtk6gzPvabBSJiIA                     1.000000                0.0   \n",
       "\n",
       "                          categories_Howto & Style  categories_Music  \\\n",
       "channel_id                                                             \n",
       "UC-oJf3N-3s_yYRhQK-V9u7Q                  0.023256               0.0   \n",
       "UC0elua_4G2G6obgvf9VctdA                  0.000000               0.0   \n",
       "UC195ELzVDafwpukBRSJSMTw                  0.000000               0.0   \n",
       "UC33B-Ubmy6JJHvo0w48BhMA                  0.072727               0.0   \n",
       "UC35aJQFGtk6gzPvabBSJiIA                  0.000000               0.0   \n",
       "\n",
       "                          categories_News & Politics  \\\n",
       "channel_id                                             \n",
       "UC-oJf3N-3s_yYRhQK-V9u7Q                         0.0   \n",
       "UC0elua_4G2G6obgvf9VctdA                         0.0   \n",
       "UC195ELzVDafwpukBRSJSMTw                         0.0   \n",
       "UC33B-Ubmy6JJHvo0w48BhMA                         0.0   \n",
       "UC35aJQFGtk6gzPvabBSJiIA                         0.0   \n",
       "\n",
       "                          categories_Nonprofits & Activism  \\\n",
       "channel_id                                                   \n",
       "UC-oJf3N-3s_yYRhQK-V9u7Q                               0.0   \n",
       "UC0elua_4G2G6obgvf9VctdA                               0.0   \n",
       "UC195ELzVDafwpukBRSJSMTw                               0.0   \n",
       "UC33B-Ubmy6JJHvo0w48BhMA                               0.0   \n",
       "UC35aJQFGtk6gzPvabBSJiIA                               0.0   \n",
       "\n",
       "                          categories_People & Blogs  \\\n",
       "channel_id                                            \n",
       "UC-oJf3N-3s_yYRhQK-V9u7Q                   0.000000   \n",
       "UC0elua_4G2G6obgvf9VctdA                   0.037037   \n",
       "UC195ELzVDafwpukBRSJSMTw                   0.000000   \n",
       "UC33B-Ubmy6JJHvo0w48BhMA                   0.927273   \n",
       "UC35aJQFGtk6gzPvabBSJiIA                   0.000000   \n",
       "\n",
       "                          categories_Pets & Animals  \\\n",
       "channel_id                                            \n",
       "UC-oJf3N-3s_yYRhQK-V9u7Q                        0.0   \n",
       "UC0elua_4G2G6obgvf9VctdA                        0.0   \n",
       "UC195ELzVDafwpukBRSJSMTw                        0.0   \n",
       "UC33B-Ubmy6JJHvo0w48BhMA                        0.0   \n",
       "UC35aJQFGtk6gzPvabBSJiIA                        0.0   \n",
       "\n",
       "                          categories_Science & Technology  categories_Sports  \\\n",
       "channel_id                                                                     \n",
       "UC-oJf3N-3s_yYRhQK-V9u7Q                              0.0                0.0   \n",
       "UC0elua_4G2G6obgvf9VctdA                              0.0                0.0   \n",
       "UC195ELzVDafwpukBRSJSMTw                              0.0                1.0   \n",
       "UC33B-Ubmy6JJHvo0w48BhMA                              0.0                0.0   \n",
       "UC35aJQFGtk6gzPvabBSJiIA                              0.0                0.0   \n",
       "\n",
       "                          categories_Travel & Events  \n",
       "channel_id                                            \n",
       "UC-oJf3N-3s_yYRhQK-V9u7Q                         0.0  \n",
       "UC0elua_4G2G6obgvf9VctdA                         0.0  \n",
       "UC195ELzVDafwpukBRSJSMTw                         0.0  \n",
       "UC33B-Ubmy6JJHvo0w48BhMA                         0.0  \n",
       "UC35aJQFGtk6gzPvabBSJiIA                         0.0  "
      ]
     },
     "metadata": {},
     "output_type": "display_data"
    },
    {
     "name": "stdout",
     "output_type": "stream",
     "text": [
      "(132, 15)\n",
      "Check the sum of proportions is equal to 1: min_sum_categories = 1.0.\n",
      "Lose after sudden growth channels\n"
     ]
    },
    {
     "data": {
      "text/html": [
       "<div>\n",
       "<style scoped>\n",
       "    .dataframe tbody tr th:only-of-type {\n",
       "        vertical-align: middle;\n",
       "    }\n",
       "\n",
       "    .dataframe tbody tr th {\n",
       "        vertical-align: top;\n",
       "    }\n",
       "\n",
       "    .dataframe thead th {\n",
       "        text-align: right;\n",
       "    }\n",
       "</style>\n",
       "<table border=\"1\" class=\"dataframe\">\n",
       "  <thead>\n",
       "    <tr style=\"text-align: right;\">\n",
       "      <th></th>\n",
       "      <th>categories_Autos &amp; Vehicles</th>\n",
       "      <th>categories_Comedy</th>\n",
       "      <th>categories_Education</th>\n",
       "      <th>categories_Entertainment</th>\n",
       "      <th>categories_Film &amp; Animation</th>\n",
       "      <th>categories_Gaming</th>\n",
       "      <th>categories_Howto &amp; Style</th>\n",
       "      <th>categories_Music</th>\n",
       "      <th>categories_News &amp; Politics</th>\n",
       "      <th>categories_People &amp; Blogs</th>\n",
       "      <th>categories_Pets &amp; Animals</th>\n",
       "      <th>categories_Science &amp; Technology</th>\n",
       "      <th>categories_Sports</th>\n",
       "      <th>categories_Travel &amp; Events</th>\n",
       "      <th>categories_Nonprofits &amp; Activism</th>\n",
       "    </tr>\n",
       "    <tr>\n",
       "      <th>channel_id</th>\n",
       "      <th></th>\n",
       "      <th></th>\n",
       "      <th></th>\n",
       "      <th></th>\n",
       "      <th></th>\n",
       "      <th></th>\n",
       "      <th></th>\n",
       "      <th></th>\n",
       "      <th></th>\n",
       "      <th></th>\n",
       "      <th></th>\n",
       "      <th></th>\n",
       "      <th></th>\n",
       "      <th></th>\n",
       "      <th></th>\n",
       "    </tr>\n",
       "  </thead>\n",
       "  <tbody>\n",
       "    <tr>\n",
       "      <th>UC-1qy7V-dMBaC-5xfrF-Akw</th>\n",
       "      <td>0.000000</td>\n",
       "      <td>0.0</td>\n",
       "      <td>0.0</td>\n",
       "      <td>0.000000</td>\n",
       "      <td>0.00000</td>\n",
       "      <td>0.916667</td>\n",
       "      <td>0.000000</td>\n",
       "      <td>0.083333</td>\n",
       "      <td>0.0</td>\n",
       "      <td>0.000000</td>\n",
       "      <td>0.000000</td>\n",
       "      <td>0.000000</td>\n",
       "      <td>0.000000</td>\n",
       "      <td>0.0</td>\n",
       "      <td>0.0</td>\n",
       "    </tr>\n",
       "    <tr>\n",
       "      <th>UC-XebCD-RF_M3PJaTFqhijg</th>\n",
       "      <td>0.000000</td>\n",
       "      <td>0.0</td>\n",
       "      <td>0.0</td>\n",
       "      <td>1.000000</td>\n",
       "      <td>0.00000</td>\n",
       "      <td>0.000000</td>\n",
       "      <td>0.000000</td>\n",
       "      <td>0.000000</td>\n",
       "      <td>0.0</td>\n",
       "      <td>0.000000</td>\n",
       "      <td>0.000000</td>\n",
       "      <td>0.000000</td>\n",
       "      <td>0.000000</td>\n",
       "      <td>0.0</td>\n",
       "      <td>0.0</td>\n",
       "    </tr>\n",
       "    <tr>\n",
       "      <th>UC-aN2hjb8rrrpK74Il7ktew</th>\n",
       "      <td>0.000000</td>\n",
       "      <td>0.0</td>\n",
       "      <td>0.0</td>\n",
       "      <td>0.000000</td>\n",
       "      <td>0.88587</td>\n",
       "      <td>0.000000</td>\n",
       "      <td>0.000000</td>\n",
       "      <td>0.000000</td>\n",
       "      <td>0.0</td>\n",
       "      <td>0.114130</td>\n",
       "      <td>0.000000</td>\n",
       "      <td>0.000000</td>\n",
       "      <td>0.000000</td>\n",
       "      <td>0.0</td>\n",
       "      <td>0.0</td>\n",
       "    </tr>\n",
       "    <tr>\n",
       "      <th>UC06LLn1vpmIZJSYnZrbAnHA</th>\n",
       "      <td>0.000000</td>\n",
       "      <td>0.0</td>\n",
       "      <td>0.0</td>\n",
       "      <td>0.003344</td>\n",
       "      <td>0.00000</td>\n",
       "      <td>0.993311</td>\n",
       "      <td>0.003344</td>\n",
       "      <td>0.000000</td>\n",
       "      <td>0.0</td>\n",
       "      <td>0.000000</td>\n",
       "      <td>0.000000</td>\n",
       "      <td>0.000000</td>\n",
       "      <td>0.000000</td>\n",
       "      <td>0.0</td>\n",
       "      <td>0.0</td>\n",
       "    </tr>\n",
       "    <tr>\n",
       "      <th>UC0Ka4jKos2O1Svxa6W_Q3Sw</th>\n",
       "      <td>0.038961</td>\n",
       "      <td>0.0</td>\n",
       "      <td>0.0</td>\n",
       "      <td>0.012987</td>\n",
       "      <td>0.00000</td>\n",
       "      <td>0.000000</td>\n",
       "      <td>0.272727</td>\n",
       "      <td>0.000000</td>\n",
       "      <td>0.0</td>\n",
       "      <td>0.363636</td>\n",
       "      <td>0.012987</td>\n",
       "      <td>0.194805</td>\n",
       "      <td>0.103896</td>\n",
       "      <td>0.0</td>\n",
       "      <td>0.0</td>\n",
       "    </tr>\n",
       "  </tbody>\n",
       "</table>\n",
       "</div>"
      ],
      "text/plain": [
       "                          categories_Autos & Vehicles  categories_Comedy  \\\n",
       "channel_id                                                                 \n",
       "UC-1qy7V-dMBaC-5xfrF-Akw                     0.000000                0.0   \n",
       "UC-XebCD-RF_M3PJaTFqhijg                     0.000000                0.0   \n",
       "UC-aN2hjb8rrrpK74Il7ktew                     0.000000                0.0   \n",
       "UC06LLn1vpmIZJSYnZrbAnHA                     0.000000                0.0   \n",
       "UC0Ka4jKos2O1Svxa6W_Q3Sw                     0.038961                0.0   \n",
       "\n",
       "                          categories_Education  categories_Entertainment  \\\n",
       "channel_id                                                                 \n",
       "UC-1qy7V-dMBaC-5xfrF-Akw                   0.0                  0.000000   \n",
       "UC-XebCD-RF_M3PJaTFqhijg                   0.0                  1.000000   \n",
       "UC-aN2hjb8rrrpK74Il7ktew                   0.0                  0.000000   \n",
       "UC06LLn1vpmIZJSYnZrbAnHA                   0.0                  0.003344   \n",
       "UC0Ka4jKos2O1Svxa6W_Q3Sw                   0.0                  0.012987   \n",
       "\n",
       "                          categories_Film & Animation  categories_Gaming  \\\n",
       "channel_id                                                                 \n",
       "UC-1qy7V-dMBaC-5xfrF-Akw                      0.00000           0.916667   \n",
       "UC-XebCD-RF_M3PJaTFqhijg                      0.00000           0.000000   \n",
       "UC-aN2hjb8rrrpK74Il7ktew                      0.88587           0.000000   \n",
       "UC06LLn1vpmIZJSYnZrbAnHA                      0.00000           0.993311   \n",
       "UC0Ka4jKos2O1Svxa6W_Q3Sw                      0.00000           0.000000   \n",
       "\n",
       "                          categories_Howto & Style  categories_Music  \\\n",
       "channel_id                                                             \n",
       "UC-1qy7V-dMBaC-5xfrF-Akw                  0.000000          0.083333   \n",
       "UC-XebCD-RF_M3PJaTFqhijg                  0.000000          0.000000   \n",
       "UC-aN2hjb8rrrpK74Il7ktew                  0.000000          0.000000   \n",
       "UC06LLn1vpmIZJSYnZrbAnHA                  0.003344          0.000000   \n",
       "UC0Ka4jKos2O1Svxa6W_Q3Sw                  0.272727          0.000000   \n",
       "\n",
       "                          categories_News & Politics  \\\n",
       "channel_id                                             \n",
       "UC-1qy7V-dMBaC-5xfrF-Akw                         0.0   \n",
       "UC-XebCD-RF_M3PJaTFqhijg                         0.0   \n",
       "UC-aN2hjb8rrrpK74Il7ktew                         0.0   \n",
       "UC06LLn1vpmIZJSYnZrbAnHA                         0.0   \n",
       "UC0Ka4jKos2O1Svxa6W_Q3Sw                         0.0   \n",
       "\n",
       "                          categories_People & Blogs  \\\n",
       "channel_id                                            \n",
       "UC-1qy7V-dMBaC-5xfrF-Akw                   0.000000   \n",
       "UC-XebCD-RF_M3PJaTFqhijg                   0.000000   \n",
       "UC-aN2hjb8rrrpK74Il7ktew                   0.114130   \n",
       "UC06LLn1vpmIZJSYnZrbAnHA                   0.000000   \n",
       "UC0Ka4jKos2O1Svxa6W_Q3Sw                   0.363636   \n",
       "\n",
       "                          categories_Pets & Animals  \\\n",
       "channel_id                                            \n",
       "UC-1qy7V-dMBaC-5xfrF-Akw                   0.000000   \n",
       "UC-XebCD-RF_M3PJaTFqhijg                   0.000000   \n",
       "UC-aN2hjb8rrrpK74Il7ktew                   0.000000   \n",
       "UC06LLn1vpmIZJSYnZrbAnHA                   0.000000   \n",
       "UC0Ka4jKos2O1Svxa6W_Q3Sw                   0.012987   \n",
       "\n",
       "                          categories_Science & Technology  categories_Sports  \\\n",
       "channel_id                                                                     \n",
       "UC-1qy7V-dMBaC-5xfrF-Akw                         0.000000           0.000000   \n",
       "UC-XebCD-RF_M3PJaTFqhijg                         0.000000           0.000000   \n",
       "UC-aN2hjb8rrrpK74Il7ktew                         0.000000           0.000000   \n",
       "UC06LLn1vpmIZJSYnZrbAnHA                         0.000000           0.000000   \n",
       "UC0Ka4jKos2O1Svxa6W_Q3Sw                         0.194805           0.103896   \n",
       "\n",
       "                          categories_Travel & Events  \\\n",
       "channel_id                                             \n",
       "UC-1qy7V-dMBaC-5xfrF-Akw                         0.0   \n",
       "UC-XebCD-RF_M3PJaTFqhijg                         0.0   \n",
       "UC-aN2hjb8rrrpK74Il7ktew                         0.0   \n",
       "UC06LLn1vpmIZJSYnZrbAnHA                         0.0   \n",
       "UC0Ka4jKos2O1Svxa6W_Q3Sw                         0.0   \n",
       "\n",
       "                          categories_Nonprofits & Activism  \n",
       "channel_id                                                  \n",
       "UC-1qy7V-dMBaC-5xfrF-Akw                               0.0  \n",
       "UC-XebCD-RF_M3PJaTFqhijg                               0.0  \n",
       "UC-aN2hjb8rrrpK74Il7ktew                               0.0  \n",
       "UC06LLn1vpmIZJSYnZrbAnHA                               0.0  \n",
       "UC0Ka4jKos2O1Svxa6W_Q3Sw                               0.0  "
      ]
     },
     "metadata": {},
     "output_type": "display_data"
    },
    {
     "name": "stdout",
     "output_type": "stream",
     "text": [
      "(132, 15)\n",
      "Check the sum of proportions is equal to 1: min_sum_categories = 1.0.\n",
      "Lose before sudden growth channels\n"
     ]
    },
    {
     "data": {
      "text/html": [
       "<div>\n",
       "<style scoped>\n",
       "    .dataframe tbody tr th:only-of-type {\n",
       "        vertical-align: middle;\n",
       "    }\n",
       "\n",
       "    .dataframe tbody tr th {\n",
       "        vertical-align: top;\n",
       "    }\n",
       "\n",
       "    .dataframe thead th {\n",
       "        text-align: right;\n",
       "    }\n",
       "</style>\n",
       "<table border=\"1\" class=\"dataframe\">\n",
       "  <thead>\n",
       "    <tr style=\"text-align: right;\">\n",
       "      <th></th>\n",
       "      <th>categories_Autos &amp; Vehicles</th>\n",
       "      <th>categories_Comedy</th>\n",
       "      <th>categories_Education</th>\n",
       "      <th>categories_Entertainment</th>\n",
       "      <th>categories_Film &amp; Animation</th>\n",
       "      <th>categories_Gaming</th>\n",
       "      <th>categories_Howto &amp; Style</th>\n",
       "      <th>categories_Music</th>\n",
       "      <th>categories_News &amp; Politics</th>\n",
       "      <th>categories_Nonprofits &amp; Activism</th>\n",
       "      <th>categories_People &amp; Blogs</th>\n",
       "      <th>categories_Pets &amp; Animals</th>\n",
       "      <th>categories_Science &amp; Technology</th>\n",
       "      <th>categories_Sports</th>\n",
       "      <th>categories_Travel &amp; Events</th>\n",
       "    </tr>\n",
       "    <tr>\n",
       "      <th>channel_id</th>\n",
       "      <th></th>\n",
       "      <th></th>\n",
       "      <th></th>\n",
       "      <th></th>\n",
       "      <th></th>\n",
       "      <th></th>\n",
       "      <th></th>\n",
       "      <th></th>\n",
       "      <th></th>\n",
       "      <th></th>\n",
       "      <th></th>\n",
       "      <th></th>\n",
       "      <th></th>\n",
       "      <th></th>\n",
       "      <th></th>\n",
       "    </tr>\n",
       "  </thead>\n",
       "  <tbody>\n",
       "    <tr>\n",
       "      <th>UC-1qy7V-dMBaC-5xfrF-Akw</th>\n",
       "      <td>0.000000</td>\n",
       "      <td>0.0</td>\n",
       "      <td>0.0</td>\n",
       "      <td>0.280000</td>\n",
       "      <td>0.08</td>\n",
       "      <td>0.24</td>\n",
       "      <td>0.00000</td>\n",
       "      <td>0.36</td>\n",
       "      <td>0.0</td>\n",
       "      <td>0.0</td>\n",
       "      <td>0.040000</td>\n",
       "      <td>0.0</td>\n",
       "      <td>0.000000</td>\n",
       "      <td>0.000000</td>\n",
       "      <td>0.0</td>\n",
       "    </tr>\n",
       "    <tr>\n",
       "      <th>UC-XebCD-RF_M3PJaTFqhijg</th>\n",
       "      <td>0.000000</td>\n",
       "      <td>0.0</td>\n",
       "      <td>0.0</td>\n",
       "      <td>1.000000</td>\n",
       "      <td>0.00</td>\n",
       "      <td>0.00</td>\n",
       "      <td>0.00000</td>\n",
       "      <td>0.00</td>\n",
       "      <td>0.0</td>\n",
       "      <td>0.0</td>\n",
       "      <td>0.000000</td>\n",
       "      <td>0.0</td>\n",
       "      <td>0.000000</td>\n",
       "      <td>0.000000</td>\n",
       "      <td>0.0</td>\n",
       "    </tr>\n",
       "    <tr>\n",
       "      <th>UC-aN2hjb8rrrpK74Il7ktew</th>\n",
       "      <td>0.000000</td>\n",
       "      <td>0.0</td>\n",
       "      <td>0.0</td>\n",
       "      <td>0.000000</td>\n",
       "      <td>0.00</td>\n",
       "      <td>0.00</td>\n",
       "      <td>0.00000</td>\n",
       "      <td>0.00</td>\n",
       "      <td>0.0</td>\n",
       "      <td>0.0</td>\n",
       "      <td>1.000000</td>\n",
       "      <td>0.0</td>\n",
       "      <td>0.000000</td>\n",
       "      <td>0.000000</td>\n",
       "      <td>0.0</td>\n",
       "    </tr>\n",
       "    <tr>\n",
       "      <th>UC06LLn1vpmIZJSYnZrbAnHA</th>\n",
       "      <td>0.000000</td>\n",
       "      <td>0.0</td>\n",
       "      <td>0.0</td>\n",
       "      <td>0.000000</td>\n",
       "      <td>0.00</td>\n",
       "      <td>1.00</td>\n",
       "      <td>0.00000</td>\n",
       "      <td>0.00</td>\n",
       "      <td>0.0</td>\n",
       "      <td>0.0</td>\n",
       "      <td>0.000000</td>\n",
       "      <td>0.0</td>\n",
       "      <td>0.000000</td>\n",
       "      <td>0.000000</td>\n",
       "      <td>0.0</td>\n",
       "    </tr>\n",
       "    <tr>\n",
       "      <th>UC0Ka4jKos2O1Svxa6W_Q3Sw</th>\n",
       "      <td>0.006803</td>\n",
       "      <td>0.0</td>\n",
       "      <td>0.0</td>\n",
       "      <td>0.068027</td>\n",
       "      <td>0.00</td>\n",
       "      <td>0.00</td>\n",
       "      <td>0.07483</td>\n",
       "      <td>0.00</td>\n",
       "      <td>0.0</td>\n",
       "      <td>0.0</td>\n",
       "      <td>0.503401</td>\n",
       "      <td>0.0</td>\n",
       "      <td>0.163265</td>\n",
       "      <td>0.183673</td>\n",
       "      <td>0.0</td>\n",
       "    </tr>\n",
       "  </tbody>\n",
       "</table>\n",
       "</div>"
      ],
      "text/plain": [
       "                          categories_Autos & Vehicles  categories_Comedy  \\\n",
       "channel_id                                                                 \n",
       "UC-1qy7V-dMBaC-5xfrF-Akw                     0.000000                0.0   \n",
       "UC-XebCD-RF_M3PJaTFqhijg                     0.000000                0.0   \n",
       "UC-aN2hjb8rrrpK74Il7ktew                     0.000000                0.0   \n",
       "UC06LLn1vpmIZJSYnZrbAnHA                     0.000000                0.0   \n",
       "UC0Ka4jKos2O1Svxa6W_Q3Sw                     0.006803                0.0   \n",
       "\n",
       "                          categories_Education  categories_Entertainment  \\\n",
       "channel_id                                                                 \n",
       "UC-1qy7V-dMBaC-5xfrF-Akw                   0.0                  0.280000   \n",
       "UC-XebCD-RF_M3PJaTFqhijg                   0.0                  1.000000   \n",
       "UC-aN2hjb8rrrpK74Il7ktew                   0.0                  0.000000   \n",
       "UC06LLn1vpmIZJSYnZrbAnHA                   0.0                  0.000000   \n",
       "UC0Ka4jKos2O1Svxa6W_Q3Sw                   0.0                  0.068027   \n",
       "\n",
       "                          categories_Film & Animation  categories_Gaming  \\\n",
       "channel_id                                                                 \n",
       "UC-1qy7V-dMBaC-5xfrF-Akw                         0.08               0.24   \n",
       "UC-XebCD-RF_M3PJaTFqhijg                         0.00               0.00   \n",
       "UC-aN2hjb8rrrpK74Il7ktew                         0.00               0.00   \n",
       "UC06LLn1vpmIZJSYnZrbAnHA                         0.00               1.00   \n",
       "UC0Ka4jKos2O1Svxa6W_Q3Sw                         0.00               0.00   \n",
       "\n",
       "                          categories_Howto & Style  categories_Music  \\\n",
       "channel_id                                                             \n",
       "UC-1qy7V-dMBaC-5xfrF-Akw                   0.00000              0.36   \n",
       "UC-XebCD-RF_M3PJaTFqhijg                   0.00000              0.00   \n",
       "UC-aN2hjb8rrrpK74Il7ktew                   0.00000              0.00   \n",
       "UC06LLn1vpmIZJSYnZrbAnHA                   0.00000              0.00   \n",
       "UC0Ka4jKos2O1Svxa6W_Q3Sw                   0.07483              0.00   \n",
       "\n",
       "                          categories_News & Politics  \\\n",
       "channel_id                                             \n",
       "UC-1qy7V-dMBaC-5xfrF-Akw                         0.0   \n",
       "UC-XebCD-RF_M3PJaTFqhijg                         0.0   \n",
       "UC-aN2hjb8rrrpK74Il7ktew                         0.0   \n",
       "UC06LLn1vpmIZJSYnZrbAnHA                         0.0   \n",
       "UC0Ka4jKos2O1Svxa6W_Q3Sw                         0.0   \n",
       "\n",
       "                          categories_Nonprofits & Activism  \\\n",
       "channel_id                                                   \n",
       "UC-1qy7V-dMBaC-5xfrF-Akw                               0.0   \n",
       "UC-XebCD-RF_M3PJaTFqhijg                               0.0   \n",
       "UC-aN2hjb8rrrpK74Il7ktew                               0.0   \n",
       "UC06LLn1vpmIZJSYnZrbAnHA                               0.0   \n",
       "UC0Ka4jKos2O1Svxa6W_Q3Sw                               0.0   \n",
       "\n",
       "                          categories_People & Blogs  \\\n",
       "channel_id                                            \n",
       "UC-1qy7V-dMBaC-5xfrF-Akw                   0.040000   \n",
       "UC-XebCD-RF_M3PJaTFqhijg                   0.000000   \n",
       "UC-aN2hjb8rrrpK74Il7ktew                   1.000000   \n",
       "UC06LLn1vpmIZJSYnZrbAnHA                   0.000000   \n",
       "UC0Ka4jKos2O1Svxa6W_Q3Sw                   0.503401   \n",
       "\n",
       "                          categories_Pets & Animals  \\\n",
       "channel_id                                            \n",
       "UC-1qy7V-dMBaC-5xfrF-Akw                        0.0   \n",
       "UC-XebCD-RF_M3PJaTFqhijg                        0.0   \n",
       "UC-aN2hjb8rrrpK74Il7ktew                        0.0   \n",
       "UC06LLn1vpmIZJSYnZrbAnHA                        0.0   \n",
       "UC0Ka4jKos2O1Svxa6W_Q3Sw                        0.0   \n",
       "\n",
       "                          categories_Science & Technology  categories_Sports  \\\n",
       "channel_id                                                                     \n",
       "UC-1qy7V-dMBaC-5xfrF-Akw                         0.000000           0.000000   \n",
       "UC-XebCD-RF_M3PJaTFqhijg                         0.000000           0.000000   \n",
       "UC-aN2hjb8rrrpK74Il7ktew                         0.000000           0.000000   \n",
       "UC06LLn1vpmIZJSYnZrbAnHA                         0.000000           0.000000   \n",
       "UC0Ka4jKos2O1Svxa6W_Q3Sw                         0.163265           0.183673   \n",
       "\n",
       "                          categories_Travel & Events  \n",
       "channel_id                                            \n",
       "UC-1qy7V-dMBaC-5xfrF-Akw                         0.0  \n",
       "UC-XebCD-RF_M3PJaTFqhijg                         0.0  \n",
       "UC-aN2hjb8rrrpK74Il7ktew                         0.0  \n",
       "UC06LLn1vpmIZJSYnZrbAnHA                         0.0  \n",
       "UC0Ka4jKos2O1Svxa6W_Q3Sw                         0.0  "
      ]
     },
     "metadata": {},
     "output_type": "display_data"
    },
    {
     "name": "stdout",
     "output_type": "stream",
     "text": [
      "(132, 15)\n",
      "Check the sum of proportions is equal to 1: min_sum_categories = 1.0.\n"
     ]
    }
   ],
   "source": [
    "prop_videos_per_cat_k_a = get_distribution_of_videos_over_category(keep_metavideos_after_sudden_growth, categories, \"Keep after sudden growth channels\") \n",
    "prop_videos_per_cat_k_b = get_distribution_of_videos_over_category(keep_metavideos_before_sudden_growth, categories, \"Keep before sudden growth channels\")\n",
    "prop_videos_per_cat_l_a = get_distribution_of_videos_over_category(lose_metavideos_after_sudden_growth, categories, \"Lose after sudden growth channels\")\n",
    "prop_videos_per_cat_l_b = get_distribution_of_videos_over_category(lose_metavideos_before_sudden_growth, categories, \"Lose before sudden growth channels\")"
   ]
  },
  {
   "cell_type": "code",
   "execution_count": 36,
   "metadata": {},
   "outputs": [
    {
     "data": {
      "image/png": "[encoded data removed]",
      "text/plain": [
       "<Figure size 640x480 with 1 Axes>"
      ]
     },
     "metadata": {},
     "output_type": "display_data"
    }
   ],
   "source": [
    "import seaborn as sns\n",
    "video_distr_for_plotting = pd.concat(\\\n",
    "    [prop_videos_per_cat_l_a.mean(), prop_videos_per_cat_k_a.mean(), prop_videos_per_cat_l_b.mean(), prop_videos_per_cat_k_b.mean()], axis=1)\\\n",
    "    .rename(columns={0:\"lose_after\", 1:\"lose_before\", 2:\"keep_after\", 3:\"keep_before\"})\n",
    "\n",
    "video_distr_for_plotting.reset_index(inplace=True)\n",
    "video_distr_for_plotting = video_distr_for_plotting.melt('index', var_name='population', value_name='vals')\n",
    "\n",
    "sns.barplot(data=video_distr_for_plotting, x=\"index\", y=\"vals\", hue=\"population\", palette=\"hls\")\n",
    "plt.xticks(ticks = np.arange(0, len(categories)), labels = [cat.replace('categories_', '') for cat in video_distr_for_plotting[\"index\"].unique()], rotation=45, ha=\"right\");\n",
    "plt.title(\"Mean distributions of videos over categories\")\n",
    "plt.ylabel(\"Proportion of videos\")\n",
    "plt.xlabel(\"Categories\");"
   ]
  },
  {
   "attachments": {},
   "cell_type": "markdown",
   "metadata": {},
   "source": [
    "##### Statistical analysis of the distribution of videos over categories "
   ]
  },
  {
   "cell_type": "code",
   "execution_count": 37,
   "metadata": {},
   "outputs": [
    {
     "data": {
      "text/html": [
       "<div>\n",
       "<style scoped>\n",
       "    .dataframe tbody tr th:only-of-type {\n",
       "        vertical-align: middle;\n",
       "    }\n",
       "\n",
       "    .dataframe tbody tr th {\n",
       "        vertical-align: top;\n",
       "    }\n",
       "\n",
       "    .dataframe thead th {\n",
       "        text-align: right;\n",
       "    }\n",
       "</style>\n",
       "<table border=\"1\" class=\"dataframe\">\n",
       "  <thead>\n",
       "    <tr style=\"text-align: right;\">\n",
       "      <th></th>\n",
       "      <th>categories</th>\n",
       "      <th>channel_id</th>\n",
       "      <th>crawl_date</th>\n",
       "      <th>description</th>\n",
       "      <th>dislike_count</th>\n",
       "      <th>display_id</th>\n",
       "      <th>duration</th>\n",
       "      <th>like_count</th>\n",
       "      <th>tags</th>\n",
       "      <th>title</th>\n",
       "      <th>upload_date</th>\n",
       "      <th>view_count</th>\n",
       "      <th>num_tags</th>\n",
       "      <th>max_growth_date</th>\n",
       "      <th>before_fame</th>\n",
       "    </tr>\n",
       "  </thead>\n",
       "  <tbody>\n",
       "    <tr>\n",
       "      <th>29026</th>\n",
       "      <td>Music</td>\n",
       "      <td>UC9i9XG-O_VIkdcjVphrFJdg</td>\n",
       "      <td>2019-11-01 08:25:11.531033</td>\n",
       "      <td>NaN</td>\n",
       "      <td>0.0</td>\n",
       "      <td>WLjptzD8Bq8</td>\n",
       "      <td>280</td>\n",
       "      <td>3.0</td>\n",
       "      <td>NaN</td>\n",
       "      <td>Rufus Du Sol - No Place Live @ Solace Tour San...</td>\n",
       "      <td>2018-11-08 00:00:00</td>\n",
       "      <td>482.0</td>\n",
       "      <td>1</td>\n",
       "      <td>2019-04-22 00:00:00</td>\n",
       "      <td>1</td>\n",
       "    </tr>\n",
       "    <tr>\n",
       "      <th>36014</th>\n",
       "      <td>Sports</td>\n",
       "      <td>UC195ELzVDafwpukBRSJSMTw</td>\n",
       "      <td>2019-11-13 22:48:43.703631</td>\n",
       "      <td>#toddlersportfishing #experttackleau #aswblure...</td>\n",
       "      <td>1.0</td>\n",
       "      <td>Xxur3NYZFWU</td>\n",
       "      <td>117</td>\n",
       "      <td>42.0</td>\n",
       "      <td>levibowman,fishing,3yearold,toddler,sportfishi...</td>\n",
       "      <td>3 year old catches massive salmon, music free ...</td>\n",
       "      <td>2019-05-20 00:00:00</td>\n",
       "      <td>1132.0</td>\n",
       "      <td>9</td>\n",
       "      <td>2019-04-22 01:00:00</td>\n",
       "      <td>0</td>\n",
       "    </tr>\n",
       "    <tr>\n",
       "      <th>25824</th>\n",
       "      <td>Gaming</td>\n",
       "      <td>UCEhZ8m5JUlcR16E6j3BUnjQ</td>\n",
       "      <td>2019-11-14 18:57:51.386847</td>\n",
       "      <td>Check out this amazing deal for the video game...</td>\n",
       "      <td>4.0</td>\n",
       "      <td>wCRX-5VFGcg</td>\n",
       "      <td>20899</td>\n",
       "      <td>158.0</td>\n",
       "      <td>Youtube,Gaming,Live,Stream,Resident Evil,Silen...</td>\n",
       "      <td>Silent Hill 2: Director's Cut (PC)</td>\n",
       "      <td>2018-09-06 00:00:00</td>\n",
       "      <td>2838.0</td>\n",
       "      <td>10</td>\n",
       "      <td>2018-08-13 00:00:00</td>\n",
       "      <td>0</td>\n",
       "    </tr>\n",
       "    <tr>\n",
       "      <th>33879</th>\n",
       "      <td>Gaming</td>\n",
       "      <td>UC5BHADReB4zxLgEgBnN626g</td>\n",
       "      <td>2019-11-22 02:34:24.462154</td>\n",
       "      <td>Donate to the Pixel Nation here guys and add y...</td>\n",
       "      <td>0.0</td>\n",
       "      <td>8D1RM1uxd74</td>\n",
       "      <td>6210</td>\n",
       "      <td>23.0</td>\n",
       "      <td>Player Unkown's Battlegrounds,Battlegrounds,ba...</td>\n",
       "      <td>PLAYERUNKNOWN's BATTLEGROUNDS LIVE 🔴 BACK TO T...</td>\n",
       "      <td>2017-04-12 00:00:00</td>\n",
       "      <td>178.0</td>\n",
       "      <td>16</td>\n",
       "      <td>2019-05-20 00:00:00</td>\n",
       "      <td>1</td>\n",
       "    </tr>\n",
       "    <tr>\n",
       "      <th>7775</th>\n",
       "      <td>Gaming</td>\n",
       "      <td>UCf6J9yokPS0ys456jvjLBGQ</td>\n",
       "      <td>2019-11-11 15:53:29.457118</td>\n",
       "      <td>lanetSide 2 takes all the groundbreaking featu...</td>\n",
       "      <td>1.0</td>\n",
       "      <td>6DnyOWcjs1A</td>\n",
       "      <td>210</td>\n",
       "      <td>30.0</td>\n",
       "      <td>Ps2,Planetside 2,gaming,video games,video game...</td>\n",
       "      <td>Planetside 2 - No Excuse</td>\n",
       "      <td>2012-07-26 00:00:00</td>\n",
       "      <td>1747.0</td>\n",
       "      <td>9</td>\n",
       "      <td>2019-06-03 00:00:00</td>\n",
       "      <td>1</td>\n",
       "    </tr>\n",
       "  </tbody>\n",
       "</table>\n",
       "</div>"
      ],
      "text/plain": [
       "      categories                channel_id                  crawl_date  \\\n",
       "29026      Music  UC9i9XG-O_VIkdcjVphrFJdg  2019-11-01 08:25:11.531033   \n",
       "36014     Sports  UC195ELzVDafwpukBRSJSMTw  2019-11-13 22:48:43.703631   \n",
       "25824     Gaming  UCEhZ8m5JUlcR16E6j3BUnjQ  2019-11-14 18:57:51.386847   \n",
       "33879     Gaming  UC5BHADReB4zxLgEgBnN626g  2019-11-22 02:34:24.462154   \n",
       "7775      Gaming  UCf6J9yokPS0ys456jvjLBGQ  2019-11-11 15:53:29.457118   \n",
       "\n",
       "                                             description  dislike_count  \\\n",
       "29026                                                NaN            0.0   \n",
       "36014  #toddlersportfishing #experttackleau #aswblure...            1.0   \n",
       "25824  Check out this amazing deal for the video game...            4.0   \n",
       "33879  Donate to the Pixel Nation here guys and add y...            0.0   \n",
       "7775   lanetSide 2 takes all the groundbreaking featu...            1.0   \n",
       "\n",
       "        display_id  duration  like_count  \\\n",
       "29026  WLjptzD8Bq8       280         3.0   \n",
       "36014  Xxur3NYZFWU       117        42.0   \n",
       "25824  wCRX-5VFGcg     20899       158.0   \n",
       "33879  8D1RM1uxd74      6210        23.0   \n",
       "7775   6DnyOWcjs1A       210        30.0   \n",
       "\n",
       "                                                    tags  \\\n",
       "29026                                                NaN   \n",
       "36014  levibowman,fishing,3yearold,toddler,sportfishi...   \n",
       "25824  Youtube,Gaming,Live,Stream,Resident Evil,Silen...   \n",
       "33879  Player Unkown's Battlegrounds,Battlegrounds,ba...   \n",
       "7775   Ps2,Planetside 2,gaming,video games,video game...   \n",
       "\n",
       "                                                   title          upload_date  \\\n",
       "29026  Rufus Du Sol - No Place Live @ Solace Tour San...  2018-11-08 00:00:00   \n",
       "36014  3 year old catches massive salmon, music free ...  2019-05-20 00:00:00   \n",
       "25824                 Silent Hill 2: Director's Cut (PC)  2018-09-06 00:00:00   \n",
       "33879  PLAYERUNKNOWN's BATTLEGROUNDS LIVE 🔴 BACK TO T...  2017-04-12 00:00:00   \n",
       "7775                            Planetside 2 - No Excuse  2012-07-26 00:00:00   \n",
       "\n",
       "       view_count  num_tags     max_growth_date  before_fame  \n",
       "29026       482.0         1 2019-04-22 00:00:00            1  \n",
       "36014      1132.0         9 2019-04-22 01:00:00            0  \n",
       "25824      2838.0        10 2018-08-13 00:00:00            0  \n",
       "33879       178.0        16 2019-05-20 00:00:00            1  \n",
       "7775       1747.0         9 2019-06-03 00:00:00            1  "
      ]
     },
     "metadata": {},
     "output_type": "display_data"
    },
    {
     "data": {
      "text/plain": [
       "(163, 14)"
      ]
     },
     "execution_count": 37,
     "metadata": {},
     "output_type": "execute_result"
    }
   ],
   "source": [
    "keep_fame_metavideos['before_fame'] = np.where(keep_fame_metavideos[\"upload_date\"] > keep_fame_metavideos[\"max_growth_date\"], 0, 1)\n",
    "lose_fame_metavideos['before_fame'] = np.where(lose_fame_metavideos[\"upload_date\"] > lose_fame_metavideos[\"max_growth_date\"], 0, 1)\n",
    "display(keep_fame_metavideos.sample(5))\n",
    "keep_fame_metavideos.groupby(\"channel_id\").count().shape"
   ]
  },
  {
   "cell_type": "code",
   "execution_count": 38,
   "metadata": {},
   "outputs": [],
   "source": [
    "contingency_table_lose = {}\n",
    "results_lose = {}\n",
    "for channel in lose_fame_metavideos['channel_id'].unique():\n",
    "    \n",
    "    if channel in contingency_table_lose:\n",
    "        continue\n",
    "    else:\n",
    "        df_of_channel = lose_fame_metavideos[lose_fame_metavideos[\"channel_id\"] == f\"{channel}\"]\n",
    "        \n",
    "        contingency_table_lose[f\"{channel}\"] = pd.crosstab(df_of_channel[\"before_fame\"], df_of_channel[\"categories\"])\n",
    "        chi2, p, dof, expected = scs.chi2_contingency(contingency_table_lose[f\"{channel}\"])\n",
    "        results_lose[f\"{channel}\"] = [chi2, p, dof, expected]"
   ]
  },
  {
   "cell_type": "code",
   "execution_count": 39,
   "metadata": {},
   "outputs": [
    {
     "name": "stdout",
     "output_type": "stream",
     "text": [
      "UCphO96ypf0z0ynM5r5rDF6w: chi-stat 9.04779411764706 -- p-value 0.010846671081649481\n",
      "UCpci_E3rz6pTveUgZMF6Jjg: chi-stat 251.2441839431392 -- p-value 2.7734392127288478e-55\n",
      "UCytLmyg_OJXmNkHEMS0w2Cw: chi-stat 103.90337409506981 -- p-value 1.4506037339594293e-21\n",
      "UCmHr3gIlwwgdj_kVTcW-yqw: chi-stat 17.529384703852784 -- p-value 0.00015615017524861662\n",
      "UCmBMoU5ZDb44zwp47g3AInA: chi-stat 95.62818646795733 -- p-value 1.305219005738976e-15\n",
      "UCl_Ksy6Yi1b4eEZ46FInb_w: chi-stat 101.55612027836764 -- p-value 2.0518552022786443e-18\n",
      "UCj-J4HHrtX3gT9ZEWqAf2Dw: chi-stat 299.6415502796173 -- p-value 1.1894531885294357e-64\n",
      "UCiTtO9FDqPGRqDMuSC74AQA: chi-stat 717.6894077690513 -- p-value 1.4312821093447912e-156\n",
      "UCiIfXQzQUTQtHSgb4ce247g: chi-stat 748.4816717466243 -- p-value 8.581066057461583e-165\n",
      "UCh8g7gphDveEEF9aFMaI7ig: chi-stat 57.01551743527193 -- p-value 5.019851114231217e-11\n",
      "UCgvVxB6GKYpyZY1Hh9u-uSQ: chi-stat 24.270289097875303 -- p-value 2.1935687880202468e-05\n",
      "UCfZtRrsy5LSboUqhImk0Zuw: chi-stat 64.20042440318302 -- p-value 3.7921521237764526e-13\n",
      "UCfQkASkyBNh2qs_vGpfQAPg: chi-stat 17.526692275449445 -- p-value 0.0005506268014114453\n",
      "UCeLh8W_7_Y8xxIlCA3iT8gw: chi-stat 267.63948083837585 -- p-value 7.635283483575694e-59\n",
      "UCcw3zQLvihcC4IMyJibKJqA: chi-stat 116.01819621863274 -- p-value 4.7095552474809726e-27\n",
      "UCcfmmmPaCAQLqa2k-Y-CKkA: chi-stat 56.40634920634921 -- p-value 1.647961125661494e-11\n",
      "UCcEWKT3bmBENciUiAKDjIOQ: chi-stat 75.14124293785311 -- p-value 4.8226574387462816e-17\n",
      "UCbfwp6-FuLqJflaLIuzzaFg: chi-stat 9.496466417524406 -- p-value 0.049819905338966505\n",
      "UCaOI6eIy2scNgiaNwxWiaYg: chi-stat 47.30840590947686 -- p-value 6.065156103550415e-12\n",
      "UCa1yUHQmV6Z0PpAUtfgNd9g: chi-stat 23.595435326908543 -- p-value 0.00025962660572354364\n",
      "UC_Fpcn-ioqF3lKXV0xPSmWw: chi-stat 201.0 -- p-value 2.565000359068108e-43\n",
      "UCZrFKnfy5VMd3bp98e_TEuA: chi-stat 33.3733405288721 -- p-value 0.0004576374221375766\n",
      "UCWKeZvw4iSZVM2qXKZde58A: chi-stat 144.9367741935484 -- p-value 2.474456805026227e-30\n",
      "UCVQ9S8LoggEepxMYDiRpeeg: chi-stat 25.24242424242424 -- p-value 3.301240928583352e-06\n",
      "UCTiMHUxl_43kP2X4y4JFgdg: chi-stat 25.56057098765432 -- p-value 1.1787129460425228e-05\n",
      "UCSY73HESo_bPc8RQblsVBHw: chi-stat 9.936575052854122 -- p-value 0.0191130364265256\n",
      "UCSOBYYIIC4aK7xlxv1vcWcg: chi-stat 26.914285714285715 -- p-value 1.430991700577671e-06\n",
      "UCRO67vJS0M0pXZC-_xhsqSw: chi-stat 255.51320377137583 -- p-value 1.6314087414739522e-57\n",
      "UCPguA0rB8zltTMt_8imP61A: chi-stat 22.61421734234234 -- p-value 1.9801386697995507e-06\n",
      "UCPRPRda5cTEGwoQM_LAV6sg: chi-stat 13.924394741061406 -- p-value 0.007540307184099272\n",
      "UCNx5Z_y5YxCtgQX79JEe52g: chi-stat 17.498485152752036 -- p-value 2.8753669572175866e-05\n",
      "UCKCWzpfMtsofk8bm80WzwmA: chi-stat 9.924324324324324 -- p-value 0.006997781126098492\n",
      "UCK8Ln_JXeoRuhH4KVr8yxOQ: chi-stat 136.9318572138244 -- p-value 1.7336239390392318e-29\n",
      "UCzmRLWx1fzaBy0D7kCfOn4w: chi-stat 128.7878205523233 -- p-value 7.546988278149285e-30\n",
      "UCzageIVSvgSN0VbardY4-jA: chi-stat 6.652725563909776 -- p-value 0.009900426394691405\n",
      "UCIrTFKMVjT82cz85Nekg-OQ: chi-stat 250.88137312720278 -- p-value 1.1204519121472163e-49\n",
      "UCIr5p9znjWkmlUebyBvqZmQ: chi-stat 88.03329563936998 -- p-value 3.444973551616586e-18\n",
      "UCIiv_z0dS13ZHQbu2TpuhZg: chi-stat 43.169811320754725 -- p-value 9.541416634084806e-09\n",
      "UCHqg6JUfdKKp49t8MizaDqw: chi-stat 12.972582972582973 -- p-value 0.01141053828016654\n",
      "UCH2v-Hc-NSbHmtPsH5AC_NA: chi-stat 67.44730679156908 -- p-value 1.375735231776954e-10\n",
      "UCEb3AiZu3aI9ab3vSHA9UWA: chi-stat 36.90363986103834 -- p-value 6.261869259923617e-07\n",
      "UCD8GawxPXpJnql466KekVXA: chi-stat 496.9098095722585 -- p-value 6.633302903357447e-98\n",
      "UCCSVLu7cnoSqzqH9tMxYFag: chi-stat 11.000000000000002 -- p-value 0.004086771438464062\n",
      "UCBCrq2Nm6qVojyL8l73wyhg: chi-stat 14.08695652173913 -- p-value 0.000873084459200987\n",
      "UC9sEGojKw0yOs8os6WfXUSg: chi-stat 40.132314744079444 -- p-value 4.0640954988272004e-08\n",
      "UC9IPOPZ96KaBo_3t_vJQCcA: chi-stat 27.090956407563027 -- p-value 1.905467585436105e-05\n",
      "UC9GcZThA6s1i7Ajl4j1qsPg: chi-stat 33.17827868852459 -- p-value 2.953512439243435e-07\n",
      "UC7ZnsXSgNrYiyumvY5ZCzxA: chi-stat 72.25291353383459 -- p-value 1.4051982076823416e-15\n",
      "UC6vvD9LkAvhQzItm1kCtCfg: chi-stat 14.936741817349505 -- p-value 0.010636077731576408\n",
      "UC6l9t3MXZdO-EuYySY69lPQ: chi-stat 11.484375 -- p-value 0.0032077436556835082\n",
      "UCuWzQ0z5EFdMjrtvmlOmawQ: chi-stat 37.00454378429062 -- p-value 4.681374540238578e-06\n",
      "UCuGzr7zMBxGcvBCNhl409sg: chi-stat 17.39181818181818 -- p-value 0.00016726869425052557\n",
      "UC6OZKAoI9lQMYCfK6I6rkxg: chi-stat 3.9375 -- p-value 0.04722090400357733\n",
      "UC6JmzBg0e91_OAiPeEnRf0w: chi-stat 11.551190476190477 -- p-value 0.009089931126476653\n",
      "UC58oMWCDv9UsCjl4TJWReGw: chi-stat 76.00474383301707 -- p-value 2.2067102487484676e-16\n",
      "UC4H3CiJmqWGZh8TjHOoPVgA: chi-stat 20.050680272108842 -- p-value 4.4263943178961324e-05\n",
      "UCtqRlgWtFIKzj3Z0SPjlzKg: chi-stat 28.702354260089688 -- p-value 8.98472205128732e-06\n",
      "UC1vTH0ByVIcIOB83FbvHP7Q: chi-stat 44.551692493380564 -- p-value 1.1522171349697253e-09\n",
      "UC1TBvaAmpKfSBpwquEakSMw: chi-stat 14.620528198653199 -- p-value 0.0001314745670350825\n",
      "UC0cCVk1o3EYgRq62nrmrmTQ: chi-stat 19.186794354838707 -- p-value 1.185305402518326e-05\n",
      "UC0Nib28yKrp10wLd87eia4Q: chi-stat 211.72961289864338 -- p-value 5.761299987977811e-48\n",
      "UC0Ka4jKos2O1Svxa6W_Q3Sw: chi-stat 26.320283366578252 -- p-value 0.00019403892417850854\n",
      "UC-aN2hjb8rrrpK74Il7ktew: chi-stat 256.9992373932165 -- p-value 7.737935086806442e-58\n",
      "UC-1qy7V-dMBaC-5xfrF-Akw: chi-stat 15.176529411764706 -- p-value 0.004348744902918172\n",
      "UCstTfKAdrk7W8TsPiIrKrVw: chi-stat 21.0 -- p-value 0.0003166691675220923\n"
     ]
    }
   ],
   "source": [
    "# DUBBIO AMLETICO: categorie considerate TIENI A ZERO\n",
    "count_lose = 0\n",
    "for key in results_lose:\n",
    "    if results_lose[key][1] < 0.05:\n",
    "        count_lose += 1\n",
    "        print(f\"{key}: chi-stat {results_lose[key][0]} -- p-value {results_lose[key][1]}\")"
   ]
  },
  {
   "cell_type": "code",
   "execution_count": 40,
   "metadata": {},
   "outputs": [],
   "source": [
    "contingency_table_keep = {}\n",
    "results_keep = {}\n",
    "\n",
    "for channel in keep_fame_metavideos['channel_id'].unique():\n",
    "    if channel in contingency_table_keep:\n",
    "        continue\n",
    "    else:\n",
    "        df_of_channel = keep_fame_metavideos[keep_fame_metavideos[\"channel_id\"] == f\"{channel}\"]\n",
    "        \n",
    "        contingency_table_keep[f\"{channel}\"] = pd.crosstab(df_of_channel[\"before_fame\"], df_of_channel[\"categories\"])\n",
    "        chi2, p, dof, expected = scs.chi2_contingency(contingency_table_keep[f\"{channel}\"])\n",
    "        results_keep[f\"{channel}\"] = [chi2, p, dof, expected]\n"
   ]
  },
  {
   "cell_type": "code",
   "execution_count": 41,
   "metadata": {},
   "outputs": [
    {
     "name": "stdout",
     "output_type": "stream",
     "text": [
      "UCzVnXCLWqY5dtOBn9UZoFTw: chi-stat 52.67738831145983 -- p-value 3.930907933725064e-13\n",
      "UCzHN06NJR1ZXGn_YY3sCeMw: chi-stat 11.049126838235296 -- p-value 0.0008872897673155875\n",
      "UCr-8JBJmj2eYXpGIgFzST1A: chi-stat 60.39669421487603 -- p-value 7.674047599313374e-14\n",
      "UCpzp76Fc3fke3XVFx4SscyQ: chi-stat 235.7648709842789 -- p-value 4.503445093512759e-48\n",
      "UCpXdkG4xYqj_aStgm3M1ylA: chi-stat 57.33408029878619 -- p-value 2.1806955486270462e-12\n",
      "UCnPXXqyeVyFJQOe-Azs59mQ: chi-stat 211.5234375 -- p-value 6.389994855968624e-48\n",
      "UCmjx5AHrD7OUZCVW8S2rvdQ: chi-stat 11.0525681492109 -- p-value 0.011444989440011393\n",
      "UCk_nBvBjw0DuEtrT8Sxv5vA: chi-stat 53.15837104072398 -- p-value 2.8629014270339865e-12\n",
      "UCj8rsEjT5V8Gi9Ps65p_i3w: chi-stat 16.611111111111114 -- p-value 0.00024714000611243285\n",
      "UCitT48tHffPMf0UfYYizedQ: chi-stat 11.105303444505196 -- p-value 0.003877162442106955\n",
      "UCidb8TVEeuYU5hIbKihD96A: chi-stat 6.441375830279433 -- p-value 0.011149226279644412\n",
      "UChFFnw4EU_26F6SWiAR6ZUg: chi-stat 29.088888888888892 -- p-value 7.498998046779163e-06\n",
      "UCgUf0UAGgSButb9bsp8JLCg: chi-stat 43.60835429196281 -- p-value 2.544551958653478e-07\n",
      "UCfA9CUl-3z4i8x1Hz7X7ozg: chi-stat 137.9894719251337 -- p-value 1.0255190015539552e-29\n",
      "UCf1u0VYm6PDejGsp77IbOpA: chi-stat 91.592483304861 -- p-value 6.041655160387486e-19\n",
      "UCdNDvHrtBsmb1AhKi3sx3JA: chi-stat 11.97 -- p-value 0.007486637550978456\n",
      "UCcr9tciZbuvJrEVAgIXCp8Q: chi-stat 13.05284000530223 -- p-value 0.022888599881625386\n",
      "UCxhhUKJ4SUpOLR3HwZZtxfw: chi-stat 71.73294704221202 -- p-value 1.802773154178628e-13\n",
      "UCa0FZ4Q-C0ubelfymLjsCBw: chi-stat 72.94316384741062 -- p-value 2.4981876133117852e-14\n",
      "UCZW7rxzor_SN0wabU5M9QyQ: chi-stat 51.761901775073696 -- p-value 6.5045960775542056e-09\n",
      "UCXdapW5go7Jof99qzXcHFxw: chi-stat 19.927536231884055 -- p-value 0.0012894692148190709\n",
      "UCWQNxN6-Ur_VJyBR1YRxbeQ: chi-stat 18.643867895143405 -- p-value 0.0450263295870786\n",
      "UCW-WR8nzuoEukAyQuZJuQFw: chi-stat 25.952954351587906 -- p-value 3.234337138740408e-05\n",
      "UCV67mCm2iauHB1bxyiC7e4Q: chi-stat 41.02231275566207 -- p-value 8.016482845612024e-07\n",
      "UCUuxEycESEXkvxpDAAdVUwA: chi-stat 12.342553093894773 -- p-value 0.00044274909112280905\n",
      "UCUgvCC6iygghq-f2r96P-Jw: chi-stat 14.016374269005848 -- p-value 0.029453788088634383\n",
      "UCUJYKi4K2MK2TCWBMdEPVpw: chi-stat 20.06256900993743 -- p-value 4.400160246858113e-05\n",
      "UCTMRxtyHoE3LPcrl-kT4AQQ: chi-stat 6.729634206382912 -- p-value 0.009482404376935627\n",
      "UCTB0IZ3M3CnB9ocxYhUeMxQ: chi-stat 44.23075114123792 -- p-value 2.918602190858622e-11\n",
      "UCT5kUJ_k4gGDC6wxHFbkFMg: chi-stat 340.62392384105954 -- p-value 1.598828202395967e-73\n",
      "UCT-6ZeMTBM0Jo0TaHBtjjXw: chi-stat 22.600704419658292 -- p-value 0.00015213773244320003\n",
      "UCSqTvFl6_d31Ocb6sFY5GQQ: chi-stat 39.96047921688948 -- p-value 2.5915350744446867e-10\n",
      "UCSVbpXAEVLx4vyAt1CQ5CGw: chi-stat 13.968957871396896 -- p-value 0.0029477123608556703\n",
      "UCS2doNV_cEVwyqbiKTKOxVQ: chi-stat 8.06333673692087 -- p-value 0.01774470054541717\n",
      "UCRzdULLRzJKp_PBLVbAdT3A: chi-stat 117.78716048145994 -- p-value 1.930288485649494e-27\n",
      "UCPB8PC7nHUOR6SNvLKgNirg: chi-stat 14.297360248447204 -- p-value 0.0007859006883453897\n",
      "UCP9RnEsV1-BIWx8TNmXnyDg: chi-stat 8.435973208535996 -- p-value 0.014728268505424885\n",
      "UCOksmW-vYh_TrBDHOc5Bj8Q: chi-stat 77.03761662382351 -- p-value 3.49274666014976e-15\n",
      "UCOahZVmPp5kbPreioyuu6Bg: chi-stat 115.49670206980713 -- p-value 6.126084165617338e-27\n",
      "UCNrXrJbgI3LK-RR8c6xYpxQ: chi-stat 16.60945578443021 -- p-value 0.0008502255695865997\n",
      "UCvbx4EpkEIvmslhxpQJjCtg: chi-stat 11.2 -- p-value 0.0036978637164829338\n",
      "UCJQD78k6gcr8LWQJi0drgJA: chi-stat 17.71304347826087 -- p-value 0.0014040583736821704\n",
      "UCJITruy6Kd48hC_GiuJWA7w: chi-stat 19.019354838709678 -- p-value 0.0019062461344549568\n",
      "UCJCJZ7IyIdTiAnoTHfUfzlg: chi-stat 15.661764705882353 -- p-value 0.0003972747890169961\n",
      "UCIpOKv2vfA1G0f9kOmvHU5A: chi-stat 66.47721926471927 -- p-value 1.256525686237374e-13\n",
      "UCIRV5KiEoDdhpGIlCng7UZg: chi-stat 44.15617021145761 -- p-value 3.031945826722127e-11\n",
      "UCHunBH1FCnxgfgBwFjIHUDg: chi-stat 6.411428571428571 -- p-value 0.04052994133804047\n",
      "UCHD_NwhSH6uV41OghCVYnUg: chi-stat 16.65584140674228 -- p-value 0.033899098015400475\n",
      "UCGITwYebyH_lE_HF3QeH1cg: chi-stat 42.98823529411765 -- p-value 2.4751971750683047e-09\n",
      "UCEXfvgV4A8BOK9UWYCQS3_A: chi-stat 6.136363636363637 -- p-value 0.046505633732877305\n",
      "UCE7LlFNrTLKhlI5eSvqsUiQ: chi-stat 27.57575757575758 -- p-value 4.45835024146738e-06\n",
      "UCE3pZOwArJXDOQjcQsiQT_w: chi-stat 10.738636363636363 -- p-value 0.013226470407510836\n",
      "UCCATwFwBuKLpVBslZBrrnAg: chi-stat 32.71954740325401 -- p-value 1.3632785945230416e-06\n",
      "UCC3bKrYopKcAlr-koOkWlaQ: chi-stat 25.46468476687172 -- p-value 0.00011330230524857158\n",
      "UCBljts0WDvTSPfc62Ylde5Q: chi-stat 21.491132250911946 -- p-value 3.554686732046233e-06\n",
      "UCAe59EK-MWy0l8CVbD8AMpQ: chi-stat 12.869895536562204 -- p-value 0.00033391024789583464\n",
      "UCAMg61CS13RRsMzpT1uqTgQ: chi-stat 45.0 -- p-value 9.252702104537306e-10\n",
      "UC9Ix-ie2xgqGQy5CukDdsCA: chi-stat 19.94474975234681 -- p-value 4.6671592492935445e-05\n",
      "UC85hOsMi29TmAoEXSJN2EHQ: chi-stat 35.69753736201167 -- p-value 2.304551480005868e-09\n",
      "UC7cOGeEvU9dDT2UfusVKSRg: chi-stat 11.261538461538462 -- p-value 0.003585815946208954\n",
      "UC7Xpy9p2ILXFFT-rnOGxv8A: chi-stat 7.693627450980394 -- p-value 0.02134764765459986\n",
      "UC6SM8EEPL1MX6bKf44iXx4Q: chi-stat 6.562499999999999 -- p-value 0.03758125087099792\n",
      "UC5hWqb0u1eKgYmVryCEyJYA: chi-stat 7.536043844621181 -- p-value 0.006047668869134813\n",
      "UC5VsO8l6_l8fvc27uvv74bg: chi-stat 46.91497082228116 -- p-value 1.9456403809533795e-08\n",
      "UC5Qhwf1eDxrJJmRuhJgcY9Q: chi-stat 8.079061538238948 -- p-value 0.04440569083927905\n",
      "UCu7eTaxc4XN54kSnZRF4gyw: chi-stat 19.246835963182118 -- p-value 1.1486057946986066e-05\n",
      "UC0elua_4G2G6obgvf9VctdA: chi-stat 10.0 -- p-value 0.01856613546304325\n",
      "UC-oJf3N-3s_yYRhQK-V9u7Q: chi-stat 20.536065516641695 -- p-value 0.0045210488144231805\n",
      "UCtB3YR27CRh9VV5pyD9D1nw: chi-stat 82.66524745664529 -- p-value 1.0046903864573735e-15\n",
      "UCt2jmwH9VgEjLKKq9YjmrhA: chi-stat 13.4186063652989 -- p-value 0.009401600130502681\n"
     ]
    }
   ],
   "source": [
    "count_keep = 0\n",
    "for key in results_keep:\n",
    "    if results_keep[key][1] < 0.05:\n",
    "        count_keep += 1\n",
    "        print(f\"{key}: chi-stat {results_keep[key][0]} -- p-value {results_keep[key][1]}\")"
   ]
  },
  {
   "cell_type": "code",
   "execution_count": 42,
   "metadata": {},
   "outputs": [
    {
     "name": "stdout",
     "output_type": "stream",
     "text": [
      "Number of \"lose\" videos that significantly changed their distribution over categories: 65\n",
      "Number of \"keep\" videos that significantly changed their distribution over categories: 70\n"
     ]
    }
   ],
   "source": [
    "print(f\"Number of \\\"lose\\\" videos that significantly changed their distribution over categories: {count_lose}\")\n",
    "print(f\"Number of \\\"keep\\\" videos that significantly changed their distribution over categories: {count_keep}\")"
   ]
  },
  {
   "attachments": {},
   "cell_type": "markdown",
   "metadata": {},
   "source": [
    "<font color = 'red'> HOW TO DO THE COMPARISON OF THE DISTRIBUTIONS OF THE DISTRIBUTIONS?"
   ]
  },
  {
   "attachments": {},
   "cell_type": "markdown",
   "metadata": {},
   "source": [
    "### Analysis within categories\n",
    "<font color='green'> **TO DO**"
   ]
  },
  {
   "cell_type": "code",
   "execution_count": 85,
   "metadata": {},
   "outputs": [],
   "source": [
    "categories_to_analyse = [\"Entertainment\", \"Gaming\", \"Music\"]\n"
   ]
  },
  {
   "cell_type": "code",
   "execution_count": 86,
   "metadata": {},
   "outputs": [
    {
     "name": "stdout",
     "output_type": "stream",
     "text": [
      "Category: Entertainment\n",
      "check shapes:   Lose After (9, 14)         Keep After (9, 14)         Lose before (9, 14)         Keep before (9, 14)\n",
      "Category: Gaming\n",
      "check shapes:   Lose After (8, 14)         Keep After (8, 14)         Lose before (8, 14)         Keep before (8, 14)\n",
      "Category: Music\n",
      "check shapes:   Lose After (9, 14)         Keep After (9, 14)         Lose before (9, 14)         Keep before (9, 14)\n"
     ]
    }
   ],
   "source": [
    "result = {}\n",
    "\n",
    "for i in categories_to_analyse:\n",
    "    dict_category = {}\n",
    "\n",
    "    print(f\"Category: {i}\")\n",
    "    \n",
    "    # filter by category\n",
    "    L_A_metavideos = lose_metavideos_after_sudden_growth[lose_metavideos_after_sudden_growth[\"categories\"] == i]\n",
    "    K_A_metavideos = keep_metavideos_after_sudden_growth[keep_metavideos_after_sudden_growth[\"categories\"] == i]\n",
    "    L_B_metavideos = lose_metavideos_before_sudden_growth[lose_metavideos_before_sudden_growth[\"categories\"] == i]\n",
    "    K_B_metavideos = keep_metavideos_before_sudden_growth[keep_metavideos_before_sudden_growth[\"categories\"] == i]\n",
    "\n",
    "    # select same channels\n",
    "    channels_l_b = L_B_metavideos[\"channel_id\"].unique()\n",
    "    channels_l_a = L_A_metavideos[\"channel_id\"].unique()\n",
    "    index_lose = set.intersection(set(channels_l_b), set(channels_l_a))\n",
    "    L_B_metavideos = L_B_metavideos[L_B_metavideos[\"channel_id\"].isin(index_lose)]\n",
    "    L_A_metavideos = L_A_metavideos[L_A_metavideos[\"channel_id\"].isin(index_lose)]\n",
    "\n",
    "    channels_k_b = K_B_metavideos[\"channel_id\"].unique()\n",
    "    channels_k_a = K_A_metavideos[\"channel_id\"].unique()\n",
    "    index_keep = set.intersection(set(channels_k_b), set(channels_k_a))\n",
    "    K_B_metavideos = K_B_metavideos[K_B_metavideos[\"channel_id\"].isin(index_keep)]\n",
    "    K_A_metavideos = K_A_metavideos[K_A_metavideos[\"channel_id\"].isin(index_keep)]\n",
    "\n",
    "    # remove channels that don't have a match anymore\n",
    "    removed_keep = matched_channels[~matched_channels[\"channel_keep\"].isin(index_keep)]\n",
    "    removed_lose = matched_channels[~matched_channels[\"channel_lose\"].isin(index_lose)]\n",
    "    index_remove = set.union(set(removed_keep[\"channel_lose\"]), set(removed_lose[\"channel_keep\"]))\n",
    "\n",
    "    K_A_metavideos = K_A_metavideos[~K_A_metavideos[\"channel_id\"].isin(index_remove)]\n",
    "    K_B_metavideos = K_B_metavideos[~K_B_metavideos[\"channel_id\"].isin(index_remove)]\n",
    "    L_A_metavideos = L_A_metavideos[~L_A_metavideos[\"channel_id\"].isin(index_remove)]\n",
    "    L_B_metavideos = L_B_metavideos[~L_B_metavideos[\"channel_id\"].isin(index_remove)]\n",
    "\n",
    "    print(f\"check shapes:   Lose After {L_A_metavideos.groupby('channel_id').count().shape} \\\n",
    "        Keep After {K_A_metavideos.groupby('channel_id').count().shape} \\\n",
    "        Lose before {L_B_metavideos.groupby('channel_id').count().shape} \\\n",
    "        Keep before {K_B_metavideos.groupby('channel_id').count().shape}\")\n",
    "\n",
    "    # filter time series dataframes\n",
    "    L_ts = lose_fame_ts[lose_fame_ts[\"channel\"].isin(L_A_metavideos[\"channel_id\"])]\n",
    "    K_ts = keep_fame_ts[keep_fame_ts[\"channel\"].isin(K_A_metavideos[\"channel_id\"])]\n",
    "\n",
    "    # frequency of publication\n",
    "    L_A_num_metavideos = L_A_metavideos.groupby(\"channel_id\").count()['duration']\n",
    "    K_A_num_metavideos = K_A_metavideos.groupby(\"channel_id\").count()['duration']\n",
    "    L_B_num_metavideos = L_B_metavideos.groupby(\"channel_id\").count()['duration']\n",
    "    K_B_num_metavideos = K_B_metavideos.groupby(\"channel_id\").count()['duration']\n",
    "   \n",
    "    L_A_time = (L_ts.groupby(\"channel\")['datetime'].max() - L_ts.groupby(\"channel\")['max_growth_date'].mean()).dt.days\n",
    "    K_A_time = (K_ts.groupby(\"channel\")['datetime'].max() - K_ts.groupby(\"channel\")['max_growth_date'].mean()).dt.days\n",
    "    L_B_time = (L_ts.groupby(\"channel\")['max_growth_date'].mean() - L_ts.groupby(\"channel\")['datetime'].min()).dt.days\n",
    "    K_B_time = (K_ts.groupby(\"channel\")['max_growth_date'].mean() - K_ts.groupby(\"channel\")['datetime'].min()).dt.days\n",
    "    \n",
    "    L_A_freq = L_A_num_metavideos / L_A_time\n",
    "    K_A_freq = K_A_num_metavideos / K_A_time\n",
    "    L_B_freq = L_B_num_metavideos / L_B_time\n",
    "    K_B_freq = K_B_num_metavideos / K_B_time\n",
    "\n",
    "    dict_category[\"freq_of_publication\"] = {'L_A_freq': L_A_freq, 'K_A_freq': K_A_freq, 'L_B_freq': L_B_freq, 'K_B_freq': K_B_freq}\n",
    "\n",
    "    # duration of videos\n",
    "    L_A_duration = L_A_metavideos.groupby(\"channel_id\").mean()['duration']\n",
    "    K_A_duration = K_A_metavideos.groupby(\"channel_id\").mean()['duration']\n",
    "    L_B_duration = L_B_metavideos.groupby(\"channel_id\").mean()['duration']\n",
    "    K_B_duration = K_B_metavideos.groupby(\"channel_id\").mean()['duration']\n",
    "\n",
    "    dict_category[\"duration_of_videos\"] = {'L_A_duration': L_A_duration, 'K_A_duration': K_A_duration, 'L_B_duration': L_B_duration, 'K_B_duration': K_B_duration}\n",
    "\n",
    "    # number of tags\n",
    "    L_A_num_tags = L_A_metavideos.groupby(\"channel_id\").mean()['num_tags']\n",
    "    K_A_num_tags = K_A_metavideos.groupby(\"channel_id\").mean()['num_tags']\n",
    "    L_B_num_tags = L_B_metavideos.groupby(\"channel_id\").mean()['num_tags']\n",
    "    K_B_num_tags = K_B_metavideos.groupby(\"channel_id\").mean()['num_tags']\n",
    "\n",
    "    dict_category[\"num_of_tags\"] = {'L_A_num_tags': L_A_num_tags, 'K_A_num_tags': K_A_num_tags, 'L_B_num_tags': L_B_num_tags, 'K_B_num_tags': K_B_num_tags}\n",
    "\n",
    "    result[i] = dict_category\n",
    "\n"
   ]
  },
  {
   "attachments": {},
   "cell_type": "markdown",
   "metadata": {},
   "source": [
    "Statistical tests"
   ]
  },
  {
   "cell_type": "code",
   "execution_count": 87,
   "metadata": {},
   "outputs": [
    {
     "name": "stdout",
     "output_type": "stream",
     "text": [
      "Category: Entertainment\n",
      "\n",
      "Frequency of publication tests\n",
      "    Keep videos: t-stat 1.2736565964666948 -- p-value 0.23854173221156447\n",
      "    Lose videos: t-stat -0.7855464943247736 -- p-value 0.45476712106369943\n",
      "\n",
      "Duration of videos tests\n",
      "    Keep videos: t-stat 0.8953600203868469 -- p-value 0.39673421398241937\n",
      "    Lose videos: t-stat 1.1882208469542634 -- p-value 0.2688219331515312\n",
      "\n",
      "Number of tags tests\n",
      "    Keep videos: t-stat -0.2798760759298054 -- p-value 0.7866728795007529\n",
      "    Lose videos: t-stat 1.6576004476441546 -- p-value 0.13598605210941267\n",
      "\n",
      "--------------------------------------------------------------------------------------------------\n",
      "\n",
      "Category: Gaming\n",
      "\n",
      "Frequency of publication tests\n",
      "    Keep videos: t-stat -1.08300076999122 -- p-value 0.3146966177078874\n",
      "    Lose videos: t-stat -1.015404950492678 -- p-value 0.3437171256274026\n",
      "\n",
      "Duration of videos tests\n",
      "    Keep videos: t-stat 1.3032301829200728 -- p-value 0.2337226781170435\n",
      "    Lose videos: t-stat -0.7745449885055099 -- p-value 0.4639622171306992\n",
      "\n",
      "Number of tags tests\n",
      "    Keep videos: t-stat -1.5363417892827438 -- p-value 0.16833506752434646\n",
      "    Lose videos: t-stat 0.7087146094454695 -- p-value 0.5014151494527781\n",
      "\n",
      "--------------------------------------------------------------------------------------------------\n",
      "\n",
      "Category: Music\n",
      "\n",
      "Frequency of publication tests\n",
      "    Keep videos: t-stat -1.353044792034667 -- p-value 0.2130333382180176\n",
      "    Lose videos: t-stat 1.1344173380039368 -- p-value 0.28946506695665175\n",
      "\n",
      "Duration of videos tests\n",
      "    Keep videos: t-stat -0.9382018208852445 -- p-value 0.3755976514370213\n",
      "    Lose videos: t-stat 0.7277524665726951 -- p-value 0.4875152282419246\n",
      "\n",
      "Number of tags tests\n",
      "    Keep videos: t-stat -0.6260659295373969 -- p-value 0.5487134505798954\n",
      "    Lose videos: t-stat 1.4651924286944265 -- p-value 0.18103298897188388\n",
      "\n",
      "--------------------------------------------------------------------------------------------------\n",
      "\n"
     ]
    }
   ],
   "source": [
    "for i in categories_to_analyse:\n",
    "    print(f\"Category: {i}\\n\")\n",
    "\n",
    "    # frequency of publication tests\n",
    "    print(\"Frequency of publication tests\")\n",
    "    # Keep videos\n",
    "    stat, pval = scs.ttest_rel(result[i][\"freq_of_publication\"][\"K_A_freq\"], result[i][\"freq_of_publication\"][\"K_B_freq\"])\n",
    "    print(f\"    Keep videos: t-stat {stat} -- p-value {pval}\")\n",
    "    # Lose videos\n",
    "    stat, pval = scs.ttest_rel(result[i][\"freq_of_publication\"][\"L_A_freq\"], result[i][\"freq_of_publication\"][\"L_B_freq\"])\n",
    "    print(f\"    Lose videos: t-stat {stat} -- p-value {pval}\\n\")\n",
    "\n",
    "    # duration of videos tests\n",
    "    print(\"Duration of videos tests\")\n",
    "    # Keep videos\n",
    "    stat, pval = scs.ttest_rel(result[i][\"duration_of_videos\"][\"K_A_duration\"], result[i][\"duration_of_videos\"][\"K_B_duration\"])\n",
    "    print(f\"    Keep videos: t-stat {stat} -- p-value {pval}\")\n",
    "    # Lose videos\n",
    "    stat, pval = scs.ttest_rel(result[i][\"duration_of_videos\"][\"L_A_duration\"], result[i][\"duration_of_videos\"][\"L_B_duration\"])\n",
    "    print(f\"    Lose videos: t-stat {stat} -- p-value {pval}\\n\")\n",
    "\n",
    "    # number of tags tests\n",
    "    print(\"Number of tags tests\")\n",
    "    # Keep videos\n",
    "    stat, pval = scs.ttest_rel(result[i][\"num_of_tags\"][\"K_A_num_tags\"], result[i][\"num_of_tags\"][\"K_B_num_tags\"])\n",
    "    print(f\"    Keep videos: t-stat {stat} -- p-value {pval}\")\n",
    "    # Lose videos\n",
    "    stat, pval = scs.ttest_rel(result[i][\"num_of_tags\"][\"L_A_num_tags\"], result[i][\"num_of_tags\"][\"L_B_num_tags\"])\n",
    "    print(f\"    Lose videos: t-stat {stat} -- p-value {pval}\\n\")\n",
    "\n",
    "    print(\"--------------------------------------------------------------------------------------------------\\n\")\n"
   ]
  },
  {
   "cell_type": "code",
   "execution_count": null,
   "metadata": {},
   "outputs": [],
   "source": []
  },
  {
   "cell_type": "code",
   "execution_count": null,
   "metadata": {},
   "outputs": [],
   "source": []
  }
 ],
 "metadata": {
  "kernelspec": {
   "display_name": "ADA",
   "language": "python",
   "name": "python3"
  },
  "language_info": {
   "codemirror_mode": {
    "name": "ipython",
    "version": 3
   },
   "file_extension": ".py",
   "mimetype": "text/x-python",
   "name": "python",
   "nbconvert_exporter": "python",
   "pygments_lexer": "ipython3",
   "version": "3.9.13"
  },
  "orig_nbformat": 4,
  "vscode": {
   "interpreter": {
    "hash": "08c626ceebe7c69241f97e3985d1558429804766161d1f9c70d55723eee9c141"
   }
  }
 },
 "nbformat": 4,
 "nbformat_minor": 2
}
