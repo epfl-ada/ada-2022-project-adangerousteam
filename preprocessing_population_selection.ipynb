{
 "cells": [
  {
   "cell_type": "code",
   "execution_count": 1,
   "metadata": {},
   "outputs": [],
   "source": [
    "import pandas as pd\n",
    "import numpy as np\n",
    "import matplotlib.pyplot as plt\n",
    "import scipy.stats as scs"
   ]
  },
  {
   "cell_type": "code",
   "execution_count": 2,
   "metadata": {},
   "outputs": [
    {
     "data": {
      "text/html": [
       "<div>\n",
       "<style scoped>\n",
       "    .dataframe tbody tr th:only-of-type {\n",
       "        vertical-align: middle;\n",
       "    }\n",
       "\n",
       "    .dataframe tbody tr th {\n",
       "        vertical-align: top;\n",
       "    }\n",
       "\n",
       "    .dataframe thead th {\n",
       "        text-align: right;\n",
       "    }\n",
       "</style>\n",
       "<table border=\"1\" class=\"dataframe\">\n",
       "  <thead>\n",
       "    <tr style=\"text-align: right;\">\n",
       "      <th></th>\n",
       "      <th>channel</th>\n",
       "      <th>category</th>\n",
       "      <th>datetime</th>\n",
       "      <th>views</th>\n",
       "      <th>delta_views</th>\n",
       "      <th>subs</th>\n",
       "      <th>delta_subs</th>\n",
       "      <th>videos</th>\n",
       "      <th>delta_videos</th>\n",
       "      <th>activity</th>\n",
       "    </tr>\n",
       "  </thead>\n",
       "  <tbody>\n",
       "    <tr>\n",
       "      <th>0</th>\n",
       "      <td>UCBJuEqXfXTdcPSbGO9qqn1g</td>\n",
       "      <td>Film and Animation</td>\n",
       "      <td>2017-07-03</td>\n",
       "      <td>202494.555556</td>\n",
       "      <td>0.000000</td>\n",
       "      <td>650.222222</td>\n",
       "      <td>0.000000</td>\n",
       "      <td>5</td>\n",
       "      <td>0</td>\n",
       "      <td>3</td>\n",
       "    </tr>\n",
       "    <tr>\n",
       "      <th>1</th>\n",
       "      <td>UCBJuEqXfXTdcPSbGO9qqn1g</td>\n",
       "      <td>Film and Animation</td>\n",
       "      <td>2017-07-10</td>\n",
       "      <td>394085.666667</td>\n",
       "      <td>191591.111111</td>\n",
       "      <td>1046.000000</td>\n",
       "      <td>395.777778</td>\n",
       "      <td>6</td>\n",
       "      <td>1</td>\n",
       "      <td>1</td>\n",
       "    </tr>\n",
       "  </tbody>\n",
       "</table>\n",
       "</div>"
      ],
      "text/plain": [
       "                    channel            category   datetime          views  \\\n",
       "0  UCBJuEqXfXTdcPSbGO9qqn1g  Film and Animation 2017-07-03  202494.555556   \n",
       "1  UCBJuEqXfXTdcPSbGO9qqn1g  Film and Animation 2017-07-10  394085.666667   \n",
       "\n",
       "     delta_views         subs  delta_subs  videos  delta_videos  activity  \n",
       "0       0.000000   650.222222    0.000000       5             0         3  \n",
       "1  191591.111111  1046.000000  395.777778       6             1         1  "
      ]
     },
     "execution_count": 2,
     "metadata": {},
     "output_type": "execute_result"
    }
   ],
   "source": [
    "timeseries_df = pd.read_csv(\"../Project/Dataset/df_timeseries_en.tsv\", sep='\\t', parse_dates=[\"datetime\"])\n",
    "timeseries_df.head(2)"
   ]
  },
  {
   "cell_type": "code",
   "execution_count": 3,
   "metadata": {},
   "outputs": [
    {
     "data": {
      "text/html": [
       "<div>\n",
       "<style scoped>\n",
       "    .dataframe tbody tr th:only-of-type {\n",
       "        vertical-align: middle;\n",
       "    }\n",
       "\n",
       "    .dataframe tbody tr th {\n",
       "        vertical-align: top;\n",
       "    }\n",
       "\n",
       "    .dataframe thead th {\n",
       "        text-align: right;\n",
       "    }\n",
       "</style>\n",
       "<table border=\"1\" class=\"dataframe\">\n",
       "  <thead>\n",
       "    <tr style=\"text-align: right;\">\n",
       "      <th></th>\n",
       "      <th>category_cc</th>\n",
       "      <th>join_date</th>\n",
       "      <th>channel</th>\n",
       "      <th>name_cc</th>\n",
       "      <th>subscribers_cc</th>\n",
       "      <th>videos_cc</th>\n",
       "      <th>subscriber_rank_sb</th>\n",
       "      <th>weights</th>\n",
       "    </tr>\n",
       "  </thead>\n",
       "  <tbody>\n",
       "    <tr>\n",
       "      <th>0</th>\n",
       "      <td>Gaming</td>\n",
       "      <td>2010-04-29</td>\n",
       "      <td>UC-lHJZR3Gqxm24_Vd_AJ5Yw</td>\n",
       "      <td>PewDiePie</td>\n",
       "      <td>101000000</td>\n",
       "      <td>3956</td>\n",
       "      <td>3.0</td>\n",
       "      <td>2.087</td>\n",
       "    </tr>\n",
       "    <tr>\n",
       "      <th>1</th>\n",
       "      <td>Education</td>\n",
       "      <td>2006-09-01</td>\n",
       "      <td>UCbCmjCuTUZos6Inko4u57UQ</td>\n",
       "      <td>Cocomelon - Nursery ...</td>\n",
       "      <td>60100000</td>\n",
       "      <td>458</td>\n",
       "      <td>7.0</td>\n",
       "      <td>2.087</td>\n",
       "    </tr>\n",
       "  </tbody>\n",
       "</table>\n",
       "</div>"
      ],
      "text/plain": [
       "  category_cc   join_date                   channel                  name_cc  \\\n",
       "0      Gaming  2010-04-29  UC-lHJZR3Gqxm24_Vd_AJ5Yw                PewDiePie   \n",
       "1   Education  2006-09-01  UCbCmjCuTUZos6Inko4u57UQ  Cocomelon - Nursery ...   \n",
       "\n",
       "   subscribers_cc  videos_cc  subscriber_rank_sb  weights  \n",
       "0       101000000       3956                 3.0    2.087  \n",
       "1        60100000        458                 7.0    2.087  "
      ]
     },
     "execution_count": 3,
     "metadata": {},
     "output_type": "execute_result"
    }
   ],
   "source": [
    "channel_df = pd.read_csv(\"../Project/Dataset/df_channels_en.tsv\", sep='\\t')\n",
    "channel_df.head(2)"
   ]
  },
  {
   "cell_type": "markdown",
   "metadata": {},
   "source": [
    "#### Addition of new columns for future analysis \n",
    "* **cumulative views**: sum of the views gained each week with the ones obtained in the previous ones, throughout the observation period\n",
    "* **delta views**: difference between the views gained each week and the ones obtained in the previous one. We note that this feature is already present in the original dataset, however the absolute values are given. For our analysis the negative sign due to drop in views has relevant significance, therefore we restore it. \n"
   ]
  },
  {
   "cell_type": "code",
   "execution_count": 4,
   "metadata": {},
   "outputs": [],
   "source": [
    "ts_grouped_by_channel = timeseries_df.groupby('channel')\n",
    "\n",
    "# calculate cumulative views per channel\n",
    "timeseries_df[\"cumviews\"] = ts_grouped_by_channel[\"views\"].cumsum()\n",
    "\n",
    "# because negative delta views are not included in the original dataset, we recalculated them\n",
    "timeseries_df[\"delta_views\"] = ts_grouped_by_channel[\"views\"].diff().fillna(0)"
   ]
  },
  {
   "cell_type": "markdown",
   "metadata": {},
   "source": [
    "## Significative channels visualization"
   ]
  },
  {
   "cell_type": "markdown",
   "metadata": {},
   "source": [
    "#### Sudden success followed by downfall"
   ]
  },
  {
   "cell_type": "code",
   "execution_count": 5,
   "metadata": {},
   "outputs": [
    {
     "data": {
      "image/png": "[encoded data removed]",
      "text/plain": [
       "<Figure size 1000x1000 with 3 Axes>"
      ]
     },
     "metadata": {},
     "output_type": "display_data"
    }
   ],
   "source": [
    "current_channel = 'UCj-R_ePoJvWGiLOD6aDgMSg'\n",
    "\n",
    "fig, axs = plt.subplots(3, 1, figsize=(10, 10), sharex=True)\n",
    "axs_flat = axs.ravel()\n",
    "\n",
    "fig.suptitle(f\"Channel views timeseries - Channel name: \\\"{channel_df[channel_df['channel'] == current_channel]['name_cc'].iloc[0]}\\\"\")\n",
    "\n",
    "timeseries_df[timeseries_df[\"channel\"] == current_channel].plot(x=\"datetime\", y=\"cumviews\", ax=axs_flat[0], fontsize=12)\n",
    "timeseries_df[timeseries_df[\"channel\"] == current_channel].plot(x=\"datetime\", y=\"views\", ax=axs_flat[1], fontsize=12)\n",
    "timeseries_df[timeseries_df[\"channel\"] == current_channel].plot(x=\"datetime\", y=\"delta_views\", ax=axs_flat[1], fontsize=12)\n",
    "timeseries_df[timeseries_df[\"channel\"] == current_channel].plot(x=\"datetime\", y=\"delta_views\", ax=axs_flat[2], fontsize=12)\n",
    "\n",
    "for i in range(3):\n",
    "    axs_flat[i].legend(loc='upper left')\n",
    "plt.tight_layout()"
   ]
  },
  {
   "cell_type": "markdown",
   "metadata": {},
   "source": [
    "This channel is an example of a 'lose-fame' channel. We can observe that it experienced a steep growth in a relatively short period of time (less than two months), but it lost the gained views right after. Indeed, a peak in the ‘delta_views’ followed is visible, but it is followed by a sudden decrease; also, at the beginning and at the end of the observation period, the views don’t show a big variation.\n"
   ]
  },
  {
   "cell_type": "markdown",
   "metadata": {},
   "source": [
    "#### Sudden success followed by stability"
   ]
  },
  {
   "cell_type": "code",
   "execution_count": 6,
   "metadata": {},
   "outputs": [
    {
     "data": {
      "image/png": "[encoded data removed]",
      "text/plain": [
       "<Figure size 1000x1000 with 3 Axes>"
      ]
     },
     "metadata": {},
     "output_type": "display_data"
    }
   ],
   "source": [
    "current_channel = 'UCa4hfBXGDC_TxUHTEbCdyng'\n",
    "\n",
    "fig, axs = plt.subplots(3, 1, figsize=(10, 10), sharex=True)\n",
    "axs_flat = axs.ravel()\n",
    "\n",
    "fig.suptitle(f\"Channel views timeseries - Channel name: \\\"{channel_df[channel_df['channel'] == current_channel]['name_cc'].iloc[0]}\\\"\")\n",
    "\n",
    "timeseries_df[timeseries_df[\"channel\"] == current_channel].plot(x=\"datetime\", y=\"cumviews\", ax=axs_flat[0], fontsize=12)\n",
    "timeseries_df[timeseries_df[\"channel\"] == current_channel].plot(x=\"datetime\", y=\"views\", ax=axs_flat[1], fontsize=12)\n",
    "timeseries_df[timeseries_df[\"channel\"] == current_channel].plot(x=\"datetime\", y=\"delta_views\", ax=axs_flat[1], fontsize=12)\n",
    "timeseries_df[timeseries_df[\"channel\"] == current_channel].plot(x=\"datetime\", y=\"delta_views\", ax=axs_flat[2], fontsize=12)\n",
    "\n",
    "for i in range(3):\n",
    "    axs_flat[i].legend(loc='upper left')\n",
    "plt.tight_layout()"
   ]
  },
  {
   "cell_type": "markdown",
   "metadata": {},
   "source": [
    "These graphs well represent the ‘keep-fame’ population. Indeed, we can observe that, after the spike in weekly views, the channel's popularity in terms of visualizations has stabilized. It keeps having high numbers of views, significantly larger than before sudden success gain. This can also be underlined by the fact that the number of views between the beginning and the end of the time series has significantly increased."
   ]
  },
  {
   "cell_type": "markdown",
   "metadata": {},
   "source": [
    "## Population division"
   ]
  },
  {
   "cell_type": "markdown",
   "metadata": {},
   "source": [
    "### Step 1: Calculate meaningful metrics"
   ]
  },
  {
   "cell_type": "markdown",
   "metadata": {},
   "source": [
    "##### Metric 1: Channel growth\n",
    "This metric is used as a first step to distinguish between the populations. It consists of the difference in views between the end and the beginning of the observation period for each channel normalized with respect to the initial views. It displays if the channel gained or lost views, or if they remained more or less constant."
   ]
  },
  {
   "cell_type": "code",
   "execution_count": 7,
   "metadata": {},
   "outputs": [
    {
     "data": {
      "text/plain": [
       "channel\n",
       "UC--24Q3_ZQeFmgJE-Um5QZQ    68.681544\n",
       "UC--2EbuIuBOGgGqPiJxi3rg     1.664100\n",
       "Name: views, dtype: float64"
      ]
     },
     "execution_count": 7,
     "metadata": {},
     "output_type": "execute_result"
    }
   ],
   "source": [
    "begin, end = ts_grouped_by_channel['views'].first(), ts_grouped_by_channel['views'].last()\n",
    "\n",
    "growth = (end - begin) / begin\n",
    "growth.head(2)"
   ]
  },
  {
   "cell_type": "markdown",
   "metadata": {},
   "source": [
    "#### Metric 2: Views variability \n",
    "This metric is an indicator of the variability of the views during the observation period per channel, giving insights about the relative extent to which the visualizations varied. It is computed by making the difference between the maximum and minimum number of views, normalized with respect to the maximum."
   ]
  },
  {
   "cell_type": "code",
   "execution_count": 8,
   "metadata": {},
   "outputs": [
    {
     "data": {
      "text/plain": [
       "channel\n",
       "UC--24Q3_ZQeFmgJE-Um5QZQ    0.985649\n",
       "UC--2EbuIuBOGgGqPiJxi3rg    0.624639\n",
       "Name: views, dtype: float64"
      ]
     },
     "execution_count": 8,
     "metadata": {},
     "output_type": "execute_result"
    }
   ],
   "source": [
    "max_views = ts_grouped_by_channel['views'].max()\n",
    "min_views = ts_grouped_by_channel['views'].min()\n",
    "\n",
    "variability = (max_views - min_views) / max_views\n",
    "variability.head(2)"
   ]
  },
  {
   "cell_type": "markdown",
   "metadata": {},
   "source": [
    "##### Metric 3: Views growth steepness\n",
    "This is a metric obtained from the maximum number of new views gained in a week with respect to the week before, divided by the maximum number of views overall. It allows to detect if the growth was steep (in other words, if the newly gained views had a significant impact on the overall views), by comparing the orders of magnitude of the two quantities."
   ]
  },
  {
   "cell_type": "code",
   "execution_count": 9,
   "metadata": {},
   "outputs": [
    {
     "data": {
      "text/plain": [
       "channel\n",
       "UC--24Q3_ZQeFmgJE-Um5QZQ    0.173725\n",
       "UC--2EbuIuBOGgGqPiJxi3rg    0.008063\n",
       "dtype: float64"
      ]
     },
     "execution_count": 9,
     "metadata": {},
     "output_type": "execute_result"
    }
   ],
   "source": [
    "delta_max = ts_grouped_by_channel[\"delta_views\"].max()\n",
    "\n",
    "growth_steepness = delta_max / max_views\n",
    "growth_steepness.head(2)"
   ]
  },
  {
   "cell_type": "code",
   "execution_count": 10,
   "metadata": {},
   "outputs": [
    {
     "data": {
      "text/html": [
       "<div>\n",
       "<style scoped>\n",
       "    .dataframe tbody tr th:only-of-type {\n",
       "        vertical-align: middle;\n",
       "    }\n",
       "\n",
       "    .dataframe tbody tr th {\n",
       "        vertical-align: top;\n",
       "    }\n",
       "\n",
       "    .dataframe thead th {\n",
       "        text-align: right;\n",
       "    }\n",
       "</style>\n",
       "<table border=\"1\" class=\"dataframe\">\n",
       "  <thead>\n",
       "    <tr style=\"text-align: right;\">\n",
       "      <th></th>\n",
       "      <th>channel</th>\n",
       "      <th>growth_steepness</th>\n",
       "      <th>growth</th>\n",
       "      <th>variability</th>\n",
       "    </tr>\n",
       "  </thead>\n",
       "  <tbody>\n",
       "    <tr>\n",
       "      <th>0</th>\n",
       "      <td>UC--24Q3_ZQeFmgJE-Um5QZQ</td>\n",
       "      <td>0.173725</td>\n",
       "      <td>68.681544</td>\n",
       "      <td>0.985649</td>\n",
       "    </tr>\n",
       "    <tr>\n",
       "      <th>1</th>\n",
       "      <td>UC--2EbuIuBOGgGqPiJxi3rg</td>\n",
       "      <td>0.008063</td>\n",
       "      <td>1.664100</td>\n",
       "      <td>0.624639</td>\n",
       "    </tr>\n",
       "  </tbody>\n",
       "</table>\n",
       "</div>"
      ],
      "text/plain": [
       "                    channel  growth_steepness     growth  variability\n",
       "0  UC--24Q3_ZQeFmgJE-Um5QZQ          0.173725  68.681544     0.985649\n",
       "1  UC--2EbuIuBOGgGqPiJxi3rg          0.008063   1.664100     0.624639"
      ]
     },
     "execution_count": 10,
     "metadata": {},
     "output_type": "execute_result"
    }
   ],
   "source": [
    "metrics = pd.DataFrame({\n",
    "    \"growth_steepness\": growth_steepness,\n",
    "    \"growth\": growth,\n",
    "    \"variability\": variability\n",
    "}).reset_index()\n",
    "metrics.head(2)"
   ]
  },
  {
   "cell_type": "code",
   "execution_count": 11,
   "metadata": {},
   "outputs": [
    {
     "data": {
      "text/html": [
       "<div>\n",
       "<style scoped>\n",
       "    .dataframe tbody tr th:only-of-type {\n",
       "        vertical-align: middle;\n",
       "    }\n",
       "\n",
       "    .dataframe tbody tr th {\n",
       "        vertical-align: top;\n",
       "    }\n",
       "\n",
       "    .dataframe thead th {\n",
       "        text-align: right;\n",
       "    }\n",
       "</style>\n",
       "<table border=\"1\" class=\"dataframe\">\n",
       "  <thead>\n",
       "    <tr style=\"text-align: right;\">\n",
       "      <th></th>\n",
       "      <th>category_cc</th>\n",
       "      <th>join_date</th>\n",
       "      <th>channel</th>\n",
       "      <th>name_cc</th>\n",
       "      <th>subscribers_cc</th>\n",
       "      <th>videos_cc</th>\n",
       "      <th>subscriber_rank_sb</th>\n",
       "      <th>weights</th>\n",
       "      <th>growth_steepness</th>\n",
       "      <th>growth</th>\n",
       "      <th>variability</th>\n",
       "    </tr>\n",
       "  </thead>\n",
       "  <tbody>\n",
       "    <tr>\n",
       "      <th>0</th>\n",
       "      <td>Gaming</td>\n",
       "      <td>2010-04-29</td>\n",
       "      <td>UC-lHJZR3Gqxm24_Vd_AJ5Yw</td>\n",
       "      <td>PewDiePie</td>\n",
       "      <td>101000000</td>\n",
       "      <td>3956</td>\n",
       "      <td>3.0</td>\n",
       "      <td>2.087</td>\n",
       "      <td>0.009504</td>\n",
       "      <td>0.734529</td>\n",
       "      <td>0.423474</td>\n",
       "    </tr>\n",
       "    <tr>\n",
       "      <th>1</th>\n",
       "      <td>Education</td>\n",
       "      <td>2006-09-01</td>\n",
       "      <td>UCbCmjCuTUZos6Inko4u57UQ</td>\n",
       "      <td>Cocomelon - Nursery ...</td>\n",
       "      <td>60100000</td>\n",
       "      <td>458</td>\n",
       "      <td>7.0</td>\n",
       "      <td>2.087</td>\n",
       "      <td>0.030208</td>\n",
       "      <td>32.727533</td>\n",
       "      <td>0.970351</td>\n",
       "    </tr>\n",
       "  </tbody>\n",
       "</table>\n",
       "</div>"
      ],
      "text/plain": [
       "  category_cc   join_date                   channel                  name_cc  \\\n",
       "0      Gaming  2010-04-29  UC-lHJZR3Gqxm24_Vd_AJ5Yw                PewDiePie   \n",
       "1   Education  2006-09-01  UCbCmjCuTUZos6Inko4u57UQ  Cocomelon - Nursery ...   \n",
       "\n",
       "   subscribers_cc  videos_cc  subscriber_rank_sb  weights  growth_steepness  \\\n",
       "0       101000000       3956                 3.0    2.087          0.009504   \n",
       "1        60100000        458                 7.0    2.087          0.030208   \n",
       "\n",
       "      growth  variability  \n",
       "0   0.734529     0.423474  \n",
       "1  32.727533     0.970351  "
      ]
     },
     "execution_count": 11,
     "metadata": {},
     "output_type": "execute_result"
    }
   ],
   "source": [
    "channel_df = channel_df.merge(metrics, on=\"channel\")\n",
    "channel_df.head(2)"
   ]
  },
  {
   "cell_type": "markdown",
   "metadata": {},
   "source": [
    "### Step 2: Divide population using the metrics"
   ]
  },
  {
   "cell_type": "markdown",
   "metadata": {},
   "source": [
    "As a second step, to identify the two populations, the first metric (“channel growth”) is employed. Having defined a threshold as 0.2, we attribute all the channels of the `‘df_channels_en.tsv.gz’` that have values between -0.2 and 0.2 to the ‘lose_fame’ group, as this indicated that, overall, throughout the observation period, they didn’t vary their views numbers. Channels who instead showed a “channel growth” above 0.2, are assigned to the ‘keep_fame’ dataframe, since they significantly increased their popularity. Lastly, channels whose views timeseries dropped, are discarded since we do not deem them relevant in our project."
   ]
  },
  {
   "cell_type": "code",
   "execution_count": 12,
   "metadata": {},
   "outputs": [],
   "source": [
    "growth_bound = 0.2\n",
    "\n",
    "# select channels with a growth between -0.2 and 0.2\n",
    "lose_fame = channel_df[(-growth_bound < channel_df[\"growth\"]) & (channel_df[\"growth\"] < growth_bound)]\n",
    "\n",
    "# keep only channels with a growth greater than 0.2 because we're not interested in those who lost fame\n",
    "keep_fame = channel_df[channel_df[\"growth\"] > growth_bound]"
   ]
  },
  {
   "cell_type": "markdown",
   "metadata": {},
   "source": [
    "To be computed: Further filtering of the two populations by applying thresholds to the computed metrics. Ideally we want to select channels with a high variability and a high growth steepness but, for now, ordering them by those metrics and selecting the top 300 should be a good start for an initial exploratory data analysis. "
   ]
  },
  {
   "cell_type": "code",
   "execution_count": 13,
   "metadata": {},
   "outputs": [
    {
     "data": {
      "text/plain": [
       "count    127795.000000\n",
       "mean          0.816017\n",
       "std           0.222156\n",
       "min           0.166670\n",
       "25%           0.684857\n",
       "50%           0.924921\n",
       "75%           0.993278\n",
       "max           1.000000\n",
       "Name: variability, dtype: float64"
      ]
     },
     "execution_count": 13,
     "metadata": {},
     "output_type": "execute_result"
    }
   ],
   "source": [
    "keep_fame.variability.describe()"
   ]
  },
  {
   "cell_type": "markdown",
   "metadata": {},
   "source": [
    "### Step 3: Further, and more accurate, filtering"
   ]
  },
  {
   "cell_type": "markdown",
   "metadata": {},
   "source": [
    "The following cells define a function that allows further filtering of the two populations. Specifically, it identifies the instant where the channels had a sudden increase, through implementing a sliding window technique. A window of 4 weeks is defined and slid across the timeseries of every channel. A steeper growth corresponds to a greater difference from the linear interpolation between the ends of the window. Given this assumption, we compute the difference between the linear interpolation and the actual registered growth using discrete integration.  This value is then normalized with respect to the area of the mentioned linear reference, obtaining an index between 0 and 1. This metric alone is useful to find time points where the views number increases, however it doesn’t convey information about the impact of the increase with respect to the overall views magnitude. For this reason, we weight each index with a coefficient that takes into account this aspect as well. \n",
    "For every timeserie, we then take the maximum computed sudden growth index and its corresponding time point, and use it to separate each timeserie in two parts, corresponding to the periods before and after sudden growth.\n"
   ]
  },
  {
   "cell_type": "code",
   "execution_count": 14,
   "metadata": {},
   "outputs": [],
   "source": [
    "import scipy.integrate as integrate\n",
    "\n",
    "def growth_rate_per_channel(df_timeseries):\n",
    "    sliding_window = 5\n",
    "\n",
    "    times = []\n",
    "    steepnesses = []\n",
    "    max_delta = df_timeseries[\"views\"].max() - df_timeseries[\"views\"].min()\n",
    "\n",
    "    for i in range(len(df_timeseries['views']) - sliding_window):\n",
    "        window = df_timeseries['views'][i:i+sliding_window]\n",
    "        b, e = window.iloc[0], window.iloc[-1]\n",
    "\n",
    "        if e < b:\n",
    "            continue\n",
    "\n",
    "        line = np.array([(e - b) * j / (sliding_window - 1) + b for j in range(sliding_window)])\n",
    "\n",
    "        # since we are measuring the sudden increase in views as an integral of the difference between the linear increase and the actual increase,\n",
    "        # we have to make sure that the linear increase is above the actual increase at least at the beginning of the window\n",
    "        if window.iloc[1] > line[1]:\n",
    "            continue\n",
    "\n",
    "        if integrate.simpson(line - window) > 0:\n",
    "            # steepness is weighted proportionally to the relative variation in views\n",
    "            window_delta = line[-1] - line[0]\n",
    "            coefficent = window_delta / max_delta\n",
    "            growth_steepness = integrate.simpson(np.abs(line - window)) / integrate.simpson(line) * coefficent\n",
    "            \n",
    "            steepnesses = steepnesses + [growth_steepness]\n",
    "            times = times + [df_timeseries['datetime'].iloc[i]]\n",
    "\n",
    "    steepnesses = steepnesses + [0]\n",
    "    times = times + [df_timeseries['datetime'].iloc[0]]\n",
    "    \n",
    "    _max = np.argmax(steepnesses)\n",
    "    return pd.Series([times[_max], steepnesses[_max]])"
   ]
  },
  {
   "cell_type": "markdown",
   "metadata": {},
   "source": [
    "<span style=\"color:red\"> non eseguire! sort by variability non va bene per selezionare i primi 300 "
   ]
  },
  {
   "cell_type": "code",
   "execution_count": 15,
   "metadata": {},
   "outputs": [
    {
     "ename": "SyntaxError",
     "evalue": "invalid syntax (2442597882.py, line 1)",
     "output_type": "error",
     "traceback": [
      "\u001b[1;36m  Input \u001b[1;32mIn [15]\u001b[1;36m\u001b[0m\n\u001b[1;33m    aaaaa =\u001b[0m\n\u001b[1;37m           ^\u001b[0m\n\u001b[1;31mSyntaxError\u001b[0m\u001b[1;31m:\u001b[0m invalid syntax\n"
     ]
    }
   ],
   "source": [
    "aaaaa =\n",
    "initial_exploration_batch_size = 300\n",
    "keep_fame = keep_fame.sort_values(by=[\"variability\", \"growth_steepness\"], ascending=False)\n",
    "lose_fame = lose_fame.sort_values(by=[\"variability\", \"growth_steepness\"], ascending=False)\n",
    "\n",
    "# calculate the sudden increase in views for each channel\n",
    "keep_fame_ts = timeseries_df[timeseries_df[\"channel\"].isin(keep_fame[:initial_exploration_batch_size][\"channel\"])]\n",
    "keep_fame_sudden_growth = (\n",
    "    keep_fame_ts.groupby('channel')\n",
    "                .apply(growth_rate_per_channel)\n",
    "                .rename(columns={0: 'sudden_growth_date', 1: 'sudden_growth_index'})\n",
    "                .reset_index()\n",
    ")\n",
    "\n",
    "lose_fame_ts = timeseries_df[timeseries_df[\"channel\"].isin(lose_fame[:initial_exploration_batch_size][\"channel\"])]\n",
    "lose_fame_sudden_growth = (\n",
    "    lose_fame_ts.groupby('channel')\n",
    "                .apply(growth_rate_per_channel)\n",
    "                .rename(columns={0: 'sudden_growth_date', 1: 'sudden_growth_index'})\n",
    "                .reset_index()\n",
    ")"
   ]
  },
  {
   "cell_type": "markdown",
   "metadata": {},
   "source": [
    "To be computed: As above, we want to analyze the channels comparing them by growth steepness, so further filtering using the new calculated metric should be done to additionally narrow the populations."
   ]
  },
  {
   "cell_type": "code",
   "execution_count": null,
   "metadata": {},
   "outputs": [
    {
     "data": {
      "text/html": [
       "<div>\n",
       "<style scoped>\n",
       "    .dataframe tbody tr th:only-of-type {\n",
       "        vertical-align: middle;\n",
       "    }\n",
       "\n",
       "    .dataframe tbody tr th {\n",
       "        vertical-align: top;\n",
       "    }\n",
       "\n",
       "    .dataframe thead th {\n",
       "        text-align: right;\n",
       "    }\n",
       "</style>\n",
       "<table border=\"1\" class=\"dataframe\">\n",
       "  <thead>\n",
       "    <tr style=\"text-align: right;\">\n",
       "      <th></th>\n",
       "      <th>channel</th>\n",
       "      <th>sudden_growth_date</th>\n",
       "      <th>sudden_growth_index</th>\n",
       "    </tr>\n",
       "  </thead>\n",
       "  <tbody>\n",
       "    <tr>\n",
       "      <th>172</th>\n",
       "      <td>UCa_rA5IqSPbspXiQ2vMaqzg</td>\n",
       "      <td>2017-09-25 00:00:00</td>\n",
       "      <td>0.374690</td>\n",
       "    </tr>\n",
       "    <tr>\n",
       "      <th>150</th>\n",
       "      <td>UCXQApb7rBnAf4v1OVcURVZg</td>\n",
       "      <td>2018-12-16 23:00:00</td>\n",
       "      <td>0.257213</td>\n",
       "    </tr>\n",
       "  </tbody>\n",
       "</table>\n",
       "</div>"
      ],
      "text/plain": [
       "                      channel  sudden_growth_date  sudden_growth_index\n",
       "172  UCa_rA5IqSPbspXiQ2vMaqzg 2017-09-25 00:00:00             0.374690\n",
       "150  UCXQApb7rBnAf4v1OVcURVZg 2018-12-16 23:00:00             0.257213"
      ]
     },
     "execution_count": 16,
     "metadata": {},
     "output_type": "execute_result"
    }
   ],
   "source": [
    "keep_fame_sudden_growth.sort_values(by=\"sudden_growth_index\", ascending=False).head(2)"
   ]
  },
  {
   "cell_type": "code",
   "execution_count": null,
   "metadata": {},
   "outputs": [
    {
     "data": {
      "text/html": [
       "<div>\n",
       "<style scoped>\n",
       "    .dataframe tbody tr th:only-of-type {\n",
       "        vertical-align: middle;\n",
       "    }\n",
       "\n",
       "    .dataframe tbody tr th {\n",
       "        vertical-align: top;\n",
       "    }\n",
       "\n",
       "    .dataframe thead th {\n",
       "        text-align: right;\n",
       "    }\n",
       "</style>\n",
       "<table border=\"1\" class=\"dataframe\">\n",
       "  <thead>\n",
       "    <tr style=\"text-align: right;\">\n",
       "      <th></th>\n",
       "      <th>channel</th>\n",
       "      <th>sudden_growth_date</th>\n",
       "      <th>sudden_growth_index</th>\n",
       "    </tr>\n",
       "  </thead>\n",
       "  <tbody>\n",
       "    <tr>\n",
       "      <th>274</th>\n",
       "      <td>UCt6312GrcwhQAM6e1YeUpeg</td>\n",
       "      <td>2019-02-24 23:00:00</td>\n",
       "      <td>0.397577</td>\n",
       "    </tr>\n",
       "    <tr>\n",
       "      <th>224</th>\n",
       "      <td>UCjbxW2ALvM4jUPCp4dFXp5Q</td>\n",
       "      <td>2018-03-04 23:00:00</td>\n",
       "      <td>0.358862</td>\n",
       "    </tr>\n",
       "  </tbody>\n",
       "</table>\n",
       "</div>"
      ],
      "text/plain": [
       "                      channel  sudden_growth_date  sudden_growth_index\n",
       "274  UCt6312GrcwhQAM6e1YeUpeg 2019-02-24 23:00:00             0.397577\n",
       "224  UCjbxW2ALvM4jUPCp4dFXp5Q 2018-03-04 23:00:00             0.358862"
      ]
     },
     "execution_count": 17,
     "metadata": {},
     "output_type": "execute_result"
    }
   ],
   "source": [
    "lose_fame_sudden_growth.sort_values(by=\"sudden_growth_index\", ascending=False).head(2)"
   ]
  },
  {
   "cell_type": "markdown",
   "metadata": {},
   "source": [
    "### Step 4: Addition of new computed features to the original dataframe"
   ]
  },
  {
   "cell_type": "code",
   "execution_count": null,
   "metadata": {},
   "outputs": [
    {
     "data": {
      "text/html": [
       "<div>\n",
       "<style scoped>\n",
       "    .dataframe tbody tr th:only-of-type {\n",
       "        vertical-align: middle;\n",
       "    }\n",
       "\n",
       "    .dataframe tbody tr th {\n",
       "        vertical-align: top;\n",
       "    }\n",
       "\n",
       "    .dataframe thead th {\n",
       "        text-align: right;\n",
       "    }\n",
       "</style>\n",
       "<table border=\"1\" class=\"dataframe\">\n",
       "  <thead>\n",
       "    <tr style=\"text-align: right;\">\n",
       "      <th></th>\n",
       "      <th>category_cc</th>\n",
       "      <th>join_date</th>\n",
       "      <th>channel</th>\n",
       "      <th>name_cc</th>\n",
       "      <th>subscribers_cc</th>\n",
       "      <th>videos_cc</th>\n",
       "      <th>subscriber_rank_sb</th>\n",
       "      <th>weights</th>\n",
       "      <th>growth_steepness</th>\n",
       "      <th>growth</th>\n",
       "      <th>variability</th>\n",
       "      <th>sudden_growth_date_x</th>\n",
       "      <th>sudden_growth_index_x</th>\n",
       "      <th>keep_fame</th>\n",
       "      <th>sudden_growth_date_y</th>\n",
       "      <th>sudden_growth_index_y</th>\n",
       "      <th>sudden_growth_date</th>\n",
       "      <th>sudden_growth_index</th>\n",
       "    </tr>\n",
       "  </thead>\n",
       "  <tbody>\n",
       "    <tr>\n",
       "      <th>0</th>\n",
       "      <td>Gaming</td>\n",
       "      <td>2014-11-04</td>\n",
       "      <td>UCbryQohbzrShHSYZRTZeZCQ</td>\n",
       "      <td>Naddition</td>\n",
       "      <td>417351</td>\n",
       "      <td>133</td>\n",
       "      <td>41048.0</td>\n",
       "      <td>3.3705</td>\n",
       "      <td>0.044449</td>\n",
       "      <td>5.125606e+07</td>\n",
       "      <td>1.0</td>\n",
       "      <td>2018-05-14</td>\n",
       "      <td>0.016869</td>\n",
       "      <td>1</td>\n",
       "      <td>2018-05-14</td>\n",
       "      <td>0.016869</td>\n",
       "      <td>2018-05-14</td>\n",
       "      <td>0.016869</td>\n",
       "    </tr>\n",
       "    <tr>\n",
       "      <th>1</th>\n",
       "      <td>Comedy</td>\n",
       "      <td>2015-08-30</td>\n",
       "      <td>UC_lP3AW1k_M6rbwOb907fEA</td>\n",
       "      <td>Miniklin</td>\n",
       "      <td>328007</td>\n",
       "      <td>199</td>\n",
       "      <td>49504.0</td>\n",
       "      <td>3.3670</td>\n",
       "      <td>0.075339</td>\n",
       "      <td>2.973497e+07</td>\n",
       "      <td>1.0</td>\n",
       "      <td>2017-07-10</td>\n",
       "      <td>0.029875</td>\n",
       "      <td>1</td>\n",
       "      <td>2017-07-10</td>\n",
       "      <td>0.029875</td>\n",
       "      <td>2017-07-10</td>\n",
       "      <td>0.029875</td>\n",
       "    </tr>\n",
       "  </tbody>\n",
       "</table>\n",
       "</div>"
      ],
      "text/plain": [
       "  category_cc   join_date                   channel    name_cc  \\\n",
       "0      Gaming  2014-11-04  UCbryQohbzrShHSYZRTZeZCQ  Naddition   \n",
       "1      Comedy  2015-08-30  UC_lP3AW1k_M6rbwOb907fEA   Miniklin   \n",
       "\n",
       "   subscribers_cc  videos_cc  subscriber_rank_sb  weights  growth_steepness  \\\n",
       "0          417351        133             41048.0   3.3705          0.044449   \n",
       "1          328007        199             49504.0   3.3670          0.075339   \n",
       "\n",
       "         growth  variability sudden_growth_date_x  sudden_growth_index_x  \\\n",
       "0  5.125606e+07          1.0           2018-05-14               0.016869   \n",
       "1  2.973497e+07          1.0           2017-07-10               0.029875   \n",
       "\n",
       "   keep_fame sudden_growth_date_y  sudden_growth_index_y sudden_growth_date  \\\n",
       "0          1           2018-05-14               0.016869         2018-05-14   \n",
       "1          1           2017-07-10               0.029875         2017-07-10   \n",
       "\n",
       "   sudden_growth_index  \n",
       "0             0.016869  \n",
       "1             0.029875  "
      ]
     },
     "execution_count": 45,
     "metadata": {},
     "output_type": "execute_result"
    }
   ],
   "source": [
    "keep_fame = keep_fame.merge(keep_fame_sudden_growth, on=\"channel\")\n",
    "keep_fame.head(2)"
   ]
  },
  {
   "cell_type": "code",
   "execution_count": null,
   "metadata": {},
   "outputs": [
    {
     "data": {
      "text/html": [
       "<div>\n",
       "<style scoped>\n",
       "    .dataframe tbody tr th:only-of-type {\n",
       "        vertical-align: middle;\n",
       "    }\n",
       "\n",
       "    .dataframe tbody tr th {\n",
       "        vertical-align: top;\n",
       "    }\n",
       "\n",
       "    .dataframe thead th {\n",
       "        text-align: right;\n",
       "    }\n",
       "</style>\n",
       "<table border=\"1\" class=\"dataframe\">\n",
       "  <thead>\n",
       "    <tr style=\"text-align: right;\">\n",
       "      <th></th>\n",
       "      <th>category_cc</th>\n",
       "      <th>join_date</th>\n",
       "      <th>channel</th>\n",
       "      <th>name_cc</th>\n",
       "      <th>subscribers_cc</th>\n",
       "      <th>videos_cc</th>\n",
       "      <th>subscriber_rank_sb</th>\n",
       "      <th>weights</th>\n",
       "      <th>growth_steepness</th>\n",
       "      <th>growth</th>\n",
       "      <th>variability</th>\n",
       "      <th>sudden_growth_date</th>\n",
       "      <th>sudden_growth_index</th>\n",
       "    </tr>\n",
       "  </thead>\n",
       "  <tbody>\n",
       "    <tr>\n",
       "      <th>0</th>\n",
       "      <td>Film and Animation</td>\n",
       "      <td>2013-09-17</td>\n",
       "      <td>UCyWNMO6vPhIJYI-D7iMvIeg</td>\n",
       "      <td>AllyJessaProductions...</td>\n",
       "      <td>16631</td>\n",
       "      <td>1602</td>\n",
       "      <td>682112.0</td>\n",
       "      <td>8.9455</td>\n",
       "      <td>0.033762</td>\n",
       "      <td>-0.160153</td>\n",
       "      <td>0.941999</td>\n",
       "      <td>2016-12-18 23:00:00</td>\n",
       "      <td>0.001843</td>\n",
       "    </tr>\n",
       "    <tr>\n",
       "      <th>1</th>\n",
       "      <td>Film and Animation</td>\n",
       "      <td>2012-08-02</td>\n",
       "      <td>UC-ffP6LXdomMljpS13j1CfQ</td>\n",
       "      <td>UnsignedMusicz</td>\n",
       "      <td>69600</td>\n",
       "      <td>22</td>\n",
       "      <td>223924.0</td>\n",
       "      <td>6.6170</td>\n",
       "      <td>0.051647</td>\n",
       "      <td>-0.167558</td>\n",
       "      <td>0.932202</td>\n",
       "      <td>2017-08-28 00:00:00</td>\n",
       "      <td>0.004229</td>\n",
       "    </tr>\n",
       "  </tbody>\n",
       "</table>\n",
       "</div>"
      ],
      "text/plain": [
       "          category_cc   join_date                   channel  \\\n",
       "0  Film and Animation  2013-09-17  UCyWNMO6vPhIJYI-D7iMvIeg   \n",
       "1  Film and Animation  2012-08-02  UC-ffP6LXdomMljpS13j1CfQ   \n",
       "\n",
       "                   name_cc  subscribers_cc  videos_cc  subscriber_rank_sb  \\\n",
       "0  AllyJessaProductions...           16631       1602            682112.0   \n",
       "1           UnsignedMusicz           69600         22            223924.0   \n",
       "\n",
       "   weights  growth_steepness    growth  variability  sudden_growth_date  \\\n",
       "0   8.9455          0.033762 -0.160153     0.941999 2016-12-18 23:00:00   \n",
       "1   6.6170          0.051647 -0.167558     0.932202 2017-08-28 00:00:00   \n",
       "\n",
       "   sudden_growth_index  \n",
       "0             0.001843  \n",
       "1             0.004229  "
      ]
     },
     "execution_count": 19,
     "metadata": {},
     "output_type": "execute_result"
    }
   ],
   "source": [
    "lose_fame = lose_fame.merge(lose_fame_sudden_growth, on=\"channel\")\n",
    "lose_fame.head(2)"
   ]
  },
  {
   "cell_type": "code",
   "execution_count": null,
   "metadata": {},
   "outputs": [],
   "source": [
    "keep_fame_ts = keep_fame_ts.merge(keep_fame[[\"channel\", \"sudden_growth_date\"]], on=\"channel\")\n",
    "lose_fame_ts = lose_fame_ts.merge(lose_fame[[\"channel\", \"sudden_growth_date\"]], on=\"channel\")"
   ]
  },
  {
   "cell_type": "code",
   "execution_count": null,
   "metadata": {},
   "outputs": [],
   "source": [
    "keep_fame_ts_after_sudden_growth = keep_fame_ts[keep_fame_ts[\"datetime\"] > keep_fame_ts[\"sudden_growth_date\"]]\n",
    "lose_fame_ts_after_sudden_growth = lose_fame_ts[lose_fame_ts[\"datetime\"] > lose_fame_ts[\"sudden_growth_date\"]]"
   ]
  },
  {
   "cell_type": "code",
   "execution_count": null,
   "metadata": {},
   "outputs": [
    {
     "data": {
      "text/html": [
       "<div>\n",
       "<style scoped>\n",
       "    .dataframe tbody tr th:only-of-type {\n",
       "        vertical-align: middle;\n",
       "    }\n",
       "\n",
       "    .dataframe tbody tr th {\n",
       "        vertical-align: top;\n",
       "    }\n",
       "\n",
       "    .dataframe thead th {\n",
       "        text-align: right;\n",
       "    }\n",
       "</style>\n",
       "<table border=\"1\" class=\"dataframe\">\n",
       "  <thead>\n",
       "    <tr style=\"text-align: right;\">\n",
       "      <th></th>\n",
       "      <th>channel</th>\n",
       "      <th>category</th>\n",
       "      <th>datetime</th>\n",
       "      <th>views</th>\n",
       "      <th>delta_views</th>\n",
       "      <th>subs</th>\n",
       "      <th>delta_subs</th>\n",
       "      <th>videos</th>\n",
       "      <th>delta_videos</th>\n",
       "      <th>activity</th>\n",
       "      <th>cumviews</th>\n",
       "      <th>sudden_growth_date</th>\n",
       "    </tr>\n",
       "  </thead>\n",
       "  <tbody>\n",
       "    <tr>\n",
       "      <th>146</th>\n",
       "      <td>UCCchCB5_SWZYK57nb1sXuUg</td>\n",
       "      <td>People &amp; Blogs</td>\n",
       "      <td>2019-04-15</td>\n",
       "      <td>1.653814e+06</td>\n",
       "      <td>86859.402778</td>\n",
       "      <td>94261.333333</td>\n",
       "      <td>5064.083333</td>\n",
       "      <td>19</td>\n",
       "      <td>1</td>\n",
       "      <td>1</td>\n",
       "      <td>3.728268e+08</td>\n",
       "      <td>2019-04-08</td>\n",
       "    </tr>\n",
       "    <tr>\n",
       "      <th>147</th>\n",
       "      <td>UCCchCB5_SWZYK57nb1sXuUg</td>\n",
       "      <td>People &amp; Blogs</td>\n",
       "      <td>2019-04-22</td>\n",
       "      <td>1.786843e+06</td>\n",
       "      <td>133029.000000</td>\n",
       "      <td>100874.555556</td>\n",
       "      <td>6613.222222</td>\n",
       "      <td>20</td>\n",
       "      <td>1</td>\n",
       "      <td>2</td>\n",
       "      <td>3.746136e+08</td>\n",
       "      <td>2019-04-08</td>\n",
       "    </tr>\n",
       "  </tbody>\n",
       "</table>\n",
       "</div>"
      ],
      "text/plain": [
       "                      channel        category   datetime         views  \\\n",
       "146  UCCchCB5_SWZYK57nb1sXuUg  People & Blogs 2019-04-15  1.653814e+06   \n",
       "147  UCCchCB5_SWZYK57nb1sXuUg  People & Blogs 2019-04-22  1.786843e+06   \n",
       "\n",
       "       delta_views           subs   delta_subs  videos  delta_videos  \\\n",
       "146   86859.402778   94261.333333  5064.083333      19             1   \n",
       "147  133029.000000  100874.555556  6613.222222      20             1   \n",
       "\n",
       "     activity      cumviews sudden_growth_date  \n",
       "146         1  3.728268e+08         2019-04-08  \n",
       "147         2  3.746136e+08         2019-04-08  "
      ]
     },
     "execution_count": 22,
     "metadata": {},
     "output_type": "execute_result"
    }
   ],
   "source": [
    "lose_fame_ts_after_sudden_growth.head(2)"
   ]
  },
  {
   "cell_type": "markdown",
   "metadata": {},
   "source": [
    "### Step 5: Initial statistical analysis\n",
    "This step shows the beginning of the statistical investigation of the two populations"
   ]
  },
  {
   "cell_type": "code",
   "execution_count": null,
   "metadata": {},
   "outputs": [
    {
     "name": "stdout",
     "output_type": "stream",
     "text": [
      "Keep-fame mean weekly videos: 3.9189317905019196\n",
      "Lose-fame mean weekly videos: 1.494064819549593\n"
     ]
    },
    {
     "data": {
      "text/plain": [
       "Ttest_indResult(statistic=3.2554006875604258, pvalue=0.0011962954473883386)"
      ]
     },
     "execution_count": 23,
     "metadata": {},
     "output_type": "execute_result"
    }
   ],
   "source": [
    "keep_fame_mean_videos = keep_fame_ts_after_sudden_growth.groupby(\"channel\")[\"delta_videos\"].mean()\n",
    "lose_fame_mean_videos = lose_fame_ts_after_sudden_growth.groupby(\"channel\")[\"delta_videos\"].mean()\n",
    "\n",
    "print(f\"Keep-fame mean weekly videos: {keep_fame_mean_videos.mean()}\")\n",
    "print(f\"Lose-fame mean weekly videos: {lose_fame_mean_videos.mean()}\")\n",
    "scs.ttest_ind(keep_fame_mean_videos, lose_fame_mean_videos)"
   ]
  },
  {
   "cell_type": "code",
   "execution_count": null,
   "metadata": {},
   "outputs": [
    {
     "name": "stdout",
     "output_type": "stream",
     "text": [
      "Keep-fame mean weekly subs: 13748.568802747726\n",
      "Lose-fame mean weekly subs: 1124.3071435678637\n"
     ]
    },
    {
     "data": {
      "text/plain": [
       "Ttest_indResult(statistic=7.046511621629891, pvalue=5.069933435374548e-12)"
      ]
     },
     "execution_count": 24,
     "metadata": {},
     "output_type": "execute_result"
    }
   ],
   "source": [
    "keep_fame_mean_weekly_subs = keep_fame_ts_after_sudden_growth.groupby(\"channel\")[\"delta_subs\"].mean()\n",
    "lose_fame_mean_weekly_subs = lose_fame_ts_after_sudden_growth.groupby(\"channel\")[\"delta_subs\"].mean()\n",
    "\n",
    "print(f\"Keep-fame mean weekly subs: {keep_fame_mean_weekly_subs.mean()}\")\n",
    "print(f\"Lose-fame mean weekly subs: {lose_fame_mean_weekly_subs.mean()}\")\n",
    "scs.ttest_ind(keep_fame_mean_weekly_subs, lose_fame_mean_weekly_subs)"
   ]
  },
  {
   "cell_type": "markdown",
   "metadata": {},
   "source": [
    "### Step 6: Initial analysis using video metadata\n",
    "Video metatada will be useful in the final analysis. Here we start to make a few observations and statistical tests to explore the data."
   ]
  },
  {
   "cell_type": "code",
   "execution_count": null,
   "metadata": {},
   "outputs": [
    {
     "ename": "ImportError",
     "evalue": "Missing optional dependency 'pyarrow'.  Use pip or conda to install pyarrow.",
     "output_type": "error",
     "traceback": [
      "\u001b[1;31m---------------------------------------------------------------------------\u001b[0m",
      "\u001b[1;31mModuleNotFoundError\u001b[0m                       Traceback (most recent call last)",
      "File \u001b[1;32mc:\\Users\\chiar\\.conda\\envs\\ADA\\lib\\site-packages\\pandas\\compat\\_optional.py:138\u001b[0m, in \u001b[0;36mimport_optional_dependency\u001b[1;34m(name, extra, errors, min_version)\u001b[0m\n\u001b[0;32m    137\u001b[0m \u001b[39mtry\u001b[39;00m:\n\u001b[1;32m--> 138\u001b[0m     module \u001b[39m=\u001b[39m importlib\u001b[39m.\u001b[39;49mimport_module(name)\n\u001b[0;32m    139\u001b[0m \u001b[39mexcept\u001b[39;00m \u001b[39mImportError\u001b[39;00m:\n",
      "File \u001b[1;32mc:\\Users\\chiar\\.conda\\envs\\ADA\\lib\\importlib\\__init__.py:127\u001b[0m, in \u001b[0;36mimport_module\u001b[1;34m(name, package)\u001b[0m\n\u001b[0;32m    126\u001b[0m         level \u001b[39m+\u001b[39m\u001b[39m=\u001b[39m \u001b[39m1\u001b[39m\n\u001b[1;32m--> 127\u001b[0m \u001b[39mreturn\u001b[39;00m _bootstrap\u001b[39m.\u001b[39;49m_gcd_import(name[level:], package, level)\n",
      "File \u001b[1;32m<frozen importlib._bootstrap>:1030\u001b[0m, in \u001b[0;36m_gcd_import\u001b[1;34m(name, package, level)\u001b[0m\n",
      "File \u001b[1;32m<frozen importlib._bootstrap>:1007\u001b[0m, in \u001b[0;36m_find_and_load\u001b[1;34m(name, import_)\u001b[0m\n",
      "File \u001b[1;32m<frozen importlib._bootstrap>:984\u001b[0m, in \u001b[0;36m_find_and_load_unlocked\u001b[1;34m(name, import_)\u001b[0m\n",
      "\u001b[1;31mModuleNotFoundError\u001b[0m: No module named 'pyarrow'",
      "\nDuring handling of the above exception, another exception occurred:\n",
      "\u001b[1;31mImportError\u001b[0m                               Traceback (most recent call last)",
      "\u001b[1;32mc:\\Users\\chiar\\OneDrive - epfl.ch\\ADA\\ada-2022-project-adangerousteam\\preprocessing_population_selection.ipynb Cella 44\u001b[0m in \u001b[0;36m<cell line: 1>\u001b[1;34m()\u001b[0m\n\u001b[1;32m----> <a href='vscode-notebook-cell:/c%3A/Users/chiar/OneDrive%20-%20epfl.ch/ADA/ada-2022-project-adangerousteam/preprocessing_population_selection.ipynb#X61sZmlsZQ%3D%3D?line=0'>1</a>\u001b[0m videos_df \u001b[39m=\u001b[39m pd\u001b[39m.\u001b[39;49mread_feather(\u001b[39m\"\u001b[39;49m\u001b[39mC:/dev/repos/ada_project/data/yt_metadata_helper.feather\u001b[39;49m\u001b[39m\"\u001b[39;49m, columns\u001b[39m=\u001b[39;49m[\u001b[39m\"\u001b[39;49m\u001b[39mchannel_id\u001b[39;49m\u001b[39m\"\u001b[39;49m, \u001b[39m\"\u001b[39;49m\u001b[39mduration\u001b[39;49m\u001b[39m\"\u001b[39;49m, \u001b[39m\"\u001b[39;49m\u001b[39mupload_date\u001b[39;49m\u001b[39m\"\u001b[39;49m, \u001b[39m\"\u001b[39;49m\u001b[39mlike_count\u001b[39;49m\u001b[39m\"\u001b[39;49m, \u001b[39m\"\u001b[39;49m\u001b[39mdislike_count\u001b[39;49m\u001b[39m\"\u001b[39;49m, \u001b[39m\"\u001b[39;49m\u001b[39mview_count\u001b[39;49m\u001b[39m\"\u001b[39;49m])\n\u001b[0;32m      <a href='vscode-notebook-cell:/c%3A/Users/chiar/OneDrive%20-%20epfl.ch/ADA/ada-2022-project-adangerousteam/preprocessing_population_selection.ipynb#X61sZmlsZQ%3D%3D?line=1'>2</a>\u001b[0m videos_df[\u001b[39m\"\u001b[39m\u001b[39mupload_date\u001b[39m\u001b[39m\"\u001b[39m] \u001b[39m=\u001b[39m pd\u001b[39m.\u001b[39mto_datetime(videos_df[\u001b[39m\"\u001b[39m\u001b[39mupload_date\u001b[39m\u001b[39m\"\u001b[39m])\n\u001b[0;32m      <a href='vscode-notebook-cell:/c%3A/Users/chiar/OneDrive%20-%20epfl.ch/ADA/ada-2022-project-adangerousteam/preprocessing_population_selection.ipynb#X61sZmlsZQ%3D%3D?line=2'>3</a>\u001b[0m videos_df \u001b[39m=\u001b[39m videos_df\u001b[39m.\u001b[39mrename({\u001b[39m'\u001b[39m\u001b[39mchannel_id\u001b[39m\u001b[39m'\u001b[39m: \u001b[39m'\u001b[39m\u001b[39mchannel\u001b[39m\u001b[39m'\u001b[39m}, axis\u001b[39m=\u001b[39m\u001b[39m1\u001b[39m)\n",
      "File \u001b[1;32mc:\\Users\\chiar\\.conda\\envs\\ADA\\lib\\site-packages\\pandas\\io\\feather_format.py:125\u001b[0m, in \u001b[0;36mread_feather\u001b[1;34m(path, columns, use_threads, storage_options)\u001b[0m\n\u001b[0;32m     96\u001b[0m \u001b[39m@doc\u001b[39m(storage_options\u001b[39m=\u001b[39m_shared_docs[\u001b[39m\"\u001b[39m\u001b[39mstorage_options\u001b[39m\u001b[39m\"\u001b[39m])\n\u001b[0;32m     97\u001b[0m \u001b[39mdef\u001b[39;00m \u001b[39mread_feather\u001b[39m(\n\u001b[0;32m     98\u001b[0m     path: FilePath \u001b[39m|\u001b[39m ReadBuffer[\u001b[39mbytes\u001b[39m],\n\u001b[1;32m   (...)\u001b[0m\n\u001b[0;32m    101\u001b[0m     storage_options: StorageOptions \u001b[39m=\u001b[39m \u001b[39mNone\u001b[39;00m,\n\u001b[0;32m    102\u001b[0m ):\n\u001b[0;32m    103\u001b[0m     \u001b[39m\"\"\"\u001b[39;00m\n\u001b[0;32m    104\u001b[0m \u001b[39m    Load a feather-format object from the file path.\u001b[39;00m\n\u001b[0;32m    105\u001b[0m \n\u001b[1;32m   (...)\u001b[0m\n\u001b[0;32m    123\u001b[0m \u001b[39m    type of object stored in file\u001b[39;00m\n\u001b[0;32m    124\u001b[0m \u001b[39m    \"\"\"\u001b[39;00m\n\u001b[1;32m--> 125\u001b[0m     import_optional_dependency(\u001b[39m\"\u001b[39;49m\u001b[39mpyarrow\u001b[39;49m\u001b[39m\"\u001b[39;49m)\n\u001b[0;32m    126\u001b[0m     \u001b[39mfrom\u001b[39;00m \u001b[39mpyarrow\u001b[39;00m \u001b[39mimport\u001b[39;00m feather\n\u001b[0;32m    128\u001b[0m     \u001b[39mwith\u001b[39;00m get_handle(\n\u001b[0;32m    129\u001b[0m         path, \u001b[39m\"\u001b[39m\u001b[39mrb\u001b[39m\u001b[39m\"\u001b[39m, storage_options\u001b[39m=\u001b[39mstorage_options, is_text\u001b[39m=\u001b[39m\u001b[39mFalse\u001b[39;00m\n\u001b[0;32m    130\u001b[0m     ) \u001b[39mas\u001b[39;00m handles:\n",
      "File \u001b[1;32mc:\\Users\\chiar\\.conda\\envs\\ADA\\lib\\site-packages\\pandas\\compat\\_optional.py:141\u001b[0m, in \u001b[0;36mimport_optional_dependency\u001b[1;34m(name, extra, errors, min_version)\u001b[0m\n\u001b[0;32m    139\u001b[0m \u001b[39mexcept\u001b[39;00m \u001b[39mImportError\u001b[39;00m:\n\u001b[0;32m    140\u001b[0m     \u001b[39mif\u001b[39;00m errors \u001b[39m==\u001b[39m \u001b[39m\"\u001b[39m\u001b[39mraise\u001b[39m\u001b[39m\"\u001b[39m:\n\u001b[1;32m--> 141\u001b[0m         \u001b[39mraise\u001b[39;00m \u001b[39mImportError\u001b[39;00m(msg)\n\u001b[0;32m    142\u001b[0m     \u001b[39melse\u001b[39;00m:\n\u001b[0;32m    143\u001b[0m         \u001b[39mreturn\u001b[39;00m \u001b[39mNone\u001b[39;00m\n",
      "\u001b[1;31mImportError\u001b[0m: Missing optional dependency 'pyarrow'.  Use pip or conda to install pyarrow."
     ]
    }
   ],
   "source": [
    "videos_df = pd.read_feather(\"C:/dev/repos/ada_project/data/yt_metadata_helper.feather\", columns=[\"channel_id\", \"duration\", \"upload_date\", \"like_count\", \"dislike_count\", \"view_count\"])\n",
    "videos_df[\"upload_date\"] = pd.to_datetime(videos_df[\"upload_date\"])\n",
    "videos_df = videos_df.rename({'channel_id': 'channel'}, axis=1)"
   ]
  },
  {
   "cell_type": "code",
   "execution_count": null,
   "metadata": {},
   "outputs": [],
   "source": [
    "keep_fame_video_df = videos_df.merge(keep_fame[[\"channel\", \"sudden_growth_date\"]], on=\"channel\")\n",
    "lose_fame_video_df = videos_df.merge(lose_fame[[\"channel\", \"sudden_growth_date\"]], on=\"channel\")"
   ]
  },
  {
   "cell_type": "code",
   "execution_count": null,
   "metadata": {},
   "outputs": [],
   "source": [
    "keep_fame_videos_after_sudden_growth = keep_fame_video_df[keep_fame_video_df[\"upload_date\"] > keep_fame_video_df[\"sudden_growth_date\"]].copy()\n",
    "lose_fame_videos_after_sudden_growth = lose_fame_video_df[lose_fame_video_df[\"upload_date\"] > lose_fame_video_df[\"sudden_growth_date\"]].copy()"
   ]
  },
  {
   "cell_type": "code",
   "execution_count": null,
   "metadata": {},
   "outputs": [
    {
     "name": "stdout",
     "output_type": "stream",
     "text": [
      "Keep-fame videos mean duration: 691.794142567787\n",
      "Lose-fame videos mean duration: 815.2214385162331\n"
     ]
    },
    {
     "data": {
      "text/plain": [
       "Ttest_indResult(statistic=-1.0091796785643594, pvalue=0.3133035678417406)"
      ]
     },
     "execution_count": 49,
     "metadata": {},
     "output_type": "execute_result"
    }
   ],
   "source": [
    "keep_fame_video_mean_duration = keep_fame_videos_after_sudden_growth.groupby(\"channel\")[\"duration\"].mean()\n",
    "lose_fame_video_mean_duration = lose_fame_videos_after_sudden_growth.groupby(\"channel\")[\"duration\"].mean()\n",
    "\n",
    "print(f\"Keep-fame videos mean duration: {keep_fame_video_mean_duration.mean()}\")\n",
    "print(f\"Lose-fame videos mean duration: {lose_fame_video_mean_duration.mean()}\")\n",
    "scs.ttest_ind(keep_fame_video_mean_duration, lose_fame_video_mean_duration)"
   ]
  },
  {
   "cell_type": "code",
   "execution_count": null,
   "metadata": {},
   "outputs": [
    {
     "name": "stdout",
     "output_type": "stream",
     "text": [
      "Keep-fame videos like/views ratio: 0.022791012254978427\n",
      "Lose-fame videos like/views ratio: 0.03519624328488959\n"
     ]
    },
    {
     "data": {
      "text/plain": [
       "Ttest_indResult(statistic=nan, pvalue=nan)"
      ]
     },
     "execution_count": 50,
     "metadata": {},
     "output_type": "execute_result"
    }
   ],
   "source": [
    "keep_fame_videos_after_sudden_growth[\"like_views_ratio\"] = keep_fame_videos_after_sudden_growth[\"like_count\"] / keep_fame_videos_after_sudden_growth[\"view_count\"]\n",
    "lose_fame_videos_after_sudden_growth[\"like_views_ratio\"] = lose_fame_videos_after_sudden_growth[\"like_count\"] / lose_fame_videos_after_sudden_growth[\"view_count\"]\n",
    "\n",
    "\n",
    "keep_fame_like_views_ratio = keep_fame_videos_after_sudden_growth.groupby(\"channel\")[\"like_views_ratio\"].mean()\n",
    "lose_fame_like_views_ratio = lose_fame_videos_after_sudden_growth.groupby(\"channel\")[\"like_views_ratio\"].mean()\n",
    "\n",
    "print(f\"Keep-fame videos like/views ratio: {keep_fame_like_views_ratio.mean()}\")\n",
    "print(f\"Lose-fame videos like/views ratio: {lose_fame_like_views_ratio.mean()}\")\n",
    "scs.ttest_ind(keep_fame_like_views_ratio, lose_fame_like_views_ratio)"
   ]
  },
  {
   "cell_type": "code",
   "execution_count": null,
   "metadata": {},
   "outputs": [
    {
     "name": "stdout",
     "output_type": "stream",
     "text": [
      "Keep-fame videos dislike/views ratio: 0.001414842106005023\n",
      "Lose-fame videos dislike/views ratio: 0.002022437491634156\n"
     ]
    },
    {
     "data": {
      "text/plain": [
       "Ttest_indResult(statistic=nan, pvalue=nan)"
      ]
     },
     "execution_count": 53,
     "metadata": {},
     "output_type": "execute_result"
    }
   ],
   "source": [
    "keep_fame_videos_after_sudden_growth[\"dislike_views_ratio\"] = keep_fame_videos_after_sudden_growth[\"dislike_count\"] / keep_fame_videos_after_sudden_growth[\"view_count\"]\n",
    "lose_fame_videos_after_sudden_growth[\"dislike_views_ratio\"] = lose_fame_videos_after_sudden_growth[\"dislike_count\"] / lose_fame_videos_after_sudden_growth[\"view_count\"]\n",
    "\n",
    "\n",
    "keep_fame_dislike_views_ratio = keep_fame_videos_after_sudden_growth.groupby(\"channel\")[\"dislike_views_ratio\"].mean()\n",
    "lose_fame_dislike_views_ratio = lose_fame_videos_after_sudden_growth.groupby(\"channel\")[\"dislike_views_ratio\"].mean()\n",
    "\n",
    "print(f\"Keep-fame videos dislike/views ratio: {keep_fame_dislike_views_ratio.mean()}\")\n",
    "print(f\"Lose-fame videos dislike/views ratio: {lose_fame_dislike_views_ratio.mean()}\")\n",
    "scs.ttest_ind(keep_fame_dislike_views_ratio, lose_fame_dislike_views_ratio)"
   ]
  },
  {
   "cell_type": "markdown",
   "metadata": {},
   "source": [
    "#### Step 7: Propensity scores"
   ]
  },
  {
   "cell_type": "code",
   "execution_count": 16,
   "metadata": {},
   "outputs": [],
   "source": [
    "lose_fame = lose_fame.copy()\n",
    "keep_fame = keep_fame.copy()\n",
    "lose_fame[\"keep_fame\"] = 0\n",
    "keep_fame[\"keep_fame\"] = 1"
   ]
  },
  {
   "cell_type": "code",
   "execution_count": 17,
   "metadata": {},
   "outputs": [
    {
     "data": {
      "text/html": [
       "<div>\n",
       "<style scoped>\n",
       "    .dataframe tbody tr th:only-of-type {\n",
       "        vertical-align: middle;\n",
       "    }\n",
       "\n",
       "    .dataframe tbody tr th {\n",
       "        vertical-align: top;\n",
       "    }\n",
       "\n",
       "    .dataframe thead th {\n",
       "        text-align: right;\n",
       "    }\n",
       "</style>\n",
       "<table border=\"1\" class=\"dataframe\">\n",
       "  <thead>\n",
       "    <tr style=\"text-align: right;\">\n",
       "      <th></th>\n",
       "      <th>join_date</th>\n",
       "      <th>channel</th>\n",
       "      <th>name_cc</th>\n",
       "      <th>subscribers_cc</th>\n",
       "      <th>videos_cc</th>\n",
       "      <th>subscriber_rank_sb</th>\n",
       "      <th>weights</th>\n",
       "      <th>growth_steepness</th>\n",
       "      <th>growth</th>\n",
       "      <th>variability</th>\n",
       "      <th>...</th>\n",
       "      <th>category_cc_Gaming</th>\n",
       "      <th>category_cc_Howto_Style</th>\n",
       "      <th>category_cc_Music</th>\n",
       "      <th>category_cc_News_Politics</th>\n",
       "      <th>category_cc_Nonprofits_Activism</th>\n",
       "      <th>category_cc_People_Blogs</th>\n",
       "      <th>category_cc_Pets_Animals</th>\n",
       "      <th>category_cc_Science_Technology</th>\n",
       "      <th>category_cc_Sports</th>\n",
       "      <th>category_cc_Travel_Events</th>\n",
       "    </tr>\n",
       "  </thead>\n",
       "  <tbody>\n",
       "    <tr>\n",
       "      <th>5</th>\n",
       "      <td>2007-01-15</td>\n",
       "      <td>UCIwFjwMjI0y7PDBVEO9-bkQ</td>\n",
       "      <td>Justin Bieber</td>\n",
       "      <td>46574085</td>\n",
       "      <td>134</td>\n",
       "      <td>12.0</td>\n",
       "      <td>2.087</td>\n",
       "      <td>0.007550</td>\n",
       "      <td>0.133989</td>\n",
       "      <td>0.118157</td>\n",
       "      <td>...</td>\n",
       "      <td>0</td>\n",
       "      <td>0</td>\n",
       "      <td>0</td>\n",
       "      <td>0</td>\n",
       "      <td>0</td>\n",
       "      <td>0</td>\n",
       "      <td>0</td>\n",
       "      <td>0</td>\n",
       "      <td>0</td>\n",
       "      <td>0</td>\n",
       "    </tr>\n",
       "    <tr>\n",
       "      <th>15</th>\n",
       "      <td>2008-06-01</td>\n",
       "      <td>UCYvmuw-JtVrTZQ-7Y4kd63Q</td>\n",
       "      <td>Katy Perry</td>\n",
       "      <td>35028528</td>\n",
       "      <td>101</td>\n",
       "      <td>30.0</td>\n",
       "      <td>2.087</td>\n",
       "      <td>0.047522</td>\n",
       "      <td>0.138656</td>\n",
       "      <td>0.121772</td>\n",
       "      <td>...</td>\n",
       "      <td>0</td>\n",
       "      <td>0</td>\n",
       "      <td>0</td>\n",
       "      <td>0</td>\n",
       "      <td>0</td>\n",
       "      <td>0</td>\n",
       "      <td>0</td>\n",
       "      <td>0</td>\n",
       "      <td>0</td>\n",
       "      <td>0</td>\n",
       "    </tr>\n",
       "  </tbody>\n",
       "</table>\n",
       "<p>2 rows × 26 columns</p>\n",
       "</div>"
      ],
      "text/plain": [
       "     join_date                   channel        name_cc  subscribers_cc  \\\n",
       "5   2007-01-15  UCIwFjwMjI0y7PDBVEO9-bkQ  Justin Bieber        46574085   \n",
       "15  2008-06-01  UCYvmuw-JtVrTZQ-7Y4kd63Q     Katy Perry        35028528   \n",
       "\n",
       "    videos_cc  subscriber_rank_sb  weights  growth_steepness    growth  \\\n",
       "5         134                12.0    2.087          0.007550  0.133989   \n",
       "15        101                30.0    2.087          0.047522  0.138656   \n",
       "\n",
       "    variability  ...  category_cc_Gaming  category_cc_Howto_Style  \\\n",
       "5      0.118157  ...                   0                        0   \n",
       "15     0.121772  ...                   0                        0   \n",
       "\n",
       "    category_cc_Music  category_cc_News_Politics  \\\n",
       "5                   0                          0   \n",
       "15                  0                          0   \n",
       "\n",
       "    category_cc_Nonprofits_Activism  category_cc_People_Blogs  \\\n",
       "5                                 0                         0   \n",
       "15                                0                         0   \n",
       "\n",
       "    category_cc_Pets_Animals  category_cc_Science_Technology  \\\n",
       "5                          0                               0   \n",
       "15                         0                               0   \n",
       "\n",
       "    category_cc_Sports  category_cc_Travel_Events  \n",
       "5                    0                          0  \n",
       "15                   0                          0  \n",
       "\n",
       "[2 rows x 26 columns]"
      ]
     },
     "execution_count": 17,
     "metadata": {},
     "output_type": "execute_result"
    }
   ],
   "source": [
    "channels_filtered_df = pd.concat([lose_fame, keep_fame])\n",
    "channels_filtered_df[\"category_cc\"] = channels_filtered_df[\"category_cc\"].str.replace(\" & \", \"_\").str.replace(\" \", \"_\")\n",
    "channels_filtered_df = pd.get_dummies(channels_filtered_df, columns=[\"category_cc\"], dtype=int)\n",
    "channels_filtered_df.head(2)\n"
   ]
  },
  {
   "cell_type": "code",
   "execution_count": 18,
   "metadata": {},
   "outputs": [],
   "source": [
    "# drop_cols = channels_filtered_df.columns.drop(['join_date', 'channel', 'name_cc', 'growth', 'sudden_growth_date', 'keep_fame'])\n",
    "drop_cols = channels_filtered_df.columns.drop(['join_date', 'channel', 'name_cc', 'growth', 'keep_fame','variability'])\n",
    "regressors = str.join(' + ', drop_cols.to_list())"
   ]
  },
  {
   "cell_type": "code",
   "execution_count": 19,
   "metadata": {},
   "outputs": [
    {
     "data": {
      "text/plain": [
       "join_date                           object\n",
       "channel                             object\n",
       "name_cc                             object\n",
       "subscribers_cc                       int64\n",
       "videos_cc                            int64\n",
       "subscriber_rank_sb                 float64\n",
       "weights                            float64\n",
       "growth_steepness                   float64\n",
       "growth                             float64\n",
       "variability                        float64\n",
       "keep_fame                            int64\n",
       "category_cc_Autos_Vehicles           int32\n",
       "category_cc_Comedy                   int32\n",
       "category_cc_Education                int32\n",
       "category_cc_Entertainment            int32\n",
       "category_cc_Film_and_Animation       int32\n",
       "category_cc_Gaming                   int32\n",
       "category_cc_Howto_Style              int32\n",
       "category_cc_Music                    int32\n",
       "category_cc_News_Politics            int32\n",
       "category_cc_Nonprofits_Activism      int32\n",
       "category_cc_People_Blogs             int32\n",
       "category_cc_Pets_Animals             int32\n",
       "category_cc_Science_Technology       int32\n",
       "category_cc_Sports                   int32\n",
       "category_cc_Travel_Events            int32\n",
       "dtype: object"
      ]
     },
     "execution_count": 19,
     "metadata": {},
     "output_type": "execute_result"
    }
   ],
   "source": [
    "channels_filtered_df.dtypes"
   ]
  },
  {
   "cell_type": "code",
   "execution_count": 20,
   "metadata": {},
   "outputs": [
    {
     "data": {
      "text/plain": [
       "'subscribers_cc + videos_cc + subscriber_rank_sb + weights + growth_steepness + category_cc_Autos_Vehicles + category_cc_Comedy + category_cc_Education + category_cc_Entertainment + category_cc_Film_and_Animation + category_cc_Gaming + category_cc_Howto_Style + category_cc_Music + category_cc_News_Politics + category_cc_Nonprofits_Activism + category_cc_People_Blogs + category_cc_Pets_Animals + category_cc_Science_Technology + category_cc_Sports + category_cc_Travel_Events'"
      ]
     },
     "execution_count": 20,
     "metadata": {},
     "output_type": "execute_result"
    }
   ],
   "source": [
    "regressors"
   ]
  },
  {
   "cell_type": "code",
   "execution_count": 21,
   "metadata": {},
   "outputs": [],
   "source": [
    "channels_filtered_df[drop_cols] = channels_filtered_df[drop_cols] - channels_filtered_df[drop_cols].mean()\n",
    "channels_filtered_df[drop_cols] = channels_filtered_df[drop_cols] / channels_filtered_df[drop_cols].std()"
   ]
  },
  {
   "cell_type": "code",
   "execution_count": 22,
   "metadata": {},
   "outputs": [
    {
     "data": {
      "text/html": [
       "<div>\n",
       "<style scoped>\n",
       "    .dataframe tbody tr th:only-of-type {\n",
       "        vertical-align: middle;\n",
       "    }\n",
       "\n",
       "    .dataframe tbody tr th {\n",
       "        vertical-align: top;\n",
       "    }\n",
       "\n",
       "    .dataframe thead th {\n",
       "        text-align: right;\n",
       "    }\n",
       "</style>\n",
       "<table border=\"1\" class=\"dataframe\">\n",
       "  <thead>\n",
       "    <tr style=\"text-align: right;\">\n",
       "      <th></th>\n",
       "      <th>subscribers_cc</th>\n",
       "      <th>videos_cc</th>\n",
       "      <th>subscriber_rank_sb</th>\n",
       "      <th>weights</th>\n",
       "      <th>growth_steepness</th>\n",
       "      <th>category_cc_Autos_Vehicles</th>\n",
       "      <th>category_cc_Comedy</th>\n",
       "      <th>category_cc_Education</th>\n",
       "      <th>category_cc_Entertainment</th>\n",
       "      <th>category_cc_Film_and_Animation</th>\n",
       "      <th>category_cc_Gaming</th>\n",
       "      <th>category_cc_Howto_Style</th>\n",
       "      <th>category_cc_Music</th>\n",
       "      <th>category_cc_News_Politics</th>\n",
       "      <th>category_cc_Nonprofits_Activism</th>\n",
       "      <th>category_cc_People_Blogs</th>\n",
       "      <th>category_cc_Pets_Animals</th>\n",
       "      <th>category_cc_Science_Technology</th>\n",
       "      <th>category_cc_Sports</th>\n",
       "      <th>category_cc_Travel_Events</th>\n",
       "    </tr>\n",
       "  </thead>\n",
       "  <tbody>\n",
       "    <tr>\n",
       "      <th>count</th>\n",
       "      <td>1.324440e+05</td>\n",
       "      <td>1.324440e+05</td>\n",
       "      <td>1.324440e+05</td>\n",
       "      <td>1.324440e+05</td>\n",
       "      <td>1.324440e+05</td>\n",
       "      <td>1.324440e+05</td>\n",
       "      <td>1.324440e+05</td>\n",
       "      <td>1.324440e+05</td>\n",
       "      <td>1.324440e+05</td>\n",
       "      <td>1.324440e+05</td>\n",
       "      <td>1.324440e+05</td>\n",
       "      <td>1.324440e+05</td>\n",
       "      <td>1.324440e+05</td>\n",
       "      <td>1.324440e+05</td>\n",
       "      <td>1.324440e+05</td>\n",
       "      <td>1.324440e+05</td>\n",
       "      <td>1.324440e+05</td>\n",
       "      <td>1.324440e+05</td>\n",
       "      <td>1.324440e+05</td>\n",
       "      <td>1.324440e+05</td>\n",
       "    </tr>\n",
       "    <tr>\n",
       "      <th>mean</th>\n",
       "      <td>5.219098e-15</td>\n",
       "      <td>-1.862970e-16</td>\n",
       "      <td>-6.389488e-15</td>\n",
       "      <td>3.798585e-16</td>\n",
       "      <td>-1.032097e-16</td>\n",
       "      <td>2.443031e-14</td>\n",
       "      <td>-4.490825e-14</td>\n",
       "      <td>7.232842e-15</td>\n",
       "      <td>-1.642866e-14</td>\n",
       "      <td>-2.009715e-14</td>\n",
       "      <td>-2.231709e-14</td>\n",
       "      <td>-3.239122e-14</td>\n",
       "      <td>9.482369e-15</td>\n",
       "      <td>-9.989043e-15</td>\n",
       "      <td>1.634796e-14</td>\n",
       "      <td>3.327709e-14</td>\n",
       "      <td>3.878941e-15</td>\n",
       "      <td>8.767675e-15</td>\n",
       "      <td>1.103327e-14</td>\n",
       "      <td>3.818448e-14</td>\n",
       "    </tr>\n",
       "    <tr>\n",
       "      <th>std</th>\n",
       "      <td>1.000000e+00</td>\n",
       "      <td>1.000000e+00</td>\n",
       "      <td>1.000000e+00</td>\n",
       "      <td>1.000000e+00</td>\n",
       "      <td>1.000000e+00</td>\n",
       "      <td>1.000000e+00</td>\n",
       "      <td>1.000000e+00</td>\n",
       "      <td>1.000000e+00</td>\n",
       "      <td>1.000000e+00</td>\n",
       "      <td>1.000000e+00</td>\n",
       "      <td>1.000000e+00</td>\n",
       "      <td>1.000000e+00</td>\n",
       "      <td>1.000000e+00</td>\n",
       "      <td>1.000000e+00</td>\n",
       "      <td>1.000000e+00</td>\n",
       "      <td>1.000000e+00</td>\n",
       "      <td>1.000000e+00</td>\n",
       "      <td>1.000000e+00</td>\n",
       "      <td>1.000000e+00</td>\n",
       "      <td>1.000000e+00</td>\n",
       "    </tr>\n",
       "    <tr>\n",
       "      <th>min</th>\n",
       "      <td>-2.053796e-01</td>\n",
       "      <td>-1.593110e-01</td>\n",
       "      <td>-1.316039e+00</td>\n",
       "      <td>-9.995122e-01</td>\n",
       "      <td>-7.962704e-01</td>\n",
       "      <td>-1.670110e-01</td>\n",
       "      <td>-1.680114e-01</td>\n",
       "      <td>-2.465057e-01</td>\n",
       "      <td>-4.492525e-01</td>\n",
       "      <td>-2.298303e-01</td>\n",
       "      <td>-4.163742e-01</td>\n",
       "      <td>-3.090768e-01</td>\n",
       "      <td>-4.658580e-01</td>\n",
       "      <td>-1.302064e-01</td>\n",
       "      <td>-8.490754e-02</td>\n",
       "      <td>-3.945572e-01</td>\n",
       "      <td>-9.772864e-02</td>\n",
       "      <td>-1.921085e-01</td>\n",
       "      <td>-1.975158e-01</td>\n",
       "      <td>-1.221465e-01</td>\n",
       "    </tr>\n",
       "    <tr>\n",
       "      <th>25%</th>\n",
       "      <td>-1.976736e-01</td>\n",
       "      <td>-1.453599e-01</td>\n",
       "      <td>-8.884315e-01</td>\n",
       "      <td>-5.921776e-01</td>\n",
       "      <td>-5.362596e-01</td>\n",
       "      <td>-1.670110e-01</td>\n",
       "      <td>-1.680114e-01</td>\n",
       "      <td>-2.465057e-01</td>\n",
       "      <td>-4.492525e-01</td>\n",
       "      <td>-2.298303e-01</td>\n",
       "      <td>-4.163742e-01</td>\n",
       "      <td>-3.090768e-01</td>\n",
       "      <td>-4.658580e-01</td>\n",
       "      <td>-1.302064e-01</td>\n",
       "      <td>-8.490754e-02</td>\n",
       "      <td>-3.945572e-01</td>\n",
       "      <td>-9.772864e-02</td>\n",
       "      <td>-1.921085e-01</td>\n",
       "      <td>-1.975158e-01</td>\n",
       "      <td>-1.221465e-01</td>\n",
       "    </tr>\n",
       "    <tr>\n",
       "      <th>50%</th>\n",
       "      <td>-1.772398e-01</td>\n",
       "      <td>-1.207131e-01</td>\n",
       "      <td>-2.058176e-01</td>\n",
       "      <td>-1.709543e-01</td>\n",
       "      <td>-3.277276e-01</td>\n",
       "      <td>-1.670110e-01</td>\n",
       "      <td>-1.680114e-01</td>\n",
       "      <td>-2.465057e-01</td>\n",
       "      <td>-4.492525e-01</td>\n",
       "      <td>-2.298303e-01</td>\n",
       "      <td>-4.163742e-01</td>\n",
       "      <td>-3.090768e-01</td>\n",
       "      <td>-4.658580e-01</td>\n",
       "      <td>-1.302064e-01</td>\n",
       "      <td>-8.490754e-02</td>\n",
       "      <td>-3.945572e-01</td>\n",
       "      <td>-9.772864e-02</td>\n",
       "      <td>-1.921085e-01</td>\n",
       "      <td>-1.975158e-01</td>\n",
       "      <td>-1.221465e-01</td>\n",
       "    </tr>\n",
       "    <tr>\n",
       "      <th>75%</th>\n",
       "      <td>-9.541779e-02</td>\n",
       "      <td>-5.793347e-02</td>\n",
       "      <td>7.833873e-01</td>\n",
       "      <td>3.609018e-01</td>\n",
       "      <td>1.225194e-01</td>\n",
       "      <td>-1.670110e-01</td>\n",
       "      <td>-1.680114e-01</td>\n",
       "      <td>-2.465057e-01</td>\n",
       "      <td>-4.492525e-01</td>\n",
       "      <td>-2.298303e-01</td>\n",
       "      <td>-4.163742e-01</td>\n",
       "      <td>-3.090768e-01</td>\n",
       "      <td>-4.658580e-01</td>\n",
       "      <td>-1.302064e-01</td>\n",
       "      <td>-8.490754e-02</td>\n",
       "      <td>-3.945572e-01</td>\n",
       "      <td>-9.772864e-02</td>\n",
       "      <td>-1.921085e-01</td>\n",
       "      <td>-1.975158e-01</td>\n",
       "      <td>-1.221465e-01</td>\n",
       "    </tr>\n",
       "    <tr>\n",
       "      <th>max</th>\n",
       "      <td>9.688090e+01</td>\n",
       "      <td>7.719754e+01</td>\n",
       "      <td>2.488978e+00</td>\n",
       "      <td>8.715638e+00</td>\n",
       "      <td>1.634773e+01</td>\n",
       "      <td>5.987583e+00</td>\n",
       "      <td>5.951930e+00</td>\n",
       "      <td>4.056671e+00</td>\n",
       "      <td>2.225903e+00</td>\n",
       "      <td>4.351004e+00</td>\n",
       "      <td>2.401668e+00</td>\n",
       "      <td>3.235418e+00</td>\n",
       "      <td>2.146561e+00</td>\n",
       "      <td>7.680055e+00</td>\n",
       "      <td>1.177743e+01</td>\n",
       "      <td>2.534468e+00</td>\n",
       "      <td>1.023234e+01</td>\n",
       "      <td>5.205351e+00</td>\n",
       "      <td>5.062847e+00</td>\n",
       "      <td>8.186828e+00</td>\n",
       "    </tr>\n",
       "  </tbody>\n",
       "</table>\n",
       "</div>"
      ],
      "text/plain": [
       "       subscribers_cc     videos_cc  subscriber_rank_sb       weights  \\\n",
       "count    1.324440e+05  1.324440e+05        1.324440e+05  1.324440e+05   \n",
       "mean     5.219098e-15 -1.862970e-16       -6.389488e-15  3.798585e-16   \n",
       "std      1.000000e+00  1.000000e+00        1.000000e+00  1.000000e+00   \n",
       "min     -2.053796e-01 -1.593110e-01       -1.316039e+00 -9.995122e-01   \n",
       "25%     -1.976736e-01 -1.453599e-01       -8.884315e-01 -5.921776e-01   \n",
       "50%     -1.772398e-01 -1.207131e-01       -2.058176e-01 -1.709543e-01   \n",
       "75%     -9.541779e-02 -5.793347e-02        7.833873e-01  3.609018e-01   \n",
       "max      9.688090e+01  7.719754e+01        2.488978e+00  8.715638e+00   \n",
       "\n",
       "       growth_steepness  category_cc_Autos_Vehicles  category_cc_Comedy  \\\n",
       "count      1.324440e+05                1.324440e+05        1.324440e+05   \n",
       "mean      -1.032097e-16                2.443031e-14       -4.490825e-14   \n",
       "std        1.000000e+00                1.000000e+00        1.000000e+00   \n",
       "min       -7.962704e-01               -1.670110e-01       -1.680114e-01   \n",
       "25%       -5.362596e-01               -1.670110e-01       -1.680114e-01   \n",
       "50%       -3.277276e-01               -1.670110e-01       -1.680114e-01   \n",
       "75%        1.225194e-01               -1.670110e-01       -1.680114e-01   \n",
       "max        1.634773e+01                5.987583e+00        5.951930e+00   \n",
       "\n",
       "       category_cc_Education  category_cc_Entertainment  \\\n",
       "count           1.324440e+05               1.324440e+05   \n",
       "mean            7.232842e-15              -1.642866e-14   \n",
       "std             1.000000e+00               1.000000e+00   \n",
       "min            -2.465057e-01              -4.492525e-01   \n",
       "25%            -2.465057e-01              -4.492525e-01   \n",
       "50%            -2.465057e-01              -4.492525e-01   \n",
       "75%            -2.465057e-01              -4.492525e-01   \n",
       "max             4.056671e+00               2.225903e+00   \n",
       "\n",
       "       category_cc_Film_and_Animation  category_cc_Gaming  \\\n",
       "count                    1.324440e+05        1.324440e+05   \n",
       "mean                    -2.009715e-14       -2.231709e-14   \n",
       "std                      1.000000e+00        1.000000e+00   \n",
       "min                     -2.298303e-01       -4.163742e-01   \n",
       "25%                     -2.298303e-01       -4.163742e-01   \n",
       "50%                     -2.298303e-01       -4.163742e-01   \n",
       "75%                     -2.298303e-01       -4.163742e-01   \n",
       "max                      4.351004e+00        2.401668e+00   \n",
       "\n",
       "       category_cc_Howto_Style  category_cc_Music  category_cc_News_Politics  \\\n",
       "count             1.324440e+05       1.324440e+05               1.324440e+05   \n",
       "mean             -3.239122e-14       9.482369e-15              -9.989043e-15   \n",
       "std               1.000000e+00       1.000000e+00               1.000000e+00   \n",
       "min              -3.090768e-01      -4.658580e-01              -1.302064e-01   \n",
       "25%              -3.090768e-01      -4.658580e-01              -1.302064e-01   \n",
       "50%              -3.090768e-01      -4.658580e-01              -1.302064e-01   \n",
       "75%              -3.090768e-01      -4.658580e-01              -1.302064e-01   \n",
       "max               3.235418e+00       2.146561e+00               7.680055e+00   \n",
       "\n",
       "       category_cc_Nonprofits_Activism  category_cc_People_Blogs  \\\n",
       "count                     1.324440e+05              1.324440e+05   \n",
       "mean                      1.634796e-14              3.327709e-14   \n",
       "std                       1.000000e+00              1.000000e+00   \n",
       "min                      -8.490754e-02             -3.945572e-01   \n",
       "25%                      -8.490754e-02             -3.945572e-01   \n",
       "50%                      -8.490754e-02             -3.945572e-01   \n",
       "75%                      -8.490754e-02             -3.945572e-01   \n",
       "max                       1.177743e+01              2.534468e+00   \n",
       "\n",
       "       category_cc_Pets_Animals  category_cc_Science_Technology  \\\n",
       "count              1.324440e+05                    1.324440e+05   \n",
       "mean               3.878941e-15                    8.767675e-15   \n",
       "std                1.000000e+00                    1.000000e+00   \n",
       "min               -9.772864e-02                   -1.921085e-01   \n",
       "25%               -9.772864e-02                   -1.921085e-01   \n",
       "50%               -9.772864e-02                   -1.921085e-01   \n",
       "75%               -9.772864e-02                   -1.921085e-01   \n",
       "max                1.023234e+01                    5.205351e+00   \n",
       "\n",
       "       category_cc_Sports  category_cc_Travel_Events  \n",
       "count        1.324440e+05               1.324440e+05  \n",
       "mean         1.103327e-14               3.818448e-14  \n",
       "std          1.000000e+00               1.000000e+00  \n",
       "min         -1.975158e-01              -1.221465e-01  \n",
       "25%         -1.975158e-01              -1.221465e-01  \n",
       "50%         -1.975158e-01              -1.221465e-01  \n",
       "75%         -1.975158e-01              -1.221465e-01  \n",
       "max          5.062847e+00               8.186828e+00  "
      ]
     },
     "execution_count": 22,
     "metadata": {},
     "output_type": "execute_result"
    }
   ],
   "source": [
    "channels_filtered_df[drop_cols].describe()"
   ]
  },
  {
   "cell_type": "code",
   "execution_count": 23,
   "metadata": {},
   "outputs": [
    {
     "name": "stdout",
     "output_type": "stream",
     "text": [
      "Optimization terminated successfully.\n",
      "         Current function value: 0.142313\n",
      "         Iterations 10\n",
      "                           Logit Regression Results                           \n",
      "==============================================================================\n",
      "Dep. Variable:              keep_fame   No. Observations:               132444\n",
      "Model:                          Logit   Df Residuals:                   132423\n",
      "Method:                           MLE   Df Model:                           20\n",
      "Date:                Wed, 07 Dec 2022   Pseudo R-squ.:                 0.06405\n",
      "Time:                        15:58:15   Log-Likelihood:                -18848.\n",
      "converged:                       True   LL-Null:                       -20138.\n",
      "Covariance Type:            nonrobust   LLR p-value:                     0.000\n",
      "===================================================================================================\n",
      "                                      coef    std err          z      P>|z|      [0.025      0.975]\n",
      "---------------------------------------------------------------------------------------------------\n",
      "Intercept                           3.9201      0.028    138.292      0.000       3.865       3.976\n",
      "subscribers_cc                     -0.0087      0.013     -0.682      0.495      -0.034       0.016\n",
      "videos_cc                           0.1096      0.033      3.291      0.001       0.044       0.175\n",
      "subscriber_rank_sb                 -0.0343      0.021     -1.630      0.103      -0.076       0.007\n",
      "weights                            -0.0665      0.018     -3.678      0.000      -0.102      -0.031\n",
      "growth_steepness                    1.9266      0.056     34.688      0.000       1.818       2.035\n",
      "category_cc_Autos_Vehicles          0.2744      0.045      6.121      0.000       0.187       0.362\n",
      "category_cc_Comedy                  0.0561      0.043      1.305      0.192      -0.028       0.140\n",
      "category_cc_Education               0.4038      0.062      6.555      0.000       0.283       0.524\n",
      "category_cc_Entertainment           0.3822      0.096      3.984      0.000       0.194       0.570\n",
      "category_cc_Film_and_Animation      0.2621      0.057      4.559      0.000       0.149       0.375\n",
      "category_cc_Gaming                  0.3212      0.091      3.529      0.000       0.143       0.500\n",
      "category_cc_Howto_Style             0.3913      0.073      5.351      0.000       0.248       0.535\n",
      "category_cc_Music                   0.5108      0.098      5.209      0.000       0.319       0.703\n",
      "category_cc_News_Politics           0.1065      0.036      2.975      0.003       0.036       0.177\n",
      "category_cc_Nonprofits_Activism     0.0710      0.024      2.905      0.004       0.023       0.119\n",
      "category_cc_People_Blogs            0.3867      0.088      4.392      0.000       0.214       0.559\n",
      "category_cc_Pets_Animals            0.1049      0.028      3.684      0.000       0.049       0.161\n",
      "category_cc_Science_Technology      0.2716      0.050      5.458      0.000       0.174       0.369\n",
      "category_cc_Sports                  0.2104      0.050      4.185      0.000       0.112       0.309\n",
      "category_cc_Travel_Events           0.1685      0.035      4.850      0.000       0.100       0.237\n",
      "===================================================================================================\n"
     ]
    }
   ],
   "source": [
    "import statsmodels.formula.api as smf\n",
    "\n",
    "res = smf.logit(formula=f\"\"\"keep_fame ~  {regressors}\"\"\", data=channels_filtered_df).fit()\n",
    "# res = smf.logit(formula=f\"\"\"keep_fame ~ variability\"\"\", data=channels_filtered_df).fit(maxiter=1000)\n",
    "\n",
    "# Extract the estimated propensity scores\n",
    "# channels_filtered_df['Propensity_score'] = res.predict()\n",
    "propensity_score = res.predict()\n",
    "\n",
    "print(res.summary())"
   ]
  },
  {
   "cell_type": "code",
   "execution_count": 26,
   "metadata": {},
   "outputs": [
    {
     "data": {
      "text/html": [
       "<div>\n",
       "<style scoped>\n",
       "    .dataframe tbody tr th:only-of-type {\n",
       "        vertical-align: middle;\n",
       "    }\n",
       "\n",
       "    .dataframe tbody tr th {\n",
       "        vertical-align: top;\n",
       "    }\n",
       "\n",
       "    .dataframe thead th {\n",
       "        text-align: right;\n",
       "    }\n",
       "</style>\n",
       "<table border=\"1\" class=\"dataframe\">\n",
       "  <thead>\n",
       "    <tr style=\"text-align: right;\">\n",
       "      <th></th>\n",
       "      <th>join_date</th>\n",
       "      <th>channel</th>\n",
       "      <th>name_cc</th>\n",
       "      <th>subscribers_cc</th>\n",
       "      <th>videos_cc</th>\n",
       "      <th>subscriber_rank_sb</th>\n",
       "      <th>weights</th>\n",
       "      <th>growth_steepness</th>\n",
       "      <th>growth</th>\n",
       "      <th>variability</th>\n",
       "      <th>...</th>\n",
       "      <th>category_cc_Howto_Style</th>\n",
       "      <th>category_cc_Music</th>\n",
       "      <th>category_cc_News_Politics</th>\n",
       "      <th>category_cc_Nonprofits_Activism</th>\n",
       "      <th>category_cc_People_Blogs</th>\n",
       "      <th>category_cc_Pets_Animals</th>\n",
       "      <th>category_cc_Science_Technology</th>\n",
       "      <th>category_cc_Sports</th>\n",
       "      <th>category_cc_Travel_Events</th>\n",
       "      <th>prop_score</th>\n",
       "    </tr>\n",
       "  </thead>\n",
       "  <tbody>\n",
       "    <tr>\n",
       "      <th>5</th>\n",
       "      <td>2007-01-15</td>\n",
       "      <td>UCIwFjwMjI0y7PDBVEO9-bkQ</td>\n",
       "      <td>Justin Bieber</td>\n",
       "      <td>40.111710</td>\n",
       "      <td>-0.130479</td>\n",
       "      <td>-1.316005</td>\n",
       "      <td>-0.999417</td>\n",
       "      <td>-0.666545</td>\n",
       "      <td>0.133989</td>\n",
       "      <td>0.118157</td>\n",
       "      <td>...</td>\n",
       "      <td>-0.309077</td>\n",
       "      <td>-0.465858</td>\n",
       "      <td>-0.130206</td>\n",
       "      <td>-0.084908</td>\n",
       "      <td>-0.394557</td>\n",
       "      <td>-0.097729</td>\n",
       "      <td>-0.192109</td>\n",
       "      <td>-0.197516</td>\n",
       "      <td>-0.122147</td>\n",
       "      <td>0.913268</td>\n",
       "    </tr>\n",
       "    <tr>\n",
       "      <th>15</th>\n",
       "      <td>2008-06-01</td>\n",
       "      <td>UCYvmuw-JtVrTZQ-7Y4kd63Q</td>\n",
       "      <td>Katy Perry</td>\n",
       "      <td>30.115094</td>\n",
       "      <td>-0.138152</td>\n",
       "      <td>-1.315939</td>\n",
       "      <td>-0.999417</td>\n",
       "      <td>0.020237</td>\n",
       "      <td>0.138656</td>\n",
       "      <td>0.121772</td>\n",
       "      <td>...</td>\n",
       "      <td>-0.309077</td>\n",
       "      <td>-0.465858</td>\n",
       "      <td>-0.130206</td>\n",
       "      <td>-0.084908</td>\n",
       "      <td>-0.394557</td>\n",
       "      <td>-0.097729</td>\n",
       "      <td>-0.192109</td>\n",
       "      <td>-0.197516</td>\n",
       "      <td>-0.122147</td>\n",
       "      <td>0.999767</td>\n",
       "    </tr>\n",
       "  </tbody>\n",
       "</table>\n",
       "<p>2 rows × 27 columns</p>\n",
       "</div>"
      ],
      "text/plain": [
       "     join_date                   channel        name_cc  subscribers_cc  \\\n",
       "5   2007-01-15  UCIwFjwMjI0y7PDBVEO9-bkQ  Justin Bieber       40.111710   \n",
       "15  2008-06-01  UCYvmuw-JtVrTZQ-7Y4kd63Q     Katy Perry       30.115094   \n",
       "\n",
       "    videos_cc  subscriber_rank_sb   weights  growth_steepness    growth  \\\n",
       "5   -0.130479           -1.316005 -0.999417         -0.666545  0.133989   \n",
       "15  -0.138152           -1.315939 -0.999417          0.020237  0.138656   \n",
       "\n",
       "    variability  ...  category_cc_Howto_Style  category_cc_Music  \\\n",
       "5      0.118157  ...                -0.309077          -0.465858   \n",
       "15     0.121772  ...                -0.309077          -0.465858   \n",
       "\n",
       "    category_cc_News_Politics  category_cc_Nonprofits_Activism  \\\n",
       "5                   -0.130206                        -0.084908   \n",
       "15                  -0.130206                        -0.084908   \n",
       "\n",
       "    category_cc_People_Blogs  category_cc_Pets_Animals  \\\n",
       "5                  -0.394557                 -0.097729   \n",
       "15                 -0.394557                 -0.097729   \n",
       "\n",
       "    category_cc_Science_Technology  category_cc_Sports  \\\n",
       "5                        -0.192109           -0.197516   \n",
       "15                       -0.192109           -0.197516   \n",
       "\n",
       "    category_cc_Travel_Events  prop_score  \n",
       "5                   -0.122147    0.913268  \n",
       "15                  -0.122147    0.999767  \n",
       "\n",
       "[2 rows x 27 columns]"
      ]
     },
     "execution_count": 26,
     "metadata": {},
     "output_type": "execute_result"
    }
   ],
   "source": [
    "channels_filtered_df[\"prop_score\"] = pd.Series(propensity_score)\n",
    "channels_filtered_df.head(2)"
   ]
  },
  {
   "cell_type": "code",
   "execution_count": 28,
   "metadata": {},
   "outputs": [
    {
     "data": {
      "text/html": [
       "<div>\n",
       "<style scoped>\n",
       "    .dataframe tbody tr th:only-of-type {\n",
       "        vertical-align: middle;\n",
       "    }\n",
       "\n",
       "    .dataframe tbody tr th {\n",
       "        vertical-align: top;\n",
       "    }\n",
       "\n",
       "    .dataframe thead th {\n",
       "        text-align: right;\n",
       "    }\n",
       "</style>\n",
       "<table border=\"1\" class=\"dataframe\">\n",
       "  <thead>\n",
       "    <tr style=\"text-align: right;\">\n",
       "      <th></th>\n",
       "      <th>join_date</th>\n",
       "      <th>channel</th>\n",
       "      <th>name_cc</th>\n",
       "      <th>subscribers_cc</th>\n",
       "      <th>videos_cc</th>\n",
       "      <th>subscriber_rank_sb</th>\n",
       "      <th>weights</th>\n",
       "      <th>growth_steepness</th>\n",
       "      <th>growth</th>\n",
       "      <th>variability</th>\n",
       "      <th>...</th>\n",
       "      <th>category_cc_Howto_Style</th>\n",
       "      <th>category_cc_Music</th>\n",
       "      <th>category_cc_News_Politics</th>\n",
       "      <th>category_cc_Nonprofits_Activism</th>\n",
       "      <th>category_cc_People_Blogs</th>\n",
       "      <th>category_cc_Pets_Animals</th>\n",
       "      <th>category_cc_Science_Technology</th>\n",
       "      <th>category_cc_Sports</th>\n",
       "      <th>category_cc_Travel_Events</th>\n",
       "      <th>prop_score</th>\n",
       "    </tr>\n",
       "  </thead>\n",
       "  <tbody>\n",
       "    <tr>\n",
       "      <th>116660</th>\n",
       "      <td>2008-11-21</td>\n",
       "      <td>UCReG_xJuKb9h3uUHn0_jKog</td>\n",
       "      <td>SXCC - Shot by Cleva...</td>\n",
       "      <td>-0.204947</td>\n",
       "      <td>-0.009802</td>\n",
       "      <td>1.395799</td>\n",
       "      <td>0.561810</td>\n",
       "      <td>-0.175521</td>\n",
       "      <td>62.442024</td>\n",
       "      <td>0.984238</td>\n",
       "      <td>...</td>\n",
       "      <td>-0.309077</td>\n",
       "      <td>2.146561</td>\n",
       "      <td>-0.130206</td>\n",
       "      <td>-0.084908</td>\n",
       "      <td>-0.394557</td>\n",
       "      <td>-0.097729</td>\n",
       "      <td>-0.192109</td>\n",
       "      <td>-0.197516</td>\n",
       "      <td>-0.122147</td>\n",
       "      <td>1.0</td>\n",
       "    </tr>\n",
       "    <tr>\n",
       "      <th>95969</th>\n",
       "      <td>2012-12-05</td>\n",
       "      <td>UCAir8kj7mB29apKZ53ryKKw</td>\n",
       "      <td>KingsDreamENT</td>\n",
       "      <td>-0.194730</td>\n",
       "      <td>-0.118620</td>\n",
       "      <td>0.634641</td>\n",
       "      <td>0.560574</td>\n",
       "      <td>-0.590929</td>\n",
       "      <td>2.888766</td>\n",
       "      <td>0.742849</td>\n",
       "      <td>...</td>\n",
       "      <td>-0.309077</td>\n",
       "      <td>2.146561</td>\n",
       "      <td>-0.130206</td>\n",
       "      <td>-0.084908</td>\n",
       "      <td>-0.394557</td>\n",
       "      <td>-0.097729</td>\n",
       "      <td>-0.192109</td>\n",
       "      <td>-0.197516</td>\n",
       "      <td>-0.122147</td>\n",
       "      <td>1.0</td>\n",
       "    </tr>\n",
       "  </tbody>\n",
       "</table>\n",
       "<p>2 rows × 27 columns</p>\n",
       "</div>"
      ],
      "text/plain": [
       "         join_date                   channel                  name_cc  \\\n",
       "116660  2008-11-21  UCReG_xJuKb9h3uUHn0_jKog  SXCC - Shot by Cleva...   \n",
       "95969   2012-12-05  UCAir8kj7mB29apKZ53ryKKw            KingsDreamENT   \n",
       "\n",
       "        subscribers_cc  videos_cc  subscriber_rank_sb   weights  \\\n",
       "116660       -0.204947  -0.009802            1.395799  0.561810   \n",
       "95969        -0.194730  -0.118620            0.634641  0.560574   \n",
       "\n",
       "        growth_steepness     growth  variability  ...  \\\n",
       "116660         -0.175521  62.442024     0.984238  ...   \n",
       "95969          -0.590929   2.888766     0.742849  ...   \n",
       "\n",
       "        category_cc_Howto_Style  category_cc_Music  category_cc_News_Politics  \\\n",
       "116660                -0.309077           2.146561                  -0.130206   \n",
       "95969                 -0.309077           2.146561                  -0.130206   \n",
       "\n",
       "        category_cc_Nonprofits_Activism  category_cc_People_Blogs  \\\n",
       "116660                        -0.084908                 -0.394557   \n",
       "95969                         -0.084908                 -0.394557   \n",
       "\n",
       "        category_cc_Pets_Animals  category_cc_Science_Technology  \\\n",
       "116660                 -0.097729                       -0.192109   \n",
       "95969                  -0.097729                       -0.192109   \n",
       "\n",
       "        category_cc_Sports  category_cc_Travel_Events  prop_score  \n",
       "116660           -0.197516                  -0.122147         1.0  \n",
       "95969            -0.197516                  -0.122147         1.0  \n",
       "\n",
       "[2 rows x 27 columns]"
      ]
     },
     "metadata": {},
     "output_type": "display_data"
    },
    {
     "data": {
      "text/html": [
       "<div>\n",
       "<style scoped>\n",
       "    .dataframe tbody tr th:only-of-type {\n",
       "        vertical-align: middle;\n",
       "    }\n",
       "\n",
       "    .dataframe tbody tr th {\n",
       "        vertical-align: top;\n",
       "    }\n",
       "\n",
       "    .dataframe thead th {\n",
       "        text-align: right;\n",
       "    }\n",
       "</style>\n",
       "<table border=\"1\" class=\"dataframe\">\n",
       "  <thead>\n",
       "    <tr style=\"text-align: right;\">\n",
       "      <th></th>\n",
       "      <th>join_date</th>\n",
       "      <th>channel</th>\n",
       "      <th>name_cc</th>\n",
       "      <th>subscribers_cc</th>\n",
       "      <th>videos_cc</th>\n",
       "      <th>subscriber_rank_sb</th>\n",
       "      <th>weights</th>\n",
       "      <th>growth_steepness</th>\n",
       "      <th>growth</th>\n",
       "      <th>variability</th>\n",
       "      <th>...</th>\n",
       "      <th>category_cc_Howto_Style</th>\n",
       "      <th>category_cc_Music</th>\n",
       "      <th>category_cc_News_Politics</th>\n",
       "      <th>category_cc_Nonprofits_Activism</th>\n",
       "      <th>category_cc_People_Blogs</th>\n",
       "      <th>category_cc_Pets_Animals</th>\n",
       "      <th>category_cc_Science_Technology</th>\n",
       "      <th>category_cc_Sports</th>\n",
       "      <th>category_cc_Travel_Events</th>\n",
       "      <th>prop_score</th>\n",
       "    </tr>\n",
       "  </thead>\n",
       "  <tbody>\n",
       "    <tr>\n",
       "      <th>30392</th>\n",
       "      <td>2008-07-21</td>\n",
       "      <td>UCzYOUL6lSyW2vLKiDRf5xkQ</td>\n",
       "      <td>Lucky Scooters Offic...</td>\n",
       "      <td>-0.064248</td>\n",
       "      <td>-0.060259</td>\n",
       "      <td>-0.942554</td>\n",
       "      <td>-0.692917</td>\n",
       "      <td>-0.714217</td>\n",
       "      <td>0.128732</td>\n",
       "      <td>0.114050</td>\n",
       "      <td>...</td>\n",
       "      <td>-0.309077</td>\n",
       "      <td>-0.465858</td>\n",
       "      <td>-0.130206</td>\n",
       "      <td>-0.084908</td>\n",
       "      <td>-0.394557</td>\n",
       "      <td>-0.097729</td>\n",
       "      <td>-0.192109</td>\n",
       "      <td>5.062847</td>\n",
       "      <td>-0.122147</td>\n",
       "      <td>1.0</td>\n",
       "    </tr>\n",
       "    <tr>\n",
       "      <th>131311</th>\n",
       "      <td>2006-11-19</td>\n",
       "      <td>UCN-lZDiEAOPlOsbrZbFgCFg</td>\n",
       "      <td>mepi.pl</td>\n",
       "      <td>-0.204548</td>\n",
       "      <td>-0.088393</td>\n",
       "      <td>2.079818</td>\n",
       "      <td>2.146820</td>\n",
       "      <td>-0.531270</td>\n",
       "      <td>0.128999</td>\n",
       "      <td>0.215552</td>\n",
       "      <td>...</td>\n",
       "      <td>-0.309077</td>\n",
       "      <td>-0.465858</td>\n",
       "      <td>-0.130206</td>\n",
       "      <td>-0.084908</td>\n",
       "      <td>-0.394557</td>\n",
       "      <td>-0.097729</td>\n",
       "      <td>-0.192109</td>\n",
       "      <td>-0.197516</td>\n",
       "      <td>-0.122147</td>\n",
       "      <td>1.0</td>\n",
       "    </tr>\n",
       "  </tbody>\n",
       "</table>\n",
       "<p>2 rows × 27 columns</p>\n",
       "</div>"
      ],
      "text/plain": [
       "         join_date                   channel                  name_cc  \\\n",
       "30392   2008-07-21  UCzYOUL6lSyW2vLKiDRf5xkQ  Lucky Scooters Offic...   \n",
       "131311  2006-11-19  UCN-lZDiEAOPlOsbrZbFgCFg                  mepi.pl   \n",
       "\n",
       "        subscribers_cc  videos_cc  subscriber_rank_sb   weights  \\\n",
       "30392        -0.064248  -0.060259           -0.942554 -0.692917   \n",
       "131311       -0.204548  -0.088393            2.079818  2.146820   \n",
       "\n",
       "        growth_steepness    growth  variability  ...  category_cc_Howto_Style  \\\n",
       "30392          -0.714217  0.128732     0.114050  ...                -0.309077   \n",
       "131311         -0.531270  0.128999     0.215552  ...                -0.309077   \n",
       "\n",
       "        category_cc_Music  category_cc_News_Politics  \\\n",
       "30392           -0.465858                  -0.130206   \n",
       "131311          -0.465858                  -0.130206   \n",
       "\n",
       "        category_cc_Nonprofits_Activism  category_cc_People_Blogs  \\\n",
       "30392                         -0.084908                 -0.394557   \n",
       "131311                        -0.084908                 -0.394557   \n",
       "\n",
       "        category_cc_Pets_Animals  category_cc_Science_Technology  \\\n",
       "30392                  -0.097729                       -0.192109   \n",
       "131311                 -0.097729                       -0.192109   \n",
       "\n",
       "        category_cc_Sports  category_cc_Travel_Events  prop_score  \n",
       "30392             5.062847                  -0.122147         1.0  \n",
       "131311           -0.197516                  -0.122147         1.0  \n",
       "\n",
       "[2 rows x 27 columns]"
      ]
     },
     "metadata": {},
     "output_type": "display_data"
    }
   ],
   "source": [
    "keep = channels_filtered_df[channels_filtered_df[\"keep_fame\"] == 1]\n",
    "lose = channels_filtered_df[channels_filtered_df[\"keep_fame\"] == 0]\n",
    "display(keep.sort_values(\"prop_score\", ascending=False).head(2))\n",
    "display(lose.sort_values(\"prop_score\", ascending=False).head(2))"
   ]
  }
 ],
 "metadata": {
  "kernelspec": {
   "display_name": "Python 3.9.13 ('ADA')",
   "language": "python",
   "name": "python3"
  },
  "language_info": {
   "codemirror_mode": {
    "name": "ipython",
    "version": 3
   },
   "file_extension": ".py",
   "mimetype": "text/x-python",
   "name": "python",
   "nbconvert_exporter": "python",
   "pygments_lexer": "ipython3",
   "version": "3.9.13"
  },
  "orig_nbformat": 4,
  "vscode": {
   "interpreter": {
    "hash": "08c626ceebe7c69241f97e3985d1558429804766161d1f9c70d55723eee9c141"
   }
  }
 },
 "nbformat": 4,
 "nbformat_minor": 2
}
